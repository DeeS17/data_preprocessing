{
  "cells": [
    {
      "cell_type": "markdown",
      "metadata": {
        "id": "view-in-github",
        "colab_type": "text"
      },
      "source": [
        "<a href=\"https://colab.research.google.com/github/DeeS17/data_preprocessing/blob/main/sprint_1.ipynb\" target=\"_parent\"><img src=\"https://colab.research.google.com/assets/colab-badge.svg\" alt=\"Open In Colab\"/></a>"
      ]
    },
    {
      "cell_type": "markdown",
      "metadata": {
        "id": "R7fgict7A6tn"
      },
      "source": [
        "# Proyek Menganalisis Risiko Gagal Bayar Peminjam\n",
        "\n",
        "Pada proyek ini saya akan menyiapkan laporan untuk divisi kredit suatu bank. Saya akan mencari tahu pengaruh status perkawinan seorang nasabah dan jumlah anak yang dimilikinya terhadap probabilitas gagal bayar dalam pelunasan pinjaman. Pihak bank sudah memiliki beberapa data mengenai kelayakan kredit nasabah.\n",
        "\n",
        "Tujuan dan hipotesis yang diuji dari proyek ini adalah untuk mencari tahu apakah ada pengaruh status perkawinan dan jumlah anak memiliki pengaruh terhadap gagal bayar dalam pelunasan pinjaman."
      ]
    },
    {
      "cell_type": "markdown",
      "metadata": {
        "id": "XncHgD7YA6tp"
      },
      "source": [
        "## Mengimpor Library dan Memuat Data"
      ]
    },
    {
      "cell_type": "code",
      "execution_count": null,
      "metadata": {
        "id": "ml6e3_8xA6tp"
      },
      "outputs": [],
      "source": [
        "# Muat semua *library*\n",
        "import pandas as pd\n",
        "import seaborn as sns"
      ]
    },
    {
      "cell_type": "code",
      "execution_count": null,
      "metadata": {
        "colab": {
          "base_uri": "https://localhost:8080/",
          "height": 423
        },
        "id": "2LcciYQ3A6tq",
        "outputId": "72c39a68-906d-4722-d9ff-733bfa5e4ecf"
      },
      "outputs": [
        {
          "output_type": "execute_result",
          "data": {
            "text/plain": [
              "       children  days_employed  dob_years            education  education_id  \\\n",
              "0             1   -8437.673028         42    bachelor's degree             0   \n",
              "1             1   -4024.803754         36  secondary education             1   \n",
              "2             0   -5623.422610         33  Secondary Education             1   \n",
              "3             3   -4124.747207         32  secondary education             1   \n",
              "4             0  340266.072047         53  secondary education             1   \n",
              "...         ...            ...        ...                  ...           ...   \n",
              "21520         1   -4529.316663         43  secondary education             1   \n",
              "21521         0  343937.404131         67  secondary education             1   \n",
              "21522         1   -2113.346888         38  secondary education             1   \n",
              "21523         3   -3112.481705         38  secondary education             1   \n",
              "21524         2   -1984.507589         40  secondary education             1   \n",
              "\n",
              "           family_status  family_status_id gender income_type  debt  \\\n",
              "0                married                 0      F    employee     0   \n",
              "1                married                 0      F    employee     0   \n",
              "2                married                 0      M    employee     0   \n",
              "3                married                 0      M    employee     0   \n",
              "4      civil partnership                 1      F     retiree     0   \n",
              "...                  ...               ...    ...         ...   ...   \n",
              "21520  civil partnership                 1      F    business     0   \n",
              "21521            married                 0      F     retiree     0   \n",
              "21522  civil partnership                 1      M    employee     1   \n",
              "21523            married                 0      M    employee     1   \n",
              "21524            married                 0      F    employee     0   \n",
              "\n",
              "       total_income                  purpose  \n",
              "0         40620.102    purchase of the house  \n",
              "1         17932.802             car purchase  \n",
              "2         23341.752    purchase of the house  \n",
              "3         42820.568  supplementary education  \n",
              "4         25378.572        to have a wedding  \n",
              "...             ...                      ...  \n",
              "21520     35966.698     housing transactions  \n",
              "21521     24959.969        purchase of a car  \n",
              "21522     14347.610                 property  \n",
              "21523     39054.888        buying my own car  \n",
              "21524     13127.587             to buy a car  \n",
              "\n",
              "[21525 rows x 12 columns]"
            ],
            "text/html": [
              "\n",
              "  <div id=\"df-bdc349f1-33fd-4743-99ea-c0d85cf35337\">\n",
              "    <div class=\"colab-df-container\">\n",
              "      <div>\n",
              "<style scoped>\n",
              "    .dataframe tbody tr th:only-of-type {\n",
              "        vertical-align: middle;\n",
              "    }\n",
              "\n",
              "    .dataframe tbody tr th {\n",
              "        vertical-align: top;\n",
              "    }\n",
              "\n",
              "    .dataframe thead th {\n",
              "        text-align: right;\n",
              "    }\n",
              "</style>\n",
              "<table border=\"1\" class=\"dataframe\">\n",
              "  <thead>\n",
              "    <tr style=\"text-align: right;\">\n",
              "      <th></th>\n",
              "      <th>children</th>\n",
              "      <th>days_employed</th>\n",
              "      <th>dob_years</th>\n",
              "      <th>education</th>\n",
              "      <th>education_id</th>\n",
              "      <th>family_status</th>\n",
              "      <th>family_status_id</th>\n",
              "      <th>gender</th>\n",
              "      <th>income_type</th>\n",
              "      <th>debt</th>\n",
              "      <th>total_income</th>\n",
              "      <th>purpose</th>\n",
              "    </tr>\n",
              "  </thead>\n",
              "  <tbody>\n",
              "    <tr>\n",
              "      <th>0</th>\n",
              "      <td>1</td>\n",
              "      <td>-8437.673028</td>\n",
              "      <td>42</td>\n",
              "      <td>bachelor's degree</td>\n",
              "      <td>0</td>\n",
              "      <td>married</td>\n",
              "      <td>0</td>\n",
              "      <td>F</td>\n",
              "      <td>employee</td>\n",
              "      <td>0</td>\n",
              "      <td>40620.102</td>\n",
              "      <td>purchase of the house</td>\n",
              "    </tr>\n",
              "    <tr>\n",
              "      <th>1</th>\n",
              "      <td>1</td>\n",
              "      <td>-4024.803754</td>\n",
              "      <td>36</td>\n",
              "      <td>secondary education</td>\n",
              "      <td>1</td>\n",
              "      <td>married</td>\n",
              "      <td>0</td>\n",
              "      <td>F</td>\n",
              "      <td>employee</td>\n",
              "      <td>0</td>\n",
              "      <td>17932.802</td>\n",
              "      <td>car purchase</td>\n",
              "    </tr>\n",
              "    <tr>\n",
              "      <th>2</th>\n",
              "      <td>0</td>\n",
              "      <td>-5623.422610</td>\n",
              "      <td>33</td>\n",
              "      <td>Secondary Education</td>\n",
              "      <td>1</td>\n",
              "      <td>married</td>\n",
              "      <td>0</td>\n",
              "      <td>M</td>\n",
              "      <td>employee</td>\n",
              "      <td>0</td>\n",
              "      <td>23341.752</td>\n",
              "      <td>purchase of the house</td>\n",
              "    </tr>\n",
              "    <tr>\n",
              "      <th>3</th>\n",
              "      <td>3</td>\n",
              "      <td>-4124.747207</td>\n",
              "      <td>32</td>\n",
              "      <td>secondary education</td>\n",
              "      <td>1</td>\n",
              "      <td>married</td>\n",
              "      <td>0</td>\n",
              "      <td>M</td>\n",
              "      <td>employee</td>\n",
              "      <td>0</td>\n",
              "      <td>42820.568</td>\n",
              "      <td>supplementary education</td>\n",
              "    </tr>\n",
              "    <tr>\n",
              "      <th>4</th>\n",
              "      <td>0</td>\n",
              "      <td>340266.072047</td>\n",
              "      <td>53</td>\n",
              "      <td>secondary education</td>\n",
              "      <td>1</td>\n",
              "      <td>civil partnership</td>\n",
              "      <td>1</td>\n",
              "      <td>F</td>\n",
              "      <td>retiree</td>\n",
              "      <td>0</td>\n",
              "      <td>25378.572</td>\n",
              "      <td>to have a wedding</td>\n",
              "    </tr>\n",
              "    <tr>\n",
              "      <th>...</th>\n",
              "      <td>...</td>\n",
              "      <td>...</td>\n",
              "      <td>...</td>\n",
              "      <td>...</td>\n",
              "      <td>...</td>\n",
              "      <td>...</td>\n",
              "      <td>...</td>\n",
              "      <td>...</td>\n",
              "      <td>...</td>\n",
              "      <td>...</td>\n",
              "      <td>...</td>\n",
              "      <td>...</td>\n",
              "    </tr>\n",
              "    <tr>\n",
              "      <th>21520</th>\n",
              "      <td>1</td>\n",
              "      <td>-4529.316663</td>\n",
              "      <td>43</td>\n",
              "      <td>secondary education</td>\n",
              "      <td>1</td>\n",
              "      <td>civil partnership</td>\n",
              "      <td>1</td>\n",
              "      <td>F</td>\n",
              "      <td>business</td>\n",
              "      <td>0</td>\n",
              "      <td>35966.698</td>\n",
              "      <td>housing transactions</td>\n",
              "    </tr>\n",
              "    <tr>\n",
              "      <th>21521</th>\n",
              "      <td>0</td>\n",
              "      <td>343937.404131</td>\n",
              "      <td>67</td>\n",
              "      <td>secondary education</td>\n",
              "      <td>1</td>\n",
              "      <td>married</td>\n",
              "      <td>0</td>\n",
              "      <td>F</td>\n",
              "      <td>retiree</td>\n",
              "      <td>0</td>\n",
              "      <td>24959.969</td>\n",
              "      <td>purchase of a car</td>\n",
              "    </tr>\n",
              "    <tr>\n",
              "      <th>21522</th>\n",
              "      <td>1</td>\n",
              "      <td>-2113.346888</td>\n",
              "      <td>38</td>\n",
              "      <td>secondary education</td>\n",
              "      <td>1</td>\n",
              "      <td>civil partnership</td>\n",
              "      <td>1</td>\n",
              "      <td>M</td>\n",
              "      <td>employee</td>\n",
              "      <td>1</td>\n",
              "      <td>14347.610</td>\n",
              "      <td>property</td>\n",
              "    </tr>\n",
              "    <tr>\n",
              "      <th>21523</th>\n",
              "      <td>3</td>\n",
              "      <td>-3112.481705</td>\n",
              "      <td>38</td>\n",
              "      <td>secondary education</td>\n",
              "      <td>1</td>\n",
              "      <td>married</td>\n",
              "      <td>0</td>\n",
              "      <td>M</td>\n",
              "      <td>employee</td>\n",
              "      <td>1</td>\n",
              "      <td>39054.888</td>\n",
              "      <td>buying my own car</td>\n",
              "    </tr>\n",
              "    <tr>\n",
              "      <th>21524</th>\n",
              "      <td>2</td>\n",
              "      <td>-1984.507589</td>\n",
              "      <td>40</td>\n",
              "      <td>secondary education</td>\n",
              "      <td>1</td>\n",
              "      <td>married</td>\n",
              "      <td>0</td>\n",
              "      <td>F</td>\n",
              "      <td>employee</td>\n",
              "      <td>0</td>\n",
              "      <td>13127.587</td>\n",
              "      <td>to buy a car</td>\n",
              "    </tr>\n",
              "  </tbody>\n",
              "</table>\n",
              "<p>21525 rows × 12 columns</p>\n",
              "</div>\n",
              "      <button class=\"colab-df-convert\" onclick=\"convertToInteractive('df-bdc349f1-33fd-4743-99ea-c0d85cf35337')\"\n",
              "              title=\"Convert this dataframe to an interactive table.\"\n",
              "              style=\"display:none;\">\n",
              "        \n",
              "  <svg xmlns=\"http://www.w3.org/2000/svg\" height=\"24px\"viewBox=\"0 0 24 24\"\n",
              "       width=\"24px\">\n",
              "    <path d=\"M0 0h24v24H0V0z\" fill=\"none\"/>\n",
              "    <path d=\"M18.56 5.44l.94 2.06.94-2.06 2.06-.94-2.06-.94-.94-2.06-.94 2.06-2.06.94zm-11 1L8.5 8.5l.94-2.06 2.06-.94-2.06-.94L8.5 2.5l-.94 2.06-2.06.94zm10 10l.94 2.06.94-2.06 2.06-.94-2.06-.94-.94-2.06-.94 2.06-2.06.94z\"/><path d=\"M17.41 7.96l-1.37-1.37c-.4-.4-.92-.59-1.43-.59-.52 0-1.04.2-1.43.59L10.3 9.45l-7.72 7.72c-.78.78-.78 2.05 0 2.83L4 21.41c.39.39.9.59 1.41.59.51 0 1.02-.2 1.41-.59l7.78-7.78 2.81-2.81c.8-.78.8-2.07 0-2.86zM5.41 20L4 18.59l7.72-7.72 1.47 1.35L5.41 20z\"/>\n",
              "  </svg>\n",
              "      </button>\n",
              "      \n",
              "  <style>\n",
              "    .colab-df-container {\n",
              "      display:flex;\n",
              "      flex-wrap:wrap;\n",
              "      gap: 12px;\n",
              "    }\n",
              "\n",
              "    .colab-df-convert {\n",
              "      background-color: #E8F0FE;\n",
              "      border: none;\n",
              "      border-radius: 50%;\n",
              "      cursor: pointer;\n",
              "      display: none;\n",
              "      fill: #1967D2;\n",
              "      height: 32px;\n",
              "      padding: 0 0 0 0;\n",
              "      width: 32px;\n",
              "    }\n",
              "\n",
              "    .colab-df-convert:hover {\n",
              "      background-color: #E2EBFA;\n",
              "      box-shadow: 0px 1px 2px rgba(60, 64, 67, 0.3), 0px 1px 3px 1px rgba(60, 64, 67, 0.15);\n",
              "      fill: #174EA6;\n",
              "    }\n",
              "\n",
              "    [theme=dark] .colab-df-convert {\n",
              "      background-color: #3B4455;\n",
              "      fill: #D2E3FC;\n",
              "    }\n",
              "\n",
              "    [theme=dark] .colab-df-convert:hover {\n",
              "      background-color: #434B5C;\n",
              "      box-shadow: 0px 1px 3px 1px rgba(0, 0, 0, 0.15);\n",
              "      filter: drop-shadow(0px 1px 2px rgba(0, 0, 0, 0.3));\n",
              "      fill: #FFFFFF;\n",
              "    }\n",
              "  </style>\n",
              "\n",
              "      <script>\n",
              "        const buttonEl =\n",
              "          document.querySelector('#df-bdc349f1-33fd-4743-99ea-c0d85cf35337 button.colab-df-convert');\n",
              "        buttonEl.style.display =\n",
              "          google.colab.kernel.accessAllowed ? 'block' : 'none';\n",
              "\n",
              "        async function convertToInteractive(key) {\n",
              "          const element = document.querySelector('#df-bdc349f1-33fd-4743-99ea-c0d85cf35337');\n",
              "          const dataTable =\n",
              "            await google.colab.kernel.invokeFunction('convertToInteractive',\n",
              "                                                     [key], {});\n",
              "          if (!dataTable) return;\n",
              "\n",
              "          const docLinkHtml = 'Like what you see? Visit the ' +\n",
              "            '<a target=\"_blank\" href=https://colab.research.google.com/notebooks/data_table.ipynb>data table notebook</a>'\n",
              "            + ' to learn more about interactive tables.';\n",
              "          element.innerHTML = '';\n",
              "          dataTable['output_type'] = 'display_data';\n",
              "          await google.colab.output.renderOutput(dataTable, element);\n",
              "          const docLink = document.createElement('div');\n",
              "          docLink.innerHTML = docLinkHtml;\n",
              "          element.appendChild(docLink);\n",
              "        }\n",
              "      </script>\n",
              "    </div>\n",
              "  </div>\n",
              "  "
            ]
          },
          "metadata": {},
          "execution_count": 2
        }
      ],
      "source": [
        "# Muat datanya\n",
        "try:\n",
        "  df = pd.read_csv('/content/credit_scoring_eng.csv')\n",
        "except:\n",
        "  df = pd.read_csv('/datasets/credit_scoring_eng.csv')\n",
        "\n",
        "df"
      ]
    },
    {
      "cell_type": "markdown",
      "metadata": {
        "id": "RhmXPWvNA6ts"
      },
      "source": [
        "**Deskripsi Data**\n",
        "- `children` - jumlah anak dalam keluarga\n",
        "- `days_employed` - pengalaman kerja nasabah dalam hari\n",
        "- `dob_years` - usia nasabah dalam tahun\n",
        "- `education` - tingkat pendidikan nasabah\n",
        "- `education_id` - pengidentifikasi untuk tingkat pendidikan nasabah\n",
        "- `family_status` - pengidentifikasi untuk status perkawinan nasabah\n",
        "- `family_status_id` - tanda pengenal status perkawinan\n",
        "- `gender` - jenis kelamin nasabah\n",
        "- `income_type` - jenis pekerjaan\n",
        "- `debt` - apakah nasabah memiliki hutang pembayaran pinjaman\n",
        "- `total_income` - pendapatan bulanan\n",
        "- `purpose` - tujuan mendapatkan pinjaman\n"
      ]
    },
    {
      "cell_type": "code",
      "execution_count": null,
      "metadata": {
        "colab": {
          "base_uri": "https://localhost:8080/"
        },
        "id": "p3_D6jgJA6ts",
        "outputId": "8dcf05de-03b8-4e21-a628-7d96982272ac"
      },
      "outputs": [
        {
          "output_type": "execute_result",
          "data": {
            "text/plain": [
              "(21525, 12)"
            ]
          },
          "metadata": {},
          "execution_count": 3
        }
      ],
      "source": [
        "# Mari kita lihat berapa banyak baris dan kolom yang dimiliki oleh dataset kita\n",
        "df.shape"
      ]
    },
    {
      "cell_type": "code",
      "execution_count": null,
      "metadata": {
        "scrolled": true,
        "colab": {
          "base_uri": "https://localhost:8080/",
          "height": 363
        },
        "id": "4--CNCp3A6tu",
        "outputId": "d216d341-1c89-4722-fdf2-ffe5dea9159a"
      },
      "outputs": [
        {
          "output_type": "execute_result",
          "data": {
            "text/plain": [
              "   children  days_employed  dob_years            education  education_id  \\\n",
              "0         1   -8437.673028         42    bachelor's degree             0   \n",
              "1         1   -4024.803754         36  secondary education             1   \n",
              "2         0   -5623.422610         33  Secondary Education             1   \n",
              "3         3   -4124.747207         32  secondary education             1   \n",
              "4         0  340266.072047         53  secondary education             1   \n",
              "5         0    -926.185831         27    bachelor's degree             0   \n",
              "6         0   -2879.202052         43    bachelor's degree             0   \n",
              "7         0    -152.779569         50  SECONDARY EDUCATION             1   \n",
              "8         2   -6929.865299         35    BACHELOR'S DEGREE             0   \n",
              "9         0   -2188.756445         41  secondary education             1   \n",
              "\n",
              "       family_status  family_status_id gender income_type  debt  total_income  \\\n",
              "0            married                 0      F    employee     0     40620.102   \n",
              "1            married                 0      F    employee     0     17932.802   \n",
              "2            married                 0      M    employee     0     23341.752   \n",
              "3            married                 0      M    employee     0     42820.568   \n",
              "4  civil partnership                 1      F     retiree     0     25378.572   \n",
              "5  civil partnership                 1      M    business     0     40922.170   \n",
              "6            married                 0      F    business     0     38484.156   \n",
              "7            married                 0      M    employee     0     21731.829   \n",
              "8  civil partnership                 1      F    employee     0     15337.093   \n",
              "9            married                 0      M    employee     0     23108.150   \n",
              "\n",
              "                               purpose  \n",
              "0                purchase of the house  \n",
              "1                         car purchase  \n",
              "2                purchase of the house  \n",
              "3              supplementary education  \n",
              "4                    to have a wedding  \n",
              "5                purchase of the house  \n",
              "6                 housing transactions  \n",
              "7                            education  \n",
              "8                     having a wedding  \n",
              "9  purchase of the house for my family  "
            ],
            "text/html": [
              "\n",
              "  <div id=\"df-62bf5bb1-2419-45a6-8b43-11ada07fe717\">\n",
              "    <div class=\"colab-df-container\">\n",
              "      <div>\n",
              "<style scoped>\n",
              "    .dataframe tbody tr th:only-of-type {\n",
              "        vertical-align: middle;\n",
              "    }\n",
              "\n",
              "    .dataframe tbody tr th {\n",
              "        vertical-align: top;\n",
              "    }\n",
              "\n",
              "    .dataframe thead th {\n",
              "        text-align: right;\n",
              "    }\n",
              "</style>\n",
              "<table border=\"1\" class=\"dataframe\">\n",
              "  <thead>\n",
              "    <tr style=\"text-align: right;\">\n",
              "      <th></th>\n",
              "      <th>children</th>\n",
              "      <th>days_employed</th>\n",
              "      <th>dob_years</th>\n",
              "      <th>education</th>\n",
              "      <th>education_id</th>\n",
              "      <th>family_status</th>\n",
              "      <th>family_status_id</th>\n",
              "      <th>gender</th>\n",
              "      <th>income_type</th>\n",
              "      <th>debt</th>\n",
              "      <th>total_income</th>\n",
              "      <th>purpose</th>\n",
              "    </tr>\n",
              "  </thead>\n",
              "  <tbody>\n",
              "    <tr>\n",
              "      <th>0</th>\n",
              "      <td>1</td>\n",
              "      <td>-8437.673028</td>\n",
              "      <td>42</td>\n",
              "      <td>bachelor's degree</td>\n",
              "      <td>0</td>\n",
              "      <td>married</td>\n",
              "      <td>0</td>\n",
              "      <td>F</td>\n",
              "      <td>employee</td>\n",
              "      <td>0</td>\n",
              "      <td>40620.102</td>\n",
              "      <td>purchase of the house</td>\n",
              "    </tr>\n",
              "    <tr>\n",
              "      <th>1</th>\n",
              "      <td>1</td>\n",
              "      <td>-4024.803754</td>\n",
              "      <td>36</td>\n",
              "      <td>secondary education</td>\n",
              "      <td>1</td>\n",
              "      <td>married</td>\n",
              "      <td>0</td>\n",
              "      <td>F</td>\n",
              "      <td>employee</td>\n",
              "      <td>0</td>\n",
              "      <td>17932.802</td>\n",
              "      <td>car purchase</td>\n",
              "    </tr>\n",
              "    <tr>\n",
              "      <th>2</th>\n",
              "      <td>0</td>\n",
              "      <td>-5623.422610</td>\n",
              "      <td>33</td>\n",
              "      <td>Secondary Education</td>\n",
              "      <td>1</td>\n",
              "      <td>married</td>\n",
              "      <td>0</td>\n",
              "      <td>M</td>\n",
              "      <td>employee</td>\n",
              "      <td>0</td>\n",
              "      <td>23341.752</td>\n",
              "      <td>purchase of the house</td>\n",
              "    </tr>\n",
              "    <tr>\n",
              "      <th>3</th>\n",
              "      <td>3</td>\n",
              "      <td>-4124.747207</td>\n",
              "      <td>32</td>\n",
              "      <td>secondary education</td>\n",
              "      <td>1</td>\n",
              "      <td>married</td>\n",
              "      <td>0</td>\n",
              "      <td>M</td>\n",
              "      <td>employee</td>\n",
              "      <td>0</td>\n",
              "      <td>42820.568</td>\n",
              "      <td>supplementary education</td>\n",
              "    </tr>\n",
              "    <tr>\n",
              "      <th>4</th>\n",
              "      <td>0</td>\n",
              "      <td>340266.072047</td>\n",
              "      <td>53</td>\n",
              "      <td>secondary education</td>\n",
              "      <td>1</td>\n",
              "      <td>civil partnership</td>\n",
              "      <td>1</td>\n",
              "      <td>F</td>\n",
              "      <td>retiree</td>\n",
              "      <td>0</td>\n",
              "      <td>25378.572</td>\n",
              "      <td>to have a wedding</td>\n",
              "    </tr>\n",
              "    <tr>\n",
              "      <th>5</th>\n",
              "      <td>0</td>\n",
              "      <td>-926.185831</td>\n",
              "      <td>27</td>\n",
              "      <td>bachelor's degree</td>\n",
              "      <td>0</td>\n",
              "      <td>civil partnership</td>\n",
              "      <td>1</td>\n",
              "      <td>M</td>\n",
              "      <td>business</td>\n",
              "      <td>0</td>\n",
              "      <td>40922.170</td>\n",
              "      <td>purchase of the house</td>\n",
              "    </tr>\n",
              "    <tr>\n",
              "      <th>6</th>\n",
              "      <td>0</td>\n",
              "      <td>-2879.202052</td>\n",
              "      <td>43</td>\n",
              "      <td>bachelor's degree</td>\n",
              "      <td>0</td>\n",
              "      <td>married</td>\n",
              "      <td>0</td>\n",
              "      <td>F</td>\n",
              "      <td>business</td>\n",
              "      <td>0</td>\n",
              "      <td>38484.156</td>\n",
              "      <td>housing transactions</td>\n",
              "    </tr>\n",
              "    <tr>\n",
              "      <th>7</th>\n",
              "      <td>0</td>\n",
              "      <td>-152.779569</td>\n",
              "      <td>50</td>\n",
              "      <td>SECONDARY EDUCATION</td>\n",
              "      <td>1</td>\n",
              "      <td>married</td>\n",
              "      <td>0</td>\n",
              "      <td>M</td>\n",
              "      <td>employee</td>\n",
              "      <td>0</td>\n",
              "      <td>21731.829</td>\n",
              "      <td>education</td>\n",
              "    </tr>\n",
              "    <tr>\n",
              "      <th>8</th>\n",
              "      <td>2</td>\n",
              "      <td>-6929.865299</td>\n",
              "      <td>35</td>\n",
              "      <td>BACHELOR'S DEGREE</td>\n",
              "      <td>0</td>\n",
              "      <td>civil partnership</td>\n",
              "      <td>1</td>\n",
              "      <td>F</td>\n",
              "      <td>employee</td>\n",
              "      <td>0</td>\n",
              "      <td>15337.093</td>\n",
              "      <td>having a wedding</td>\n",
              "    </tr>\n",
              "    <tr>\n",
              "      <th>9</th>\n",
              "      <td>0</td>\n",
              "      <td>-2188.756445</td>\n",
              "      <td>41</td>\n",
              "      <td>secondary education</td>\n",
              "      <td>1</td>\n",
              "      <td>married</td>\n",
              "      <td>0</td>\n",
              "      <td>M</td>\n",
              "      <td>employee</td>\n",
              "      <td>0</td>\n",
              "      <td>23108.150</td>\n",
              "      <td>purchase of the house for my family</td>\n",
              "    </tr>\n",
              "  </tbody>\n",
              "</table>\n",
              "</div>\n",
              "      <button class=\"colab-df-convert\" onclick=\"convertToInteractive('df-62bf5bb1-2419-45a6-8b43-11ada07fe717')\"\n",
              "              title=\"Convert this dataframe to an interactive table.\"\n",
              "              style=\"display:none;\">\n",
              "        \n",
              "  <svg xmlns=\"http://www.w3.org/2000/svg\" height=\"24px\"viewBox=\"0 0 24 24\"\n",
              "       width=\"24px\">\n",
              "    <path d=\"M0 0h24v24H0V0z\" fill=\"none\"/>\n",
              "    <path d=\"M18.56 5.44l.94 2.06.94-2.06 2.06-.94-2.06-.94-.94-2.06-.94 2.06-2.06.94zm-11 1L8.5 8.5l.94-2.06 2.06-.94-2.06-.94L8.5 2.5l-.94 2.06-2.06.94zm10 10l.94 2.06.94-2.06 2.06-.94-2.06-.94-.94-2.06-.94 2.06-2.06.94z\"/><path d=\"M17.41 7.96l-1.37-1.37c-.4-.4-.92-.59-1.43-.59-.52 0-1.04.2-1.43.59L10.3 9.45l-7.72 7.72c-.78.78-.78 2.05 0 2.83L4 21.41c.39.39.9.59 1.41.59.51 0 1.02-.2 1.41-.59l7.78-7.78 2.81-2.81c.8-.78.8-2.07 0-2.86zM5.41 20L4 18.59l7.72-7.72 1.47 1.35L5.41 20z\"/>\n",
              "  </svg>\n",
              "      </button>\n",
              "      \n",
              "  <style>\n",
              "    .colab-df-container {\n",
              "      display:flex;\n",
              "      flex-wrap:wrap;\n",
              "      gap: 12px;\n",
              "    }\n",
              "\n",
              "    .colab-df-convert {\n",
              "      background-color: #E8F0FE;\n",
              "      border: none;\n",
              "      border-radius: 50%;\n",
              "      cursor: pointer;\n",
              "      display: none;\n",
              "      fill: #1967D2;\n",
              "      height: 32px;\n",
              "      padding: 0 0 0 0;\n",
              "      width: 32px;\n",
              "    }\n",
              "\n",
              "    .colab-df-convert:hover {\n",
              "      background-color: #E2EBFA;\n",
              "      box-shadow: 0px 1px 2px rgba(60, 64, 67, 0.3), 0px 1px 3px 1px rgba(60, 64, 67, 0.15);\n",
              "      fill: #174EA6;\n",
              "    }\n",
              "\n",
              "    [theme=dark] .colab-df-convert {\n",
              "      background-color: #3B4455;\n",
              "      fill: #D2E3FC;\n",
              "    }\n",
              "\n",
              "    [theme=dark] .colab-df-convert:hover {\n",
              "      background-color: #434B5C;\n",
              "      box-shadow: 0px 1px 3px 1px rgba(0, 0, 0, 0.15);\n",
              "      filter: drop-shadow(0px 1px 2px rgba(0, 0, 0, 0.3));\n",
              "      fill: #FFFFFF;\n",
              "    }\n",
              "  </style>\n",
              "\n",
              "      <script>\n",
              "        const buttonEl =\n",
              "          document.querySelector('#df-62bf5bb1-2419-45a6-8b43-11ada07fe717 button.colab-df-convert');\n",
              "        buttonEl.style.display =\n",
              "          google.colab.kernel.accessAllowed ? 'block' : 'none';\n",
              "\n",
              "        async function convertToInteractive(key) {\n",
              "          const element = document.querySelector('#df-62bf5bb1-2419-45a6-8b43-11ada07fe717');\n",
              "          const dataTable =\n",
              "            await google.colab.kernel.invokeFunction('convertToInteractive',\n",
              "                                                     [key], {});\n",
              "          if (!dataTable) return;\n",
              "\n",
              "          const docLinkHtml = 'Like what you see? Visit the ' +\n",
              "            '<a target=\"_blank\" href=https://colab.research.google.com/notebooks/data_table.ipynb>data table notebook</a>'\n",
              "            + ' to learn more about interactive tables.';\n",
              "          element.innerHTML = '';\n",
              "          dataTable['output_type'] = 'display_data';\n",
              "          await google.colab.output.renderOutput(dataTable, element);\n",
              "          const docLink = document.createElement('div');\n",
              "          docLink.innerHTML = docLinkHtml;\n",
              "          element.appendChild(docLink);\n",
              "        }\n",
              "      </script>\n",
              "    </div>\n",
              "  </div>\n",
              "  "
            ]
          },
          "metadata": {},
          "execution_count": 5
        }
      ],
      "source": [
        "df.head(10)"
      ]
    },
    {
      "cell_type": "code",
      "source": [],
      "metadata": {
        "id": "i2HhabeTCC2I"
      },
      "execution_count": null,
      "outputs": []
    },
    {
      "cell_type": "markdown",
      "metadata": {
        "id": "eowGIIAiA6tu"
      },
      "source": [
        "- Pada kolom days_employed baris pertama nilai nya negatif. Padahal harusnya lama hari dalam pekerjaan tidak bisa negatif. \n",
        "- Pada kolom days_employed juga nilainya float, padahal harusnya hari bekerja satuan ukurnya tanpa desimal.\n",
        "- Pada kolom education penulisannya tidak seragam, kadang menggunakan kapital semua, kadang huruf kecil semua."
      ]
    },
    {
      "cell_type": "code",
      "execution_count": null,
      "metadata": {
        "colab": {
          "base_uri": "https://localhost:8080/"
        },
        "id": "hYmEHOhhA6tv",
        "outputId": "e51a5bfa-b842-4b94-af2a-26aa76f860b7"
      },
      "outputs": [
        {
          "output_type": "stream",
          "name": "stdout",
          "text": [
            "<class 'pandas.core.frame.DataFrame'>\n",
            "RangeIndex: 21525 entries, 0 to 21524\n",
            "Data columns (total 12 columns):\n",
            " #   Column            Non-Null Count  Dtype  \n",
            "---  ------            --------------  -----  \n",
            " 0   children          21525 non-null  int64  \n",
            " 1   days_employed     19351 non-null  float64\n",
            " 2   dob_years         21525 non-null  int64  \n",
            " 3   education         21525 non-null  object \n",
            " 4   education_id      21525 non-null  int64  \n",
            " 5   family_status     21525 non-null  object \n",
            " 6   family_status_id  21525 non-null  int64  \n",
            " 7   gender            21525 non-null  object \n",
            " 8   income_type       21525 non-null  object \n",
            " 9   debt              21525 non-null  int64  \n",
            " 10  total_income      19351 non-null  float64\n",
            " 11  purpose           21525 non-null  object \n",
            "dtypes: float64(2), int64(5), object(5)\n",
            "memory usage: 2.0+ MB\n"
          ]
        }
      ],
      "source": [
        "# Dapatkan informasi data\n",
        "df.info()"
      ]
    },
    {
      "cell_type": "code",
      "execution_count": null,
      "metadata": {
        "colab": {
          "base_uri": "https://localhost:8080/",
          "height": 300
        },
        "id": "W8-LWmagA6tv",
        "outputId": "40d6760b-6d98-441e-8689-09ee75db5205"
      },
      "outputs": [
        {
          "output_type": "execute_result",
          "data": {
            "text/plain": [
              "           children  days_employed     dob_years  education_id  \\\n",
              "count  21525.000000   19351.000000  21525.000000  21525.000000   \n",
              "mean       0.538908   63046.497661     43.293380      0.817236   \n",
              "std        1.381587  140827.311974     12.574584      0.548138   \n",
              "min       -1.000000  -18388.949901      0.000000      0.000000   \n",
              "25%        0.000000   -2747.423625     33.000000      1.000000   \n",
              "50%        0.000000   -1203.369529     42.000000      1.000000   \n",
              "75%        1.000000    -291.095954     53.000000      1.000000   \n",
              "max       20.000000  401755.400475     75.000000      4.000000   \n",
              "\n",
              "       family_status_id          debt   total_income  \n",
              "count      21525.000000  21525.000000   19351.000000  \n",
              "mean           0.972544      0.080883   26787.568355  \n",
              "std            1.420324      0.272661   16475.450632  \n",
              "min            0.000000      0.000000    3306.762000  \n",
              "25%            0.000000      0.000000   16488.504500  \n",
              "50%            0.000000      0.000000   23202.870000  \n",
              "75%            1.000000      0.000000   32549.611000  \n",
              "max            4.000000      1.000000  362496.645000  "
            ],
            "text/html": [
              "\n",
              "  <div id=\"df-b8bb88a6-903b-4f9b-9e67-29e377e3a422\">\n",
              "    <div class=\"colab-df-container\">\n",
              "      <div>\n",
              "<style scoped>\n",
              "    .dataframe tbody tr th:only-of-type {\n",
              "        vertical-align: middle;\n",
              "    }\n",
              "\n",
              "    .dataframe tbody tr th {\n",
              "        vertical-align: top;\n",
              "    }\n",
              "\n",
              "    .dataframe thead th {\n",
              "        text-align: right;\n",
              "    }\n",
              "</style>\n",
              "<table border=\"1\" class=\"dataframe\">\n",
              "  <thead>\n",
              "    <tr style=\"text-align: right;\">\n",
              "      <th></th>\n",
              "      <th>children</th>\n",
              "      <th>days_employed</th>\n",
              "      <th>dob_years</th>\n",
              "      <th>education_id</th>\n",
              "      <th>family_status_id</th>\n",
              "      <th>debt</th>\n",
              "      <th>total_income</th>\n",
              "    </tr>\n",
              "  </thead>\n",
              "  <tbody>\n",
              "    <tr>\n",
              "      <th>count</th>\n",
              "      <td>21525.000000</td>\n",
              "      <td>19351.000000</td>\n",
              "      <td>21525.000000</td>\n",
              "      <td>21525.000000</td>\n",
              "      <td>21525.000000</td>\n",
              "      <td>21525.000000</td>\n",
              "      <td>19351.000000</td>\n",
              "    </tr>\n",
              "    <tr>\n",
              "      <th>mean</th>\n",
              "      <td>0.538908</td>\n",
              "      <td>63046.497661</td>\n",
              "      <td>43.293380</td>\n",
              "      <td>0.817236</td>\n",
              "      <td>0.972544</td>\n",
              "      <td>0.080883</td>\n",
              "      <td>26787.568355</td>\n",
              "    </tr>\n",
              "    <tr>\n",
              "      <th>std</th>\n",
              "      <td>1.381587</td>\n",
              "      <td>140827.311974</td>\n",
              "      <td>12.574584</td>\n",
              "      <td>0.548138</td>\n",
              "      <td>1.420324</td>\n",
              "      <td>0.272661</td>\n",
              "      <td>16475.450632</td>\n",
              "    </tr>\n",
              "    <tr>\n",
              "      <th>min</th>\n",
              "      <td>-1.000000</td>\n",
              "      <td>-18388.949901</td>\n",
              "      <td>0.000000</td>\n",
              "      <td>0.000000</td>\n",
              "      <td>0.000000</td>\n",
              "      <td>0.000000</td>\n",
              "      <td>3306.762000</td>\n",
              "    </tr>\n",
              "    <tr>\n",
              "      <th>25%</th>\n",
              "      <td>0.000000</td>\n",
              "      <td>-2747.423625</td>\n",
              "      <td>33.000000</td>\n",
              "      <td>1.000000</td>\n",
              "      <td>0.000000</td>\n",
              "      <td>0.000000</td>\n",
              "      <td>16488.504500</td>\n",
              "    </tr>\n",
              "    <tr>\n",
              "      <th>50%</th>\n",
              "      <td>0.000000</td>\n",
              "      <td>-1203.369529</td>\n",
              "      <td>42.000000</td>\n",
              "      <td>1.000000</td>\n",
              "      <td>0.000000</td>\n",
              "      <td>0.000000</td>\n",
              "      <td>23202.870000</td>\n",
              "    </tr>\n",
              "    <tr>\n",
              "      <th>75%</th>\n",
              "      <td>1.000000</td>\n",
              "      <td>-291.095954</td>\n",
              "      <td>53.000000</td>\n",
              "      <td>1.000000</td>\n",
              "      <td>1.000000</td>\n",
              "      <td>0.000000</td>\n",
              "      <td>32549.611000</td>\n",
              "    </tr>\n",
              "    <tr>\n",
              "      <th>max</th>\n",
              "      <td>20.000000</td>\n",
              "      <td>401755.400475</td>\n",
              "      <td>75.000000</td>\n",
              "      <td>4.000000</td>\n",
              "      <td>4.000000</td>\n",
              "      <td>1.000000</td>\n",
              "      <td>362496.645000</td>\n",
              "    </tr>\n",
              "  </tbody>\n",
              "</table>\n",
              "</div>\n",
              "      <button class=\"colab-df-convert\" onclick=\"convertToInteractive('df-b8bb88a6-903b-4f9b-9e67-29e377e3a422')\"\n",
              "              title=\"Convert this dataframe to an interactive table.\"\n",
              "              style=\"display:none;\">\n",
              "        \n",
              "  <svg xmlns=\"http://www.w3.org/2000/svg\" height=\"24px\"viewBox=\"0 0 24 24\"\n",
              "       width=\"24px\">\n",
              "    <path d=\"M0 0h24v24H0V0z\" fill=\"none\"/>\n",
              "    <path d=\"M18.56 5.44l.94 2.06.94-2.06 2.06-.94-2.06-.94-.94-2.06-.94 2.06-2.06.94zm-11 1L8.5 8.5l.94-2.06 2.06-.94-2.06-.94L8.5 2.5l-.94 2.06-2.06.94zm10 10l.94 2.06.94-2.06 2.06-.94-2.06-.94-.94-2.06-.94 2.06-2.06.94z\"/><path d=\"M17.41 7.96l-1.37-1.37c-.4-.4-.92-.59-1.43-.59-.52 0-1.04.2-1.43.59L10.3 9.45l-7.72 7.72c-.78.78-.78 2.05 0 2.83L4 21.41c.39.39.9.59 1.41.59.51 0 1.02-.2 1.41-.59l7.78-7.78 2.81-2.81c.8-.78.8-2.07 0-2.86zM5.41 20L4 18.59l7.72-7.72 1.47 1.35L5.41 20z\"/>\n",
              "  </svg>\n",
              "      </button>\n",
              "      \n",
              "  <style>\n",
              "    .colab-df-container {\n",
              "      display:flex;\n",
              "      flex-wrap:wrap;\n",
              "      gap: 12px;\n",
              "    }\n",
              "\n",
              "    .colab-df-convert {\n",
              "      background-color: #E8F0FE;\n",
              "      border: none;\n",
              "      border-radius: 50%;\n",
              "      cursor: pointer;\n",
              "      display: none;\n",
              "      fill: #1967D2;\n",
              "      height: 32px;\n",
              "      padding: 0 0 0 0;\n",
              "      width: 32px;\n",
              "    }\n",
              "\n",
              "    .colab-df-convert:hover {\n",
              "      background-color: #E2EBFA;\n",
              "      box-shadow: 0px 1px 2px rgba(60, 64, 67, 0.3), 0px 1px 3px 1px rgba(60, 64, 67, 0.15);\n",
              "      fill: #174EA6;\n",
              "    }\n",
              "\n",
              "    [theme=dark] .colab-df-convert {\n",
              "      background-color: #3B4455;\n",
              "      fill: #D2E3FC;\n",
              "    }\n",
              "\n",
              "    [theme=dark] .colab-df-convert:hover {\n",
              "      background-color: #434B5C;\n",
              "      box-shadow: 0px 1px 3px 1px rgba(0, 0, 0, 0.15);\n",
              "      filter: drop-shadow(0px 1px 2px rgba(0, 0, 0, 0.3));\n",
              "      fill: #FFFFFF;\n",
              "    }\n",
              "  </style>\n",
              "\n",
              "      <script>\n",
              "        const buttonEl =\n",
              "          document.querySelector('#df-b8bb88a6-903b-4f9b-9e67-29e377e3a422 button.colab-df-convert');\n",
              "        buttonEl.style.display =\n",
              "          google.colab.kernel.accessAllowed ? 'block' : 'none';\n",
              "\n",
              "        async function convertToInteractive(key) {\n",
              "          const element = document.querySelector('#df-b8bb88a6-903b-4f9b-9e67-29e377e3a422');\n",
              "          const dataTable =\n",
              "            await google.colab.kernel.invokeFunction('convertToInteractive',\n",
              "                                                     [key], {});\n",
              "          if (!dataTable) return;\n",
              "\n",
              "          const docLinkHtml = 'Like what you see? Visit the ' +\n",
              "            '<a target=\"_blank\" href=https://colab.research.google.com/notebooks/data_table.ipynb>data table notebook</a>'\n",
              "            + ' to learn more about interactive tables.';\n",
              "          element.innerHTML = '';\n",
              "          dataTable['output_type'] = 'display_data';\n",
              "          await google.colab.output.renderOutput(dataTable, element);\n",
              "          const docLink = document.createElement('div');\n",
              "          docLink.innerHTML = docLinkHtml;\n",
              "          element.appendChild(docLink);\n",
              "        }\n",
              "      </script>\n",
              "    </div>\n",
              "  </div>\n",
              "  "
            ]
          },
          "metadata": {},
          "execution_count": 7
        }
      ],
      "source": [
        "df.describe()"
      ]
    },
    {
      "cell_type": "markdown",
      "metadata": {
        "id": "xnXWCj7UA6tw"
      },
      "source": [
        "- ada nilai yang hilang dan jumlahnya sama pada kolom days_employed & total_income.\n",
        "- nilai pada kolom children nilai minimunya tidak masuk akal. karena -1.\n",
        "- pada kolom days_employed juga mengalami nilai negatif, padahal tidak mungkin lama seorang bekerja negatif. "
      ]
    },
    {
      "cell_type": "code",
      "execution_count": null,
      "metadata": {
        "colab": {
          "base_uri": "https://localhost:8080/",
          "height": 423
        },
        "id": "zaCEIBrQA6tx",
        "outputId": "9df533c3-6757-40f4-be82-9c5bef34edfb"
      },
      "outputs": [
        {
          "output_type": "execute_result",
          "data": {
            "text/plain": [
              "       children  days_employed  dob_years            education  education_id  \\\n",
              "12            0            NaN         65  secondary education             1   \n",
              "26            0            NaN         41  secondary education             1   \n",
              "29            0            NaN         63  secondary education             1   \n",
              "41            0            NaN         50  secondary education             1   \n",
              "55            0            NaN         54  secondary education             1   \n",
              "...         ...            ...        ...                  ...           ...   \n",
              "21489         2            NaN         47  Secondary Education             1   \n",
              "21495         1            NaN         50  secondary education             1   \n",
              "21497         0            NaN         48    BACHELOR'S DEGREE             0   \n",
              "21502         1            NaN         42  secondary education             1   \n",
              "21510         2            NaN         28  secondary education             1   \n",
              "\n",
              "           family_status  family_status_id gender    income_type  debt  \\\n",
              "12     civil partnership                 1      M        retiree     0   \n",
              "26               married                 0      M  civil servant     0   \n",
              "29             unmarried                 4      F        retiree     0   \n",
              "41               married                 0      F  civil servant     0   \n",
              "55     civil partnership                 1      F        retiree     1   \n",
              "...                  ...               ...    ...            ...   ...   \n",
              "21489            married                 0      M       business     0   \n",
              "21495  civil partnership                 1      F       employee     0   \n",
              "21497            married                 0      F       business     0   \n",
              "21502            married                 0      F       employee     0   \n",
              "21510            married                 0      F       employee     0   \n",
              "\n",
              "       total_income                   purpose  \n",
              "12              NaN         to have a wedding  \n",
              "26              NaN                 education  \n",
              "29              NaN    building a real estate  \n",
              "41              NaN  second-hand car purchase  \n",
              "55              NaN         to have a wedding  \n",
              "...             ...                       ...  \n",
              "21489           NaN         purchase of a car  \n",
              "21495           NaN          wedding ceremony  \n",
              "21497           NaN       building a property  \n",
              "21502           NaN    building a real estate  \n",
              "21510           NaN              car purchase  \n",
              "\n",
              "[2174 rows x 12 columns]"
            ],
            "text/html": [
              "\n",
              "  <div id=\"df-a5faf2d5-903f-4499-a33c-7ae9a0d1ec19\">\n",
              "    <div class=\"colab-df-container\">\n",
              "      <div>\n",
              "<style scoped>\n",
              "    .dataframe tbody tr th:only-of-type {\n",
              "        vertical-align: middle;\n",
              "    }\n",
              "\n",
              "    .dataframe tbody tr th {\n",
              "        vertical-align: top;\n",
              "    }\n",
              "\n",
              "    .dataframe thead th {\n",
              "        text-align: right;\n",
              "    }\n",
              "</style>\n",
              "<table border=\"1\" class=\"dataframe\">\n",
              "  <thead>\n",
              "    <tr style=\"text-align: right;\">\n",
              "      <th></th>\n",
              "      <th>children</th>\n",
              "      <th>days_employed</th>\n",
              "      <th>dob_years</th>\n",
              "      <th>education</th>\n",
              "      <th>education_id</th>\n",
              "      <th>family_status</th>\n",
              "      <th>family_status_id</th>\n",
              "      <th>gender</th>\n",
              "      <th>income_type</th>\n",
              "      <th>debt</th>\n",
              "      <th>total_income</th>\n",
              "      <th>purpose</th>\n",
              "    </tr>\n",
              "  </thead>\n",
              "  <tbody>\n",
              "    <tr>\n",
              "      <th>12</th>\n",
              "      <td>0</td>\n",
              "      <td>NaN</td>\n",
              "      <td>65</td>\n",
              "      <td>secondary education</td>\n",
              "      <td>1</td>\n",
              "      <td>civil partnership</td>\n",
              "      <td>1</td>\n",
              "      <td>M</td>\n",
              "      <td>retiree</td>\n",
              "      <td>0</td>\n",
              "      <td>NaN</td>\n",
              "      <td>to have a wedding</td>\n",
              "    </tr>\n",
              "    <tr>\n",
              "      <th>26</th>\n",
              "      <td>0</td>\n",
              "      <td>NaN</td>\n",
              "      <td>41</td>\n",
              "      <td>secondary education</td>\n",
              "      <td>1</td>\n",
              "      <td>married</td>\n",
              "      <td>0</td>\n",
              "      <td>M</td>\n",
              "      <td>civil servant</td>\n",
              "      <td>0</td>\n",
              "      <td>NaN</td>\n",
              "      <td>education</td>\n",
              "    </tr>\n",
              "    <tr>\n",
              "      <th>29</th>\n",
              "      <td>0</td>\n",
              "      <td>NaN</td>\n",
              "      <td>63</td>\n",
              "      <td>secondary education</td>\n",
              "      <td>1</td>\n",
              "      <td>unmarried</td>\n",
              "      <td>4</td>\n",
              "      <td>F</td>\n",
              "      <td>retiree</td>\n",
              "      <td>0</td>\n",
              "      <td>NaN</td>\n",
              "      <td>building a real estate</td>\n",
              "    </tr>\n",
              "    <tr>\n",
              "      <th>41</th>\n",
              "      <td>0</td>\n",
              "      <td>NaN</td>\n",
              "      <td>50</td>\n",
              "      <td>secondary education</td>\n",
              "      <td>1</td>\n",
              "      <td>married</td>\n",
              "      <td>0</td>\n",
              "      <td>F</td>\n",
              "      <td>civil servant</td>\n",
              "      <td>0</td>\n",
              "      <td>NaN</td>\n",
              "      <td>second-hand car purchase</td>\n",
              "    </tr>\n",
              "    <tr>\n",
              "      <th>55</th>\n",
              "      <td>0</td>\n",
              "      <td>NaN</td>\n",
              "      <td>54</td>\n",
              "      <td>secondary education</td>\n",
              "      <td>1</td>\n",
              "      <td>civil partnership</td>\n",
              "      <td>1</td>\n",
              "      <td>F</td>\n",
              "      <td>retiree</td>\n",
              "      <td>1</td>\n",
              "      <td>NaN</td>\n",
              "      <td>to have a wedding</td>\n",
              "    </tr>\n",
              "    <tr>\n",
              "      <th>...</th>\n",
              "      <td>...</td>\n",
              "      <td>...</td>\n",
              "      <td>...</td>\n",
              "      <td>...</td>\n",
              "      <td>...</td>\n",
              "      <td>...</td>\n",
              "      <td>...</td>\n",
              "      <td>...</td>\n",
              "      <td>...</td>\n",
              "      <td>...</td>\n",
              "      <td>...</td>\n",
              "      <td>...</td>\n",
              "    </tr>\n",
              "    <tr>\n",
              "      <th>21489</th>\n",
              "      <td>2</td>\n",
              "      <td>NaN</td>\n",
              "      <td>47</td>\n",
              "      <td>Secondary Education</td>\n",
              "      <td>1</td>\n",
              "      <td>married</td>\n",
              "      <td>0</td>\n",
              "      <td>M</td>\n",
              "      <td>business</td>\n",
              "      <td>0</td>\n",
              "      <td>NaN</td>\n",
              "      <td>purchase of a car</td>\n",
              "    </tr>\n",
              "    <tr>\n",
              "      <th>21495</th>\n",
              "      <td>1</td>\n",
              "      <td>NaN</td>\n",
              "      <td>50</td>\n",
              "      <td>secondary education</td>\n",
              "      <td>1</td>\n",
              "      <td>civil partnership</td>\n",
              "      <td>1</td>\n",
              "      <td>F</td>\n",
              "      <td>employee</td>\n",
              "      <td>0</td>\n",
              "      <td>NaN</td>\n",
              "      <td>wedding ceremony</td>\n",
              "    </tr>\n",
              "    <tr>\n",
              "      <th>21497</th>\n",
              "      <td>0</td>\n",
              "      <td>NaN</td>\n",
              "      <td>48</td>\n",
              "      <td>BACHELOR'S DEGREE</td>\n",
              "      <td>0</td>\n",
              "      <td>married</td>\n",
              "      <td>0</td>\n",
              "      <td>F</td>\n",
              "      <td>business</td>\n",
              "      <td>0</td>\n",
              "      <td>NaN</td>\n",
              "      <td>building a property</td>\n",
              "    </tr>\n",
              "    <tr>\n",
              "      <th>21502</th>\n",
              "      <td>1</td>\n",
              "      <td>NaN</td>\n",
              "      <td>42</td>\n",
              "      <td>secondary education</td>\n",
              "      <td>1</td>\n",
              "      <td>married</td>\n",
              "      <td>0</td>\n",
              "      <td>F</td>\n",
              "      <td>employee</td>\n",
              "      <td>0</td>\n",
              "      <td>NaN</td>\n",
              "      <td>building a real estate</td>\n",
              "    </tr>\n",
              "    <tr>\n",
              "      <th>21510</th>\n",
              "      <td>2</td>\n",
              "      <td>NaN</td>\n",
              "      <td>28</td>\n",
              "      <td>secondary education</td>\n",
              "      <td>1</td>\n",
              "      <td>married</td>\n",
              "      <td>0</td>\n",
              "      <td>F</td>\n",
              "      <td>employee</td>\n",
              "      <td>0</td>\n",
              "      <td>NaN</td>\n",
              "      <td>car purchase</td>\n",
              "    </tr>\n",
              "  </tbody>\n",
              "</table>\n",
              "<p>2174 rows × 12 columns</p>\n",
              "</div>\n",
              "      <button class=\"colab-df-convert\" onclick=\"convertToInteractive('df-a5faf2d5-903f-4499-a33c-7ae9a0d1ec19')\"\n",
              "              title=\"Convert this dataframe to an interactive table.\"\n",
              "              style=\"display:none;\">\n",
              "        \n",
              "  <svg xmlns=\"http://www.w3.org/2000/svg\" height=\"24px\"viewBox=\"0 0 24 24\"\n",
              "       width=\"24px\">\n",
              "    <path d=\"M0 0h24v24H0V0z\" fill=\"none\"/>\n",
              "    <path d=\"M18.56 5.44l.94 2.06.94-2.06 2.06-.94-2.06-.94-.94-2.06-.94 2.06-2.06.94zm-11 1L8.5 8.5l.94-2.06 2.06-.94-2.06-.94L8.5 2.5l-.94 2.06-2.06.94zm10 10l.94 2.06.94-2.06 2.06-.94-2.06-.94-.94-2.06-.94 2.06-2.06.94z\"/><path d=\"M17.41 7.96l-1.37-1.37c-.4-.4-.92-.59-1.43-.59-.52 0-1.04.2-1.43.59L10.3 9.45l-7.72 7.72c-.78.78-.78 2.05 0 2.83L4 21.41c.39.39.9.59 1.41.59.51 0 1.02-.2 1.41-.59l7.78-7.78 2.81-2.81c.8-.78.8-2.07 0-2.86zM5.41 20L4 18.59l7.72-7.72 1.47 1.35L5.41 20z\"/>\n",
              "  </svg>\n",
              "      </button>\n",
              "      \n",
              "  <style>\n",
              "    .colab-df-container {\n",
              "      display:flex;\n",
              "      flex-wrap:wrap;\n",
              "      gap: 12px;\n",
              "    }\n",
              "\n",
              "    .colab-df-convert {\n",
              "      background-color: #E8F0FE;\n",
              "      border: none;\n",
              "      border-radius: 50%;\n",
              "      cursor: pointer;\n",
              "      display: none;\n",
              "      fill: #1967D2;\n",
              "      height: 32px;\n",
              "      padding: 0 0 0 0;\n",
              "      width: 32px;\n",
              "    }\n",
              "\n",
              "    .colab-df-convert:hover {\n",
              "      background-color: #E2EBFA;\n",
              "      box-shadow: 0px 1px 2px rgba(60, 64, 67, 0.3), 0px 1px 3px 1px rgba(60, 64, 67, 0.15);\n",
              "      fill: #174EA6;\n",
              "    }\n",
              "\n",
              "    [theme=dark] .colab-df-convert {\n",
              "      background-color: #3B4455;\n",
              "      fill: #D2E3FC;\n",
              "    }\n",
              "\n",
              "    [theme=dark] .colab-df-convert:hover {\n",
              "      background-color: #434B5C;\n",
              "      box-shadow: 0px 1px 3px 1px rgba(0, 0, 0, 0.15);\n",
              "      filter: drop-shadow(0px 1px 2px rgba(0, 0, 0, 0.3));\n",
              "      fill: #FFFFFF;\n",
              "    }\n",
              "  </style>\n",
              "\n",
              "      <script>\n",
              "        const buttonEl =\n",
              "          document.querySelector('#df-a5faf2d5-903f-4499-a33c-7ae9a0d1ec19 button.colab-df-convert');\n",
              "        buttonEl.style.display =\n",
              "          google.colab.kernel.accessAllowed ? 'block' : 'none';\n",
              "\n",
              "        async function convertToInteractive(key) {\n",
              "          const element = document.querySelector('#df-a5faf2d5-903f-4499-a33c-7ae9a0d1ec19');\n",
              "          const dataTable =\n",
              "            await google.colab.kernel.invokeFunction('convertToInteractive',\n",
              "                                                     [key], {});\n",
              "          if (!dataTable) return;\n",
              "\n",
              "          const docLinkHtml = 'Like what you see? Visit the ' +\n",
              "            '<a target=\"_blank\" href=https://colab.research.google.com/notebooks/data_table.ipynb>data table notebook</a>'\n",
              "            + ' to learn more about interactive tables.';\n",
              "          element.innerHTML = '';\n",
              "          dataTable['output_type'] = 'display_data';\n",
              "          await google.colab.output.renderOutput(dataTable, element);\n",
              "          const docLink = document.createElement('div');\n",
              "          docLink.innerHTML = docLinkHtml;\n",
              "          element.appendChild(docLink);\n",
              "        }\n",
              "      </script>\n",
              "    </div>\n",
              "  </div>\n",
              "  "
            ]
          },
          "metadata": {},
          "execution_count": 8
        }
      ],
      "source": [
        "# Mari kita lihat tabel yang difilter dengan nilai yang hilang di kolom pertama yang mengandung data yang hilang\n",
        "df.loc[df['days_employed'].isna()]"
      ]
    },
    {
      "cell_type": "markdown",
      "metadata": {
        "id": "2gqpvpafA6tx"
      },
      "source": [
        "Pada data yg hilang pada kolom pertama (days_employed) mengalami kehilangan data juga pada kolom kedua (total_income)."
      ]
    },
    {
      "cell_type": "code",
      "execution_count": null,
      "metadata": {
        "colab": {
          "base_uri": "https://localhost:8080/"
        },
        "id": "gYGd7DxuA6tx",
        "outputId": "a25bca9a-646b-49e2-9845-1e073b67e2ad"
      },
      "outputs": [
        {
          "output_type": "execute_result",
          "data": {
            "text/plain": [
              "(2174, 2)"
            ]
          },
          "metadata": {},
          "execution_count": 9
        }
      ],
      "source": [
        "# Mari kita terapkan beberapa kondisi untuk memfilter data dan melihat jumlah baris dalam tabel yang telah difilter.\n",
        "df_na = df.loc[(df['days_employed'].isna()) & (df['total_income'].isna()), ['days_employed', 'total_income']]\n",
        "df_na.shape"
      ]
    },
    {
      "cell_type": "markdown",
      "metadata": {
        "id": "K-HfIWn1A6ty"
      },
      "source": [
        "Setelah difilter isna() kolom `days_employed` & `total_income` hasilnya sebesar `2,174`. Dan nasabah mengalami data yang hilang pada kolom `days_employed` juga mengalami kehilangan data pada `total_income`. Artinya ada `2,174` nasabah yang mengalami kehilangan data pada 2 kolom sekaligus, yaitu `days_employed` dan `total_income`. "
      ]
    },
    {
      "cell_type": "code",
      "execution_count": null,
      "metadata": {
        "colab": {
          "base_uri": "https://localhost:8080/"
        },
        "id": "9Ycp8vQvA6tz",
        "outputId": "537a4b06-9999-422c-8802-9bc17033a927"
      },
      "outputs": [
        {
          "output_type": "execute_result",
          "data": {
            "text/plain": [
              "10"
            ]
          },
          "metadata": {},
          "execution_count": 10
        }
      ],
      "source": [
        "rows_in_df_na = df_na.shape[0]\n",
        "rows_in_df = df.shape[0]\n",
        "\n",
        "round(rows_in_df_na / rows_in_df * 100, )"
      ]
    },
    {
      "cell_type": "markdown",
      "metadata": {
        "id": "UZj0lhT9A6tz"
      },
      "source": [
        "Setelah diperiksa jumlah data yg hilang 2174 dari 21525. Jumlah tersebut cukup besar, karena persentasenya sekitar 10%. Karena persentasenya cukup besar, maka kelompok data yang memiliki nilai yang hilang akan coba dipertahankan jika masih bisa. Cara mempertahankannya dengan mengisi nilai yg hilang dengan nilai mean atau median pada kolom yang hilang."
      ]
    },
    {
      "cell_type": "code",
      "execution_count": null,
      "metadata": {
        "scrolled": true,
        "colab": {
          "base_uri": "https://localhost:8080/"
        },
        "id": "QZ9WBkjQA6t1",
        "outputId": "18e0a2fb-4aec-41c0-82d4-7919b244478c"
      },
      "outputs": [
        {
          "output_type": "stream",
          "name": "stdout",
          "text": [
            "karakterisik children pada kelompok nasabah dengan nilai yang hilang:\n"
          ]
        },
        {
          "output_type": "execute_result",
          "data": {
            "text/plain": [
              "array([-1,  0,  1,  2,  3,  4,  5, 20])"
            ]
          },
          "metadata": {},
          "execution_count": 11
        }
      ],
      "source": [
        "# Mari kita periksa nasabah yang tidak memiliki data tentang karakteristik yang teridentifikasi dan kolom dengan nilai yang hilang\n",
        "other_columns = ['children', 'dob_years', 'education', 'education_id', 'family_status', 'family_status_id', 'gender', 'income_type', 'debt', 'purpose']\n",
        "data_na = df.loc[(df['days_employed'].isna()) & (df['total_income'].isna())]\n",
        "\n",
        "\n",
        "print('karakterisik children pada kelompok nasabah dengan nilai yang hilang:')\n",
        "data_na['children'].sort_values().unique()"
      ]
    },
    {
      "cell_type": "markdown",
      "metadata": {
        "id": "UYmI_DAlA6t1"
      },
      "source": [
        "Pada kolom `children` pada nasabah yang mengalami nilai yang hilang memiliki jumlah anak yang bervariasi. Dari yang tidak memiliki anak hingga yang terbanyak memiliki 5 orang anak. Artinya kelompok nasabah ini mungkin terdiri dari nasabah lajang hingga sudah berkeluarga.\n",
        "\n",
        "Selain itu ada hal yang janggal, karena ada nasabah yang memiliki anak `-1` yang mana hal tersebut mustahil. Dan ada juga yang memiliki anak `20`, hal itu mungkin terjadi namun sangat langka terjadi didunia modern sekarang ini. Kedua data itu ada kemungkinan karena ada kesalah saat penginputan."
      ]
    },
    {
      "cell_type": "code",
      "execution_count": null,
      "metadata": {
        "colab": {
          "base_uri": "https://localhost:8080/"
        },
        "id": "vAjWsoPtA6t1",
        "outputId": "4c2e78a7-ae6e-4614-db53-66cd29e5f1be"
      },
      "outputs": [
        {
          "output_type": "stream",
          "name": "stdout",
          "text": [
            "karakterisik dob_years atau usia pada kelompok nasabah dengan nilai yang hilang:\n"
          ]
        },
        {
          "output_type": "execute_result",
          "data": {
            "text/plain": [
              "array([ 0, 19, 20, 21, 22, 23, 24, 25, 26, 27, 28, 29, 30, 31, 32, 33, 34,\n",
              "       35, 36, 37, 38, 39, 40, 41, 42, 43, 44, 45, 46, 47, 48, 49, 50, 51,\n",
              "       52, 53, 54, 55, 56, 57, 58, 59, 60, 61, 62, 63, 64, 65, 66, 67, 68,\n",
              "       69, 70, 71, 72, 73])"
            ]
          },
          "metadata": {},
          "execution_count": 12
        }
      ],
      "source": [
        "#print(df.columns) #test\n",
        "print('karakterisik dob_years atau usia pada kelompok nasabah dengan nilai yang hilang:')\n",
        "data_na['dob_years'].sort_values().unique()"
      ]
    },
    {
      "cell_type": "markdown",
      "metadata": {
        "id": "VNlJzxptA6t1"
      },
      "source": [
        "Pada kolom `dob_years` atau usia pada kelompok nasabah yang mengalami nilai yang hilang memiliki rentang yang cukup  panjang mulai dari remaja 19 tahun hingga lansia 73 tahun. Namun ada nilai yang tidak wajar disitu. Karena ada yang bernilai 0. Hal tersebut tidak wajar karena tidak wajar seorang bayi menjadi nasabah bank."
      ]
    },
    {
      "cell_type": "code",
      "execution_count": null,
      "metadata": {
        "colab": {
          "base_uri": "https://localhost:8080/"
        },
        "id": "Nl0ZhyCdA6t2",
        "outputId": "e05f1750-143c-4b9f-8f25-8e640af4b47f"
      },
      "outputs": [
        {
          "output_type": "stream",
          "name": "stdout",
          "text": [
            "karakterisik education pada kelompok nasabah dengan nilai yang hilang:\n"
          ]
        },
        {
          "output_type": "execute_result",
          "data": {
            "text/plain": [
              "array([\"BACHELOR'S DEGREE\", \"Bachelor's Degree\", 'PRIMARY EDUCATION',\n",
              "       'Primary Education', 'SECONDARY EDUCATION', 'SOME COLLEGE',\n",
              "       'Secondary Education', 'Some College', \"bachelor's degree\",\n",
              "       'primary education', 'secondary education', 'some college'],\n",
              "      dtype=object)"
            ]
          },
          "metadata": {},
          "execution_count": 13
        }
      ],
      "source": [
        "#print(df.columns) #test\n",
        "print('karakterisik education pada kelompok nasabah dengan nilai yang hilang:')\n",
        "data_na['education'].sort_values().unique()"
      ]
    },
    {
      "cell_type": "markdown",
      "metadata": {
        "id": "oujRfRnoA6t2"
      },
      "source": [
        "Pada kolom `education` pada kelompok nasabah yang mengalami nilai yang hilang terdiri dari berbagai tingkat pendidikan. Mulai dari yang pendidikan dasar hingga sarjana. Selain itu penulisannya juga kurang seragam. Hal tersebut perlu dirapikan ditahap selanjutnya."
      ]
    },
    {
      "cell_type": "code",
      "execution_count": null,
      "metadata": {
        "colab": {
          "base_uri": "https://localhost:8080/"
        },
        "id": "w6aumQikA6t2",
        "outputId": "9f79548b-8355-4905-a3bf-00481b9807b0"
      },
      "outputs": [
        {
          "output_type": "stream",
          "name": "stdout",
          "text": [
            "karakterisik famiy status pada kelompok nasabah dengan nilai yang hilang:\n"
          ]
        },
        {
          "output_type": "execute_result",
          "data": {
            "text/plain": [
              "array(['civil partnership', 'divorced', 'married', 'unmarried',\n",
              "       'widow / widower'], dtype=object)"
            ]
          },
          "metadata": {},
          "execution_count": 14
        }
      ],
      "source": [
        "#print(df.columns) #test\n",
        "print('karakterisik famiy status pada kelompok nasabah dengan nilai yang hilang:')\n",
        "data_na['family_status'].sort_values().unique() "
      ]
    },
    {
      "cell_type": "markdown",
      "metadata": {
        "id": "YmkjptkoA6t2"
      },
      "source": [
        "Pada kolom `family_status` atau status perkawinan pada kelompok nasabah yang mengalami nilai yang hilang menunjukan kelompok nasabah ini terdiri dari nasabah dengan berbagai status perkawinan. Dari belum menikah, hingga telah bercerai ada pada kelompok ini."
      ]
    },
    {
      "cell_type": "code",
      "execution_count": null,
      "metadata": {
        "colab": {
          "base_uri": "https://localhost:8080/"
        },
        "id": "XgZ3_kerA6t2",
        "outputId": "a882dd6f-d4fc-4b20-f501-58f7a701b4d2"
      },
      "outputs": [
        {
          "output_type": "stream",
          "name": "stdout",
          "text": [
            "karakterisik gender pada kelompok nasabah dengan nilai yang hilang:\n"
          ]
        },
        {
          "output_type": "execute_result",
          "data": {
            "text/plain": [
              "array(['F', 'M'], dtype=object)"
            ]
          },
          "metadata": {},
          "execution_count": 15
        }
      ],
      "source": [
        "#print(df.columns) #test\n",
        "print('karakterisik gender pada kelompok nasabah dengan nilai yang hilang:')\n",
        "data_na['gender'].sort_values().unique() "
      ]
    },
    {
      "cell_type": "markdown",
      "metadata": {
        "id": "bvnkzHdQA6t2"
      },
      "source": [
        "Pada kolom `gender` atau jenis kelamin pada kelompok nasabah yang mengalami nilai yang hilang menunjukan terdiri dari laki-laki dan perempuan."
      ]
    },
    {
      "cell_type": "code",
      "execution_count": null,
      "metadata": {
        "colab": {
          "base_uri": "https://localhost:8080/"
        },
        "id": "5BUmIpCqA6t3",
        "outputId": "bb4de63a-af94-4dae-a782-1c68d1a83f78"
      },
      "outputs": [
        {
          "output_type": "stream",
          "name": "stdout",
          "text": [
            "karakterisik income_type pada kelompok nasabah dengan nilai yang hilang:\n"
          ]
        },
        {
          "output_type": "execute_result",
          "data": {
            "text/plain": [
              "array(['business', 'civil servant', 'employee', 'entrepreneur', 'retiree'],\n",
              "      dtype=object)"
            ]
          },
          "metadata": {},
          "execution_count": 16
        }
      ],
      "source": [
        "#print(df.columns) #test\n",
        "#print(df['income_type'].sort_values().unique()) #test\n",
        "print('karakterisik income_type pada kelompok nasabah dengan nilai yang hilang:')\n",
        "data_na['income_type'].sort_values().unique()"
      ]
    },
    {
      "cell_type": "markdown",
      "metadata": {
        "id": "m8kBYoItA6t3"
      },
      "source": [
        "Pada kolom `income_type` atau jenis pendapatan pada kelompok nasabah yang mengalami nilai yang hilang menunjukan terdiri dari `business`, `civil servant`, `employee, entrepreneur`, & `retiree`. namun ada jenis pendapatan yang tidak muncul, yaitu `paternity / maternity leave`, `student`, dan `unemployed`. Hal tersebut mungkin dapan menjadi insight yang menarik."
      ]
    },
    {
      "cell_type": "code",
      "execution_count": null,
      "metadata": {
        "colab": {
          "base_uri": "https://localhost:8080/"
        },
        "id": "6V--8wPbA6t3",
        "outputId": "dec87d3a-6753-488f-f87e-a3de3e4ec2a9"
      },
      "outputs": [
        {
          "output_type": "stream",
          "name": "stdout",
          "text": [
            "karakterisik debt pada kelompok nasabah dengan nilai yang hilang:\n"
          ]
        },
        {
          "output_type": "execute_result",
          "data": {
            "text/plain": [
              "array([0, 1])"
            ]
          },
          "metadata": {},
          "execution_count": 17
        }
      ],
      "source": [
        "#print(df.columns) #test\n",
        "\n",
        "print('karakterisik debt pada kelompok nasabah dengan nilai yang hilang:')\n",
        "data_na['debt'].sort_values().unique()"
      ]
    },
    {
      "cell_type": "markdown",
      "metadata": {
        "id": "gpw6SlsuA6t3"
      },
      "source": [
        "Pada kolom `debt` pada kelompok nasabah yang mengalami nilai yang hilang memiliki kedua kategori yang ada. Baik yang belum pernah dan yang sudah pernah mengalami gagal bayar."
      ]
    },
    {
      "cell_type": "code",
      "execution_count": null,
      "metadata": {
        "colab": {
          "base_uri": "https://localhost:8080/"
        },
        "id": "33INHdj_A6t3",
        "outputId": "e33e2019-3413-4361-a446-eb3d12b86396"
      },
      "outputs": [
        {
          "output_type": "stream",
          "name": "stdout",
          "text": [
            "karakterisik purpose pada kelompok nasabah dengan nilai yang hilang:\n"
          ]
        },
        {
          "output_type": "execute_result",
          "data": {
            "text/plain": [
              "array(['building a property', 'building a real estate',\n",
              "       'buy commercial real estate', 'buy real estate',\n",
              "       'buy residential real estate', 'buying a second-hand car',\n",
              "       'buying my own car', 'buying property for renting out', 'car',\n",
              "       'car purchase', 'cars', 'construction of own property',\n",
              "       'education', 'getting an education', 'getting higher education',\n",
              "       'going to university', 'having a wedding', 'housing',\n",
              "       'housing renovation', 'housing transactions', 'profile education',\n",
              "       'property', 'purchase of a car', 'purchase of my own house',\n",
              "       'purchase of the house', 'purchase of the house for my family',\n",
              "       'real estate transactions', 'second-hand car purchase',\n",
              "       'supplementary education', 'to become educated', 'to buy a car',\n",
              "       'to get a supplementary education', 'to have a wedding',\n",
              "       'to own a car', 'transactions with commercial real estate',\n",
              "       'transactions with my real estate', 'university education',\n",
              "       'wedding ceremony'], dtype=object)"
            ]
          },
          "metadata": {},
          "execution_count": 18
        }
      ],
      "source": [
        "#print(df.columns) #test\n",
        "\n",
        "print('karakterisik purpose pada kelompok nasabah dengan nilai yang hilang:')\n",
        "data_na['purpose'].sort_values().unique()"
      ]
    },
    {
      "cell_type": "markdown",
      "metadata": {
        "id": "ho_ocV_sA6t4"
      },
      "source": [
        "Pada kolom `purpose` pada kelompok nasabah yang mengalami nilai yang hilang dapat dilihat terdiri dari banyak tujuan. Namun sebenarnya hanya ada 4 topik utama. Yaitu untuk membiayai property, pendidikan, pernikahan, dan kendaraan."
      ]
    },
    {
      "cell_type": "code",
      "execution_count": null,
      "metadata": {
        "colab": {
          "base_uri": "https://localhost:8080/"
        },
        "id": "SoGBU8tNA6t4",
        "outputId": "b8d555b4-9304-4a98-eee8-13ded70ed3ad"
      },
      "outputs": [
        {
          "output_type": "stream",
          "name": "stdout",
          "text": [
            "distribusi children pada kelompok nasabah dengan nilai yang hilang:\n"
          ]
        },
        {
          "output_type": "execute_result",
          "data": {
            "text/plain": [
              " 0     0.661914\n",
              " 1     0.218491\n",
              " 2     0.093836\n",
              " 3     0.016559\n",
              " 20    0.004140\n",
              " 4     0.003220\n",
              "-1     0.001380\n",
              " 5     0.000460\n",
              "Name: children, dtype: float64"
            ]
          },
          "metadata": {},
          "execution_count": 19
        }
      ],
      "source": [
        "# Periksalah distribusinya\n",
        "print('distribusi children pada kelompok nasabah dengan nilai yang hilang:')\n",
        "data_na['children'].value_counts(normalize=True)"
      ]
    },
    {
      "cell_type": "markdown",
      "metadata": {
        "id": "5Fk4DiKvA6t5"
      },
      "source": [
        "Distribusi pada kolom `children` pada kelompok nasabah yang mengalami nilai yang hilang memperlihatkan lebih dari setengah nasabah tidak memiliki anak. Sedangkan sebanyak 21% nasabah memiliki 1 anak, sedangkan 9% nasabah memiliki 2 anak. Sisanya nasabah yang memiliki anak sebanyak 3, 4, dan 5 tersebar dengan persentase dibawah 2%. Selain itu ada 2 data yang janggal. Yaitu ada 0.4% nasabah yang memiliki anak sebanyak 20 orang yang mungkin disebabkan oleh kesalahan penginputan data yang seharusnya 2. Dan 0.1% nasabah yang memiliki anak -1. Kemungkinan hal tersebut kesalahan penginputan data juga yang seharusnya 1. "
      ]
    },
    {
      "cell_type": "code",
      "execution_count": null,
      "metadata": {
        "colab": {
          "base_uri": "https://localhost:8080/"
        },
        "id": "4chGVcIzA6t5",
        "outputId": "b89ebd81-f23c-4aaa-ad45-b8dad77a99fb"
      },
      "outputs": [
        {
          "output_type": "stream",
          "name": "stdout",
          "text": [
            "distribusi dob_years atau usia nasabah pada kelompok nasabah dengan nilai yang hilang:\n"
          ]
        },
        {
          "output_type": "execute_result",
          "data": {
            "text/plain": [
              "34    0.031739\n",
              "40    0.030359\n",
              "42    0.029899\n",
              "31    0.029899\n",
              "35    0.029439\n",
              "36    0.028979\n",
              "47    0.027139\n",
              "41    0.027139\n",
              "30    0.026679\n",
              "28    0.026219\n",
              "58    0.025759\n",
              "57    0.025759\n",
              "54    0.025299\n",
              "56    0.024839\n",
              "38    0.024839\n",
              "52    0.024379\n",
              "37    0.024379\n",
              "33    0.023459\n",
              "39    0.023459\n",
              "50    0.023459\n",
              "43    0.022999\n",
              "45    0.022999\n",
              "49    0.022999\n",
              "51    0.022999\n",
              "29    0.022999\n",
              "46    0.022079\n",
              "55    0.022079\n",
              "48    0.021159\n",
              "44    0.020239\n",
              "53    0.020239\n",
              "60    0.017939\n",
              "62    0.017479\n",
              "61    0.017479\n",
              "32    0.017019\n",
              "64    0.017019\n",
              "23    0.016559\n",
              "27    0.016559\n",
              "26    0.016099\n",
              "59    0.015639\n",
              "63    0.013339\n",
              "25    0.010580\n",
              "24    0.009660\n",
              "65    0.009200\n",
              "66    0.009200\n",
              "21    0.008280\n",
              "22    0.007820\n",
              "67    0.007360\n",
              "0     0.004600\n",
              "68    0.004140\n",
              "71    0.002300\n",
              "69    0.002300\n",
              "20    0.002300\n",
              "70    0.001380\n",
              "72    0.000920\n",
              "19    0.000460\n",
              "73    0.000460\n",
              "Name: dob_years, dtype: float64"
            ]
          },
          "metadata": {},
          "execution_count": 20
        }
      ],
      "source": [
        "#print(df.columns) #test\n",
        "print('distribusi dob_years atau usia nasabah pada kelompok nasabah dengan nilai yang hilang:')\n",
        "data_na['dob_years'].value_counts(normalize=True)"
      ]
    },
    {
      "cell_type": "markdown",
      "metadata": {
        "id": "YBzCOA0YA6t5"
      },
      "source": [
        "Distribusi pada kolom `children` pada kelompok nasabah yang mengalami nilai yang hilang memperlihatkan usia nasabah tersebar, masing-masing usia tidak ada yang lebih dari 4%. karena itu untuk selanjutnya perlu dibuat kelompokk usia untuk mempermudah analisa. Jika dilihat sekilas dari 10 usia teratas sepertinya sebagian besar nasabah tersebar pada usia seikitar 30 - 40an."
      ]
    },
    {
      "cell_type": "code",
      "execution_count": null,
      "metadata": {
        "colab": {
          "base_uri": "https://localhost:8080/"
        },
        "id": "jKlmeBYRA6t5",
        "outputId": "47efb01e-7486-4da3-a3f5-14cb0c7e0b57"
      },
      "outputs": [
        {
          "output_type": "stream",
          "name": "stdout",
          "text": [
            "distribusi education nasabah pada kelompok nasabah dengan nilai yang hilang:\n"
          ]
        },
        {
          "output_type": "execute_result",
          "data": {
            "text/plain": [
              "secondary education    0.647654\n",
              "bachelor's degree      0.228151\n",
              "SECONDARY EDUCATION    0.030819\n",
              "Secondary Education    0.029899\n",
              "some college           0.025299\n",
              "Bachelor's Degree      0.011500\n",
              "BACHELOR'S DEGREE      0.010580\n",
              "primary education      0.008740\n",
              "Some College           0.003220\n",
              "SOME COLLEGE           0.003220\n",
              "Primary Education      0.000460\n",
              "PRIMARY EDUCATION      0.000460\n",
              "Name: education, dtype: float64"
            ]
          },
          "metadata": {},
          "execution_count": 21
        }
      ],
      "source": [
        "#print(df.columns) #test\n",
        "print('distribusi education nasabah pada kelompok nasabah dengan nilai yang hilang:')\n",
        "data_na['education'].value_counts(normalize=True)"
      ]
    },
    {
      "cell_type": "markdown",
      "metadata": {
        "id": "PXvo6IHpA6t5"
      },
      "source": [
        "Distribusi pada kolom `education` pada kelompok nasabah yang mengalami nilai yang hilang sekitar 70% didominasi oleh nasabah dengan pendidikan `secondary education`. Setelah itu `bachelor's degree` cukup banyak dengan persebaran sekitar 25%. Kedua persentase tersebut didapat jika digabung dengan yang cara penulisannya berbeda. Diluar itu `some college` dan `primary education` tersebar dengan persentase dibawah 5%.  "
      ]
    },
    {
      "cell_type": "code",
      "execution_count": null,
      "metadata": {
        "colab": {
          "base_uri": "https://localhost:8080/"
        },
        "id": "wyvfgh5SA6t5",
        "outputId": "420be40c-014a-4f1b-b7cd-5eeb3c2ff8f5"
      },
      "outputs": [
        {
          "output_type": "stream",
          "name": "stdout",
          "text": [
            "distribusi family_status pada kelompok nasabah dengan nilai yang hilang:\n"
          ]
        },
        {
          "output_type": "execute_result",
          "data": {
            "text/plain": [
              "married              0.568997\n",
              "civil partnership    0.203312\n",
              "unmarried            0.132475\n",
              "divorced             0.051518\n",
              "widow / widower      0.043698\n",
              "Name: family_status, dtype: float64"
            ]
          },
          "metadata": {},
          "execution_count": 22
        }
      ],
      "source": [
        "#print(df.columns) #test\n",
        "print('distribusi family_status pada kelompok nasabah dengan nilai yang hilang:')\n",
        "data_na['family_status'].value_counts(normalize=True)"
      ]
    },
    {
      "cell_type": "markdown",
      "metadata": {
        "id": "Rx0nLffyA6t6"
      },
      "source": [
        "Distribusi pada kolom `family_status` pada kelompok nasabah yang mengalami nilai yang hilang didominasi oleh nasabah yang telah menikah lebih dari 50%. Dan yang kedua sebanyak 20% tinggal telah tinggal bersama. Artinya sekitar 75% pada kelompok ini telah berpasangan.  "
      ]
    },
    {
      "cell_type": "code",
      "execution_count": null,
      "metadata": {
        "colab": {
          "base_uri": "https://localhost:8080/"
        },
        "id": "O_wxwbFSA6t6",
        "outputId": "2c1fae03-fbad-4b6e-fb03-f49855c76bcd"
      },
      "outputs": [
        {
          "output_type": "stream",
          "name": "stdout",
          "text": [
            "distribusi gender pada kelompok nasabah dengan nilai yang hilang:\n"
          ]
        },
        {
          "output_type": "execute_result",
          "data": {
            "text/plain": [
              "F    0.682613\n",
              "M    0.317387\n",
              "Name: gender, dtype: float64"
            ]
          },
          "metadata": {},
          "execution_count": 23
        }
      ],
      "source": [
        "#print(df.columns) #test\n",
        "print('distribusi gender pada kelompok nasabah dengan nilai yang hilang:')\n",
        "data_na['gender'].value_counts(normalize=True)"
      ]
    },
    {
      "cell_type": "markdown",
      "metadata": {
        "id": "i3nr_4gEA6t6"
      },
      "source": [
        "Hampir 70% nasabah memiliki jenis kelamin perempuan pada distribusi pada kolom `gender` pada kelompok nasabah yang mengalami nilai yang hilang."
      ]
    },
    {
      "cell_type": "code",
      "execution_count": null,
      "metadata": {
        "colab": {
          "base_uri": "https://localhost:8080/"
        },
        "id": "VAhVLJ3zA6t6",
        "outputId": "f96c2510-b6b6-4137-dd92-07821ded2099"
      },
      "outputs": [
        {
          "output_type": "stream",
          "name": "stdout",
          "text": [
            "distribusi income_type pada kelompok nasabah dengan nilai yang hilang:\n"
          ]
        },
        {
          "output_type": "execute_result",
          "data": {
            "text/plain": [
              "employee         0.508280\n",
              "business         0.233671\n",
              "retiree          0.189972\n",
              "civil servant    0.067617\n",
              "entrepreneur     0.000460\n",
              "Name: income_type, dtype: float64"
            ]
          },
          "metadata": {},
          "execution_count": 24
        }
      ],
      "source": [
        "#print(df.columns) #test\n",
        "print('distribusi income_type pada kelompok nasabah dengan nilai yang hilang:')\n",
        "data_na['income_type'].value_counts(normalize=True)"
      ]
    },
    {
      "cell_type": "markdown",
      "metadata": {
        "id": "RHoCtrTxA6t6"
      },
      "source": [
        "Distribusi pada kolom `income type` pada kelompok nasabah yang mengalami nilai yang hilang setengahnya diisi oleh karyawan, setelah itu 23% berbisnais, dan hampir 19% pensiunan. Selain itu ada data `entrepreneur` menurut saya cukup mengganjal, karena sepertinya tidak berbeda dengan `business`. Hal ini akan dirapikan pada tahapan selanjutnya.  "
      ]
    },
    {
      "cell_type": "code",
      "execution_count": null,
      "metadata": {
        "colab": {
          "base_uri": "https://localhost:8080/"
        },
        "id": "WsUmBWlbA6t7",
        "outputId": "85e3cb28-5257-4b44-f072-ce7c6a2c85b9"
      },
      "outputs": [
        {
          "output_type": "stream",
          "name": "stdout",
          "text": [
            "distribusi debt pada kelompok nasabah dengan nilai yang hilang:\n"
          ]
        },
        {
          "output_type": "execute_result",
          "data": {
            "text/plain": [
              "0    0.921803\n",
              "1    0.078197\n",
              "Name: debt, dtype: float64"
            ]
          },
          "metadata": {},
          "execution_count": 25
        }
      ],
      "source": [
        "#print(df.columns) #test\n",
        "print('distribusi debt pada kelompok nasabah dengan nilai yang hilang:')\n",
        "data_na['debt'].value_counts(normalize=True)"
      ]
    },
    {
      "cell_type": "markdown",
      "metadata": {
        "id": "DP6053z5A6t7"
      },
      "source": [
        "Sebanyak 90% lebih nasabah belum pernah mengalami gagal bayar pada distribusi pada kolom `debt` pada kelompok nasabah yang mengalami nilai yang hilang. Sedangkan nasabah yang pernah mengalami gagal bayar sebanyak 7.8%."
      ]
    },
    {
      "cell_type": "code",
      "execution_count": null,
      "metadata": {
        "scrolled": true,
        "colab": {
          "base_uri": "https://localhost:8080/"
        },
        "id": "ywsEe4SjA6t7",
        "outputId": "8e8a632a-d5ef-43c7-baf2-f65bb9799b58"
      },
      "outputs": [
        {
          "output_type": "stream",
          "name": "stdout",
          "text": [
            "distribusi purpose pada kelompok nasabah dengan nilai yang hilang:\n"
          ]
        },
        {
          "output_type": "execute_result",
          "data": {
            "text/plain": [
              "having a wedding                            0.042318\n",
              "to have a wedding                           0.037259\n",
              "wedding ceremony                            0.034959\n",
              "construction of own property                0.034499\n",
              "housing transactions                        0.034039\n",
              "buy real estate                             0.033119\n",
              "purchase of the house for my family         0.032659\n",
              "transactions with my real estate            0.032659\n",
              "transactions with commercial real estate    0.032199\n",
              "housing renovation                          0.032199\n",
              "buy commercial real estate                  0.030819\n",
              "buying property for renting out             0.029899\n",
              "property                                    0.028519\n",
              "real estate transactions                    0.028059\n",
              "buy residential real estate                 0.028059\n",
              "housing                                     0.027599\n",
              "building a property                         0.027139\n",
              "cars                                        0.026219\n",
              "going to university                         0.025759\n",
              "to become educated                          0.025299\n",
              "second-hand car purchase                    0.024839\n",
              "buying my own car                           0.024379\n",
              "to own a car                                0.023919\n",
              "purchase of the house                       0.023919\n",
              "to get a supplementary education            0.023459\n",
              "getting an education                        0.022999\n",
              "supplementary education                     0.022079\n",
              "profile education                           0.021619\n",
              "purchase of a car                           0.021159\n",
              "building a real estate                      0.021159\n",
              "purchase of my own house                    0.021159\n",
              "car purchase                                0.019779\n",
              "education                                   0.019319\n",
              "buying a second-hand car                    0.019319\n",
              "car                                         0.018859\n",
              "university education                        0.018399\n",
              "getting higher education                    0.016559\n",
              "to buy a car                                0.013799\n",
              "Name: purpose, dtype: float64"
            ]
          },
          "metadata": {},
          "execution_count": 26
        }
      ],
      "source": [
        "#print(df.columns) #test\n",
        "print('distribusi purpose pada kelompok nasabah dengan nilai yang hilang:')\n",
        "data_na['purpose'].value_counts(normalize=True)"
      ]
    },
    {
      "cell_type": "markdown",
      "metadata": {
        "id": "Y99pZO11A6t7"
      },
      "source": [
        "Distribusi pada kolom `purpose` pada kelompok nasabah yang mengalami nilai yang hilang banyak terlihat untuk pembiayaan pernikanan dan property. Dari daftar ini kita juga bisa melihat berbagai alasan yang sebenarnya hanya terbagi menjadi 4 alasan utama. 4 alasan utama tersebut adalah untuk membiayai:\n",
        "- Property\n",
        "- Pendidikan\n",
        "- Pernikahan\n",
        "- Kendaraan"
      ]
    },
    {
      "cell_type": "markdown",
      "metadata": {
        "id": "gyVxu5xyA6uB"
      },
      "source": [
        "Ada 4 karakter yang lebih sering muncul pada kolom pada distribusi frekuensi dengan filter data yg hilang. 3 karakter tersebut adalah:\n",
        "- Kolom 'children' sangat dominan dengan responden belum memiliki anak\n",
        "- Kolom 'education' sangat dominan dengan respoonden secondary education\n",
        "- kolom 'debt' sangat dominan dengan 0\n",
        "- kolom 'purpose' sangat dominan dengan tujuan untuk menikah."
      ]
    },
    {
      "cell_type": "markdown",
      "metadata": {
        "id": "AC-Qtu8DA6uB"
      },
      "source": [
        "**Kemungkinan penyebab hilangnya nilai dalam data**"
      ]
    },
    {
      "cell_type": "markdown",
      "metadata": {
        "id": "0qCnt5TkA6uC"
      },
      "source": [
        "Jika dilihat dari kolom `education` yang dominan dengan responden secondary education. Berdasarkan data tingkat pendidikan tersebut saya menduga kemungkinan responden yang datanya hilang tidak memiliki perkerjaan tetap sehingga sulit memberikan data lama bekerja dan total penghasilan.\n",
        "\n",
        "atau\n",
        "\n",
        "kolom `debt` yang sangat dominan dengan nilai 0, mungkin artinya responden belum pernah melakukan pinjaman sebelumnya sehingga data `days_employed` dan `total_income` belum ada. "
      ]
    },
    {
      "cell_type": "code",
      "execution_count": null,
      "metadata": {
        "colab": {
          "base_uri": "https://localhost:8080/"
        },
        "id": "Z4gUh-J_A6uC",
        "outputId": "9a2a7cb5-582b-4359-adf5-add21960ac0e"
      },
      "outputs": [
        {
          "output_type": "execute_result",
          "data": {
            "text/plain": [
              " 0     0.657329\n",
              " 1     0.223833\n",
              " 2     0.095470\n",
              " 3     0.015331\n",
              " 20    0.003531\n",
              "-1     0.002184\n",
              " 4     0.001905\n",
              " 5     0.000418\n",
              "Name: children, dtype: float64"
            ]
          },
          "metadata": {},
          "execution_count": 27
        }
      ],
      "source": [
        "# Memeriksa distribusi di seluruh *dataset*\n",
        "#print(df.columns) #test\n",
        "df['children'].value_counts(normalize=True)"
      ]
    },
    {
      "cell_type": "markdown",
      "metadata": {
        "id": "yf97QW7RA6uC"
      },
      "source": [
        "Distribusi kolom `children` pada seluruh dataset cukup serupa dengan distribusi kelompok dengan data yang hilang. Pada distribusi kelompok dengan data yang hilang sekitar 65% tidak memiliki anak, sekitar 20% memiliki 1 anak dan sekitar 9% persen memiliki 2 anak.  "
      ]
    },
    {
      "cell_type": "code",
      "execution_count": null,
      "metadata": {
        "scrolled": true,
        "colab": {
          "base_uri": "https://localhost:8080/"
        },
        "id": "aMIMcuLSA6uD",
        "outputId": "e7c921bd-66f3-463a-c539-1c106632df8a"
      },
      "outputs": [
        {
          "output_type": "execute_result",
          "data": {
            "text/plain": [
              "35    0.028664\n",
              "40    0.028293\n",
              "41    0.028200\n",
              "34    0.028014\n",
              "38    0.027782\n",
              "42    0.027735\n",
              "33    0.026992\n",
              "39    0.026620\n",
              "31    0.026016\n",
              "36    0.025784\n",
              "44    0.025412\n",
              "29    0.025319\n",
              "30    0.025087\n",
              "48    0.024994\n",
              "37    0.024948\n",
              "50    0.023879\n",
              "43    0.023833\n",
              "32    0.023693\n",
              "49    0.023600\n",
              "28    0.023368\n",
              "45    0.023089\n",
              "27    0.022904\n",
              "56    0.022625\n",
              "52    0.022485\n",
              "47    0.022300\n",
              "54    0.022253\n",
              "46    0.022067\n",
              "58    0.021417\n",
              "57    0.021370\n",
              "53    0.021324\n",
              "51    0.020813\n",
              "59    0.020627\n",
              "55    0.020581\n",
              "26    0.018955\n",
              "60    0.017515\n",
              "25    0.016585\n",
              "61    0.016492\n",
              "62    0.016353\n",
              "63    0.012497\n",
              "64    0.012311\n",
              "24    0.012265\n",
              "23    0.011800\n",
              "65    0.009013\n",
              "22    0.008502\n",
              "66    0.008502\n",
              "67    0.007758\n",
              "21    0.005157\n",
              "0     0.004692\n",
              "68    0.004599\n",
              "69    0.003949\n",
              "70    0.003020\n",
              "71    0.002695\n",
              "20    0.002369\n",
              "72    0.001533\n",
              "19    0.000650\n",
              "73    0.000372\n",
              "74    0.000279\n",
              "75    0.000046\n",
              "Name: dob_years, dtype: float64"
            ]
          },
          "metadata": {},
          "execution_count": 28
        }
      ],
      "source": [
        "#print(df.columns) #test\n",
        "df['dob_years'].value_counts(normalize=True)"
      ]
    },
    {
      "cell_type": "markdown",
      "metadata": {
        "id": "xxMpeXvMA6uD"
      },
      "source": [
        "Distribusi pada kolom `dob_years` pada seluruh dataset memperlihatkan usia nasabah tersebar, masing-masing usia tidak ada yang lebih dari 3%. Dilihat sekilas dari 10 usia teratas sepertinya sebagian besar nasabah tersebar pada usia seikitar 30 - 40an. Hal tersebut serupa dengan kelompok data yang mengalami data yang hilang."
      ]
    },
    {
      "cell_type": "code",
      "execution_count": null,
      "metadata": {
        "colab": {
          "base_uri": "https://localhost:8080/"
        },
        "id": "tdliQKrgA6uD",
        "outputId": "86474613-aa95-48f5-b458-1002e5375fe4"
      },
      "outputs": [
        {
          "output_type": "execute_result",
          "data": {
            "text/plain": [
              "secondary education    0.638792\n",
              "bachelor's degree      0.219187\n",
              "SECONDARY EDUCATION    0.035865\n",
              "Secondary Education    0.033031\n",
              "some college           0.031034\n",
              "BACHELOR'S DEGREE      0.012729\n",
              "Bachelor's Degree      0.012451\n",
              "primary education      0.011614\n",
              "Some College           0.002184\n",
              "SOME COLLEGE           0.001347\n",
              "PRIMARY EDUCATION      0.000790\n",
              "Primary Education      0.000697\n",
              "graduate degree        0.000186\n",
              "Graduate Degree        0.000046\n",
              "GRADUATE DEGREE        0.000046\n",
              "Name: education, dtype: float64"
            ]
          },
          "metadata": {},
          "execution_count": 29
        }
      ],
      "source": [
        "#print(df.columns) #test\n",
        "df['education'].value_counts(normalize=True)"
      ]
    },
    {
      "cell_type": "markdown",
      "metadata": {
        "id": "ZVvAMTqHA6uD"
      },
      "source": [
        "Distribusi pada kolom `education` pada seluruh dataset paling banyak `secondary education` hampir 70%. Yang kedua `bachelor's degree` yang hampir 25%. `some college` berada dibawah 4% dan `primary education` dibawah 2%. Hasil tersebut ada kemiripan dengan kelompok data yang memiliki data yang hilang, kecuali pada data set ada nasabah dengan tingkat pendidikan `graduate degree`, meskipun jumlahnya tidak banyak.\n",
        "\n",
        "Persentase tersebut didapat dengan jika digabung dengan yang berbeda cara penulisan, yang mana hal tersebut akan kita rapikan pada tahap selanjutnya. "
      ]
    },
    {
      "cell_type": "code",
      "execution_count": null,
      "metadata": {
        "colab": {
          "base_uri": "https://localhost:8080/"
        },
        "id": "OWucli15A6uD",
        "outputId": "851adb2d-83c3-4197-98a6-00fbb9600318"
      },
      "outputs": [
        {
          "output_type": "execute_result",
          "data": {
            "text/plain": [
              "married              0.575145\n",
              "civil partnership    0.194053\n",
              "unmarried            0.130685\n",
              "divorced             0.055517\n",
              "widow / widower      0.044599\n",
              "Name: family_status, dtype: float64"
            ]
          },
          "metadata": {},
          "execution_count": 30
        }
      ],
      "source": [
        "#print(df.columns) #test\n",
        "df['family_status'].value_counts(normalize=True)"
      ]
    },
    {
      "cell_type": "markdown",
      "metadata": {
        "id": "vifUGk3_A6uE"
      },
      "source": [
        "Distribusi pada kolom `family_status` pada seluruh dataset dapat dilihat lebih dari setengah nasabah telah menikah, hampir 20% tinggal bersama, belum menikah 13%. Data ini menunjukan distribusi `family_status`pada seluruh dataset mirip dengan dengan distribusi pada kelompok data yang mengalami data yang hilang. Salah satunya pada dua kelompok data tersebut 75% nasabah sama\" telah berpasangan."
      ]
    },
    {
      "cell_type": "code",
      "execution_count": null,
      "metadata": {
        "colab": {
          "base_uri": "https://localhost:8080/"
        },
        "id": "N1EHWm_kA6uE",
        "outputId": "1d4d1f6d-814c-48bf-c509-43939e9d08a1"
      },
      "outputs": [
        {
          "output_type": "execute_result",
          "data": {
            "text/plain": [
              "F      0.661370\n",
              "M      0.338583\n",
              "XNA    0.000046\n",
              "Name: gender, dtype: float64"
            ]
          },
          "metadata": {},
          "execution_count": 31
        }
      ],
      "source": [
        "#print(df.columns) #test\n",
        "df['gender'].value_counts(normalize=True)"
      ]
    },
    {
      "cell_type": "markdown",
      "metadata": {
        "id": "qSw4sdeWA6uE"
      },
      "source": [
        "Distribusi pada kolom `gender` pada seluruh dataset serupa dengan kelompok data yang memiliki data yang hilang. Hal itu ditunjukan dengan 65% nasabah didominasi oleh perempuan dan sekitar 30% laki-laki. Namun ada perbedaan pada ada nasabah dengan gender `XNA`. Hal ini mungkin disebabkan kesalahan input data. Hal ini akan ditindaklanjuti pada tahap selanjutnya."
      ]
    },
    {
      "cell_type": "code",
      "execution_count": null,
      "metadata": {
        "colab": {
          "base_uri": "https://localhost:8080/"
        },
        "id": "bYoTcBUoA6uE",
        "outputId": "d8e12e67-8391-4735-d8a9-9fc1125e9fd2"
      },
      "outputs": [
        {
          "output_type": "execute_result",
          "data": {
            "text/plain": [
              "employee                       0.516562\n",
              "business                       0.236237\n",
              "retiree                        0.179141\n",
              "civil servant                  0.067782\n",
              "unemployed                     0.000093\n",
              "entrepreneur                   0.000093\n",
              "student                        0.000046\n",
              "paternity / maternity leave    0.000046\n",
              "Name: income_type, dtype: float64"
            ]
          },
          "metadata": {},
          "execution_count": 32
        }
      ],
      "source": [
        "#print(df.columns) #test\n",
        "df['income_type'].value_counts(normalize=True)"
      ]
    },
    {
      "cell_type": "markdown",
      "metadata": {
        "id": "oPISG2jiA6uE"
      },
      "source": [
        "Distribusi kolom `income_type` pada seluruh dataset cukup serupa pada kelompok data pada data yang mengalami data yang hilang. Hal ini ditunjukan dengan sekitar 50% dari nasabah sebagai `employee`, 23% dari nasabah sebagai `business`, hampir 18% nasabah sebagai `retiree`, dan 6.7% nasabah sebagai `civil servant`. Yang membedakan adalah ada 3 `income_type` yang tidak ada pada kelompok data dengan data yang hilang. ketiga `income_type` itu adalah:\n",
        "- unemployed\n",
        "- student\n",
        "- paternity / maternity leave"
      ]
    },
    {
      "cell_type": "code",
      "execution_count": null,
      "metadata": {
        "colab": {
          "base_uri": "https://localhost:8080/"
        },
        "id": "HBDsEdwhA6uF",
        "outputId": "e97145d0-e2f2-4041-ac6a-bb6c57f8e318"
      },
      "outputs": [
        {
          "output_type": "execute_result",
          "data": {
            "text/plain": [
              "0    0.919117\n",
              "1    0.080883\n",
              "Name: debt, dtype: float64"
            ]
          },
          "metadata": {},
          "execution_count": 33
        }
      ],
      "source": [
        "#print(df.columns) #test\n",
        "df['debt'].value_counts(normalize=True)"
      ]
    },
    {
      "cell_type": "markdown",
      "metadata": {
        "id": "63XyZQj4A6uF"
      },
      "source": [
        "Distribusi kolom `debt` pada seluruh dataset cukup serupa dengan kelompok data yang memiliki data yang hilang. Hal itu ditunjukan dengan 90% lebih nasabah belum pernah mengalami gagal bayar dan 8% nasabah pernah mangalami gagal bayar."
      ]
    },
    {
      "cell_type": "code",
      "execution_count": null,
      "metadata": {
        "colab": {
          "base_uri": "https://localhost:8080/"
        },
        "id": "c3NhZLuzA6uF",
        "outputId": "4be0d370-a023-48af-ef4c-822c1e21d282"
      },
      "outputs": [
        {
          "output_type": "execute_result",
          "data": {
            "text/plain": [
              "wedding ceremony                            0.037027\n",
              "having a wedding                            0.036098\n",
              "to have a wedding                           0.035958\n",
              "real estate transactions                    0.031405\n",
              "buy commercial real estate                  0.030848\n",
              "buying property for renting out             0.030337\n",
              "housing transactions                        0.030337\n",
              "transactions with commercial real estate    0.030244\n",
              "purchase of the house                       0.030058\n",
              "housing                                     0.030058\n",
              "purchase of the house for my family         0.029779\n",
              "construction of own property                0.029501\n",
              "property                                    0.029454\n",
              "transactions with my real estate            0.029268\n",
              "building a real estate                      0.029082\n",
              "buy real estate                             0.028990\n",
              "building a property                         0.028804\n",
              "purchase of my own house                    0.028804\n",
              "housing renovation                          0.028432\n",
              "buy residential real estate                 0.028200\n",
              "buying my own car                           0.023461\n",
              "going to university                         0.023043\n",
              "car                                         0.022997\n",
              "second-hand car purchase                    0.022718\n",
              "to own a car                                0.022300\n",
              "buying a second-hand car                    0.022253\n",
              "cars                                        0.022207\n",
              "to buy a car                                0.021928\n",
              "supplementary education                     0.021463\n",
              "car purchase                                0.021463\n",
              "purchase of a car                           0.021138\n",
              "university education                        0.021045\n",
              "education                                   0.020767\n",
              "to get a supplementary education            0.020767\n",
              "getting an education                        0.020581\n",
              "profile education                           0.020256\n",
              "getting higher education                    0.019791\n",
              "to become educated                          0.019141\n",
              "Name: purpose, dtype: float64"
            ]
          },
          "metadata": {},
          "execution_count": 34
        }
      ],
      "source": [
        "#print(df.columns) #test\n",
        "df['purpose'].value_counts(normalize=True)"
      ]
    },
    {
      "cell_type": "markdown",
      "metadata": {
        "id": "vQtiwAIhA6uF"
      },
      "source": [
        "Agak sulit untuk membandingkan secara akurat karena tujuannya terpecah dalam berbagai kalimat yang sebenarnya berujung ke 4 alasan utama tersebut adalah untuk membiayai:\n",
        "- Property\n",
        "- Pendidikan\n",
        "- Pernikahan\n",
        "- Kendaraan\n",
        "\n",
        "Namun jika dilihat 10 kalimat tujuan teratas, distribusi pada seluruh dataset cukup serupa dibandingkan dengan kelompok data yang memiliki data yang hilang. Karena 10 kalimat tujuan teratas adalah untuk membiayai pernikanan dan property."
      ]
    },
    {
      "cell_type": "code",
      "execution_count": null,
      "metadata": {
        "colab": {
          "base_uri": "https://localhost:8080/",
          "height": 423
        },
        "id": "LkJf6mlAA6uH",
        "outputId": "98969ef0-6e93-43fd-a845-81db37a12c8e"
      },
      "outputs": [
        {
          "output_type": "execute_result",
          "data": {
            "text/plain": [
              "       children  days_employed  dob_years            education  education_id  \\\n",
              "427           0  -11033.518148         49  secondary education             1   \n",
              "473           0   -1015.061031         45  secondary education             1   \n",
              "741           0  368146.269031         62  secondary education             1   \n",
              "767           0  367177.825355         59  secondary education             1   \n",
              "858           0   -2719.828190         41  secondary education             1   \n",
              "...         ...            ...        ...                  ...           ...   \n",
              "21502         1            NaN         42  secondary education             1   \n",
              "21508         0  386497.714078         62  secondary education             1   \n",
              "21509         0  362161.054124         59    bachelor's degree             0   \n",
              "21510         2            NaN         28  secondary education             1   \n",
              "21521         0  343937.404131         67  secondary education             1   \n",
              "\n",
              "         family_status  family_status_id gender    income_type  debt  \\\n",
              "427            married                 0      F       employee     0   \n",
              "473            married                 0      F       employee     0   \n",
              "741            married                 0      F        retiree     0   \n",
              "767    widow / widower                 2      F        retiree     0   \n",
              "858            married                 0      F  civil servant     0   \n",
              "...                ...               ...    ...            ...   ...   \n",
              "21502          married                 0      F       employee     0   \n",
              "21508          married                 0      M        retiree     0   \n",
              "21509          married                 0      M        retiree     0   \n",
              "21510          married                 0      F       employee     0   \n",
              "21521          married                 0      F        retiree     0   \n",
              "\n",
              "       total_income                   purpose  \n",
              "427       12638.439       building a property  \n",
              "473        7365.890  buying a second-hand car  \n",
              "741       25344.352                      cars  \n",
              "767       32824.954                   housing  \n",
              "858       23058.400  purchase of my own house  \n",
              "...             ...                       ...  \n",
              "21502           NaN    building a real estate  \n",
              "21508     11622.175                  property  \n",
              "21509     11684.650  real estate transactions  \n",
              "21510           NaN              car purchase  \n",
              "21521     24959.969         purchase of a car  \n",
              "\n",
              "[3068 rows x 12 columns]"
            ],
            "text/html": [
              "\n",
              "  <div id=\"df-a52b8461-c1c5-4ac3-9979-411c92fbed60\">\n",
              "    <div class=\"colab-df-container\">\n",
              "      <div>\n",
              "<style scoped>\n",
              "    .dataframe tbody tr th:only-of-type {\n",
              "        vertical-align: middle;\n",
              "    }\n",
              "\n",
              "    .dataframe tbody tr th {\n",
              "        vertical-align: top;\n",
              "    }\n",
              "\n",
              "    .dataframe thead th {\n",
              "        text-align: right;\n",
              "    }\n",
              "</style>\n",
              "<table border=\"1\" class=\"dataframe\">\n",
              "  <thead>\n",
              "    <tr style=\"text-align: right;\">\n",
              "      <th></th>\n",
              "      <th>children</th>\n",
              "      <th>days_employed</th>\n",
              "      <th>dob_years</th>\n",
              "      <th>education</th>\n",
              "      <th>education_id</th>\n",
              "      <th>family_status</th>\n",
              "      <th>family_status_id</th>\n",
              "      <th>gender</th>\n",
              "      <th>income_type</th>\n",
              "      <th>debt</th>\n",
              "      <th>total_income</th>\n",
              "      <th>purpose</th>\n",
              "    </tr>\n",
              "  </thead>\n",
              "  <tbody>\n",
              "    <tr>\n",
              "      <th>427</th>\n",
              "      <td>0</td>\n",
              "      <td>-11033.518148</td>\n",
              "      <td>49</td>\n",
              "      <td>secondary education</td>\n",
              "      <td>1</td>\n",
              "      <td>married</td>\n",
              "      <td>0</td>\n",
              "      <td>F</td>\n",
              "      <td>employee</td>\n",
              "      <td>0</td>\n",
              "      <td>12638.439</td>\n",
              "      <td>building a property</td>\n",
              "    </tr>\n",
              "    <tr>\n",
              "      <th>473</th>\n",
              "      <td>0</td>\n",
              "      <td>-1015.061031</td>\n",
              "      <td>45</td>\n",
              "      <td>secondary education</td>\n",
              "      <td>1</td>\n",
              "      <td>married</td>\n",
              "      <td>0</td>\n",
              "      <td>F</td>\n",
              "      <td>employee</td>\n",
              "      <td>0</td>\n",
              "      <td>7365.890</td>\n",
              "      <td>buying a second-hand car</td>\n",
              "    </tr>\n",
              "    <tr>\n",
              "      <th>741</th>\n",
              "      <td>0</td>\n",
              "      <td>368146.269031</td>\n",
              "      <td>62</td>\n",
              "      <td>secondary education</td>\n",
              "      <td>1</td>\n",
              "      <td>married</td>\n",
              "      <td>0</td>\n",
              "      <td>F</td>\n",
              "      <td>retiree</td>\n",
              "      <td>0</td>\n",
              "      <td>25344.352</td>\n",
              "      <td>cars</td>\n",
              "    </tr>\n",
              "    <tr>\n",
              "      <th>767</th>\n",
              "      <td>0</td>\n",
              "      <td>367177.825355</td>\n",
              "      <td>59</td>\n",
              "      <td>secondary education</td>\n",
              "      <td>1</td>\n",
              "      <td>widow / widower</td>\n",
              "      <td>2</td>\n",
              "      <td>F</td>\n",
              "      <td>retiree</td>\n",
              "      <td>0</td>\n",
              "      <td>32824.954</td>\n",
              "      <td>housing</td>\n",
              "    </tr>\n",
              "    <tr>\n",
              "      <th>858</th>\n",
              "      <td>0</td>\n",
              "      <td>-2719.828190</td>\n",
              "      <td>41</td>\n",
              "      <td>secondary education</td>\n",
              "      <td>1</td>\n",
              "      <td>married</td>\n",
              "      <td>0</td>\n",
              "      <td>F</td>\n",
              "      <td>civil servant</td>\n",
              "      <td>0</td>\n",
              "      <td>23058.400</td>\n",
              "      <td>purchase of my own house</td>\n",
              "    </tr>\n",
              "    <tr>\n",
              "      <th>...</th>\n",
              "      <td>...</td>\n",
              "      <td>...</td>\n",
              "      <td>...</td>\n",
              "      <td>...</td>\n",
              "      <td>...</td>\n",
              "      <td>...</td>\n",
              "      <td>...</td>\n",
              "      <td>...</td>\n",
              "      <td>...</td>\n",
              "      <td>...</td>\n",
              "      <td>...</td>\n",
              "      <td>...</td>\n",
              "    </tr>\n",
              "    <tr>\n",
              "      <th>21502</th>\n",
              "      <td>1</td>\n",
              "      <td>NaN</td>\n",
              "      <td>42</td>\n",
              "      <td>secondary education</td>\n",
              "      <td>1</td>\n",
              "      <td>married</td>\n",
              "      <td>0</td>\n",
              "      <td>F</td>\n",
              "      <td>employee</td>\n",
              "      <td>0</td>\n",
              "      <td>NaN</td>\n",
              "      <td>building a real estate</td>\n",
              "    </tr>\n",
              "    <tr>\n",
              "      <th>21508</th>\n",
              "      <td>0</td>\n",
              "      <td>386497.714078</td>\n",
              "      <td>62</td>\n",
              "      <td>secondary education</td>\n",
              "      <td>1</td>\n",
              "      <td>married</td>\n",
              "      <td>0</td>\n",
              "      <td>M</td>\n",
              "      <td>retiree</td>\n",
              "      <td>0</td>\n",
              "      <td>11622.175</td>\n",
              "      <td>property</td>\n",
              "    </tr>\n",
              "    <tr>\n",
              "      <th>21509</th>\n",
              "      <td>0</td>\n",
              "      <td>362161.054124</td>\n",
              "      <td>59</td>\n",
              "      <td>bachelor's degree</td>\n",
              "      <td>0</td>\n",
              "      <td>married</td>\n",
              "      <td>0</td>\n",
              "      <td>M</td>\n",
              "      <td>retiree</td>\n",
              "      <td>0</td>\n",
              "      <td>11684.650</td>\n",
              "      <td>real estate transactions</td>\n",
              "    </tr>\n",
              "    <tr>\n",
              "      <th>21510</th>\n",
              "      <td>2</td>\n",
              "      <td>NaN</td>\n",
              "      <td>28</td>\n",
              "      <td>secondary education</td>\n",
              "      <td>1</td>\n",
              "      <td>married</td>\n",
              "      <td>0</td>\n",
              "      <td>F</td>\n",
              "      <td>employee</td>\n",
              "      <td>0</td>\n",
              "      <td>NaN</td>\n",
              "      <td>car purchase</td>\n",
              "    </tr>\n",
              "    <tr>\n",
              "      <th>21521</th>\n",
              "      <td>0</td>\n",
              "      <td>343937.404131</td>\n",
              "      <td>67</td>\n",
              "      <td>secondary education</td>\n",
              "      <td>1</td>\n",
              "      <td>married</td>\n",
              "      <td>0</td>\n",
              "      <td>F</td>\n",
              "      <td>retiree</td>\n",
              "      <td>0</td>\n",
              "      <td>24959.969</td>\n",
              "      <td>purchase of a car</td>\n",
              "    </tr>\n",
              "  </tbody>\n",
              "</table>\n",
              "<p>3068 rows × 12 columns</p>\n",
              "</div>\n",
              "      <button class=\"colab-df-convert\" onclick=\"convertToInteractive('df-a52b8461-c1c5-4ac3-9979-411c92fbed60')\"\n",
              "              title=\"Convert this dataframe to an interactive table.\"\n",
              "              style=\"display:none;\">\n",
              "        \n",
              "  <svg xmlns=\"http://www.w3.org/2000/svg\" height=\"24px\"viewBox=\"0 0 24 24\"\n",
              "       width=\"24px\">\n",
              "    <path d=\"M0 0h24v24H0V0z\" fill=\"none\"/>\n",
              "    <path d=\"M18.56 5.44l.94 2.06.94-2.06 2.06-.94-2.06-.94-.94-2.06-.94 2.06-2.06.94zm-11 1L8.5 8.5l.94-2.06 2.06-.94-2.06-.94L8.5 2.5l-.94 2.06-2.06.94zm10 10l.94 2.06.94-2.06 2.06-.94-2.06-.94-.94-2.06-.94 2.06-2.06.94z\"/><path d=\"M17.41 7.96l-1.37-1.37c-.4-.4-.92-.59-1.43-.59-.52 0-1.04.2-1.43.59L10.3 9.45l-7.72 7.72c-.78.78-.78 2.05 0 2.83L4 21.41c.39.39.9.59 1.41.59.51 0 1.02-.2 1.41-.59l7.78-7.78 2.81-2.81c.8-.78.8-2.07 0-2.86zM5.41 20L4 18.59l7.72-7.72 1.47 1.35L5.41 20z\"/>\n",
              "  </svg>\n",
              "      </button>\n",
              "      \n",
              "  <style>\n",
              "    .colab-df-container {\n",
              "      display:flex;\n",
              "      flex-wrap:wrap;\n",
              "      gap: 12px;\n",
              "    }\n",
              "\n",
              "    .colab-df-convert {\n",
              "      background-color: #E8F0FE;\n",
              "      border: none;\n",
              "      border-radius: 50%;\n",
              "      cursor: pointer;\n",
              "      display: none;\n",
              "      fill: #1967D2;\n",
              "      height: 32px;\n",
              "      padding: 0 0 0 0;\n",
              "      width: 32px;\n",
              "    }\n",
              "\n",
              "    .colab-df-convert:hover {\n",
              "      background-color: #E2EBFA;\n",
              "      box-shadow: 0px 1px 2px rgba(60, 64, 67, 0.3), 0px 1px 3px 1px rgba(60, 64, 67, 0.15);\n",
              "      fill: #174EA6;\n",
              "    }\n",
              "\n",
              "    [theme=dark] .colab-df-convert {\n",
              "      background-color: #3B4455;\n",
              "      fill: #D2E3FC;\n",
              "    }\n",
              "\n",
              "    [theme=dark] .colab-df-convert:hover {\n",
              "      background-color: #434B5C;\n",
              "      box-shadow: 0px 1px 3px 1px rgba(0, 0, 0, 0.15);\n",
              "      filter: drop-shadow(0px 1px 2px rgba(0, 0, 0, 0.3));\n",
              "      fill: #FFFFFF;\n",
              "    }\n",
              "  </style>\n",
              "\n",
              "      <script>\n",
              "        const buttonEl =\n",
              "          document.querySelector('#df-a52b8461-c1c5-4ac3-9979-411c92fbed60 button.colab-df-convert');\n",
              "        buttonEl.style.display =\n",
              "          google.colab.kernel.accessAllowed ? 'block' : 'none';\n",
              "\n",
              "        async function convertToInteractive(key) {\n",
              "          const element = document.querySelector('#df-a52b8461-c1c5-4ac3-9979-411c92fbed60');\n",
              "          const dataTable =\n",
              "            await google.colab.kernel.invokeFunction('convertToInteractive',\n",
              "                                                     [key], {});\n",
              "          if (!dataTable) return;\n",
              "\n",
              "          const docLinkHtml = 'Like what you see? Visit the ' +\n",
              "            '<a target=\"_blank\" href=https://colab.research.google.com/notebooks/data_table.ipynb>data table notebook</a>'\n",
              "            + ' to learn more about interactive tables.';\n",
              "          element.innerHTML = '';\n",
              "          dataTable['output_type'] = 'display_data';\n",
              "          await google.colab.output.renderOutput(dataTable, element);\n",
              "          const docLink = document.createElement('div');\n",
              "          docLink.innerHTML = docLinkHtml;\n",
              "          element.appendChild(docLink);\n",
              "        }\n",
              "      </script>\n",
              "    </div>\n",
              "  </div>\n",
              "  "
            ]
          },
          "metadata": {},
          "execution_count": 35
        }
      ],
      "source": [
        "# Periksa penyebab dan pola lain yang dapat mengakibatkan nilai yang hilang\n",
        "df.loc[df.duplicated(subset=other_columns) == True]"
      ]
    },
    {
      "cell_type": "markdown",
      "metadata": {
        "id": "zoECjdmMA6uK"
      },
      "source": [
        "tidak ada pola tertentu yang ditemukan. Dugaan saya karena kesalahan saat entry data atau karena responden tidak bersedia memberikan kedua informasi tersebut. Karena itu tahap selanjutnya yang saya lakukan adalah mengisi nilai yg hilang dengan nilai median atau mean, lalu membersihkan duplikat."
      ]
    },
    {
      "cell_type": "code",
      "execution_count": null,
      "metadata": {
        "colab": {
          "base_uri": "https://localhost:8080/",
          "height": 363
        },
        "id": "OlDaRqjmA6uL",
        "outputId": "f90c3a37-753f-4bdc-ac31-7cb5bec9bafe"
      },
      "outputs": [
        {
          "output_type": "execute_result",
          "data": {
            "text/plain": [
              "na_check                       False    True    All\n",
              "income_type                                        \n",
              "business                      4577.0   508.0   5085\n",
              "civil servant                 1312.0   147.0   1459\n",
              "employee                     10014.0  1105.0  11119\n",
              "entrepreneur                     1.0     1.0      2\n",
              "paternity / maternity leave      1.0     NaN      1\n",
              "retiree                       3443.0   413.0   3856\n",
              "student                          1.0     NaN      1\n",
              "unemployed                       2.0     NaN      2\n",
              "All                          19351.0  2174.0  21525"
            ],
            "text/html": [
              "\n",
              "  <div id=\"df-47b24f4c-7eae-45e8-8ec7-b52bb9157fa1\">\n",
              "    <div class=\"colab-df-container\">\n",
              "      <div>\n",
              "<style scoped>\n",
              "    .dataframe tbody tr th:only-of-type {\n",
              "        vertical-align: middle;\n",
              "    }\n",
              "\n",
              "    .dataframe tbody tr th {\n",
              "        vertical-align: top;\n",
              "    }\n",
              "\n",
              "    .dataframe thead th {\n",
              "        text-align: right;\n",
              "    }\n",
              "</style>\n",
              "<table border=\"1\" class=\"dataframe\">\n",
              "  <thead>\n",
              "    <tr style=\"text-align: right;\">\n",
              "      <th>na_check</th>\n",
              "      <th>False</th>\n",
              "      <th>True</th>\n",
              "      <th>All</th>\n",
              "    </tr>\n",
              "    <tr>\n",
              "      <th>income_type</th>\n",
              "      <th></th>\n",
              "      <th></th>\n",
              "      <th></th>\n",
              "    </tr>\n",
              "  </thead>\n",
              "  <tbody>\n",
              "    <tr>\n",
              "      <th>business</th>\n",
              "      <td>4577.0</td>\n",
              "      <td>508.0</td>\n",
              "      <td>5085</td>\n",
              "    </tr>\n",
              "    <tr>\n",
              "      <th>civil servant</th>\n",
              "      <td>1312.0</td>\n",
              "      <td>147.0</td>\n",
              "      <td>1459</td>\n",
              "    </tr>\n",
              "    <tr>\n",
              "      <th>employee</th>\n",
              "      <td>10014.0</td>\n",
              "      <td>1105.0</td>\n",
              "      <td>11119</td>\n",
              "    </tr>\n",
              "    <tr>\n",
              "      <th>entrepreneur</th>\n",
              "      <td>1.0</td>\n",
              "      <td>1.0</td>\n",
              "      <td>2</td>\n",
              "    </tr>\n",
              "    <tr>\n",
              "      <th>paternity / maternity leave</th>\n",
              "      <td>1.0</td>\n",
              "      <td>NaN</td>\n",
              "      <td>1</td>\n",
              "    </tr>\n",
              "    <tr>\n",
              "      <th>retiree</th>\n",
              "      <td>3443.0</td>\n",
              "      <td>413.0</td>\n",
              "      <td>3856</td>\n",
              "    </tr>\n",
              "    <tr>\n",
              "      <th>student</th>\n",
              "      <td>1.0</td>\n",
              "      <td>NaN</td>\n",
              "      <td>1</td>\n",
              "    </tr>\n",
              "    <tr>\n",
              "      <th>unemployed</th>\n",
              "      <td>2.0</td>\n",
              "      <td>NaN</td>\n",
              "      <td>2</td>\n",
              "    </tr>\n",
              "    <tr>\n",
              "      <th>All</th>\n",
              "      <td>19351.0</td>\n",
              "      <td>2174.0</td>\n",
              "      <td>21525</td>\n",
              "    </tr>\n",
              "  </tbody>\n",
              "</table>\n",
              "</div>\n",
              "      <button class=\"colab-df-convert\" onclick=\"convertToInteractive('df-47b24f4c-7eae-45e8-8ec7-b52bb9157fa1')\"\n",
              "              title=\"Convert this dataframe to an interactive table.\"\n",
              "              style=\"display:none;\">\n",
              "        \n",
              "  <svg xmlns=\"http://www.w3.org/2000/svg\" height=\"24px\"viewBox=\"0 0 24 24\"\n",
              "       width=\"24px\">\n",
              "    <path d=\"M0 0h24v24H0V0z\" fill=\"none\"/>\n",
              "    <path d=\"M18.56 5.44l.94 2.06.94-2.06 2.06-.94-2.06-.94-.94-2.06-.94 2.06-2.06.94zm-11 1L8.5 8.5l.94-2.06 2.06-.94-2.06-.94L8.5 2.5l-.94 2.06-2.06.94zm10 10l.94 2.06.94-2.06 2.06-.94-2.06-.94-.94-2.06-.94 2.06-2.06.94z\"/><path d=\"M17.41 7.96l-1.37-1.37c-.4-.4-.92-.59-1.43-.59-.52 0-1.04.2-1.43.59L10.3 9.45l-7.72 7.72c-.78.78-.78 2.05 0 2.83L4 21.41c.39.39.9.59 1.41.59.51 0 1.02-.2 1.41-.59l7.78-7.78 2.81-2.81c.8-.78.8-2.07 0-2.86zM5.41 20L4 18.59l7.72-7.72 1.47 1.35L5.41 20z\"/>\n",
              "  </svg>\n",
              "      </button>\n",
              "      \n",
              "  <style>\n",
              "    .colab-df-container {\n",
              "      display:flex;\n",
              "      flex-wrap:wrap;\n",
              "      gap: 12px;\n",
              "    }\n",
              "\n",
              "    .colab-df-convert {\n",
              "      background-color: #E8F0FE;\n",
              "      border: none;\n",
              "      border-radius: 50%;\n",
              "      cursor: pointer;\n",
              "      display: none;\n",
              "      fill: #1967D2;\n",
              "      height: 32px;\n",
              "      padding: 0 0 0 0;\n",
              "      width: 32px;\n",
              "    }\n",
              "\n",
              "    .colab-df-convert:hover {\n",
              "      background-color: #E2EBFA;\n",
              "      box-shadow: 0px 1px 2px rgba(60, 64, 67, 0.3), 0px 1px 3px 1px rgba(60, 64, 67, 0.15);\n",
              "      fill: #174EA6;\n",
              "    }\n",
              "\n",
              "    [theme=dark] .colab-df-convert {\n",
              "      background-color: #3B4455;\n",
              "      fill: #D2E3FC;\n",
              "    }\n",
              "\n",
              "    [theme=dark] .colab-df-convert:hover {\n",
              "      background-color: #434B5C;\n",
              "      box-shadow: 0px 1px 3px 1px rgba(0, 0, 0, 0.15);\n",
              "      filter: drop-shadow(0px 1px 2px rgba(0, 0, 0, 0.3));\n",
              "      fill: #FFFFFF;\n",
              "    }\n",
              "  </style>\n",
              "\n",
              "      <script>\n",
              "        const buttonEl =\n",
              "          document.querySelector('#df-47b24f4c-7eae-45e8-8ec7-b52bb9157fa1 button.colab-df-convert');\n",
              "        buttonEl.style.display =\n",
              "          google.colab.kernel.accessAllowed ? 'block' : 'none';\n",
              "\n",
              "        async function convertToInteractive(key) {\n",
              "          const element = document.querySelector('#df-47b24f4c-7eae-45e8-8ec7-b52bb9157fa1');\n",
              "          const dataTable =\n",
              "            await google.colab.kernel.invokeFunction('convertToInteractive',\n",
              "                                                     [key], {});\n",
              "          if (!dataTable) return;\n",
              "\n",
              "          const docLinkHtml = 'Like what you see? Visit the ' +\n",
              "            '<a target=\"_blank\" href=https://colab.research.google.com/notebooks/data_table.ipynb>data table notebook</a>'\n",
              "            + ' to learn more about interactive tables.';\n",
              "          element.innerHTML = '';\n",
              "          dataTable['output_type'] = 'display_data';\n",
              "          await google.colab.output.renderOutput(dataTable, element);\n",
              "          const docLink = document.createElement('div');\n",
              "          docLink.innerHTML = docLinkHtml;\n",
              "          element.appendChild(docLink);\n",
              "        }\n",
              "      </script>\n",
              "    </div>\n",
              "  </div>\n",
              "  "
            ]
          },
          "metadata": {},
          "execution_count": 37
        }
      ],
      "source": [
        "df_check_na = df.copy()\n",
        "df_check_na['na_check'] = df_check_na['total_income'].isna()\n",
        "table_check = pd.pivot_table(df_check_na, values='dob_years', columns=['na_check'], index='income_type', aggfunc = 'count' , margins = True, dropna=False)\n",
        "table_check"
      ]
    },
    {
      "cell_type": "markdown",
      "metadata": {
        "id": "DHikXufxA6uL"
      },
      "source": [
        "Saya menemukan pada kelompok data yang memiliki nilai yang hilang tidak ada 3 jenis `income_type` dibawah ini:\n",
        "- `paternity / maternity leave`\n",
        "- `student`\n",
        "- `unemployed`"
      ]
    },
    {
      "cell_type": "markdown",
      "metadata": {
        "id": "TJvRofZqA6uM"
      },
      "source": [
        "## Transformasi data"
      ]
    },
    {
      "cell_type": "code",
      "execution_count": null,
      "metadata": {
        "scrolled": true,
        "colab": {
          "base_uri": "https://localhost:8080/"
        },
        "id": "1xe70fFQA6uM",
        "outputId": "88e938be-7e17-4209-a5a9-069a7b79f45f"
      },
      "outputs": [
        {
          "output_type": "execute_result",
          "data": {
            "text/plain": [
              "array([\"bachelor's degree\", \"Bachelor's Degree\", \"BACHELOR'S DEGREE\",\n",
              "       'graduate degree', 'Graduate Degree', 'GRADUATE DEGREE',\n",
              "       'primary education', 'PRIMARY EDUCATION', 'Primary Education',\n",
              "       'secondary education', 'SECONDARY EDUCATION',\n",
              "       'Secondary Education', 'some college', 'Some College',\n",
              "       'SOME COLLEGE'], dtype=object)"
            ]
          },
          "metadata": {},
          "execution_count": 38
        }
      ],
      "source": [
        "# Mari kita lihat semua nilai di kolom pendidikan untuk memeriksa ejaan apa yang perlu diperbaiki\n",
        "df['education'].sort_values(key=lambda col: col.str.lower()).unique()"
      ]
    },
    {
      "cell_type": "markdown",
      "source": [
        "Ada banyak informasi yang sama, namun hanya menjadi berbeda karena perbedaan penulisan. Hal ini perlu diperbaiki."
      ],
      "metadata": {
        "id": "9tHi2GOOdwk0"
      }
    },
    {
      "cell_type": "code",
      "execution_count": null,
      "metadata": {
        "scrolled": true,
        "id": "W-LNOvSvA6uN"
      },
      "outputs": [],
      "source": [
        "df['education'] = df['education'].apply(str.lower)"
      ]
    },
    {
      "cell_type": "code",
      "execution_count": null,
      "metadata": {
        "colab": {
          "base_uri": "https://localhost:8080/"
        },
        "id": "-rbi11O2A6uO",
        "outputId": "57650492-3b67-4120-d0ff-203bbdda7735"
      },
      "outputs": [
        {
          "output_type": "execute_result",
          "data": {
            "text/plain": [
              "array([\"bachelor's degree\", 'graduate degree', 'primary education',\n",
              "       'secondary education', 'some college'], dtype=object)"
            ]
          },
          "metadata": {},
          "execution_count": 41
        }
      ],
      "source": [
        "df['education'].sort_values().unique()"
      ]
    },
    {
      "cell_type": "markdown",
      "source": [
        "Sudah berhasil disamakan sehingga hanya ada 5 varian `education`"
      ],
      "metadata": {
        "id": "K4D5cNOfd9FW"
      }
    },
    {
      "cell_type": "markdown",
      "metadata": {
        "id": "7Gbn4A2rA6uO"
      },
      "source": [
        "## Memeriksa Data Kolom `children`"
      ]
    },
    {
      "cell_type": "code",
      "execution_count": null,
      "metadata": {
        "scrolled": false,
        "colab": {
          "base_uri": "https://localhost:8080/"
        },
        "id": "JWgHoxkCA6uP",
        "outputId": "09140463-019f-494c-f419-d939a5b906e3"
      },
      "outputs": [
        {
          "output_type": "execute_result",
          "data": {
            "text/plain": [
              " 0     14149\n",
              " 1      4818\n",
              " 2      2055\n",
              " 3       330\n",
              " 20       76\n",
              "-1        47\n",
              " 4        41\n",
              " 5         9\n",
              "Name: children, dtype: int64"
            ]
          },
          "metadata": {},
          "execution_count": 42
        }
      ],
      "source": [
        "# Mari kita lihat distribusi nilai pada kolom `children`\n",
        "df['children'].value_counts()"
      ]
    },
    {
      "cell_type": "markdown",
      "metadata": {
        "id": "C4P43i-UA6uQ"
      },
      "source": [
        "Sepertinya nilai 20 kesalahan input karena tidak banyak keluarga dengan jumlah anak sebanyak 20 orang. Selain itu -1 juga kesalahan input.  "
      ]
    },
    {
      "cell_type": "code",
      "execution_count": null,
      "metadata": {
        "id": "ErHa1xXjA6uQ"
      },
      "outputs": [],
      "source": [
        "# [perbaiki data berdasarkan keputusan Anda]   \n",
        "df.loc[df['children'] == -1,'children'] = 1\n",
        "df.loc[df['children'] == 20,'children'] = 2"
      ]
    },
    {
      "cell_type": "code",
      "execution_count": null,
      "metadata": {
        "colab": {
          "base_uri": "https://localhost:8080/"
        },
        "id": "5EE7mYbIA6uR",
        "outputId": "d2b99769-9e5f-4d2f-da69-e6f3c40d7712"
      },
      "outputs": [
        {
          "output_type": "execute_result",
          "data": {
            "text/plain": [
              "0    14149\n",
              "1     4865\n",
              "2     2131\n",
              "3      330\n",
              "4       41\n",
              "5        9\n",
              "Name: children, dtype: int64"
            ]
          },
          "metadata": {},
          "execution_count": 44
        }
      ],
      "source": [
        "# Periksa kembali kolom `children` untuk memastikan bahwa semuanya telah diperbaiki\n",
        "df['children'].value_counts()"
      ]
    },
    {
      "cell_type": "markdown",
      "metadata": {
        "id": "pV8EZZU_A6uR"
      },
      "source": [
        "Nilai `20` dan `-1` sudah berhasil dikonversi ke data yang lebih tepat."
      ]
    },
    {
      "cell_type": "markdown",
      "source": [
        "## Memeriksa Data Kolom `days_employed`"
      ],
      "metadata": {
        "id": "mf6CkndGry_F"
      }
    },
    {
      "cell_type": "code",
      "execution_count": null,
      "metadata": {
        "scrolled": true,
        "colab": {
          "base_uri": "https://localhost:8080/"
        },
        "id": "jOZcL1n7A6uS",
        "outputId": "c26c5b39-46f3-4684-9186-cb8da60519e4"
      },
      "outputs": [
        {
          "output_type": "execute_result",
          "data": {
            "text/plain": [
              "16335   -18388.949901\n",
              "4299    -17615.563266\n",
              "7329    -16593.472817\n",
              "17838   -16264.699501\n",
              "16825   -16119.687737\n",
              "             ...     \n",
              "21489             NaN\n",
              "21495             NaN\n",
              "21497             NaN\n",
              "21502             NaN\n",
              "21510             NaN\n",
              "Name: days_employed, Length: 21525, dtype: float64"
            ]
          },
          "metadata": {},
          "execution_count": 45
        }
      ],
      "source": [
        "# Temukan data yang bermasalah di `days_employed`, jika memang terdapat masalah, dan hitung persentasenya\n",
        "df['days_employed'].sort_values()"
      ]
    },
    {
      "cell_type": "markdown",
      "source": [
        "Banyak data yang nilainya negatif, padahal seharusnya lama bekerja tidak bernilai negatif."
      ],
      "metadata": {
        "id": "At6Y59lrj9yN"
      }
    },
    {
      "cell_type": "code",
      "execution_count": null,
      "metadata": {
        "id": "Ow8tKDZsA6uS"
      },
      "outputs": [],
      "source": [
        "# Atasi nilai yang bermasalah, jika ada\n",
        "counter = 0\n",
        "for row in df['days_employed']:\n",
        "    if row == float('nan'):\n",
        "        pass\n",
        "    elif row > 0:\n",
        "        df.loc[counter, 'days_employed'] = int(row)\n",
        "    elif row < 0 :\n",
        "        df.loc[counter, 'days_employed'] = int(-row)\n",
        "    counter += 1\n"
      ]
    },
    {
      "cell_type": "code",
      "execution_count": null,
      "metadata": {
        "scrolled": true,
        "colab": {
          "base_uri": "https://localhost:8080/"
        },
        "id": "3uTerNHTA6uT",
        "outputId": "a0c25743-9375-45ef-bc28-6c9f80319bca"
      },
      "outputs": [
        {
          "output_type": "execute_result",
          "data": {
            "text/plain": [
              "8336     24.0\n",
              "17437    24.0\n",
              "6157     30.0\n",
              "9683     33.0\n",
              "2127     34.0\n",
              "         ... \n",
              "21489     NaN\n",
              "21495     NaN\n",
              "21497     NaN\n",
              "21502     NaN\n",
              "21510     NaN\n",
              "Name: days_employed, Length: 21525, dtype: float64"
            ]
          },
          "metadata": {},
          "execution_count": 47
        }
      ],
      "source": [
        "# Periksa hasilnya - pastikan bahwa masalahnya telah diperbaiki\n",
        "df['days_employed'].sort_values()"
      ]
    },
    {
      "cell_type": "markdown",
      "metadata": {
        "id": "aYCwqNHUA6uT"
      },
      "source": [
        "Nilai negatif pada kolom `lama bekerja` telah diperbaiki. "
      ]
    },
    {
      "cell_type": "markdown",
      "source": [
        "## Memeriksa Data Kolom `dob_years`"
      ],
      "metadata": {
        "id": "B3eWgLPNsGWr"
      }
    },
    {
      "cell_type": "code",
      "execution_count": null,
      "metadata": {
        "colab": {
          "base_uri": "https://localhost:8080/"
        },
        "id": "AreCH7WWA6uT",
        "outputId": "f7e42a30-a45d-4800-c86f-007181b12f5f"
      },
      "outputs": [
        {
          "output_type": "execute_result",
          "data": {
            "text/plain": [
              "0     101\n",
              "19     14\n",
              "20     51\n",
              "21    111\n",
              "22    183\n",
              "23    254\n",
              "24    264\n",
              "25    357\n",
              "26    408\n",
              "27    493\n",
              "28    503\n",
              "29    545\n",
              "30    540\n",
              "31    560\n",
              "32    510\n",
              "33    581\n",
              "34    603\n",
              "35    617\n",
              "36    555\n",
              "37    537\n",
              "38    598\n",
              "39    573\n",
              "40    609\n",
              "41    607\n",
              "42    597\n",
              "43    513\n",
              "44    547\n",
              "45    497\n",
              "46    475\n",
              "47    480\n",
              "48    538\n",
              "49    508\n",
              "50    514\n",
              "51    448\n",
              "52    484\n",
              "53    459\n",
              "54    479\n",
              "55    443\n",
              "56    487\n",
              "57    460\n",
              "58    461\n",
              "59    444\n",
              "60    377\n",
              "61    355\n",
              "62    352\n",
              "63    269\n",
              "64    265\n",
              "65    194\n",
              "66    183\n",
              "67    167\n",
              "68     99\n",
              "69     85\n",
              "70     65\n",
              "71     58\n",
              "72     33\n",
              "73      8\n",
              "74      6\n",
              "75      1\n",
              "Name: dob_years, dtype: int64"
            ]
          },
          "metadata": {},
          "execution_count": 48
        }
      ],
      "source": [
        "# Periksa `dob_years` untuk nilai yang mencurigakan dan hitung persentasenya\n",
        "df['dob_years'].value_counts().sort_index()"
      ]
    },
    {
      "cell_type": "markdown",
      "source": [
        "Pada kolom `usia` ada 101 nasabah yang usianya 0. Hal tersebut tidak masuk akal. Karena jumlahnya tidak banyak maka saya akan melakukan `drop` data tersebut."
      ],
      "metadata": {
        "id": "myaQZNeyku_k"
      }
    },
    {
      "cell_type": "code",
      "execution_count": null,
      "metadata": {
        "scrolled": true,
        "id": "XDqkVGRPA6uV"
      },
      "outputs": [],
      "source": [
        "# Atasi masalah pada kolom `dob_years`, jika terdapat masalah\n",
        "\n",
        "df = df.loc[df['dob_years'] > 0]"
      ]
    },
    {
      "cell_type": "code",
      "execution_count": null,
      "metadata": {
        "colab": {
          "base_uri": "https://localhost:8080/"
        },
        "id": "1Un6VFyOA6uV",
        "outputId": "f3abe3fe-a6f8-4c2d-abe1-7187f02f65a8"
      },
      "outputs": [
        {
          "output_type": "execute_result",
          "data": {
            "text/plain": [
              "19     14\n",
              "20     51\n",
              "21    111\n",
              "22    183\n",
              "23    254\n",
              "24    264\n",
              "25    357\n",
              "26    408\n",
              "27    493\n",
              "28    503\n",
              "29    545\n",
              "30    540\n",
              "31    560\n",
              "32    510\n",
              "33    581\n",
              "34    603\n",
              "35    617\n",
              "36    555\n",
              "37    537\n",
              "38    598\n",
              "39    573\n",
              "40    609\n",
              "41    607\n",
              "42    597\n",
              "43    513\n",
              "44    547\n",
              "45    497\n",
              "46    475\n",
              "47    480\n",
              "48    538\n",
              "49    508\n",
              "50    514\n",
              "51    448\n",
              "52    484\n",
              "53    459\n",
              "54    479\n",
              "55    443\n",
              "56    487\n",
              "57    460\n",
              "58    461\n",
              "59    444\n",
              "60    377\n",
              "61    355\n",
              "62    352\n",
              "63    269\n",
              "64    265\n",
              "65    194\n",
              "66    183\n",
              "67    167\n",
              "68     99\n",
              "69     85\n",
              "70     65\n",
              "71     58\n",
              "72     33\n",
              "73      8\n",
              "74      6\n",
              "75      1\n",
              "Name: dob_years, dtype: int64"
            ]
          },
          "metadata": {},
          "execution_count": 50
        }
      ],
      "source": [
        "# Periksa hasilnya - pastikan bahwa masalahnya telah diperbaiki\n",
        "df['dob_years'].value_counts().sort_index()"
      ]
    },
    {
      "cell_type": "markdown",
      "metadata": {
        "id": "I874IbB0A6uW"
      },
      "source": [
        "data nasabah dengan `usia` nol telah berhasil di `drop`."
      ]
    },
    {
      "cell_type": "markdown",
      "source": [
        "## Memeriksa Data Kolom `family_status`"
      ],
      "metadata": {
        "id": "s24xqIUCsLhc"
      }
    },
    {
      "cell_type": "code",
      "execution_count": null,
      "metadata": {
        "colab": {
          "base_uri": "https://localhost:8080/"
        },
        "id": "T_U3d2RuA6uW",
        "outputId": "7a79b224-eec9-4a95-d683-6606d92b7cb7"
      },
      "outputs": [
        {
          "output_type": "execute_result",
          "data": {
            "text/plain": [
              "married              12331\n",
              "civil partnership     4156\n",
              "unmarried             2797\n",
              "divorced              1185\n",
              "widow / widower        955\n",
              "Name: family_status, dtype: int64"
            ]
          },
          "metadata": {},
          "execution_count": 51
        }
      ],
      "source": [
        "# Mari kita lihat nilai untuk kolom ini\n",
        "df['family_status'].value_counts()"
      ]
    },
    {
      "cell_type": "markdown",
      "metadata": {
        "id": "lL3izbS4A6uW"
      },
      "source": [
        "Tidak ada data yang bermasalah pada kolom status perkawinan menurut saya."
      ]
    },
    {
      "cell_type": "markdown",
      "source": [
        "## Memeriksa Data Kolom `gender`"
      ],
      "metadata": {
        "id": "vTfVKkgPsQ75"
      }
    },
    {
      "cell_type": "code",
      "execution_count": null,
      "metadata": {
        "scrolled": true,
        "colab": {
          "base_uri": "https://localhost:8080/"
        },
        "id": "eEBxGUVmA6uX",
        "outputId": "9027b586-521c-4d12-c91b-bc50a98c7d52"
      },
      "outputs": [
        {
          "output_type": "execute_result",
          "data": {
            "text/plain": [
              "F      14164\n",
              "M       7259\n",
              "XNA        1\n",
              "Name: gender, dtype: int64"
            ]
          },
          "metadata": {},
          "execution_count": 54
        }
      ],
      "source": [
        "# Mari kita liat nilai dalam kolom ini\n",
        "df['gender'].value_counts()"
      ]
    },
    {
      "cell_type": "markdown",
      "metadata": {
        "id": "FOaTdJCKA6uX"
      },
      "source": [
        "Pada kolom `gender` ada satu nasabah dengan `gender` `XNA`. Data tersebut janggal, karena tidak ada `gender` `XNA`. Karena itu saya akan melakukan `drop` untuk data tersebut."
      ]
    },
    {
      "cell_type": "code",
      "execution_count": null,
      "metadata": {
        "id": "wZY5AqQ6A6uX",
        "colab": {
          "base_uri": "https://localhost:8080/"
        },
        "outputId": "94e69050-09c1-4554-9ce9-3cd2fc5f6b39"
      },
      "outputs": [
        {
          "output_type": "stream",
          "name": "stderr",
          "text": [
            "/usr/local/lib/python3.8/dist-packages/pandas/core/frame.py:4906: SettingWithCopyWarning: \n",
            "A value is trying to be set on a copy of a slice from a DataFrame\n",
            "\n",
            "See the caveats in the documentation: https://pandas.pydata.org/pandas-docs/stable/user_guide/indexing.html#returning-a-view-versus-a-copy\n",
            "  return super().drop(\n"
          ]
        }
      ],
      "source": [
        "# Atasi nilai-nilai yang bermasalah, jika ada\n",
        "index_clean = df[df['gender'] == 'XNA'].index\n",
        "df.drop(index_clean, inplace=True)\n",
        "df_clean = df.copy()"
      ]
    },
    {
      "cell_type": "code",
      "execution_count": null,
      "metadata": {
        "colab": {
          "base_uri": "https://localhost:8080/",
          "height": 49
        },
        "id": "qcpskT65A6uY",
        "outputId": "f358f8b6-c0bb-4cd3-beba-a9c93ba96b1c"
      },
      "outputs": [
        {
          "output_type": "execute_result",
          "data": {
            "text/plain": [
              "Empty DataFrame\n",
              "Columns: [children, days_employed, dob_years, education, education_id, family_status, family_status_id, gender, income_type, debt, total_income, purpose]\n",
              "Index: []"
            ],
            "text/html": [
              "\n",
              "  <div id=\"df-d37f5736-195f-4978-a09c-6c030a4ad38c\">\n",
              "    <div class=\"colab-df-container\">\n",
              "      <div>\n",
              "<style scoped>\n",
              "    .dataframe tbody tr th:only-of-type {\n",
              "        vertical-align: middle;\n",
              "    }\n",
              "\n",
              "    .dataframe tbody tr th {\n",
              "        vertical-align: top;\n",
              "    }\n",
              "\n",
              "    .dataframe thead th {\n",
              "        text-align: right;\n",
              "    }\n",
              "</style>\n",
              "<table border=\"1\" class=\"dataframe\">\n",
              "  <thead>\n",
              "    <tr style=\"text-align: right;\">\n",
              "      <th></th>\n",
              "      <th>children</th>\n",
              "      <th>days_employed</th>\n",
              "      <th>dob_years</th>\n",
              "      <th>education</th>\n",
              "      <th>education_id</th>\n",
              "      <th>family_status</th>\n",
              "      <th>family_status_id</th>\n",
              "      <th>gender</th>\n",
              "      <th>income_type</th>\n",
              "      <th>debt</th>\n",
              "      <th>total_income</th>\n",
              "      <th>purpose</th>\n",
              "    </tr>\n",
              "  </thead>\n",
              "  <tbody>\n",
              "  </tbody>\n",
              "</table>\n",
              "</div>\n",
              "      <button class=\"colab-df-convert\" onclick=\"convertToInteractive('df-d37f5736-195f-4978-a09c-6c030a4ad38c')\"\n",
              "              title=\"Convert this dataframe to an interactive table.\"\n",
              "              style=\"display:none;\">\n",
              "        \n",
              "  <svg xmlns=\"http://www.w3.org/2000/svg\" height=\"24px\"viewBox=\"0 0 24 24\"\n",
              "       width=\"24px\">\n",
              "    <path d=\"M0 0h24v24H0V0z\" fill=\"none\"/>\n",
              "    <path d=\"M18.56 5.44l.94 2.06.94-2.06 2.06-.94-2.06-.94-.94-2.06-.94 2.06-2.06.94zm-11 1L8.5 8.5l.94-2.06 2.06-.94-2.06-.94L8.5 2.5l-.94 2.06-2.06.94zm10 10l.94 2.06.94-2.06 2.06-.94-2.06-.94-.94-2.06-.94 2.06-2.06.94z\"/><path d=\"M17.41 7.96l-1.37-1.37c-.4-.4-.92-.59-1.43-.59-.52 0-1.04.2-1.43.59L10.3 9.45l-7.72 7.72c-.78.78-.78 2.05 0 2.83L4 21.41c.39.39.9.59 1.41.59.51 0 1.02-.2 1.41-.59l7.78-7.78 2.81-2.81c.8-.78.8-2.07 0-2.86zM5.41 20L4 18.59l7.72-7.72 1.47 1.35L5.41 20z\"/>\n",
              "  </svg>\n",
              "      </button>\n",
              "      \n",
              "  <style>\n",
              "    .colab-df-container {\n",
              "      display:flex;\n",
              "      flex-wrap:wrap;\n",
              "      gap: 12px;\n",
              "    }\n",
              "\n",
              "    .colab-df-convert {\n",
              "      background-color: #E8F0FE;\n",
              "      border: none;\n",
              "      border-radius: 50%;\n",
              "      cursor: pointer;\n",
              "      display: none;\n",
              "      fill: #1967D2;\n",
              "      height: 32px;\n",
              "      padding: 0 0 0 0;\n",
              "      width: 32px;\n",
              "    }\n",
              "\n",
              "    .colab-df-convert:hover {\n",
              "      background-color: #E2EBFA;\n",
              "      box-shadow: 0px 1px 2px rgba(60, 64, 67, 0.3), 0px 1px 3px 1px rgba(60, 64, 67, 0.15);\n",
              "      fill: #174EA6;\n",
              "    }\n",
              "\n",
              "    [theme=dark] .colab-df-convert {\n",
              "      background-color: #3B4455;\n",
              "      fill: #D2E3FC;\n",
              "    }\n",
              "\n",
              "    [theme=dark] .colab-df-convert:hover {\n",
              "      background-color: #434B5C;\n",
              "      box-shadow: 0px 1px 3px 1px rgba(0, 0, 0, 0.15);\n",
              "      filter: drop-shadow(0px 1px 2px rgba(0, 0, 0, 0.3));\n",
              "      fill: #FFFFFF;\n",
              "    }\n",
              "  </style>\n",
              "\n",
              "      <script>\n",
              "        const buttonEl =\n",
              "          document.querySelector('#df-d37f5736-195f-4978-a09c-6c030a4ad38c button.colab-df-convert');\n",
              "        buttonEl.style.display =\n",
              "          google.colab.kernel.accessAllowed ? 'block' : 'none';\n",
              "\n",
              "        async function convertToInteractive(key) {\n",
              "          const element = document.querySelector('#df-d37f5736-195f-4978-a09c-6c030a4ad38c');\n",
              "          const dataTable =\n",
              "            await google.colab.kernel.invokeFunction('convertToInteractive',\n",
              "                                                     [key], {});\n",
              "          if (!dataTable) return;\n",
              "\n",
              "          const docLinkHtml = 'Like what you see? Visit the ' +\n",
              "            '<a target=\"_blank\" href=https://colab.research.google.com/notebooks/data_table.ipynb>data table notebook</a>'\n",
              "            + ' to learn more about interactive tables.';\n",
              "          element.innerHTML = '';\n",
              "          dataTable['output_type'] = 'display_data';\n",
              "          await google.colab.output.renderOutput(dataTable, element);\n",
              "          const docLink = document.createElement('div');\n",
              "          docLink.innerHTML = docLinkHtml;\n",
              "          element.appendChild(docLink);\n",
              "        }\n",
              "      </script>\n",
              "    </div>\n",
              "  </div>\n",
              "  "
            ]
          },
          "metadata": {},
          "execution_count": 56
        }
      ],
      "source": [
        "# Periksa hasilnya - pastikan bahwa masalahnya telah diperbaiki\n",
        "df_clean.loc[df_clean['gender'] == 'XNA']"
      ]
    },
    {
      "cell_type": "markdown",
      "metadata": {
        "id": "mzTr01T5A6uZ"
      },
      "source": [
        "Datanya nasabah dengan `gender` `XNA` telah berhasil di`drop`."
      ]
    },
    {
      "cell_type": "markdown",
      "source": [
        "## Memeriksa Data Kolom `income_type`"
      ],
      "metadata": {
        "id": "yZgArY_bsedT"
      }
    },
    {
      "cell_type": "code",
      "execution_count": null,
      "metadata": {
        "colab": {
          "base_uri": "https://localhost:8080/"
        },
        "id": "DO4Nh-EMA6uZ",
        "outputId": "f0aecf55-7bcb-4b32-8574-701c627df72e"
      },
      "outputs": [
        {
          "output_type": "execute_result",
          "data": {
            "text/plain": [
              "employee                       11064\n",
              "business                        5064\n",
              "retiree                         3836\n",
              "civil servant                   1453\n",
              "unemployed                         2\n",
              "entrepreneur                       2\n",
              "student                            1\n",
              "paternity / maternity leave        1\n",
              "Name: income_type, dtype: int64"
            ]
          },
          "metadata": {},
          "execution_count": 57
        }
      ],
      "source": [
        "# Mari kita lihat nilai dalam kolom ini\n",
        "df_clean['income_type'].value_counts()"
      ]
    },
    {
      "cell_type": "markdown",
      "metadata": {
        "id": "871AfmblA6uZ"
      },
      "source": [
        "Pada kolom `income_type` `entrepreneur` dan `business` sepertinya mirip dan kurang jelas apa perbedaanya. Karena itu `entrepreneur`akan saya jadikan satu kedalam `business`."
      ]
    },
    {
      "cell_type": "code",
      "execution_count": null,
      "metadata": {
        "scrolled": true,
        "colab": {
          "base_uri": "https://localhost:8080/"
        },
        "id": "QUHlkKu6A6uZ",
        "outputId": "0736bc9b-3f17-42e1-d7aa-92a8725920f6"
      },
      "outputs": [
        {
          "output_type": "execute_result",
          "data": {
            "text/plain": [
              "employee                       11064\n",
              "business                        5066\n",
              "retiree                         3836\n",
              "civil servant                   1453\n",
              "unemployed                         2\n",
              "student                            1\n",
              "paternity / maternity leave        1\n",
              "Name: income_type, dtype: int64"
            ]
          },
          "metadata": {},
          "execution_count": 58
        }
      ],
      "source": [
        "# Atasi nilai yang bermasalah, jika ada\n",
        "\n",
        "def change_income_type(row):\n",
        "    if row == 'entrepreneur':\n",
        "        row = 'business'\n",
        "        return row\n",
        "    else:\n",
        "        return row\n",
        "    \n",
        "income_type_copy = df_clean['income_type'].copy()    \n",
        "df_clean['income_type'] = income_type_copy.apply(change_income_type)\n",
        "df_clean['income_type'].value_counts()"
      ]
    },
    {
      "cell_type": "code",
      "execution_count": null,
      "metadata": {
        "colab": {
          "base_uri": "https://localhost:8080/"
        },
        "id": "O-suUAG9A6ua",
        "outputId": "7d9c449f-4d82-4eb4-806d-a2076107cd39"
      },
      "outputs": [
        {
          "output_type": "execute_result",
          "data": {
            "text/plain": [
              "employee                       11064\n",
              "business                        5066\n",
              "retiree                         3836\n",
              "civil servant                   1453\n",
              "unemployed                         2\n",
              "student                            1\n",
              "paternity / maternity leave        1\n",
              "Name: income_type, dtype: int64"
            ]
          },
          "metadata": {},
          "execution_count": 59
        }
      ],
      "source": [
        "# Periksa hasilnya - pastikan bahwa masalahnya telah diperbaiki\n",
        "df_clean['income_type'].value_counts()"
      ]
    },
    {
      "cell_type": "markdown",
      "metadata": {
        "id": "UN8vwzXeA6ua"
      },
      "source": [
        "nasabah yang sebelumnya memiliki `income_type` `entrepreneur` telah berhasil diubah menjadi `business`."
      ]
    },
    {
      "cell_type": "markdown",
      "source": [
        "## Memeriksa Nilai Duplikat"
      ],
      "metadata": {
        "id": "UsPegVbOtpuZ"
      }
    },
    {
      "cell_type": "code",
      "execution_count": null,
      "metadata": {
        "colab": {
          "base_uri": "https://localhost:8080/",
          "height": 423
        },
        "id": "cO2llfY5A6ub",
        "outputId": "77768238-85f7-41f0-ce20-0b646ae0d945"
      },
      "outputs": [
        {
          "output_type": "execute_result",
          "data": {
            "text/plain": [
              "       children  days_employed  dob_years            education  education_id  \\\n",
              "2849          0            NaN         41  secondary education             1   \n",
              "3290          0            NaN         58  secondary education             1   \n",
              "4182          1            NaN         34    bachelor's degree             0   \n",
              "4851          0            NaN         60  secondary education             1   \n",
              "5557          0            NaN         58  secondary education             1   \n",
              "...         ...            ...        ...                  ...           ...   \n",
              "20702         0            NaN         64  secondary education             1   \n",
              "21032         0            NaN         60  secondary education             1   \n",
              "21132         0            NaN         47  secondary education             1   \n",
              "21281         1            NaN         30    bachelor's degree             0   \n",
              "21415         0            NaN         54  secondary education             1   \n",
              "\n",
              "           family_status  family_status_id gender income_type  debt  \\\n",
              "2849             married                 0      F    employee     0   \n",
              "3290   civil partnership                 1      F     retiree     0   \n",
              "4182   civil partnership                 1      F    employee     0   \n",
              "4851   civil partnership                 1      F     retiree     0   \n",
              "5557   civil partnership                 1      F     retiree     0   \n",
              "...                  ...               ...    ...         ...   ...   \n",
              "20702            married                 0      F     retiree     0   \n",
              "21032            married                 0      F     retiree     0   \n",
              "21132            married                 0      F    employee     0   \n",
              "21281            married                 0      F    employee     0   \n",
              "21415            married                 0      F     retiree     0   \n",
              "\n",
              "       total_income                              purpose  \n",
              "2849            NaN  purchase of the house for my family  \n",
              "3290            NaN                    to have a wedding  \n",
              "4182            NaN                     wedding ceremony  \n",
              "4851            NaN                     wedding ceremony  \n",
              "5557            NaN                    to have a wedding  \n",
              "...             ...                                  ...  \n",
              "20702           NaN              supplementary education  \n",
              "21032           NaN                   to become educated  \n",
              "21132           NaN                   housing renovation  \n",
              "21281           NaN           buy commercial real estate  \n",
              "21415           NaN                 housing transactions  \n",
              "\n",
              "[71 rows x 12 columns]"
            ],
            "text/html": [
              "\n",
              "  <div id=\"df-b82721d4-b69d-4588-9184-080a3c7ef4df\">\n",
              "    <div class=\"colab-df-container\">\n",
              "      <div>\n",
              "<style scoped>\n",
              "    .dataframe tbody tr th:only-of-type {\n",
              "        vertical-align: middle;\n",
              "    }\n",
              "\n",
              "    .dataframe tbody tr th {\n",
              "        vertical-align: top;\n",
              "    }\n",
              "\n",
              "    .dataframe thead th {\n",
              "        text-align: right;\n",
              "    }\n",
              "</style>\n",
              "<table border=\"1\" class=\"dataframe\">\n",
              "  <thead>\n",
              "    <tr style=\"text-align: right;\">\n",
              "      <th></th>\n",
              "      <th>children</th>\n",
              "      <th>days_employed</th>\n",
              "      <th>dob_years</th>\n",
              "      <th>education</th>\n",
              "      <th>education_id</th>\n",
              "      <th>family_status</th>\n",
              "      <th>family_status_id</th>\n",
              "      <th>gender</th>\n",
              "      <th>income_type</th>\n",
              "      <th>debt</th>\n",
              "      <th>total_income</th>\n",
              "      <th>purpose</th>\n",
              "    </tr>\n",
              "  </thead>\n",
              "  <tbody>\n",
              "    <tr>\n",
              "      <th>2849</th>\n",
              "      <td>0</td>\n",
              "      <td>NaN</td>\n",
              "      <td>41</td>\n",
              "      <td>secondary education</td>\n",
              "      <td>1</td>\n",
              "      <td>married</td>\n",
              "      <td>0</td>\n",
              "      <td>F</td>\n",
              "      <td>employee</td>\n",
              "      <td>0</td>\n",
              "      <td>NaN</td>\n",
              "      <td>purchase of the house for my family</td>\n",
              "    </tr>\n",
              "    <tr>\n",
              "      <th>3290</th>\n",
              "      <td>0</td>\n",
              "      <td>NaN</td>\n",
              "      <td>58</td>\n",
              "      <td>secondary education</td>\n",
              "      <td>1</td>\n",
              "      <td>civil partnership</td>\n",
              "      <td>1</td>\n",
              "      <td>F</td>\n",
              "      <td>retiree</td>\n",
              "      <td>0</td>\n",
              "      <td>NaN</td>\n",
              "      <td>to have a wedding</td>\n",
              "    </tr>\n",
              "    <tr>\n",
              "      <th>4182</th>\n",
              "      <td>1</td>\n",
              "      <td>NaN</td>\n",
              "      <td>34</td>\n",
              "      <td>bachelor's degree</td>\n",
              "      <td>0</td>\n",
              "      <td>civil partnership</td>\n",
              "      <td>1</td>\n",
              "      <td>F</td>\n",
              "      <td>employee</td>\n",
              "      <td>0</td>\n",
              "      <td>NaN</td>\n",
              "      <td>wedding ceremony</td>\n",
              "    </tr>\n",
              "    <tr>\n",
              "      <th>4851</th>\n",
              "      <td>0</td>\n",
              "      <td>NaN</td>\n",
              "      <td>60</td>\n",
              "      <td>secondary education</td>\n",
              "      <td>1</td>\n",
              "      <td>civil partnership</td>\n",
              "      <td>1</td>\n",
              "      <td>F</td>\n",
              "      <td>retiree</td>\n",
              "      <td>0</td>\n",
              "      <td>NaN</td>\n",
              "      <td>wedding ceremony</td>\n",
              "    </tr>\n",
              "    <tr>\n",
              "      <th>5557</th>\n",
              "      <td>0</td>\n",
              "      <td>NaN</td>\n",
              "      <td>58</td>\n",
              "      <td>secondary education</td>\n",
              "      <td>1</td>\n",
              "      <td>civil partnership</td>\n",
              "      <td>1</td>\n",
              "      <td>F</td>\n",
              "      <td>retiree</td>\n",
              "      <td>0</td>\n",
              "      <td>NaN</td>\n",
              "      <td>to have a wedding</td>\n",
              "    </tr>\n",
              "    <tr>\n",
              "      <th>...</th>\n",
              "      <td>...</td>\n",
              "      <td>...</td>\n",
              "      <td>...</td>\n",
              "      <td>...</td>\n",
              "      <td>...</td>\n",
              "      <td>...</td>\n",
              "      <td>...</td>\n",
              "      <td>...</td>\n",
              "      <td>...</td>\n",
              "      <td>...</td>\n",
              "      <td>...</td>\n",
              "      <td>...</td>\n",
              "    </tr>\n",
              "    <tr>\n",
              "      <th>20702</th>\n",
              "      <td>0</td>\n",
              "      <td>NaN</td>\n",
              "      <td>64</td>\n",
              "      <td>secondary education</td>\n",
              "      <td>1</td>\n",
              "      <td>married</td>\n",
              "      <td>0</td>\n",
              "      <td>F</td>\n",
              "      <td>retiree</td>\n",
              "      <td>0</td>\n",
              "      <td>NaN</td>\n",
              "      <td>supplementary education</td>\n",
              "    </tr>\n",
              "    <tr>\n",
              "      <th>21032</th>\n",
              "      <td>0</td>\n",
              "      <td>NaN</td>\n",
              "      <td>60</td>\n",
              "      <td>secondary education</td>\n",
              "      <td>1</td>\n",
              "      <td>married</td>\n",
              "      <td>0</td>\n",
              "      <td>F</td>\n",
              "      <td>retiree</td>\n",
              "      <td>0</td>\n",
              "      <td>NaN</td>\n",
              "      <td>to become educated</td>\n",
              "    </tr>\n",
              "    <tr>\n",
              "      <th>21132</th>\n",
              "      <td>0</td>\n",
              "      <td>NaN</td>\n",
              "      <td>47</td>\n",
              "      <td>secondary education</td>\n",
              "      <td>1</td>\n",
              "      <td>married</td>\n",
              "      <td>0</td>\n",
              "      <td>F</td>\n",
              "      <td>employee</td>\n",
              "      <td>0</td>\n",
              "      <td>NaN</td>\n",
              "      <td>housing renovation</td>\n",
              "    </tr>\n",
              "    <tr>\n",
              "      <th>21281</th>\n",
              "      <td>1</td>\n",
              "      <td>NaN</td>\n",
              "      <td>30</td>\n",
              "      <td>bachelor's degree</td>\n",
              "      <td>0</td>\n",
              "      <td>married</td>\n",
              "      <td>0</td>\n",
              "      <td>F</td>\n",
              "      <td>employee</td>\n",
              "      <td>0</td>\n",
              "      <td>NaN</td>\n",
              "      <td>buy commercial real estate</td>\n",
              "    </tr>\n",
              "    <tr>\n",
              "      <th>21415</th>\n",
              "      <td>0</td>\n",
              "      <td>NaN</td>\n",
              "      <td>54</td>\n",
              "      <td>secondary education</td>\n",
              "      <td>1</td>\n",
              "      <td>married</td>\n",
              "      <td>0</td>\n",
              "      <td>F</td>\n",
              "      <td>retiree</td>\n",
              "      <td>0</td>\n",
              "      <td>NaN</td>\n",
              "      <td>housing transactions</td>\n",
              "    </tr>\n",
              "  </tbody>\n",
              "</table>\n",
              "<p>71 rows × 12 columns</p>\n",
              "</div>\n",
              "      <button class=\"colab-df-convert\" onclick=\"convertToInteractive('df-b82721d4-b69d-4588-9184-080a3c7ef4df')\"\n",
              "              title=\"Convert this dataframe to an interactive table.\"\n",
              "              style=\"display:none;\">\n",
              "        \n",
              "  <svg xmlns=\"http://www.w3.org/2000/svg\" height=\"24px\"viewBox=\"0 0 24 24\"\n",
              "       width=\"24px\">\n",
              "    <path d=\"M0 0h24v24H0V0z\" fill=\"none\"/>\n",
              "    <path d=\"M18.56 5.44l.94 2.06.94-2.06 2.06-.94-2.06-.94-.94-2.06-.94 2.06-2.06.94zm-11 1L8.5 8.5l.94-2.06 2.06-.94-2.06-.94L8.5 2.5l-.94 2.06-2.06.94zm10 10l.94 2.06.94-2.06 2.06-.94-2.06-.94-.94-2.06-.94 2.06-2.06.94z\"/><path d=\"M17.41 7.96l-1.37-1.37c-.4-.4-.92-.59-1.43-.59-.52 0-1.04.2-1.43.59L10.3 9.45l-7.72 7.72c-.78.78-.78 2.05 0 2.83L4 21.41c.39.39.9.59 1.41.59.51 0 1.02-.2 1.41-.59l7.78-7.78 2.81-2.81c.8-.78.8-2.07 0-2.86zM5.41 20L4 18.59l7.72-7.72 1.47 1.35L5.41 20z\"/>\n",
              "  </svg>\n",
              "      </button>\n",
              "      \n",
              "  <style>\n",
              "    .colab-df-container {\n",
              "      display:flex;\n",
              "      flex-wrap:wrap;\n",
              "      gap: 12px;\n",
              "    }\n",
              "\n",
              "    .colab-df-convert {\n",
              "      background-color: #E8F0FE;\n",
              "      border: none;\n",
              "      border-radius: 50%;\n",
              "      cursor: pointer;\n",
              "      display: none;\n",
              "      fill: #1967D2;\n",
              "      height: 32px;\n",
              "      padding: 0 0 0 0;\n",
              "      width: 32px;\n",
              "    }\n",
              "\n",
              "    .colab-df-convert:hover {\n",
              "      background-color: #E2EBFA;\n",
              "      box-shadow: 0px 1px 2px rgba(60, 64, 67, 0.3), 0px 1px 3px 1px rgba(60, 64, 67, 0.15);\n",
              "      fill: #174EA6;\n",
              "    }\n",
              "\n",
              "    [theme=dark] .colab-df-convert {\n",
              "      background-color: #3B4455;\n",
              "      fill: #D2E3FC;\n",
              "    }\n",
              "\n",
              "    [theme=dark] .colab-df-convert:hover {\n",
              "      background-color: #434B5C;\n",
              "      box-shadow: 0px 1px 3px 1px rgba(0, 0, 0, 0.15);\n",
              "      filter: drop-shadow(0px 1px 2px rgba(0, 0, 0, 0.3));\n",
              "      fill: #FFFFFF;\n",
              "    }\n",
              "  </style>\n",
              "\n",
              "      <script>\n",
              "        const buttonEl =\n",
              "          document.querySelector('#df-b82721d4-b69d-4588-9184-080a3c7ef4df button.colab-df-convert');\n",
              "        buttonEl.style.display =\n",
              "          google.colab.kernel.accessAllowed ? 'block' : 'none';\n",
              "\n",
              "        async function convertToInteractive(key) {\n",
              "          const element = document.querySelector('#df-b82721d4-b69d-4588-9184-080a3c7ef4df');\n",
              "          const dataTable =\n",
              "            await google.colab.kernel.invokeFunction('convertToInteractive',\n",
              "                                                     [key], {});\n",
              "          if (!dataTable) return;\n",
              "\n",
              "          const docLinkHtml = 'Like what you see? Visit the ' +\n",
              "            '<a target=\"_blank\" href=https://colab.research.google.com/notebooks/data_table.ipynb>data table notebook</a>'\n",
              "            + ' to learn more about interactive tables.';\n",
              "          element.innerHTML = '';\n",
              "          dataTable['output_type'] = 'display_data';\n",
              "          await google.colab.output.renderOutput(dataTable, element);\n",
              "          const docLink = document.createElement('div');\n",
              "          docLink.innerHTML = docLinkHtml;\n",
              "          element.appendChild(docLink);\n",
              "        }\n",
              "      </script>\n",
              "    </div>\n",
              "  </div>\n",
              "  "
            ]
          },
          "metadata": {},
          "execution_count": 60
        }
      ],
      "source": [
        "# Periksa duplikat   \n",
        "df_clean.loc[df_clean.duplicated() == True]"
      ]
    },
    {
      "cell_type": "markdown",
      "metadata": {
        "id": "qnkyynS-A6ub"
      },
      "source": [
        "Ada 71 data yang yang terdeteksi sebagai data duplikat. Selanjutnya saya akan menghapus data-data duplikat tersebut."
      ]
    },
    {
      "cell_type": "code",
      "execution_count": null,
      "metadata": {
        "colab": {
          "base_uri": "https://localhost:8080/",
          "height": 423
        },
        "id": "GBF5svaZA6ub",
        "outputId": "51fb59c8-b072-44a0-bb7a-e36dc4012dc1"
      },
      "outputs": [
        {
          "output_type": "execute_result",
          "data": {
            "text/plain": [
              "       children  days_employed  dob_years            education  education_id  \\\n",
              "0             1         8437.0         42    bachelor's degree             0   \n",
              "1             1         4024.0         36  secondary education             1   \n",
              "2             0         5623.0         33  secondary education             1   \n",
              "3             3         4124.0         32  secondary education             1   \n",
              "4             0       340266.0         53  secondary education             1   \n",
              "...         ...            ...        ...                  ...           ...   \n",
              "21347         1         4529.0         43  secondary education             1   \n",
              "21348         0       343937.0         67  secondary education             1   \n",
              "21349         1         2113.0         38  secondary education             1   \n",
              "21350         3         3112.0         38  secondary education             1   \n",
              "21351         2         1984.0         40  secondary education             1   \n",
              "\n",
              "           family_status  family_status_id gender income_type  debt  \\\n",
              "0                married                 0      F    employee     0   \n",
              "1                married                 0      F    employee     0   \n",
              "2                married                 0      M    employee     0   \n",
              "3                married                 0      M    employee     0   \n",
              "4      civil partnership                 1      F     retiree     0   \n",
              "...                  ...               ...    ...         ...   ...   \n",
              "21347  civil partnership                 1      F    business     0   \n",
              "21348            married                 0      F     retiree     0   \n",
              "21349  civil partnership                 1      M    employee     1   \n",
              "21350            married                 0      M    employee     1   \n",
              "21351            married                 0      F    employee     0   \n",
              "\n",
              "       total_income                  purpose  \n",
              "0         40620.102    purchase of the house  \n",
              "1         17932.802             car purchase  \n",
              "2         23341.752    purchase of the house  \n",
              "3         42820.568  supplementary education  \n",
              "4         25378.572        to have a wedding  \n",
              "...             ...                      ...  \n",
              "21347     35966.698     housing transactions  \n",
              "21348     24959.969        purchase of a car  \n",
              "21349     14347.610                 property  \n",
              "21350     39054.888        buying my own car  \n",
              "21351     13127.587             to buy a car  \n",
              "\n",
              "[21352 rows x 12 columns]"
            ],
            "text/html": [
              "\n",
              "  <div id=\"df-8d7cf40c-2185-4da3-aa27-730629b34a67\">\n",
              "    <div class=\"colab-df-container\">\n",
              "      <div>\n",
              "<style scoped>\n",
              "    .dataframe tbody tr th:only-of-type {\n",
              "        vertical-align: middle;\n",
              "    }\n",
              "\n",
              "    .dataframe tbody tr th {\n",
              "        vertical-align: top;\n",
              "    }\n",
              "\n",
              "    .dataframe thead th {\n",
              "        text-align: right;\n",
              "    }\n",
              "</style>\n",
              "<table border=\"1\" class=\"dataframe\">\n",
              "  <thead>\n",
              "    <tr style=\"text-align: right;\">\n",
              "      <th></th>\n",
              "      <th>children</th>\n",
              "      <th>days_employed</th>\n",
              "      <th>dob_years</th>\n",
              "      <th>education</th>\n",
              "      <th>education_id</th>\n",
              "      <th>family_status</th>\n",
              "      <th>family_status_id</th>\n",
              "      <th>gender</th>\n",
              "      <th>income_type</th>\n",
              "      <th>debt</th>\n",
              "      <th>total_income</th>\n",
              "      <th>purpose</th>\n",
              "    </tr>\n",
              "  </thead>\n",
              "  <tbody>\n",
              "    <tr>\n",
              "      <th>0</th>\n",
              "      <td>1</td>\n",
              "      <td>8437.0</td>\n",
              "      <td>42</td>\n",
              "      <td>bachelor's degree</td>\n",
              "      <td>0</td>\n",
              "      <td>married</td>\n",
              "      <td>0</td>\n",
              "      <td>F</td>\n",
              "      <td>employee</td>\n",
              "      <td>0</td>\n",
              "      <td>40620.102</td>\n",
              "      <td>purchase of the house</td>\n",
              "    </tr>\n",
              "    <tr>\n",
              "      <th>1</th>\n",
              "      <td>1</td>\n",
              "      <td>4024.0</td>\n",
              "      <td>36</td>\n",
              "      <td>secondary education</td>\n",
              "      <td>1</td>\n",
              "      <td>married</td>\n",
              "      <td>0</td>\n",
              "      <td>F</td>\n",
              "      <td>employee</td>\n",
              "      <td>0</td>\n",
              "      <td>17932.802</td>\n",
              "      <td>car purchase</td>\n",
              "    </tr>\n",
              "    <tr>\n",
              "      <th>2</th>\n",
              "      <td>0</td>\n",
              "      <td>5623.0</td>\n",
              "      <td>33</td>\n",
              "      <td>secondary education</td>\n",
              "      <td>1</td>\n",
              "      <td>married</td>\n",
              "      <td>0</td>\n",
              "      <td>M</td>\n",
              "      <td>employee</td>\n",
              "      <td>0</td>\n",
              "      <td>23341.752</td>\n",
              "      <td>purchase of the house</td>\n",
              "    </tr>\n",
              "    <tr>\n",
              "      <th>3</th>\n",
              "      <td>3</td>\n",
              "      <td>4124.0</td>\n",
              "      <td>32</td>\n",
              "      <td>secondary education</td>\n",
              "      <td>1</td>\n",
              "      <td>married</td>\n",
              "      <td>0</td>\n",
              "      <td>M</td>\n",
              "      <td>employee</td>\n",
              "      <td>0</td>\n",
              "      <td>42820.568</td>\n",
              "      <td>supplementary education</td>\n",
              "    </tr>\n",
              "    <tr>\n",
              "      <th>4</th>\n",
              "      <td>0</td>\n",
              "      <td>340266.0</td>\n",
              "      <td>53</td>\n",
              "      <td>secondary education</td>\n",
              "      <td>1</td>\n",
              "      <td>civil partnership</td>\n",
              "      <td>1</td>\n",
              "      <td>F</td>\n",
              "      <td>retiree</td>\n",
              "      <td>0</td>\n",
              "      <td>25378.572</td>\n",
              "      <td>to have a wedding</td>\n",
              "    </tr>\n",
              "    <tr>\n",
              "      <th>...</th>\n",
              "      <td>...</td>\n",
              "      <td>...</td>\n",
              "      <td>...</td>\n",
              "      <td>...</td>\n",
              "      <td>...</td>\n",
              "      <td>...</td>\n",
              "      <td>...</td>\n",
              "      <td>...</td>\n",
              "      <td>...</td>\n",
              "      <td>...</td>\n",
              "      <td>...</td>\n",
              "      <td>...</td>\n",
              "    </tr>\n",
              "    <tr>\n",
              "      <th>21347</th>\n",
              "      <td>1</td>\n",
              "      <td>4529.0</td>\n",
              "      <td>43</td>\n",
              "      <td>secondary education</td>\n",
              "      <td>1</td>\n",
              "      <td>civil partnership</td>\n",
              "      <td>1</td>\n",
              "      <td>F</td>\n",
              "      <td>business</td>\n",
              "      <td>0</td>\n",
              "      <td>35966.698</td>\n",
              "      <td>housing transactions</td>\n",
              "    </tr>\n",
              "    <tr>\n",
              "      <th>21348</th>\n",
              "      <td>0</td>\n",
              "      <td>343937.0</td>\n",
              "      <td>67</td>\n",
              "      <td>secondary education</td>\n",
              "      <td>1</td>\n",
              "      <td>married</td>\n",
              "      <td>0</td>\n",
              "      <td>F</td>\n",
              "      <td>retiree</td>\n",
              "      <td>0</td>\n",
              "      <td>24959.969</td>\n",
              "      <td>purchase of a car</td>\n",
              "    </tr>\n",
              "    <tr>\n",
              "      <th>21349</th>\n",
              "      <td>1</td>\n",
              "      <td>2113.0</td>\n",
              "      <td>38</td>\n",
              "      <td>secondary education</td>\n",
              "      <td>1</td>\n",
              "      <td>civil partnership</td>\n",
              "      <td>1</td>\n",
              "      <td>M</td>\n",
              "      <td>employee</td>\n",
              "      <td>1</td>\n",
              "      <td>14347.610</td>\n",
              "      <td>property</td>\n",
              "    </tr>\n",
              "    <tr>\n",
              "      <th>21350</th>\n",
              "      <td>3</td>\n",
              "      <td>3112.0</td>\n",
              "      <td>38</td>\n",
              "      <td>secondary education</td>\n",
              "      <td>1</td>\n",
              "      <td>married</td>\n",
              "      <td>0</td>\n",
              "      <td>M</td>\n",
              "      <td>employee</td>\n",
              "      <td>1</td>\n",
              "      <td>39054.888</td>\n",
              "      <td>buying my own car</td>\n",
              "    </tr>\n",
              "    <tr>\n",
              "      <th>21351</th>\n",
              "      <td>2</td>\n",
              "      <td>1984.0</td>\n",
              "      <td>40</td>\n",
              "      <td>secondary education</td>\n",
              "      <td>1</td>\n",
              "      <td>married</td>\n",
              "      <td>0</td>\n",
              "      <td>F</td>\n",
              "      <td>employee</td>\n",
              "      <td>0</td>\n",
              "      <td>13127.587</td>\n",
              "      <td>to buy a car</td>\n",
              "    </tr>\n",
              "  </tbody>\n",
              "</table>\n",
              "<p>21352 rows × 12 columns</p>\n",
              "</div>\n",
              "      <button class=\"colab-df-convert\" onclick=\"convertToInteractive('df-8d7cf40c-2185-4da3-aa27-730629b34a67')\"\n",
              "              title=\"Convert this dataframe to an interactive table.\"\n",
              "              style=\"display:none;\">\n",
              "        \n",
              "  <svg xmlns=\"http://www.w3.org/2000/svg\" height=\"24px\"viewBox=\"0 0 24 24\"\n",
              "       width=\"24px\">\n",
              "    <path d=\"M0 0h24v24H0V0z\" fill=\"none\"/>\n",
              "    <path d=\"M18.56 5.44l.94 2.06.94-2.06 2.06-.94-2.06-.94-.94-2.06-.94 2.06-2.06.94zm-11 1L8.5 8.5l.94-2.06 2.06-.94-2.06-.94L8.5 2.5l-.94 2.06-2.06.94zm10 10l.94 2.06.94-2.06 2.06-.94-2.06-.94-.94-2.06-.94 2.06-2.06.94z\"/><path d=\"M17.41 7.96l-1.37-1.37c-.4-.4-.92-.59-1.43-.59-.52 0-1.04.2-1.43.59L10.3 9.45l-7.72 7.72c-.78.78-.78 2.05 0 2.83L4 21.41c.39.39.9.59 1.41.59.51 0 1.02-.2 1.41-.59l7.78-7.78 2.81-2.81c.8-.78.8-2.07 0-2.86zM5.41 20L4 18.59l7.72-7.72 1.47 1.35L5.41 20z\"/>\n",
              "  </svg>\n",
              "      </button>\n",
              "      \n",
              "  <style>\n",
              "    .colab-df-container {\n",
              "      display:flex;\n",
              "      flex-wrap:wrap;\n",
              "      gap: 12px;\n",
              "    }\n",
              "\n",
              "    .colab-df-convert {\n",
              "      background-color: #E8F0FE;\n",
              "      border: none;\n",
              "      border-radius: 50%;\n",
              "      cursor: pointer;\n",
              "      display: none;\n",
              "      fill: #1967D2;\n",
              "      height: 32px;\n",
              "      padding: 0 0 0 0;\n",
              "      width: 32px;\n",
              "    }\n",
              "\n",
              "    .colab-df-convert:hover {\n",
              "      background-color: #E2EBFA;\n",
              "      box-shadow: 0px 1px 2px rgba(60, 64, 67, 0.3), 0px 1px 3px 1px rgba(60, 64, 67, 0.15);\n",
              "      fill: #174EA6;\n",
              "    }\n",
              "\n",
              "    [theme=dark] .colab-df-convert {\n",
              "      background-color: #3B4455;\n",
              "      fill: #D2E3FC;\n",
              "    }\n",
              "\n",
              "    [theme=dark] .colab-df-convert:hover {\n",
              "      background-color: #434B5C;\n",
              "      box-shadow: 0px 1px 3px 1px rgba(0, 0, 0, 0.15);\n",
              "      filter: drop-shadow(0px 1px 2px rgba(0, 0, 0, 0.3));\n",
              "      fill: #FFFFFF;\n",
              "    }\n",
              "  </style>\n",
              "\n",
              "      <script>\n",
              "        const buttonEl =\n",
              "          document.querySelector('#df-8d7cf40c-2185-4da3-aa27-730629b34a67 button.colab-df-convert');\n",
              "        buttonEl.style.display =\n",
              "          google.colab.kernel.accessAllowed ? 'block' : 'none';\n",
              "\n",
              "        async function convertToInteractive(key) {\n",
              "          const element = document.querySelector('#df-8d7cf40c-2185-4da3-aa27-730629b34a67');\n",
              "          const dataTable =\n",
              "            await google.colab.kernel.invokeFunction('convertToInteractive',\n",
              "                                                     [key], {});\n",
              "          if (!dataTable) return;\n",
              "\n",
              "          const docLinkHtml = 'Like what you see? Visit the ' +\n",
              "            '<a target=\"_blank\" href=https://colab.research.google.com/notebooks/data_table.ipynb>data table notebook</a>'\n",
              "            + ' to learn more about interactive tables.';\n",
              "          element.innerHTML = '';\n",
              "          dataTable['output_type'] = 'display_data';\n",
              "          await google.colab.output.renderOutput(dataTable, element);\n",
              "          const docLink = document.createElement('div');\n",
              "          docLink.innerHTML = docLinkHtml;\n",
              "          element.appendChild(docLink);\n",
              "        }\n",
              "      </script>\n",
              "    </div>\n",
              "  </div>\n",
              "  "
            ]
          },
          "metadata": {},
          "execution_count": 61
        }
      ],
      "source": [
        "# Atasi duplikat, jika ada\n",
        "df_clean.drop_duplicates(inplace=True)\n",
        "df_drop = df_clean.reset_index(drop=True).copy()\n",
        "df_drop"
      ]
    },
    {
      "cell_type": "code",
      "execution_count": null,
      "metadata": {
        "colab": {
          "base_uri": "https://localhost:8080/",
          "height": 49
        },
        "id": "sJpIppGoA6uc",
        "outputId": "ffd06c40-3260-4c2b-a866-636afca6f277"
      },
      "outputs": [
        {
          "output_type": "execute_result",
          "data": {
            "text/plain": [
              "Empty DataFrame\n",
              "Columns: [children, days_employed, dob_years, education, education_id, family_status, family_status_id, gender, income_type, debt, total_income, purpose]\n",
              "Index: []"
            ],
            "text/html": [
              "\n",
              "  <div id=\"df-f654c3f0-6a65-4403-bb74-76b867144e2d\">\n",
              "    <div class=\"colab-df-container\">\n",
              "      <div>\n",
              "<style scoped>\n",
              "    .dataframe tbody tr th:only-of-type {\n",
              "        vertical-align: middle;\n",
              "    }\n",
              "\n",
              "    .dataframe tbody tr th {\n",
              "        vertical-align: top;\n",
              "    }\n",
              "\n",
              "    .dataframe thead th {\n",
              "        text-align: right;\n",
              "    }\n",
              "</style>\n",
              "<table border=\"1\" class=\"dataframe\">\n",
              "  <thead>\n",
              "    <tr style=\"text-align: right;\">\n",
              "      <th></th>\n",
              "      <th>children</th>\n",
              "      <th>days_employed</th>\n",
              "      <th>dob_years</th>\n",
              "      <th>education</th>\n",
              "      <th>education_id</th>\n",
              "      <th>family_status</th>\n",
              "      <th>family_status_id</th>\n",
              "      <th>gender</th>\n",
              "      <th>income_type</th>\n",
              "      <th>debt</th>\n",
              "      <th>total_income</th>\n",
              "      <th>purpose</th>\n",
              "    </tr>\n",
              "  </thead>\n",
              "  <tbody>\n",
              "  </tbody>\n",
              "</table>\n",
              "</div>\n",
              "      <button class=\"colab-df-convert\" onclick=\"convertToInteractive('df-f654c3f0-6a65-4403-bb74-76b867144e2d')\"\n",
              "              title=\"Convert this dataframe to an interactive table.\"\n",
              "              style=\"display:none;\">\n",
              "        \n",
              "  <svg xmlns=\"http://www.w3.org/2000/svg\" height=\"24px\"viewBox=\"0 0 24 24\"\n",
              "       width=\"24px\">\n",
              "    <path d=\"M0 0h24v24H0V0z\" fill=\"none\"/>\n",
              "    <path d=\"M18.56 5.44l.94 2.06.94-2.06 2.06-.94-2.06-.94-.94-2.06-.94 2.06-2.06.94zm-11 1L8.5 8.5l.94-2.06 2.06-.94-2.06-.94L8.5 2.5l-.94 2.06-2.06.94zm10 10l.94 2.06.94-2.06 2.06-.94-2.06-.94-.94-2.06-.94 2.06-2.06.94z\"/><path d=\"M17.41 7.96l-1.37-1.37c-.4-.4-.92-.59-1.43-.59-.52 0-1.04.2-1.43.59L10.3 9.45l-7.72 7.72c-.78.78-.78 2.05 0 2.83L4 21.41c.39.39.9.59 1.41.59.51 0 1.02-.2 1.41-.59l7.78-7.78 2.81-2.81c.8-.78.8-2.07 0-2.86zM5.41 20L4 18.59l7.72-7.72 1.47 1.35L5.41 20z\"/>\n",
              "  </svg>\n",
              "      </button>\n",
              "      \n",
              "  <style>\n",
              "    .colab-df-container {\n",
              "      display:flex;\n",
              "      flex-wrap:wrap;\n",
              "      gap: 12px;\n",
              "    }\n",
              "\n",
              "    .colab-df-convert {\n",
              "      background-color: #E8F0FE;\n",
              "      border: none;\n",
              "      border-radius: 50%;\n",
              "      cursor: pointer;\n",
              "      display: none;\n",
              "      fill: #1967D2;\n",
              "      height: 32px;\n",
              "      padding: 0 0 0 0;\n",
              "      width: 32px;\n",
              "    }\n",
              "\n",
              "    .colab-df-convert:hover {\n",
              "      background-color: #E2EBFA;\n",
              "      box-shadow: 0px 1px 2px rgba(60, 64, 67, 0.3), 0px 1px 3px 1px rgba(60, 64, 67, 0.15);\n",
              "      fill: #174EA6;\n",
              "    }\n",
              "\n",
              "    [theme=dark] .colab-df-convert {\n",
              "      background-color: #3B4455;\n",
              "      fill: #D2E3FC;\n",
              "    }\n",
              "\n",
              "    [theme=dark] .colab-df-convert:hover {\n",
              "      background-color: #434B5C;\n",
              "      box-shadow: 0px 1px 3px 1px rgba(0, 0, 0, 0.15);\n",
              "      filter: drop-shadow(0px 1px 2px rgba(0, 0, 0, 0.3));\n",
              "      fill: #FFFFFF;\n",
              "    }\n",
              "  </style>\n",
              "\n",
              "      <script>\n",
              "        const buttonEl =\n",
              "          document.querySelector('#df-f654c3f0-6a65-4403-bb74-76b867144e2d button.colab-df-convert');\n",
              "        buttonEl.style.display =\n",
              "          google.colab.kernel.accessAllowed ? 'block' : 'none';\n",
              "\n",
              "        async function convertToInteractive(key) {\n",
              "          const element = document.querySelector('#df-f654c3f0-6a65-4403-bb74-76b867144e2d');\n",
              "          const dataTable =\n",
              "            await google.colab.kernel.invokeFunction('convertToInteractive',\n",
              "                                                     [key], {});\n",
              "          if (!dataTable) return;\n",
              "\n",
              "          const docLinkHtml = 'Like what you see? Visit the ' +\n",
              "            '<a target=\"_blank\" href=https://colab.research.google.com/notebooks/data_table.ipynb>data table notebook</a>'\n",
              "            + ' to learn more about interactive tables.';\n",
              "          element.innerHTML = '';\n",
              "          dataTable['output_type'] = 'display_data';\n",
              "          await google.colab.output.renderOutput(dataTable, element);\n",
              "          const docLink = document.createElement('div');\n",
              "          docLink.innerHTML = docLinkHtml;\n",
              "          element.appendChild(docLink);\n",
              "        }\n",
              "      </script>\n",
              "    </div>\n",
              "  </div>\n",
              "  "
            ]
          },
          "metadata": {},
          "execution_count": 62
        }
      ],
      "source": [
        "# Lakukan pemeriksaan terakhir untuk mengecek apakah kita memiliki duplikat\n",
        "df_drop.loc[df_drop.duplicated() == True]"
      ]
    },
    {
      "cell_type": "markdown",
      "metadata": {
        "id": "iz2cLaWRA6uc"
      },
      "source": [
        "Data duplikatnya sudah tidak ada. "
      ]
    },
    {
      "cell_type": "code",
      "execution_count": null,
      "metadata": {
        "colab": {
          "base_uri": "https://localhost:8080/"
        },
        "id": "PHMpYrpKA6uc",
        "outputId": "61dc4490-2943-4bd7-a207-e8212ad73191"
      },
      "outputs": [
        {
          "output_type": "execute_result",
          "data": {
            "text/plain": [
              "(21352, 12)"
            ]
          },
          "metadata": {},
          "execution_count": 63
        }
      ],
      "source": [
        "# Periksa ukuran dataset yang sekarang Anda miliki setelah manipulasi pertama yang Anda lakukan\n",
        "df_drop.shape"
      ]
    },
    {
      "cell_type": "markdown",
      "metadata": {
        "id": "Xeo3n-uIA6uc"
      },
      "source": [
        "Data yang masih tersisa ada `21,352`, dari sebelumnya `21,525`. Datanya masih cukup banyak. "
      ]
    },
    {
      "cell_type": "markdown",
      "metadata": {
        "id": "uCCHClf-A6ud"
      },
      "source": [
        "# Bekerja dengan nilai yang hilang"
      ]
    },
    {
      "cell_type": "markdown",
      "metadata": {
        "id": "AeyvbNINA6ud"
      },
      "source": [
        "## Dictionary dari `education_id` dan `family_status`."
      ]
    },
    {
      "cell_type": "code",
      "execution_count": null,
      "metadata": {
        "colab": {
          "base_uri": "https://localhost:8080/"
        },
        "id": "xN1NUVD8A6ud",
        "outputId": "6473221e-d236-4f0e-a625-794744b12789"
      },
      "outputs": [
        {
          "output_type": "execute_result",
          "data": {
            "text/plain": [
              "(   education_id            education\n",
              " 0             0    bachelor's degree\n",
              " 1             1  secondary education\n",
              " 2             2         some college\n",
              " 3             3    primary education\n",
              " 4             4      graduate degree,    family_status_id      family_status\n",
              " 0                 0            married\n",
              " 1                 1  civil partnership\n",
              " 2                 2    widow / widower\n",
              " 3                 3           divorced\n",
              " 4                 4          unmarried)"
            ]
          },
          "metadata": {},
          "execution_count": 64
        }
      ],
      "source": [
        "# Temukan dictionary\n",
        "\n",
        "def new_dict (data, col_id, col) :\n",
        "        result = data[[col_id, col]]\n",
        "        result = result.drop_duplicates().reset_index(drop=True)\n",
        "        return result\n",
        "    \n",
        "education_dict = new_dict(df_drop, 'education_id', 'education')\n",
        "family_status_dict = new_dict(df_drop, 'family_status_id', 'family_status')\n",
        "\n",
        "education_dict, family_status_dict"
      ]
    },
    {
      "cell_type": "markdown",
      "metadata": {
        "id": "hzOizrcJA6ud"
      },
      "source": [
        "Data diatas adalah `dictionary` dari kolom `education_id` dan `family_status`."
      ]
    },
    {
      "cell_type": "markdown",
      "metadata": {
        "id": "Nn5z-HLKA6ud"
      },
      "source": [
        "### Memperbaiki nilai yang hilang di `total_income`"
      ]
    },
    {
      "cell_type": "markdown",
      "metadata": {
        "id": "iC_gqe9vA6ud"
      },
      "source": [
        "#### Membuat kelompok usia"
      ]
    },
    {
      "cell_type": "code",
      "execution_count": null,
      "metadata": {
        "id": "xPNk-pxeA6ue"
      },
      "outputs": [],
      "source": [
        "# Mari kita tulis sebuah fungsi untuk menghitung kategori usia\n",
        "def dob_group (age):\n",
        "    if age > 75:\n",
        "        return 'above 75'\n",
        "    elif age >= 66 and age <= 75:\n",
        "        return '66-75'\n",
        "    elif age >= 56 and age <= 65:\n",
        "        return '56-65'\n",
        "    elif age >= 46 and age <= 55:\n",
        "        return '46-55'\n",
        "    elif age >= 36 and age <= 45:\n",
        "        return '36-45'\n",
        "    elif age >= 26 and age <= 35:\n",
        "        return '26-35'\n",
        "    elif age >= 16 and age <= 25:\n",
        "        return '16-25'\n",
        "    elif age < 16:\n",
        "        return 'under 16'\n",
        "            \n",
        "    "
      ]
    },
    {
      "cell_type": "markdown",
      "metadata": {
        "id": "0pLxNQ0rA6ue"
      },
      "source": [
        "Sebelum mengisi nilai yang hilang di kolom `total_income`saya akan membuat kolom `kelompok usia` Fungsi diatas bertujuan untuk mengelompokan usia nasabah."
      ]
    },
    {
      "cell_type": "code",
      "execution_count": null,
      "metadata": {
        "colab": {
          "base_uri": "https://localhost:8080/"
        },
        "id": "D8Wx1_PTA6ue",
        "outputId": "31ff2e52-5a29-47f6-c721-b1a01e4dd2f7"
      },
      "outputs": [
        {
          "output_type": "stream",
          "name": "stdout",
          "text": [
            "above 75\n",
            "66-75\n",
            "66-75\n",
            "56-65\n",
            "46-55\n",
            "36-45\n",
            "26-35\n",
            "16-25\n",
            "16-25\n",
            "under 16\n"
          ]
        }
      ],
      "source": [
        "# Lakukan pengujian untuk melihat apakah fungsi Anda bekerja atau tidak\n",
        "print(dob_group(80))\n",
        "print(dob_group(75))\n",
        "print(dob_group(70))\n",
        "print(dob_group(60))\n",
        "print(dob_group(50))\n",
        "print(dob_group(40))\n",
        "print(dob_group(30))\n",
        "print(dob_group(20))\n",
        "print(dob_group(16))\n",
        "print(dob_group(15))"
      ]
    },
    {
      "cell_type": "markdown",
      "source": [
        "Fungsi telah diuji dan berhasil, karena itu selanjutnya saya akan menerapkan di dataset."
      ],
      "metadata": {
        "id": "KXnSJ8EVGT56"
      }
    },
    {
      "cell_type": "code",
      "execution_count": null,
      "metadata": {
        "id": "M5W0nZ2RA6ue"
      },
      "outputs": [],
      "source": [
        "# Buatlah kolom baru berdasarkan fungsi\n",
        "df_drop['dob_group'] = df_drop['dob_years'].apply(dob_group)"
      ]
    },
    {
      "cell_type": "code",
      "execution_count": null,
      "metadata": {
        "colab": {
          "base_uri": "https://localhost:8080/",
          "height": 423
        },
        "id": "eEJ7LbAAA6uf",
        "outputId": "9a8b374a-4d5f-4340-dfa7-d99783384f72"
      },
      "outputs": [
        {
          "output_type": "execute_result",
          "data": {
            "text/plain": [
              "       children  days_employed  dob_years            education  education_id  \\\n",
              "0             1         8437.0         42    bachelor's degree             0   \n",
              "1             1         4024.0         36  secondary education             1   \n",
              "2             0         5623.0         33  secondary education             1   \n",
              "3             3         4124.0         32  secondary education             1   \n",
              "4             0       340266.0         53  secondary education             1   \n",
              "...         ...            ...        ...                  ...           ...   \n",
              "21347         1         4529.0         43  secondary education             1   \n",
              "21348         0       343937.0         67  secondary education             1   \n",
              "21349         1         2113.0         38  secondary education             1   \n",
              "21350         3         3112.0         38  secondary education             1   \n",
              "21351         2         1984.0         40  secondary education             1   \n",
              "\n",
              "           family_status  family_status_id gender income_type  debt  \\\n",
              "0                married                 0      F    employee     0   \n",
              "1                married                 0      F    employee     0   \n",
              "2                married                 0      M    employee     0   \n",
              "3                married                 0      M    employee     0   \n",
              "4      civil partnership                 1      F     retiree     0   \n",
              "...                  ...               ...    ...         ...   ...   \n",
              "21347  civil partnership                 1      F    business     0   \n",
              "21348            married                 0      F     retiree     0   \n",
              "21349  civil partnership                 1      M    employee     1   \n",
              "21350            married                 0      M    employee     1   \n",
              "21351            married                 0      F    employee     0   \n",
              "\n",
              "       total_income                  purpose dob_group  \n",
              "0         40620.102    purchase of the house     36-45  \n",
              "1         17932.802             car purchase     36-45  \n",
              "2         23341.752    purchase of the house     26-35  \n",
              "3         42820.568  supplementary education     26-35  \n",
              "4         25378.572        to have a wedding     46-55  \n",
              "...             ...                      ...       ...  \n",
              "21347     35966.698     housing transactions     36-45  \n",
              "21348     24959.969        purchase of a car     66-75  \n",
              "21349     14347.610                 property     36-45  \n",
              "21350     39054.888        buying my own car     36-45  \n",
              "21351     13127.587             to buy a car     36-45  \n",
              "\n",
              "[21352 rows x 13 columns]"
            ],
            "text/html": [
              "\n",
              "  <div id=\"df-1e2b3923-14c6-4fe2-8bb9-d29203056354\">\n",
              "    <div class=\"colab-df-container\">\n",
              "      <div>\n",
              "<style scoped>\n",
              "    .dataframe tbody tr th:only-of-type {\n",
              "        vertical-align: middle;\n",
              "    }\n",
              "\n",
              "    .dataframe tbody tr th {\n",
              "        vertical-align: top;\n",
              "    }\n",
              "\n",
              "    .dataframe thead th {\n",
              "        text-align: right;\n",
              "    }\n",
              "</style>\n",
              "<table border=\"1\" class=\"dataframe\">\n",
              "  <thead>\n",
              "    <tr style=\"text-align: right;\">\n",
              "      <th></th>\n",
              "      <th>children</th>\n",
              "      <th>days_employed</th>\n",
              "      <th>dob_years</th>\n",
              "      <th>education</th>\n",
              "      <th>education_id</th>\n",
              "      <th>family_status</th>\n",
              "      <th>family_status_id</th>\n",
              "      <th>gender</th>\n",
              "      <th>income_type</th>\n",
              "      <th>debt</th>\n",
              "      <th>total_income</th>\n",
              "      <th>purpose</th>\n",
              "      <th>dob_group</th>\n",
              "    </tr>\n",
              "  </thead>\n",
              "  <tbody>\n",
              "    <tr>\n",
              "      <th>0</th>\n",
              "      <td>1</td>\n",
              "      <td>8437.0</td>\n",
              "      <td>42</td>\n",
              "      <td>bachelor's degree</td>\n",
              "      <td>0</td>\n",
              "      <td>married</td>\n",
              "      <td>0</td>\n",
              "      <td>F</td>\n",
              "      <td>employee</td>\n",
              "      <td>0</td>\n",
              "      <td>40620.102</td>\n",
              "      <td>purchase of the house</td>\n",
              "      <td>36-45</td>\n",
              "    </tr>\n",
              "    <tr>\n",
              "      <th>1</th>\n",
              "      <td>1</td>\n",
              "      <td>4024.0</td>\n",
              "      <td>36</td>\n",
              "      <td>secondary education</td>\n",
              "      <td>1</td>\n",
              "      <td>married</td>\n",
              "      <td>0</td>\n",
              "      <td>F</td>\n",
              "      <td>employee</td>\n",
              "      <td>0</td>\n",
              "      <td>17932.802</td>\n",
              "      <td>car purchase</td>\n",
              "      <td>36-45</td>\n",
              "    </tr>\n",
              "    <tr>\n",
              "      <th>2</th>\n",
              "      <td>0</td>\n",
              "      <td>5623.0</td>\n",
              "      <td>33</td>\n",
              "      <td>secondary education</td>\n",
              "      <td>1</td>\n",
              "      <td>married</td>\n",
              "      <td>0</td>\n",
              "      <td>M</td>\n",
              "      <td>employee</td>\n",
              "      <td>0</td>\n",
              "      <td>23341.752</td>\n",
              "      <td>purchase of the house</td>\n",
              "      <td>26-35</td>\n",
              "    </tr>\n",
              "    <tr>\n",
              "      <th>3</th>\n",
              "      <td>3</td>\n",
              "      <td>4124.0</td>\n",
              "      <td>32</td>\n",
              "      <td>secondary education</td>\n",
              "      <td>1</td>\n",
              "      <td>married</td>\n",
              "      <td>0</td>\n",
              "      <td>M</td>\n",
              "      <td>employee</td>\n",
              "      <td>0</td>\n",
              "      <td>42820.568</td>\n",
              "      <td>supplementary education</td>\n",
              "      <td>26-35</td>\n",
              "    </tr>\n",
              "    <tr>\n",
              "      <th>4</th>\n",
              "      <td>0</td>\n",
              "      <td>340266.0</td>\n",
              "      <td>53</td>\n",
              "      <td>secondary education</td>\n",
              "      <td>1</td>\n",
              "      <td>civil partnership</td>\n",
              "      <td>1</td>\n",
              "      <td>F</td>\n",
              "      <td>retiree</td>\n",
              "      <td>0</td>\n",
              "      <td>25378.572</td>\n",
              "      <td>to have a wedding</td>\n",
              "      <td>46-55</td>\n",
              "    </tr>\n",
              "    <tr>\n",
              "      <th>...</th>\n",
              "      <td>...</td>\n",
              "      <td>...</td>\n",
              "      <td>...</td>\n",
              "      <td>...</td>\n",
              "      <td>...</td>\n",
              "      <td>...</td>\n",
              "      <td>...</td>\n",
              "      <td>...</td>\n",
              "      <td>...</td>\n",
              "      <td>...</td>\n",
              "      <td>...</td>\n",
              "      <td>...</td>\n",
              "      <td>...</td>\n",
              "    </tr>\n",
              "    <tr>\n",
              "      <th>21347</th>\n",
              "      <td>1</td>\n",
              "      <td>4529.0</td>\n",
              "      <td>43</td>\n",
              "      <td>secondary education</td>\n",
              "      <td>1</td>\n",
              "      <td>civil partnership</td>\n",
              "      <td>1</td>\n",
              "      <td>F</td>\n",
              "      <td>business</td>\n",
              "      <td>0</td>\n",
              "      <td>35966.698</td>\n",
              "      <td>housing transactions</td>\n",
              "      <td>36-45</td>\n",
              "    </tr>\n",
              "    <tr>\n",
              "      <th>21348</th>\n",
              "      <td>0</td>\n",
              "      <td>343937.0</td>\n",
              "      <td>67</td>\n",
              "      <td>secondary education</td>\n",
              "      <td>1</td>\n",
              "      <td>married</td>\n",
              "      <td>0</td>\n",
              "      <td>F</td>\n",
              "      <td>retiree</td>\n",
              "      <td>0</td>\n",
              "      <td>24959.969</td>\n",
              "      <td>purchase of a car</td>\n",
              "      <td>66-75</td>\n",
              "    </tr>\n",
              "    <tr>\n",
              "      <th>21349</th>\n",
              "      <td>1</td>\n",
              "      <td>2113.0</td>\n",
              "      <td>38</td>\n",
              "      <td>secondary education</td>\n",
              "      <td>1</td>\n",
              "      <td>civil partnership</td>\n",
              "      <td>1</td>\n",
              "      <td>M</td>\n",
              "      <td>employee</td>\n",
              "      <td>1</td>\n",
              "      <td>14347.610</td>\n",
              "      <td>property</td>\n",
              "      <td>36-45</td>\n",
              "    </tr>\n",
              "    <tr>\n",
              "      <th>21350</th>\n",
              "      <td>3</td>\n",
              "      <td>3112.0</td>\n",
              "      <td>38</td>\n",
              "      <td>secondary education</td>\n",
              "      <td>1</td>\n",
              "      <td>married</td>\n",
              "      <td>0</td>\n",
              "      <td>M</td>\n",
              "      <td>employee</td>\n",
              "      <td>1</td>\n",
              "      <td>39054.888</td>\n",
              "      <td>buying my own car</td>\n",
              "      <td>36-45</td>\n",
              "    </tr>\n",
              "    <tr>\n",
              "      <th>21351</th>\n",
              "      <td>2</td>\n",
              "      <td>1984.0</td>\n",
              "      <td>40</td>\n",
              "      <td>secondary education</td>\n",
              "      <td>1</td>\n",
              "      <td>married</td>\n",
              "      <td>0</td>\n",
              "      <td>F</td>\n",
              "      <td>employee</td>\n",
              "      <td>0</td>\n",
              "      <td>13127.587</td>\n",
              "      <td>to buy a car</td>\n",
              "      <td>36-45</td>\n",
              "    </tr>\n",
              "  </tbody>\n",
              "</table>\n",
              "<p>21352 rows × 13 columns</p>\n",
              "</div>\n",
              "      <button class=\"colab-df-convert\" onclick=\"convertToInteractive('df-1e2b3923-14c6-4fe2-8bb9-d29203056354')\"\n",
              "              title=\"Convert this dataframe to an interactive table.\"\n",
              "              style=\"display:none;\">\n",
              "        \n",
              "  <svg xmlns=\"http://www.w3.org/2000/svg\" height=\"24px\"viewBox=\"0 0 24 24\"\n",
              "       width=\"24px\">\n",
              "    <path d=\"M0 0h24v24H0V0z\" fill=\"none\"/>\n",
              "    <path d=\"M18.56 5.44l.94 2.06.94-2.06 2.06-.94-2.06-.94-.94-2.06-.94 2.06-2.06.94zm-11 1L8.5 8.5l.94-2.06 2.06-.94-2.06-.94L8.5 2.5l-.94 2.06-2.06.94zm10 10l.94 2.06.94-2.06 2.06-.94-2.06-.94-.94-2.06-.94 2.06-2.06.94z\"/><path d=\"M17.41 7.96l-1.37-1.37c-.4-.4-.92-.59-1.43-.59-.52 0-1.04.2-1.43.59L10.3 9.45l-7.72 7.72c-.78.78-.78 2.05 0 2.83L4 21.41c.39.39.9.59 1.41.59.51 0 1.02-.2 1.41-.59l7.78-7.78 2.81-2.81c.8-.78.8-2.07 0-2.86zM5.41 20L4 18.59l7.72-7.72 1.47 1.35L5.41 20z\"/>\n",
              "  </svg>\n",
              "      </button>\n",
              "      \n",
              "  <style>\n",
              "    .colab-df-container {\n",
              "      display:flex;\n",
              "      flex-wrap:wrap;\n",
              "      gap: 12px;\n",
              "    }\n",
              "\n",
              "    .colab-df-convert {\n",
              "      background-color: #E8F0FE;\n",
              "      border: none;\n",
              "      border-radius: 50%;\n",
              "      cursor: pointer;\n",
              "      display: none;\n",
              "      fill: #1967D2;\n",
              "      height: 32px;\n",
              "      padding: 0 0 0 0;\n",
              "      width: 32px;\n",
              "    }\n",
              "\n",
              "    .colab-df-convert:hover {\n",
              "      background-color: #E2EBFA;\n",
              "      box-shadow: 0px 1px 2px rgba(60, 64, 67, 0.3), 0px 1px 3px 1px rgba(60, 64, 67, 0.15);\n",
              "      fill: #174EA6;\n",
              "    }\n",
              "\n",
              "    [theme=dark] .colab-df-convert {\n",
              "      background-color: #3B4455;\n",
              "      fill: #D2E3FC;\n",
              "    }\n",
              "\n",
              "    [theme=dark] .colab-df-convert:hover {\n",
              "      background-color: #434B5C;\n",
              "      box-shadow: 0px 1px 3px 1px rgba(0, 0, 0, 0.15);\n",
              "      filter: drop-shadow(0px 1px 2px rgba(0, 0, 0, 0.3));\n",
              "      fill: #FFFFFF;\n",
              "    }\n",
              "  </style>\n",
              "\n",
              "      <script>\n",
              "        const buttonEl =\n",
              "          document.querySelector('#df-1e2b3923-14c6-4fe2-8bb9-d29203056354 button.colab-df-convert');\n",
              "        buttonEl.style.display =\n",
              "          google.colab.kernel.accessAllowed ? 'block' : 'none';\n",
              "\n",
              "        async function convertToInteractive(key) {\n",
              "          const element = document.querySelector('#df-1e2b3923-14c6-4fe2-8bb9-d29203056354');\n",
              "          const dataTable =\n",
              "            await google.colab.kernel.invokeFunction('convertToInteractive',\n",
              "                                                     [key], {});\n",
              "          if (!dataTable) return;\n",
              "\n",
              "          const docLinkHtml = 'Like what you see? Visit the ' +\n",
              "            '<a target=\"_blank\" href=https://colab.research.google.com/notebooks/data_table.ipynb>data table notebook</a>'\n",
              "            + ' to learn more about interactive tables.';\n",
              "          element.innerHTML = '';\n",
              "          dataTable['output_type'] = 'display_data';\n",
              "          await google.colab.output.renderOutput(dataTable, element);\n",
              "          const docLink = document.createElement('div');\n",
              "          docLink.innerHTML = docLinkHtml;\n",
              "          element.appendChild(docLink);\n",
              "        }\n",
              "      </script>\n",
              "    </div>\n",
              "  </div>\n",
              "  "
            ]
          },
          "metadata": {},
          "execution_count": 68
        }
      ],
      "source": [
        "# Periksa bagaimana nilai di dalam kolom baru\n",
        "df_drop"
      ]
    },
    {
      "cell_type": "markdown",
      "metadata": {
        "id": "gFG1qSJBA6uf"
      },
      "source": [
        "`kelompok usia` telah ditambahkan dengan nama `dob_group`."
      ]
    },
    {
      "cell_type": "code",
      "execution_count": null,
      "metadata": {
        "colab": {
          "base_uri": "https://localhost:8080/",
          "height": 423
        },
        "id": "OTPgzRbSA6uf",
        "outputId": "cf6e3e37-76d5-4666-ebc2-932e375697ec"
      },
      "outputs": [
        {
          "output_type": "execute_result",
          "data": {
            "text/plain": [
              "       children  days_employed  dob_years            education  education_id  \\\n",
              "0             1         8437.0         42    bachelor's degree             0   \n",
              "1             1         4024.0         36  secondary education             1   \n",
              "2             0         5623.0         33  secondary education             1   \n",
              "3             3         4124.0         32  secondary education             1   \n",
              "4             0       340266.0         53  secondary education             1   \n",
              "...         ...            ...        ...                  ...           ...   \n",
              "21347         1         4529.0         43  secondary education             1   \n",
              "21348         0       343937.0         67  secondary education             1   \n",
              "21349         1         2113.0         38  secondary education             1   \n",
              "21350         3         3112.0         38  secondary education             1   \n",
              "21351         2         1984.0         40  secondary education             1   \n",
              "\n",
              "           family_status  family_status_id gender income_type  debt  \\\n",
              "0                married                 0      F    employee     0   \n",
              "1                married                 0      F    employee     0   \n",
              "2                married                 0      M    employee     0   \n",
              "3                married                 0      M    employee     0   \n",
              "4      civil partnership                 1      F     retiree     0   \n",
              "...                  ...               ...    ...         ...   ...   \n",
              "21347  civil partnership                 1      F    business     0   \n",
              "21348            married                 0      F     retiree     0   \n",
              "21349  civil partnership                 1      M    employee     1   \n",
              "21350            married                 0      M    employee     1   \n",
              "21351            married                 0      F    employee     0   \n",
              "\n",
              "       total_income                  purpose dob_group  \n",
              "0         40620.102    purchase of the house     36-45  \n",
              "1         17932.802             car purchase     36-45  \n",
              "2         23341.752    purchase of the house     26-35  \n",
              "3         42820.568  supplementary education     26-35  \n",
              "4         25378.572        to have a wedding     46-55  \n",
              "...             ...                      ...       ...  \n",
              "21347     35966.698     housing transactions     36-45  \n",
              "21348     24959.969        purchase of a car     66-75  \n",
              "21349     14347.610                 property     36-45  \n",
              "21350     39054.888        buying my own car     36-45  \n",
              "21351     13127.587             to buy a car     36-45  \n",
              "\n",
              "[19259 rows x 13 columns]"
            ],
            "text/html": [
              "\n",
              "  <div id=\"df-4aad3a34-10bb-4ed6-aa03-7de4ab8e57b6\">\n",
              "    <div class=\"colab-df-container\">\n",
              "      <div>\n",
              "<style scoped>\n",
              "    .dataframe tbody tr th:only-of-type {\n",
              "        vertical-align: middle;\n",
              "    }\n",
              "\n",
              "    .dataframe tbody tr th {\n",
              "        vertical-align: top;\n",
              "    }\n",
              "\n",
              "    .dataframe thead th {\n",
              "        text-align: right;\n",
              "    }\n",
              "</style>\n",
              "<table border=\"1\" class=\"dataframe\">\n",
              "  <thead>\n",
              "    <tr style=\"text-align: right;\">\n",
              "      <th></th>\n",
              "      <th>children</th>\n",
              "      <th>days_employed</th>\n",
              "      <th>dob_years</th>\n",
              "      <th>education</th>\n",
              "      <th>education_id</th>\n",
              "      <th>family_status</th>\n",
              "      <th>family_status_id</th>\n",
              "      <th>gender</th>\n",
              "      <th>income_type</th>\n",
              "      <th>debt</th>\n",
              "      <th>total_income</th>\n",
              "      <th>purpose</th>\n",
              "      <th>dob_group</th>\n",
              "    </tr>\n",
              "  </thead>\n",
              "  <tbody>\n",
              "    <tr>\n",
              "      <th>0</th>\n",
              "      <td>1</td>\n",
              "      <td>8437.0</td>\n",
              "      <td>42</td>\n",
              "      <td>bachelor's degree</td>\n",
              "      <td>0</td>\n",
              "      <td>married</td>\n",
              "      <td>0</td>\n",
              "      <td>F</td>\n",
              "      <td>employee</td>\n",
              "      <td>0</td>\n",
              "      <td>40620.102</td>\n",
              "      <td>purchase of the house</td>\n",
              "      <td>36-45</td>\n",
              "    </tr>\n",
              "    <tr>\n",
              "      <th>1</th>\n",
              "      <td>1</td>\n",
              "      <td>4024.0</td>\n",
              "      <td>36</td>\n",
              "      <td>secondary education</td>\n",
              "      <td>1</td>\n",
              "      <td>married</td>\n",
              "      <td>0</td>\n",
              "      <td>F</td>\n",
              "      <td>employee</td>\n",
              "      <td>0</td>\n",
              "      <td>17932.802</td>\n",
              "      <td>car purchase</td>\n",
              "      <td>36-45</td>\n",
              "    </tr>\n",
              "    <tr>\n",
              "      <th>2</th>\n",
              "      <td>0</td>\n",
              "      <td>5623.0</td>\n",
              "      <td>33</td>\n",
              "      <td>secondary education</td>\n",
              "      <td>1</td>\n",
              "      <td>married</td>\n",
              "      <td>0</td>\n",
              "      <td>M</td>\n",
              "      <td>employee</td>\n",
              "      <td>0</td>\n",
              "      <td>23341.752</td>\n",
              "      <td>purchase of the house</td>\n",
              "      <td>26-35</td>\n",
              "    </tr>\n",
              "    <tr>\n",
              "      <th>3</th>\n",
              "      <td>3</td>\n",
              "      <td>4124.0</td>\n",
              "      <td>32</td>\n",
              "      <td>secondary education</td>\n",
              "      <td>1</td>\n",
              "      <td>married</td>\n",
              "      <td>0</td>\n",
              "      <td>M</td>\n",
              "      <td>employee</td>\n",
              "      <td>0</td>\n",
              "      <td>42820.568</td>\n",
              "      <td>supplementary education</td>\n",
              "      <td>26-35</td>\n",
              "    </tr>\n",
              "    <tr>\n",
              "      <th>4</th>\n",
              "      <td>0</td>\n",
              "      <td>340266.0</td>\n",
              "      <td>53</td>\n",
              "      <td>secondary education</td>\n",
              "      <td>1</td>\n",
              "      <td>civil partnership</td>\n",
              "      <td>1</td>\n",
              "      <td>F</td>\n",
              "      <td>retiree</td>\n",
              "      <td>0</td>\n",
              "      <td>25378.572</td>\n",
              "      <td>to have a wedding</td>\n",
              "      <td>46-55</td>\n",
              "    </tr>\n",
              "    <tr>\n",
              "      <th>...</th>\n",
              "      <td>...</td>\n",
              "      <td>...</td>\n",
              "      <td>...</td>\n",
              "      <td>...</td>\n",
              "      <td>...</td>\n",
              "      <td>...</td>\n",
              "      <td>...</td>\n",
              "      <td>...</td>\n",
              "      <td>...</td>\n",
              "      <td>...</td>\n",
              "      <td>...</td>\n",
              "      <td>...</td>\n",
              "      <td>...</td>\n",
              "    </tr>\n",
              "    <tr>\n",
              "      <th>21347</th>\n",
              "      <td>1</td>\n",
              "      <td>4529.0</td>\n",
              "      <td>43</td>\n",
              "      <td>secondary education</td>\n",
              "      <td>1</td>\n",
              "      <td>civil partnership</td>\n",
              "      <td>1</td>\n",
              "      <td>F</td>\n",
              "      <td>business</td>\n",
              "      <td>0</td>\n",
              "      <td>35966.698</td>\n",
              "      <td>housing transactions</td>\n",
              "      <td>36-45</td>\n",
              "    </tr>\n",
              "    <tr>\n",
              "      <th>21348</th>\n",
              "      <td>0</td>\n",
              "      <td>343937.0</td>\n",
              "      <td>67</td>\n",
              "      <td>secondary education</td>\n",
              "      <td>1</td>\n",
              "      <td>married</td>\n",
              "      <td>0</td>\n",
              "      <td>F</td>\n",
              "      <td>retiree</td>\n",
              "      <td>0</td>\n",
              "      <td>24959.969</td>\n",
              "      <td>purchase of a car</td>\n",
              "      <td>66-75</td>\n",
              "    </tr>\n",
              "    <tr>\n",
              "      <th>21349</th>\n",
              "      <td>1</td>\n",
              "      <td>2113.0</td>\n",
              "      <td>38</td>\n",
              "      <td>secondary education</td>\n",
              "      <td>1</td>\n",
              "      <td>civil partnership</td>\n",
              "      <td>1</td>\n",
              "      <td>M</td>\n",
              "      <td>employee</td>\n",
              "      <td>1</td>\n",
              "      <td>14347.610</td>\n",
              "      <td>property</td>\n",
              "      <td>36-45</td>\n",
              "    </tr>\n",
              "    <tr>\n",
              "      <th>21350</th>\n",
              "      <td>3</td>\n",
              "      <td>3112.0</td>\n",
              "      <td>38</td>\n",
              "      <td>secondary education</td>\n",
              "      <td>1</td>\n",
              "      <td>married</td>\n",
              "      <td>0</td>\n",
              "      <td>M</td>\n",
              "      <td>employee</td>\n",
              "      <td>1</td>\n",
              "      <td>39054.888</td>\n",
              "      <td>buying my own car</td>\n",
              "      <td>36-45</td>\n",
              "    </tr>\n",
              "    <tr>\n",
              "      <th>21351</th>\n",
              "      <td>2</td>\n",
              "      <td>1984.0</td>\n",
              "      <td>40</td>\n",
              "      <td>secondary education</td>\n",
              "      <td>1</td>\n",
              "      <td>married</td>\n",
              "      <td>0</td>\n",
              "      <td>F</td>\n",
              "      <td>employee</td>\n",
              "      <td>0</td>\n",
              "      <td>13127.587</td>\n",
              "      <td>to buy a car</td>\n",
              "      <td>36-45</td>\n",
              "    </tr>\n",
              "  </tbody>\n",
              "</table>\n",
              "<p>19259 rows × 13 columns</p>\n",
              "</div>\n",
              "      <button class=\"colab-df-convert\" onclick=\"convertToInteractive('df-4aad3a34-10bb-4ed6-aa03-7de4ab8e57b6')\"\n",
              "              title=\"Convert this dataframe to an interactive table.\"\n",
              "              style=\"display:none;\">\n",
              "        \n",
              "  <svg xmlns=\"http://www.w3.org/2000/svg\" height=\"24px\"viewBox=\"0 0 24 24\"\n",
              "       width=\"24px\">\n",
              "    <path d=\"M0 0h24v24H0V0z\" fill=\"none\"/>\n",
              "    <path d=\"M18.56 5.44l.94 2.06.94-2.06 2.06-.94-2.06-.94-.94-2.06-.94 2.06-2.06.94zm-11 1L8.5 8.5l.94-2.06 2.06-.94-2.06-.94L8.5 2.5l-.94 2.06-2.06.94zm10 10l.94 2.06.94-2.06 2.06-.94-2.06-.94-.94-2.06-.94 2.06-2.06.94z\"/><path d=\"M17.41 7.96l-1.37-1.37c-.4-.4-.92-.59-1.43-.59-.52 0-1.04.2-1.43.59L10.3 9.45l-7.72 7.72c-.78.78-.78 2.05 0 2.83L4 21.41c.39.39.9.59 1.41.59.51 0 1.02-.2 1.41-.59l7.78-7.78 2.81-2.81c.8-.78.8-2.07 0-2.86zM5.41 20L4 18.59l7.72-7.72 1.47 1.35L5.41 20z\"/>\n",
              "  </svg>\n",
              "      </button>\n",
              "      \n",
              "  <style>\n",
              "    .colab-df-container {\n",
              "      display:flex;\n",
              "      flex-wrap:wrap;\n",
              "      gap: 12px;\n",
              "    }\n",
              "\n",
              "    .colab-df-convert {\n",
              "      background-color: #E8F0FE;\n",
              "      border: none;\n",
              "      border-radius: 50%;\n",
              "      cursor: pointer;\n",
              "      display: none;\n",
              "      fill: #1967D2;\n",
              "      height: 32px;\n",
              "      padding: 0 0 0 0;\n",
              "      width: 32px;\n",
              "    }\n",
              "\n",
              "    .colab-df-convert:hover {\n",
              "      background-color: #E2EBFA;\n",
              "      box-shadow: 0px 1px 2px rgba(60, 64, 67, 0.3), 0px 1px 3px 1px rgba(60, 64, 67, 0.15);\n",
              "      fill: #174EA6;\n",
              "    }\n",
              "\n",
              "    [theme=dark] .colab-df-convert {\n",
              "      background-color: #3B4455;\n",
              "      fill: #D2E3FC;\n",
              "    }\n",
              "\n",
              "    [theme=dark] .colab-df-convert:hover {\n",
              "      background-color: #434B5C;\n",
              "      box-shadow: 0px 1px 3px 1px rgba(0, 0, 0, 0.15);\n",
              "      filter: drop-shadow(0px 1px 2px rgba(0, 0, 0, 0.3));\n",
              "      fill: #FFFFFF;\n",
              "    }\n",
              "  </style>\n",
              "\n",
              "      <script>\n",
              "        const buttonEl =\n",
              "          document.querySelector('#df-4aad3a34-10bb-4ed6-aa03-7de4ab8e57b6 button.colab-df-convert');\n",
              "        buttonEl.style.display =\n",
              "          google.colab.kernel.accessAllowed ? 'block' : 'none';\n",
              "\n",
              "        async function convertToInteractive(key) {\n",
              "          const element = document.querySelector('#df-4aad3a34-10bb-4ed6-aa03-7de4ab8e57b6');\n",
              "          const dataTable =\n",
              "            await google.colab.kernel.invokeFunction('convertToInteractive',\n",
              "                                                     [key], {});\n",
              "          if (!dataTable) return;\n",
              "\n",
              "          const docLinkHtml = 'Like what you see? Visit the ' +\n",
              "            '<a target=\"_blank\" href=https://colab.research.google.com/notebooks/data_table.ipynb>data table notebook</a>'\n",
              "            + ' to learn more about interactive tables.';\n",
              "          element.innerHTML = '';\n",
              "          dataTable['output_type'] = 'display_data';\n",
              "          await google.colab.output.renderOutput(dataTable, element);\n",
              "          const docLink = document.createElement('div');\n",
              "          docLink.innerHTML = docLinkHtml;\n",
              "          element.appendChild(docLink);\n",
              "        }\n",
              "      </script>\n",
              "    </div>\n",
              "  </div>\n",
              "  "
            ]
          },
          "metadata": {},
          "execution_count": 69
        }
      ],
      "source": [
        "# Buat tabel tanpa nilai yang hilang dan tampilkan beberapa barisnya untuk memastikan semuanya berjalan dengan baik\n",
        "df_wo_na = df_drop.loc[(df_drop['days_employed'].isna() == False) & (df_drop['total_income'].isna() == False)]\n",
        "df_wo_na"
      ]
    },
    {
      "cell_type": "markdown",
      "metadata": {
        "id": "YXnQOPw8A6uf"
      },
      "source": [
        "Diatas adalah `dataset` tanpa nilai yang hilang. Nilai `mean` atau `median` dari dataset diatas akan menjadi patokan untuk menggannti nilai yang hilan dari kolom `total_income`.   "
      ]
    },
    {
      "cell_type": "code",
      "execution_count": null,
      "metadata": {
        "colab": {
          "base_uri": "https://localhost:8080/"
        },
        "id": "1vLyNX4-A6ug",
        "outputId": "a7814619-2c58-4544-c7ed-95d80e7c7c5c"
      },
      "outputs": [
        {
          "output_type": "execute_result",
          "data": {
            "text/plain": [
              "income_type\n",
              "business                       32407.719326\n",
              "civil servant                  27361.316126\n",
              "employee                       25824.679592\n",
              "paternity / maternity leave     8612.661000\n",
              "retiree                        21939.310393\n",
              "student                        15712.260000\n",
              "unemployed                     21014.360500\n",
              "Name: total_income, dtype: float64"
            ]
          },
          "metadata": {},
          "execution_count": 70
        }
      ],
      "source": [
        "# Perhatikan nilai rata-rata untuk pendapatan berdasarkan faktor yang telah Anda identifikasi\n",
        "income_type_mean = df_wo_na.groupby('income_type')['total_income'].mean()\n",
        "income_type_mean"
      ]
    },
    {
      "cell_type": "markdown",
      "source": [
        "Rata-rata `total_income` berdasarkan `income_type`."
      ],
      "metadata": {
        "id": "bsNEvdB4IsDH"
      }
    },
    {
      "cell_type": "code",
      "execution_count": null,
      "metadata": {
        "colab": {
          "base_uri": "https://localhost:8080/"
        },
        "id": "F2aC_cpPA6ug",
        "outputId": "81c699b0-00c9-42eb-8163-365c93328613"
      },
      "outputs": [
        {
          "output_type": "execute_result",
          "data": {
            "text/plain": [
              "income_type\n",
              "business                       27564.8930\n",
              "civil servant                  24083.5065\n",
              "employee                       22815.1035\n",
              "paternity / maternity leave     8612.6610\n",
              "retiree                        18969.1490\n",
              "student                        15712.2600\n",
              "unemployed                     21014.3605\n",
              "Name: total_income, dtype: float64"
            ]
          },
          "metadata": {},
          "execution_count": 71
        }
      ],
      "source": [
        "# Perhatikan nilai median untuk pendapatan berdasarkan faktor yang telah Anda identifikasi\n",
        "income_type_median = df_wo_na.groupby('income_type')['total_income'].median()\n",
        "income_type_median"
      ]
    },
    {
      "cell_type": "markdown",
      "metadata": {
        "id": "I8W8zAMMA6ug"
      },
      "source": [
        "Nilai tengah `total_income` berdasarkan `income_type`."
      ]
    },
    {
      "cell_type": "code",
      "execution_count": null,
      "metadata": {
        "colab": {
          "base_uri": "https://localhost:8080/",
          "height": 269
        },
        "id": "-uJGM2mvA6ug",
        "outputId": "2bdfa210-f79c-445c-e2ae-ee59d3ae63a9"
      },
      "outputs": [
        {
          "output_type": "execute_result",
          "data": {
            "text/plain": [
              "                     total_income            \n",
              "                             mean      median\n",
              "education                                    \n",
              "bachelor's degree    33172.428387  28054.5310\n",
              "graduate degree      27960.024667  25161.5835\n",
              "primary education    21144.882211  18741.9760\n",
              "secondary education  24600.353617  21839.4075\n",
              "some college         29035.057865  25608.7945"
            ],
            "text/html": [
              "\n",
              "  <div id=\"df-4b375887-e465-461b-bb0e-b847f1de0e75\">\n",
              "    <div class=\"colab-df-container\">\n",
              "      <div>\n",
              "<style scoped>\n",
              "    .dataframe tbody tr th:only-of-type {\n",
              "        vertical-align: middle;\n",
              "    }\n",
              "\n",
              "    .dataframe tbody tr th {\n",
              "        vertical-align: top;\n",
              "    }\n",
              "\n",
              "    .dataframe thead tr th {\n",
              "        text-align: left;\n",
              "    }\n",
              "\n",
              "    .dataframe thead tr:last-of-type th {\n",
              "        text-align: right;\n",
              "    }\n",
              "</style>\n",
              "<table border=\"1\" class=\"dataframe\">\n",
              "  <thead>\n",
              "    <tr>\n",
              "      <th></th>\n",
              "      <th colspan=\"2\" halign=\"left\">total_income</th>\n",
              "    </tr>\n",
              "    <tr>\n",
              "      <th></th>\n",
              "      <th>mean</th>\n",
              "      <th>median</th>\n",
              "    </tr>\n",
              "    <tr>\n",
              "      <th>education</th>\n",
              "      <th></th>\n",
              "      <th></th>\n",
              "    </tr>\n",
              "  </thead>\n",
              "  <tbody>\n",
              "    <tr>\n",
              "      <th>bachelor's degree</th>\n",
              "      <td>33172.428387</td>\n",
              "      <td>28054.5310</td>\n",
              "    </tr>\n",
              "    <tr>\n",
              "      <th>graduate degree</th>\n",
              "      <td>27960.024667</td>\n",
              "      <td>25161.5835</td>\n",
              "    </tr>\n",
              "    <tr>\n",
              "      <th>primary education</th>\n",
              "      <td>21144.882211</td>\n",
              "      <td>18741.9760</td>\n",
              "    </tr>\n",
              "    <tr>\n",
              "      <th>secondary education</th>\n",
              "      <td>24600.353617</td>\n",
              "      <td>21839.4075</td>\n",
              "    </tr>\n",
              "    <tr>\n",
              "      <th>some college</th>\n",
              "      <td>29035.057865</td>\n",
              "      <td>25608.7945</td>\n",
              "    </tr>\n",
              "  </tbody>\n",
              "</table>\n",
              "</div>\n",
              "      <button class=\"colab-df-convert\" onclick=\"convertToInteractive('df-4b375887-e465-461b-bb0e-b847f1de0e75')\"\n",
              "              title=\"Convert this dataframe to an interactive table.\"\n",
              "              style=\"display:none;\">\n",
              "        \n",
              "  <svg xmlns=\"http://www.w3.org/2000/svg\" height=\"24px\"viewBox=\"0 0 24 24\"\n",
              "       width=\"24px\">\n",
              "    <path d=\"M0 0h24v24H0V0z\" fill=\"none\"/>\n",
              "    <path d=\"M18.56 5.44l.94 2.06.94-2.06 2.06-.94-2.06-.94-.94-2.06-.94 2.06-2.06.94zm-11 1L8.5 8.5l.94-2.06 2.06-.94-2.06-.94L8.5 2.5l-.94 2.06-2.06.94zm10 10l.94 2.06.94-2.06 2.06-.94-2.06-.94-.94-2.06-.94 2.06-2.06.94z\"/><path d=\"M17.41 7.96l-1.37-1.37c-.4-.4-.92-.59-1.43-.59-.52 0-1.04.2-1.43.59L10.3 9.45l-7.72 7.72c-.78.78-.78 2.05 0 2.83L4 21.41c.39.39.9.59 1.41.59.51 0 1.02-.2 1.41-.59l7.78-7.78 2.81-2.81c.8-.78.8-2.07 0-2.86zM5.41 20L4 18.59l7.72-7.72 1.47 1.35L5.41 20z\"/>\n",
              "  </svg>\n",
              "      </button>\n",
              "      \n",
              "  <style>\n",
              "    .colab-df-container {\n",
              "      display:flex;\n",
              "      flex-wrap:wrap;\n",
              "      gap: 12px;\n",
              "    }\n",
              "\n",
              "    .colab-df-convert {\n",
              "      background-color: #E8F0FE;\n",
              "      border: none;\n",
              "      border-radius: 50%;\n",
              "      cursor: pointer;\n",
              "      display: none;\n",
              "      fill: #1967D2;\n",
              "      height: 32px;\n",
              "      padding: 0 0 0 0;\n",
              "      width: 32px;\n",
              "    }\n",
              "\n",
              "    .colab-df-convert:hover {\n",
              "      background-color: #E2EBFA;\n",
              "      box-shadow: 0px 1px 2px rgba(60, 64, 67, 0.3), 0px 1px 3px 1px rgba(60, 64, 67, 0.15);\n",
              "      fill: #174EA6;\n",
              "    }\n",
              "\n",
              "    [theme=dark] .colab-df-convert {\n",
              "      background-color: #3B4455;\n",
              "      fill: #D2E3FC;\n",
              "    }\n",
              "\n",
              "    [theme=dark] .colab-df-convert:hover {\n",
              "      background-color: #434B5C;\n",
              "      box-shadow: 0px 1px 3px 1px rgba(0, 0, 0, 0.15);\n",
              "      filter: drop-shadow(0px 1px 2px rgba(0, 0, 0, 0.3));\n",
              "      fill: #FFFFFF;\n",
              "    }\n",
              "  </style>\n",
              "\n",
              "      <script>\n",
              "        const buttonEl =\n",
              "          document.querySelector('#df-4b375887-e465-461b-bb0e-b847f1de0e75 button.colab-df-convert');\n",
              "        buttonEl.style.display =\n",
              "          google.colab.kernel.accessAllowed ? 'block' : 'none';\n",
              "\n",
              "        async function convertToInteractive(key) {\n",
              "          const element = document.querySelector('#df-4b375887-e465-461b-bb0e-b847f1de0e75');\n",
              "          const dataTable =\n",
              "            await google.colab.kernel.invokeFunction('convertToInteractive',\n",
              "                                                     [key], {});\n",
              "          if (!dataTable) return;\n",
              "\n",
              "          const docLinkHtml = 'Like what you see? Visit the ' +\n",
              "            '<a target=\"_blank\" href=https://colab.research.google.com/notebooks/data_table.ipynb>data table notebook</a>'\n",
              "            + ' to learn more about interactive tables.';\n",
              "          element.innerHTML = '';\n",
              "          dataTable['output_type'] = 'display_data';\n",
              "          await google.colab.output.renderOutput(dataTable, element);\n",
              "          const docLink = document.createElement('div');\n",
              "          docLink.innerHTML = docLinkHtml;\n",
              "          element.appendChild(docLink);\n",
              "        }\n",
              "      </script>\n",
              "    </div>\n",
              "  </div>\n",
              "  "
            ]
          },
          "metadata": {},
          "execution_count": 72
        }
      ],
      "source": [
        "df_wo_na.groupby('education').agg({'total_income': ['mean', 'median']})"
      ]
    },
    {
      "cell_type": "markdown",
      "source": [
        "Tabel diatas merupakan rata-rata dan nilai tengah `total_income` berdasarkan `education`."
      ],
      "metadata": {
        "id": "n0L4IV7aJTMO"
      }
    },
    {
      "cell_type": "code",
      "execution_count": null,
      "metadata": {
        "colab": {
          "base_uri": "https://localhost:8080/",
          "height": 297
        },
        "id": "lb42LCEkA6uh",
        "outputId": "c023a83a-3211-4ec6-bf1f-189d0a09cd3b"
      },
      "outputs": [
        {
          "output_type": "execute_result",
          "data": {
            "text/plain": [
              "<matplotlib.axes._subplots.AxesSubplot at 0x7fd6ee552820>"
            ]
          },
          "metadata": {},
          "execution_count": 73
        },
        {
          "output_type": "display_data",
          "data": {
            "text/plain": [
              "<Figure size 432x288 with 1 Axes>"
            ],
            "image/png": "[encoded data removed]"
          },
          "metadata": {
            "needs_background": "light"
          }
        }
      ],
      "source": [
        "sns.boxplot(data=df_wo_na, x='total_income', y='income_type')"
      ]
    },
    {
      "cell_type": "markdown",
      "source": [
        "`Boxplot` `total_income` berdasarkan `income_type`."
      ],
      "metadata": {
        "id": "gYVVNorxLz-2"
      }
    },
    {
      "cell_type": "markdown",
      "metadata": {
        "id": "MHoMFmVhA6ui"
      },
      "source": [
        "`education` cukup berpengaruh dan terbagi menjadi kedua kelompok. Kelompok nasabah yang cenderung memiliki pendapatn lbih tinggi memilki pendidikan `bachelor's degree`, `graduate degree`, dan `some college`. Sedangkan `secondary education` dan `primary education` cenderung lebih rendah.\n",
        "\n",
        "Namun pada `income_type` lebih terlihat perbedaan dan rentangnya lebih besar dibandingkan pada `education`. Karena itu saya lebih memilih menggunakan `income_type`. Dan data yang digunakan adalah data `median` karena berdasarkan data boxplot dibawah memperlihatkan ada banyak data outliers."
      ]
    },
    {
      "cell_type": "code",
      "execution_count": null,
      "metadata": {
        "id": "6xp4fdoQA6ui"
      },
      "outputs": [],
      "source": [
        "#  Tulis fungsi yang akan kita gunakan untuk mengisi nilai yang hilang\n",
        "import math as math\n",
        "        \n",
        "def fill_na_total_income (row):\n",
        "        if math.isnan(row['total_income']) == False:\n",
        "            #print('test') #test\n",
        "            return row['total_income']\n",
        "        elif row['income_type'] == 'business':\n",
        "            return income_type_median['business']\n",
        "        elif row['income_type'] == 'civil servant':\n",
        "            return income_type_median['civil servant']\n",
        "        elif row['income_type'] == 'employee':\n",
        "            return income_type_median['employee']\n",
        "        elif row['income_type'] == 'paternity / maternity leave':\n",
        "             return income_type_median['paternity / maternity leave']\n",
        "        elif row['income_type'] == 'retiree':\n",
        "            return income_type_median['retiree']\n",
        "        elif row['income_type'] == 'student':\n",
        "            return income_type_median['student']\n",
        "        elif row['income_type'] == 'unemployed':    \n",
        "            return income_type_median['unemployed']\n"
      ]
    },
    {
      "cell_type": "markdown",
      "metadata": {
        "id": "6FoXsVGYA6ui"
      },
      "source": [
        "Fungsi diatas adalah fungsi untuk menambahkan nilai `median` dari `total_income` berdasakan `income_type`."
      ]
    },
    {
      "cell_type": "code",
      "execution_count": null,
      "metadata": {
        "colab": {
          "base_uri": "https://localhost:8080/"
        },
        "id": "t0l6sWYwA6ui",
        "outputId": "d398d836-8496-4bfd-8c54-6973365b5a27"
      },
      "outputs": [
        {
          "output_type": "stream",
          "name": "stdout",
          "text": [
            "business_row:\n",
            "children                                                   0\n",
            "days_employed                                            NaN\n",
            "dob_years                                                 21\n",
            "education                                secondary education\n",
            "education_id                                               1\n",
            "family_status                                      unmarried\n",
            "family_status_id                                           4\n",
            "gender                                                     M\n",
            "income_type                                         business\n",
            "debt                                                       0\n",
            "total_income                                       27564.893\n",
            "purpose             transactions with commercial real estate\n",
            "dob_group                                              16-25\n",
            "Name: 65, dtype: object\n",
            "\n",
            "civil_servant_row:\n",
            "children                              0\n",
            "days_employed                       NaN\n",
            "dob_years                            41\n",
            "education           secondary education\n",
            "education_id                          1\n",
            "family_status                   married\n",
            "family_status_id                      0\n",
            "gender                                M\n",
            "income_type               civil servant\n",
            "debt                                  0\n",
            "total_income                 24083.5065\n",
            "purpose                       education\n",
            "dob_group                         36-45\n",
            "Name: 26, dtype: object\n",
            "\n",
            "employee_row:\n",
            "children                            2\n",
            "days_employed                     NaN\n",
            "dob_years                          50\n",
            "education           bachelor's degree\n",
            "education_id                        0\n",
            "family_status                 married\n",
            "family_status_id                    0\n",
            "gender                              F\n",
            "income_type                  employee\n",
            "debt                                0\n",
            "total_income               22815.1035\n",
            "purpose                       housing\n",
            "dob_group                       46-55\n",
            "Name: 82, dtype: object\n",
            "\n",
            "retiree_row:\n",
            "children                              0\n",
            "days_employed                       NaN\n",
            "dob_years                            65\n",
            "education           secondary education\n",
            "education_id                          1\n",
            "family_status         civil partnership\n",
            "family_status_id                      1\n",
            "gender                                M\n",
            "income_type                     retiree\n",
            "debt                                  0\n",
            "total_income                  18969.149\n",
            "purpose               to have a wedding\n",
            "dob_group                         56-65\n",
            "Name: 12, dtype: object\n",
            "\n",
            "wo_na_row before:\n",
            "children                                1\n",
            "days_employed                      8437.0\n",
            "dob_years                              42\n",
            "education               bachelor's degree\n",
            "education_id                            0\n",
            "family_status                     married\n",
            "family_status_id                        0\n",
            "gender                                  F\n",
            "income_type                      employee\n",
            "debt                                    0\n",
            "total_income                    40620.102\n",
            "purpose             purchase of the house\n",
            "dob_group                           36-45\n",
            "Name: 0, dtype: object\n",
            "\n",
            "wo_na_row after:\n",
            "children                                1\n",
            "days_employed                      8437.0\n",
            "dob_years                              42\n",
            "education               bachelor's degree\n",
            "education_id                            0\n",
            "family_status                     married\n",
            "family_status_id                        0\n",
            "gender                                  F\n",
            "income_type                      employee\n",
            "debt                                    0\n",
            "total_income                    40620.102\n",
            "purpose             purchase of the house\n",
            "dob_group                           36-45\n",
            "Name: 0, dtype: object\n"
          ]
        }
      ],
      "source": [
        "# Memeriksa bagaimana nilai di dalam kolom baru\n",
        "\n",
        "business_row = df_drop.iloc[65].copy()\n",
        "business_row['total_income'] = fill_na_total_income(business_row)\n",
        "print('business_row:')\n",
        "print(business_row)\n",
        "print()\n",
        "\n",
        "civil_servant_row = df_drop.iloc[26].copy()\n",
        "civil_servant_row['total_income'] = fill_na_total_income(civil_servant_row)\n",
        "print('civil_servant_row:')\n",
        "print(civil_servant_row)\n",
        "print()\n",
        "\n",
        "employee_row = df_drop.iloc[82].copy()\n",
        "employee_row['total_income'] = fill_na_total_income(employee_row)\n",
        "print('employee_row:')\n",
        "print(employee_row)\n",
        "print()\n",
        "\n",
        "#'paternity / maternity leave' tidak ada\n",
        "\n",
        "retiree_row = df_drop.iloc[12].copy()\n",
        "retiree_row['total_income'] = fill_na_total_income(retiree_row)\n",
        "print('retiree_row:')\n",
        "print(retiree_row)\n",
        "print()\n",
        "\n",
        "#'student' tidak ada\n",
        "#'unemployed' tidak ada\n",
        "\n",
        "wo_na_row = df_wo_na.iloc[0].copy()\n",
        "print('wo_na_row before:')\n",
        "print(wo_na_row)\n",
        "print()\n",
        "wo_na_row['total_income'] = fill_na_total_income(wo_na_row)\n",
        "print('wo_na_row after:')\n",
        "print(wo_na_row)"
      ]
    },
    {
      "cell_type": "markdown",
      "metadata": {
        "id": "pD78qD-wA6ui"
      },
      "source": [
        "Fungsi telah diuji dan berhasil. Saatnya menerapkan ke seluruh dataset. "
      ]
    },
    {
      "cell_type": "code",
      "execution_count": null,
      "metadata": {
        "id": "bNrB5EU2A6uj"
      },
      "outputs": [],
      "source": [
        "# Terapkan fungsi tersebut ke setiap baris\n",
        "df_w_t_income = df_drop.copy()\n",
        "#df_w_t_income\n",
        "df_w_t_income['total_income'] = df_w_t_income.apply(fill_na_total_income, axis=1)"
      ]
    },
    {
      "cell_type": "code",
      "execution_count": null,
      "metadata": {
        "colab": {
          "base_uri": "https://localhost:8080/",
          "height": 49
        },
        "id": "oYZ4DibTA6uj",
        "outputId": "55a4ddb2-8637-4889-ccb9-bda70114477d"
      },
      "outputs": [
        {
          "output_type": "execute_result",
          "data": {
            "text/plain": [
              "Empty DataFrame\n",
              "Columns: [children, days_employed, dob_years, education, education_id, family_status, family_status_id, gender, income_type, debt, total_income, purpose, dob_group]\n",
              "Index: []"
            ],
            "text/html": [
              "\n",
              "  <div id=\"df-9a243909-0d62-462d-9f20-1752e4f19923\">\n",
              "    <div class=\"colab-df-container\">\n",
              "      <div>\n",
              "<style scoped>\n",
              "    .dataframe tbody tr th:only-of-type {\n",
              "        vertical-align: middle;\n",
              "    }\n",
              "\n",
              "    .dataframe tbody tr th {\n",
              "        vertical-align: top;\n",
              "    }\n",
              "\n",
              "    .dataframe thead th {\n",
              "        text-align: right;\n",
              "    }\n",
              "</style>\n",
              "<table border=\"1\" class=\"dataframe\">\n",
              "  <thead>\n",
              "    <tr style=\"text-align: right;\">\n",
              "      <th></th>\n",
              "      <th>children</th>\n",
              "      <th>days_employed</th>\n",
              "      <th>dob_years</th>\n",
              "      <th>education</th>\n",
              "      <th>education_id</th>\n",
              "      <th>family_status</th>\n",
              "      <th>family_status_id</th>\n",
              "      <th>gender</th>\n",
              "      <th>income_type</th>\n",
              "      <th>debt</th>\n",
              "      <th>total_income</th>\n",
              "      <th>purpose</th>\n",
              "      <th>dob_group</th>\n",
              "    </tr>\n",
              "  </thead>\n",
              "  <tbody>\n",
              "  </tbody>\n",
              "</table>\n",
              "</div>\n",
              "      <button class=\"colab-df-convert\" onclick=\"convertToInteractive('df-9a243909-0d62-462d-9f20-1752e4f19923')\"\n",
              "              title=\"Convert this dataframe to an interactive table.\"\n",
              "              style=\"display:none;\">\n",
              "        \n",
              "  <svg xmlns=\"http://www.w3.org/2000/svg\" height=\"24px\"viewBox=\"0 0 24 24\"\n",
              "       width=\"24px\">\n",
              "    <path d=\"M0 0h24v24H0V0z\" fill=\"none\"/>\n",
              "    <path d=\"M18.56 5.44l.94 2.06.94-2.06 2.06-.94-2.06-.94-.94-2.06-.94 2.06-2.06.94zm-11 1L8.5 8.5l.94-2.06 2.06-.94-2.06-.94L8.5 2.5l-.94 2.06-2.06.94zm10 10l.94 2.06.94-2.06 2.06-.94-2.06-.94-.94-2.06-.94 2.06-2.06.94z\"/><path d=\"M17.41 7.96l-1.37-1.37c-.4-.4-.92-.59-1.43-.59-.52 0-1.04.2-1.43.59L10.3 9.45l-7.72 7.72c-.78.78-.78 2.05 0 2.83L4 21.41c.39.39.9.59 1.41.59.51 0 1.02-.2 1.41-.59l7.78-7.78 2.81-2.81c.8-.78.8-2.07 0-2.86zM5.41 20L4 18.59l7.72-7.72 1.47 1.35L5.41 20z\"/>\n",
              "  </svg>\n",
              "      </button>\n",
              "      \n",
              "  <style>\n",
              "    .colab-df-container {\n",
              "      display:flex;\n",
              "      flex-wrap:wrap;\n",
              "      gap: 12px;\n",
              "    }\n",
              "\n",
              "    .colab-df-convert {\n",
              "      background-color: #E8F0FE;\n",
              "      border: none;\n",
              "      border-radius: 50%;\n",
              "      cursor: pointer;\n",
              "      display: none;\n",
              "      fill: #1967D2;\n",
              "      height: 32px;\n",
              "      padding: 0 0 0 0;\n",
              "      width: 32px;\n",
              "    }\n",
              "\n",
              "    .colab-df-convert:hover {\n",
              "      background-color: #E2EBFA;\n",
              "      box-shadow: 0px 1px 2px rgba(60, 64, 67, 0.3), 0px 1px 3px 1px rgba(60, 64, 67, 0.15);\n",
              "      fill: #174EA6;\n",
              "    }\n",
              "\n",
              "    [theme=dark] .colab-df-convert {\n",
              "      background-color: #3B4455;\n",
              "      fill: #D2E3FC;\n",
              "    }\n",
              "\n",
              "    [theme=dark] .colab-df-convert:hover {\n",
              "      background-color: #434B5C;\n",
              "      box-shadow: 0px 1px 3px 1px rgba(0, 0, 0, 0.15);\n",
              "      filter: drop-shadow(0px 1px 2px rgba(0, 0, 0, 0.3));\n",
              "      fill: #FFFFFF;\n",
              "    }\n",
              "  </style>\n",
              "\n",
              "      <script>\n",
              "        const buttonEl =\n",
              "          document.querySelector('#df-9a243909-0d62-462d-9f20-1752e4f19923 button.colab-df-convert');\n",
              "        buttonEl.style.display =\n",
              "          google.colab.kernel.accessAllowed ? 'block' : 'none';\n",
              "\n",
              "        async function convertToInteractive(key) {\n",
              "          const element = document.querySelector('#df-9a243909-0d62-462d-9f20-1752e4f19923');\n",
              "          const dataTable =\n",
              "            await google.colab.kernel.invokeFunction('convertToInteractive',\n",
              "                                                     [key], {});\n",
              "          if (!dataTable) return;\n",
              "\n",
              "          const docLinkHtml = 'Like what you see? Visit the ' +\n",
              "            '<a target=\"_blank\" href=https://colab.research.google.com/notebooks/data_table.ipynb>data table notebook</a>'\n",
              "            + ' to learn more about interactive tables.';\n",
              "          element.innerHTML = '';\n",
              "          dataTable['output_type'] = 'display_data';\n",
              "          await google.colab.output.renderOutput(dataTable, element);\n",
              "          const docLink = document.createElement('div');\n",
              "          docLink.innerHTML = docLinkHtml;\n",
              "          element.appendChild(docLink);\n",
              "        }\n",
              "      </script>\n",
              "    </div>\n",
              "  </div>\n",
              "  "
            ]
          },
          "metadata": {},
          "execution_count": 77
        }
      ],
      "source": [
        "# Periksa apakah kita mendapatkan kesalahan\n",
        "df_w_t_income.loc[df_w_t_income['total_income'].isna() == True ]"
      ]
    },
    {
      "cell_type": "markdown",
      "metadata": {
        "id": "rCKcsgh4A6uj"
      },
      "source": [
        "Nilai `total_income` yang datanya hilang sudah terisi. Selanjutnya saya akan memeriksa jumlah barisnya. "
      ]
    },
    {
      "cell_type": "code",
      "execution_count": null,
      "metadata": {
        "colab": {
          "base_uri": "https://localhost:8080/"
        },
        "id": "uEReXFUhA6uk",
        "outputId": "5a5bd496-faeb-46dc-f24f-2d4c5dcacbb6"
      },
      "outputs": [
        {
          "output_type": "stream",
          "name": "stdout",
          "text": [
            "<class 'pandas.core.frame.DataFrame'>\n",
            "RangeIndex: 21352 entries, 0 to 21351\n",
            "Data columns (total 13 columns):\n",
            " #   Column            Non-Null Count  Dtype  \n",
            "---  ------            --------------  -----  \n",
            " 0   children          21352 non-null  int64  \n",
            " 1   days_employed     19259 non-null  float64\n",
            " 2   dob_years         21352 non-null  int64  \n",
            " 3   education         21352 non-null  object \n",
            " 4   education_id      21352 non-null  int64  \n",
            " 5   family_status     21352 non-null  object \n",
            " 6   family_status_id  21352 non-null  int64  \n",
            " 7   gender            21352 non-null  object \n",
            " 8   income_type       21352 non-null  object \n",
            " 9   debt              21352 non-null  int64  \n",
            " 10  total_income      21352 non-null  float64\n",
            " 11  purpose           21352 non-null  object \n",
            " 12  dob_group         21352 non-null  object \n",
            "dtypes: float64(2), int64(5), object(6)\n",
            "memory usage: 2.1+ MB\n"
          ]
        }
      ],
      "source": [
        "# Periksa jumlah entri di kolom\n",
        "df_w_t_income.info()"
      ]
    },
    {
      "cell_type": "markdown",
      "metadata": {
        "id": "hu8_3cjAA6uk"
      },
      "source": [
        "berdasarkan dai method `info()`, dapat dilihat bahwa kolom `total_income` telah berhasil terisi semua. Selanjutnya saya akan mengisi nilai kolom `days_employed` yang datanya hilang.  "
      ]
    },
    {
      "cell_type": "markdown",
      "metadata": {
        "id": "3c5u8GFtA6uk"
      },
      "source": [
        "###  Memperbaiki nilai di `days_employed`"
      ]
    },
    {
      "cell_type": "code",
      "execution_count": null,
      "metadata": {
        "pycharm": {
          "name": "#%%\n"
        },
        "colab": {
          "base_uri": "https://localhost:8080/"
        },
        "id": "fXsnLhk0A6uk",
        "outputId": "e3df175e-1b43-4001-a391-bb3de2618603"
      },
      "outputs": [
        {
          "output_type": "execute_result",
          "data": {
            "text/plain": [
              "dob_group\n",
              "16-25       796.5\n",
              "26-35      1350.5\n",
              "36-45      1916.5\n",
              "46-55      2886.0\n",
              "56-65    344187.0\n",
              "66-75    360948.0\n",
              "Name: days_employed, dtype: float64"
            ]
          },
          "metadata": {},
          "execution_count": 80
        }
      ],
      "source": [
        "# Distribusi median dari `days_employed` berdasarkan parameter yang Anda identifikasi\n",
        "dob_group_median = df_w_t_income.groupby('dob_group')['days_employed'].median()\n",
        "dob_group_median"
      ]
    },
    {
      "cell_type": "markdown",
      "metadata": {
        "id": "1Bl0u8M9A6ul"
      },
      "source": [
        "Nilai `median` kolom `days_employed` berdasarkan `dob_grup`."
      ]
    },
    {
      "cell_type": "code",
      "execution_count": null,
      "metadata": {
        "colab": {
          "base_uri": "https://localhost:8080/"
        },
        "id": "t_UXXahhA6ul",
        "outputId": "ec5f0c10-706b-49b6-b5f7-878417269754"
      },
      "outputs": [
        {
          "output_type": "execute_result",
          "data": {
            "text/plain": [
              "dob_group\n",
              "16-25      1222.837230\n",
              "26-35      2872.912981\n",
              "36-45      7613.716030\n",
              "46-55     62996.093432\n",
              "56-65    231477.468281\n",
              "66-75    321275.613354\n",
              "Name: days_employed, dtype: float64"
            ]
          },
          "metadata": {},
          "execution_count": 81
        }
      ],
      "source": [
        "# Distribusi rata-rata dari `days_employed` berdasarkan parameter yang Anda identifikasi\n",
        "dob_group_mean = df_w_t_income.groupby('dob_group')['days_employed'].mean()\n",
        "dob_group_mean"
      ]
    },
    {
      "cell_type": "markdown",
      "metadata": {
        "id": "4XrmcRCQA6ul"
      },
      "source": [
        "Nilai `mean` dari kolom `days_employed` berdasarkan kolom `dob_group`."
      ]
    },
    {
      "cell_type": "code",
      "execution_count": null,
      "metadata": {
        "scrolled": true,
        "colab": {
          "base_uri": "https://localhost:8080/",
          "height": 297
        },
        "id": "UQvhAy1rA6ul",
        "outputId": "d78e08e6-30af-45cb-9db1-e7dc700ca009"
      },
      "outputs": [
        {
          "output_type": "execute_result",
          "data": {
            "text/plain": [
              "<matplotlib.axes._subplots.AxesSubplot at 0x7fd6edc81430>"
            ]
          },
          "metadata": {},
          "execution_count": 82
        },
        {
          "output_type": "display_data",
          "data": {
            "text/plain": [
              "<Figure size 432x288 with 1 Axes>"
            ],
            "image/png": "[encoded data removed]"
          },
          "metadata": {
            "needs_background": "light"
          }
        }
      ],
      "source": [
        "sns.boxplot(data=df_w_t_income, x='days_employed', y='dob_group')"
      ]
    },
    {
      "cell_type": "markdown",
      "metadata": {
        "id": "WQjqtKSEA6ul"
      },
      "source": [
        "Banyak nilai `outlier` dari visualisasi `boxplot` nilai `days_employed` berdasarkan kolom `dob_group`. Karena banyak nilai `outlier`maka saya kan menggunakan data `median`."
      ]
    },
    {
      "cell_type": "code",
      "execution_count": null,
      "metadata": {
        "id": "HLosO3O6A6um"
      },
      "outputs": [],
      "source": [
        "# Mari tulis fungsi yang menghitung rata-rata atau median (tergantung keputusan Anda) berdasarkan parameter yang Anda identifikasi\n",
        "\n",
        "def fill_days_employed_na (row) :\n",
        "    if math.isnan(row['days_employed']) == False:\n",
        "        return row['days_employed']\n",
        "    elif row['dob_group'] == '16-25':\n",
        "        return dob_group_median['16-25']\n",
        "    elif row['dob_group'] == '26-35':\n",
        "        return dob_group_median['26-35']\n",
        "    elif row['dob_group'] == '36-45':\n",
        "        return dob_group_median['36-45']\n",
        "    elif row['dob_group'] == '46-55':\n",
        "        return dob_group_median['46-55']\n",
        "    elif row['dob_group'] == '56-65':\n",
        "        return dob_group_median['56-65']\n",
        "    elif row['dob_group'] == '66-75':\n",
        "        return dob_group_median['66-75']\n"
      ]
    },
    {
      "cell_type": "markdown",
      "metadata": {
        "id": "SEvWBk7eA6um"
      },
      "source": [
        "Fungsi diatas bertujuan untuk mengisi nilai `days_employed` yang hilang menggunakan nilai `median` berdasarkan `dob_group`."
      ]
    },
    {
      "cell_type": "code",
      "execution_count": null,
      "metadata": {
        "colab": {
          "base_uri": "https://localhost:8080/"
        },
        "id": "VBM1Wy6RA6um",
        "outputId": "1c6bca75-8ab9-4cf9-dbb8-12fe88c297fd"
      },
      "outputs": [
        {
          "output_type": "stream",
          "name": "stdout",
          "text": [
            "16-25:\n",
            "children                                                   0\n",
            "days_employed                                          796.5\n",
            "dob_years                                                 21\n",
            "education                                secondary education\n",
            "education_id                                               1\n",
            "family_status                                      unmarried\n",
            "family_status_id                                           4\n",
            "gender                                                     M\n",
            "income_type                                         business\n",
            "debt                                                       0\n",
            "total_income                                       27564.893\n",
            "purpose             transactions with commercial real estate\n",
            "dob_group                                              16-25\n",
            "Name: 65, dtype: object\n",
            "\n",
            "26-35:\n",
            "children                                                   1\n",
            "days_employed                                         1350.5\n",
            "dob_years                                                 32\n",
            "education                                  bachelor's degree\n",
            "education_id                                               0\n",
            "family_status                                        married\n",
            "family_status_id                                           0\n",
            "gender                                                     M\n",
            "income_type                                    civil servant\n",
            "debt                                                       0\n",
            "total_income                                      24083.5065\n",
            "purpose             transactions with commercial real estate\n",
            "dob_group                                              26-35\n",
            "Name: 72, dtype: object\n",
            "\n",
            "36-45:\n",
            "children                              0\n",
            "days_employed                    1916.5\n",
            "dob_years                            41\n",
            "education           secondary education\n",
            "education_id                          1\n",
            "family_status                   married\n",
            "family_status_id                      0\n",
            "gender                                M\n",
            "income_type               civil servant\n",
            "debt                                  0\n",
            "total_income                 24083.5065\n",
            "purpose                       education\n",
            "dob_group                         36-45\n",
            "Name: 26, dtype: object\n",
            "\n",
            "46-55:\n",
            "children                                   0\n",
            "days_employed                         2886.0\n",
            "dob_years                                 50\n",
            "education                secondary education\n",
            "education_id                               1\n",
            "family_status                        married\n",
            "family_status_id                           0\n",
            "gender                                     F\n",
            "income_type                    civil servant\n",
            "debt                                       0\n",
            "total_income                      24083.5065\n",
            "purpose             second-hand car purchase\n",
            "dob_group                              46-55\n",
            "Name: 41, dtype: object\n",
            "\n",
            "56-65:\n",
            "children                              0\n",
            "days_employed                  344187.0\n",
            "dob_years                            65\n",
            "education           secondary education\n",
            "education_id                          1\n",
            "family_status         civil partnership\n",
            "family_status_id                      1\n",
            "gender                                M\n",
            "income_type                     retiree\n",
            "debt                                  0\n",
            "total_income                  18969.149\n",
            "purpose               to have a wedding\n",
            "dob_group                         56-65\n",
            "Name: 12, dtype: object\n",
            "\n",
            "56-65:\n",
            "children                              0\n",
            "days_employed                  384733.0\n",
            "dob_years                            56\n",
            "education           secondary education\n",
            "education_id                          1\n",
            "family_status           widow / widower\n",
            "family_status_id                      2\n",
            "gender                                F\n",
            "income_type                     retiree\n",
            "debt                                  0\n",
            "total_income                  25986.582\n",
            "purpose               buying my own car\n",
            "dob_group                         56-65\n",
            "Name: 280, dtype: object\n",
            "\n",
            "no_na before:\n",
            "children                              0\n",
            "days_employed                  363548.0\n",
            "dob_years                            67\n",
            "education           secondary education\n",
            "education_id                          1\n",
            "family_status                   married\n",
            "family_status_id                      0\n",
            "gender                                M\n",
            "income_type                     retiree\n",
            "debt                                  0\n",
            "total_income                   8818.041\n",
            "purpose                 buy real estate\n",
            "dob_group                         66-75\n",
            "Name: 25, dtype: object\n",
            "\n",
            "no_na after:\n",
            "children                              0\n",
            "days_employed                  363548.0\n",
            "dob_years                            67\n",
            "education           secondary education\n",
            "education_id                          1\n",
            "family_status                   married\n",
            "family_status_id                      0\n",
            "gender                                M\n",
            "income_type                     retiree\n",
            "debt                                  0\n",
            "total_income                   8818.041\n",
            "purpose                 buy real estate\n",
            "dob_group                         66-75\n",
            "Name: 25, dtype: object\n"
          ]
        }
      ],
      "source": [
        "# Periksa apakah fungsi Anda dapat bekerja\n",
        "row_16_25 = df_w_t_income.loc[65].copy()\n",
        "row_26_35 = df_w_t_income.loc[72].copy()\n",
        "row_36_45 = df_w_t_income.loc[26].copy()\n",
        "row_46_55 = df_w_t_income.loc[41].copy()\n",
        "row_56_65 = df_w_t_income.loc[12].copy()\n",
        "row_66_75 = df_w_t_income.loc[280].copy()\n",
        "no_na = df_w_t_income.loc[25].copy()\n",
        "\n",
        "row_16_25['days_employed'] = fill_days_employed_na(row_16_25)\n",
        "row_26_35['days_employed'] = fill_days_employed_na(row_26_35)\n",
        "row_36_45['days_employed'] = fill_days_employed_na(row_36_45)\n",
        "row_46_55['days_employed'] = fill_days_employed_na(row_46_55)\n",
        "row_56_65['days_employed'] = fill_days_employed_na(row_56_65)\n",
        "row_66_75['days_employed'] = fill_days_employed_na(row_66_75)\n",
        "\n",
        "lists = [row_16_25, row_26_35, row_36_45, row_46_55, row_56_65, row_66_75]\n",
        "\n",
        "for row in lists:\n",
        "    print(row['dob_group']+':')\n",
        "    print(row)\n",
        "    print()\n",
        "    \n",
        "print('no_na before:')\n",
        "print(no_na)\n",
        "print()\n",
        "no_na['days_employed'] = fill_days_employed_na(no_na)\n",
        "print('no_na after:')\n",
        "print(no_na)"
      ]
    },
    {
      "cell_type": "markdown",
      "metadata": {
        "id": "iRaAtMceA6um"
      },
      "source": [
        "Fungsinya telah diuji dan berhasil, sekarang saatnya menerapkannya pada dataset."
      ]
    },
    {
      "cell_type": "code",
      "execution_count": null,
      "metadata": {
        "colab": {
          "base_uri": "https://localhost:8080/",
          "height": 423
        },
        "id": "JR9ZxhSsA6un",
        "outputId": "07ac5e12-37da-4986-ff87-62491030e8e6"
      },
      "outputs": [
        {
          "output_type": "execute_result",
          "data": {
            "text/plain": [
              "       children  days_employed  dob_years            education  education_id  \\\n",
              "0             1         8437.0         42    bachelor's degree             0   \n",
              "1             1         4024.0         36  secondary education             1   \n",
              "2             0         5623.0         33  secondary education             1   \n",
              "3             3         4124.0         32  secondary education             1   \n",
              "4             0       340266.0         53  secondary education             1   \n",
              "...         ...            ...        ...                  ...           ...   \n",
              "21347         1         4529.0         43  secondary education             1   \n",
              "21348         0       343937.0         67  secondary education             1   \n",
              "21349         1         2113.0         38  secondary education             1   \n",
              "21350         3         3112.0         38  secondary education             1   \n",
              "21351         2         1984.0         40  secondary education             1   \n",
              "\n",
              "           family_status  family_status_id gender income_type  debt  \\\n",
              "0                married                 0      F    employee     0   \n",
              "1                married                 0      F    employee     0   \n",
              "2                married                 0      M    employee     0   \n",
              "3                married                 0      M    employee     0   \n",
              "4      civil partnership                 1      F     retiree     0   \n",
              "...                  ...               ...    ...         ...   ...   \n",
              "21347  civil partnership                 1      F    business     0   \n",
              "21348            married                 0      F     retiree     0   \n",
              "21349  civil partnership                 1      M    employee     1   \n",
              "21350            married                 0      M    employee     1   \n",
              "21351            married                 0      F    employee     0   \n",
              "\n",
              "       total_income                  purpose dob_group  \n",
              "0         40620.102    purchase of the house     36-45  \n",
              "1         17932.802             car purchase     36-45  \n",
              "2         23341.752    purchase of the house     26-35  \n",
              "3         42820.568  supplementary education     26-35  \n",
              "4         25378.572        to have a wedding     46-55  \n",
              "...             ...                      ...       ...  \n",
              "21347     35966.698     housing transactions     36-45  \n",
              "21348     24959.969        purchase of a car     66-75  \n",
              "21349     14347.610                 property     36-45  \n",
              "21350     39054.888        buying my own car     36-45  \n",
              "21351     13127.587             to buy a car     36-45  \n",
              "\n",
              "[21352 rows x 13 columns]"
            ],
            "text/html": [
              "\n",
              "  <div id=\"df-96c0891f-3c53-4a9f-b40c-68476646ceba\">\n",
              "    <div class=\"colab-df-container\">\n",
              "      <div>\n",
              "<style scoped>\n",
              "    .dataframe tbody tr th:only-of-type {\n",
              "        vertical-align: middle;\n",
              "    }\n",
              "\n",
              "    .dataframe tbody tr th {\n",
              "        vertical-align: top;\n",
              "    }\n",
              "\n",
              "    .dataframe thead th {\n",
              "        text-align: right;\n",
              "    }\n",
              "</style>\n",
              "<table border=\"1\" class=\"dataframe\">\n",
              "  <thead>\n",
              "    <tr style=\"text-align: right;\">\n",
              "      <th></th>\n",
              "      <th>children</th>\n",
              "      <th>days_employed</th>\n",
              "      <th>dob_years</th>\n",
              "      <th>education</th>\n",
              "      <th>education_id</th>\n",
              "      <th>family_status</th>\n",
              "      <th>family_status_id</th>\n",
              "      <th>gender</th>\n",
              "      <th>income_type</th>\n",
              "      <th>debt</th>\n",
              "      <th>total_income</th>\n",
              "      <th>purpose</th>\n",
              "      <th>dob_group</th>\n",
              "    </tr>\n",
              "  </thead>\n",
              "  <tbody>\n",
              "    <tr>\n",
              "      <th>0</th>\n",
              "      <td>1</td>\n",
              "      <td>8437.0</td>\n",
              "      <td>42</td>\n",
              "      <td>bachelor's degree</td>\n",
              "      <td>0</td>\n",
              "      <td>married</td>\n",
              "      <td>0</td>\n",
              "      <td>F</td>\n",
              "      <td>employee</td>\n",
              "      <td>0</td>\n",
              "      <td>40620.102</td>\n",
              "      <td>purchase of the house</td>\n",
              "      <td>36-45</td>\n",
              "    </tr>\n",
              "    <tr>\n",
              "      <th>1</th>\n",
              "      <td>1</td>\n",
              "      <td>4024.0</td>\n",
              "      <td>36</td>\n",
              "      <td>secondary education</td>\n",
              "      <td>1</td>\n",
              "      <td>married</td>\n",
              "      <td>0</td>\n",
              "      <td>F</td>\n",
              "      <td>employee</td>\n",
              "      <td>0</td>\n",
              "      <td>17932.802</td>\n",
              "      <td>car purchase</td>\n",
              "      <td>36-45</td>\n",
              "    </tr>\n",
              "    <tr>\n",
              "      <th>2</th>\n",
              "      <td>0</td>\n",
              "      <td>5623.0</td>\n",
              "      <td>33</td>\n",
              "      <td>secondary education</td>\n",
              "      <td>1</td>\n",
              "      <td>married</td>\n",
              "      <td>0</td>\n",
              "      <td>M</td>\n",
              "      <td>employee</td>\n",
              "      <td>0</td>\n",
              "      <td>23341.752</td>\n",
              "      <td>purchase of the house</td>\n",
              "      <td>26-35</td>\n",
              "    </tr>\n",
              "    <tr>\n",
              "      <th>3</th>\n",
              "      <td>3</td>\n",
              "      <td>4124.0</td>\n",
              "      <td>32</td>\n",
              "      <td>secondary education</td>\n",
              "      <td>1</td>\n",
              "      <td>married</td>\n",
              "      <td>0</td>\n",
              "      <td>M</td>\n",
              "      <td>employee</td>\n",
              "      <td>0</td>\n",
              "      <td>42820.568</td>\n",
              "      <td>supplementary education</td>\n",
              "      <td>26-35</td>\n",
              "    </tr>\n",
              "    <tr>\n",
              "      <th>4</th>\n",
              "      <td>0</td>\n",
              "      <td>340266.0</td>\n",
              "      <td>53</td>\n",
              "      <td>secondary education</td>\n",
              "      <td>1</td>\n",
              "      <td>civil partnership</td>\n",
              "      <td>1</td>\n",
              "      <td>F</td>\n",
              "      <td>retiree</td>\n",
              "      <td>0</td>\n",
              "      <td>25378.572</td>\n",
              "      <td>to have a wedding</td>\n",
              "      <td>46-55</td>\n",
              "    </tr>\n",
              "    <tr>\n",
              "      <th>...</th>\n",
              "      <td>...</td>\n",
              "      <td>...</td>\n",
              "      <td>...</td>\n",
              "      <td>...</td>\n",
              "      <td>...</td>\n",
              "      <td>...</td>\n",
              "      <td>...</td>\n",
              "      <td>...</td>\n",
              "      <td>...</td>\n",
              "      <td>...</td>\n",
              "      <td>...</td>\n",
              "      <td>...</td>\n",
              "      <td>...</td>\n",
              "    </tr>\n",
              "    <tr>\n",
              "      <th>21347</th>\n",
              "      <td>1</td>\n",
              "      <td>4529.0</td>\n",
              "      <td>43</td>\n",
              "      <td>secondary education</td>\n",
              "      <td>1</td>\n",
              "      <td>civil partnership</td>\n",
              "      <td>1</td>\n",
              "      <td>F</td>\n",
              "      <td>business</td>\n",
              "      <td>0</td>\n",
              "      <td>35966.698</td>\n",
              "      <td>housing transactions</td>\n",
              "      <td>36-45</td>\n",
              "    </tr>\n",
              "    <tr>\n",
              "      <th>21348</th>\n",
              "      <td>0</td>\n",
              "      <td>343937.0</td>\n",
              "      <td>67</td>\n",
              "      <td>secondary education</td>\n",
              "      <td>1</td>\n",
              "      <td>married</td>\n",
              "      <td>0</td>\n",
              "      <td>F</td>\n",
              "      <td>retiree</td>\n",
              "      <td>0</td>\n",
              "      <td>24959.969</td>\n",
              "      <td>purchase of a car</td>\n",
              "      <td>66-75</td>\n",
              "    </tr>\n",
              "    <tr>\n",
              "      <th>21349</th>\n",
              "      <td>1</td>\n",
              "      <td>2113.0</td>\n",
              "      <td>38</td>\n",
              "      <td>secondary education</td>\n",
              "      <td>1</td>\n",
              "      <td>civil partnership</td>\n",
              "      <td>1</td>\n",
              "      <td>M</td>\n",
              "      <td>employee</td>\n",
              "      <td>1</td>\n",
              "      <td>14347.610</td>\n",
              "      <td>property</td>\n",
              "      <td>36-45</td>\n",
              "    </tr>\n",
              "    <tr>\n",
              "      <th>21350</th>\n",
              "      <td>3</td>\n",
              "      <td>3112.0</td>\n",
              "      <td>38</td>\n",
              "      <td>secondary education</td>\n",
              "      <td>1</td>\n",
              "      <td>married</td>\n",
              "      <td>0</td>\n",
              "      <td>M</td>\n",
              "      <td>employee</td>\n",
              "      <td>1</td>\n",
              "      <td>39054.888</td>\n",
              "      <td>buying my own car</td>\n",
              "      <td>36-45</td>\n",
              "    </tr>\n",
              "    <tr>\n",
              "      <th>21351</th>\n",
              "      <td>2</td>\n",
              "      <td>1984.0</td>\n",
              "      <td>40</td>\n",
              "      <td>secondary education</td>\n",
              "      <td>1</td>\n",
              "      <td>married</td>\n",
              "      <td>0</td>\n",
              "      <td>F</td>\n",
              "      <td>employee</td>\n",
              "      <td>0</td>\n",
              "      <td>13127.587</td>\n",
              "      <td>to buy a car</td>\n",
              "      <td>36-45</td>\n",
              "    </tr>\n",
              "  </tbody>\n",
              "</table>\n",
              "<p>21352 rows × 13 columns</p>\n",
              "</div>\n",
              "      <button class=\"colab-df-convert\" onclick=\"convertToInteractive('df-96c0891f-3c53-4a9f-b40c-68476646ceba')\"\n",
              "              title=\"Convert this dataframe to an interactive table.\"\n",
              "              style=\"display:none;\">\n",
              "        \n",
              "  <svg xmlns=\"http://www.w3.org/2000/svg\" height=\"24px\"viewBox=\"0 0 24 24\"\n",
              "       width=\"24px\">\n",
              "    <path d=\"M0 0h24v24H0V0z\" fill=\"none\"/>\n",
              "    <path d=\"M18.56 5.44l.94 2.06.94-2.06 2.06-.94-2.06-.94-.94-2.06-.94 2.06-2.06.94zm-11 1L8.5 8.5l.94-2.06 2.06-.94-2.06-.94L8.5 2.5l-.94 2.06-2.06.94zm10 10l.94 2.06.94-2.06 2.06-.94-2.06-.94-.94-2.06-.94 2.06-2.06.94z\"/><path d=\"M17.41 7.96l-1.37-1.37c-.4-.4-.92-.59-1.43-.59-.52 0-1.04.2-1.43.59L10.3 9.45l-7.72 7.72c-.78.78-.78 2.05 0 2.83L4 21.41c.39.39.9.59 1.41.59.51 0 1.02-.2 1.41-.59l7.78-7.78 2.81-2.81c.8-.78.8-2.07 0-2.86zM5.41 20L4 18.59l7.72-7.72 1.47 1.35L5.41 20z\"/>\n",
              "  </svg>\n",
              "      </button>\n",
              "      \n",
              "  <style>\n",
              "    .colab-df-container {\n",
              "      display:flex;\n",
              "      flex-wrap:wrap;\n",
              "      gap: 12px;\n",
              "    }\n",
              "\n",
              "    .colab-df-convert {\n",
              "      background-color: #E8F0FE;\n",
              "      border: none;\n",
              "      border-radius: 50%;\n",
              "      cursor: pointer;\n",
              "      display: none;\n",
              "      fill: #1967D2;\n",
              "      height: 32px;\n",
              "      padding: 0 0 0 0;\n",
              "      width: 32px;\n",
              "    }\n",
              "\n",
              "    .colab-df-convert:hover {\n",
              "      background-color: #E2EBFA;\n",
              "      box-shadow: 0px 1px 2px rgba(60, 64, 67, 0.3), 0px 1px 3px 1px rgba(60, 64, 67, 0.15);\n",
              "      fill: #174EA6;\n",
              "    }\n",
              "\n",
              "    [theme=dark] .colab-df-convert {\n",
              "      background-color: #3B4455;\n",
              "      fill: #D2E3FC;\n",
              "    }\n",
              "\n",
              "    [theme=dark] .colab-df-convert:hover {\n",
              "      background-color: #434B5C;\n",
              "      box-shadow: 0px 1px 3px 1px rgba(0, 0, 0, 0.15);\n",
              "      filter: drop-shadow(0px 1px 2px rgba(0, 0, 0, 0.3));\n",
              "      fill: #FFFFFF;\n",
              "    }\n",
              "  </style>\n",
              "\n",
              "      <script>\n",
              "        const buttonEl =\n",
              "          document.querySelector('#df-96c0891f-3c53-4a9f-b40c-68476646ceba button.colab-df-convert');\n",
              "        buttonEl.style.display =\n",
              "          google.colab.kernel.accessAllowed ? 'block' : 'none';\n",
              "\n",
              "        async function convertToInteractive(key) {\n",
              "          const element = document.querySelector('#df-96c0891f-3c53-4a9f-b40c-68476646ceba');\n",
              "          const dataTable =\n",
              "            await google.colab.kernel.invokeFunction('convertToInteractive',\n",
              "                                                     [key], {});\n",
              "          if (!dataTable) return;\n",
              "\n",
              "          const docLinkHtml = 'Like what you see? Visit the ' +\n",
              "            '<a target=\"_blank\" href=https://colab.research.google.com/notebooks/data_table.ipynb>data table notebook</a>'\n",
              "            + ' to learn more about interactive tables.';\n",
              "          element.innerHTML = '';\n",
              "          dataTable['output_type'] = 'display_data';\n",
              "          await google.colab.output.renderOutput(dataTable, element);\n",
              "          const docLink = document.createElement('div');\n",
              "          docLink.innerHTML = docLinkHtml;\n",
              "          element.appendChild(docLink);\n",
              "        }\n",
              "      </script>\n",
              "    </div>\n",
              "  </div>\n",
              "  "
            ]
          },
          "metadata": {},
          "execution_count": 87
        }
      ],
      "source": [
        "# Ganti nilai yang hilang\n",
        "df_d_employed_filled = df_w_t_income.copy()\n",
        "df_d_employed_filled['days_employed'] = df_d_employed_filled.apply(fill_days_employed_na, axis=1)\n",
        "df_d_employed_filled"
      ]
    },
    {
      "cell_type": "code",
      "execution_count": null,
      "metadata": {
        "colab": {
          "base_uri": "https://localhost:8080/"
        },
        "id": "5NYW-7JGA6un",
        "outputId": "83fe2185-3838-4261-f067-d159165ce36a"
      },
      "outputs": [
        {
          "output_type": "stream",
          "name": "stdout",
          "text": [
            "<class 'pandas.core.frame.DataFrame'>\n",
            "RangeIndex: 21352 entries, 0 to 21351\n",
            "Data columns (total 13 columns):\n",
            " #   Column            Non-Null Count  Dtype  \n",
            "---  ------            --------------  -----  \n",
            " 0   children          21352 non-null  int64  \n",
            " 1   days_employed     21352 non-null  float64\n",
            " 2   dob_years         21352 non-null  int64  \n",
            " 3   education         21352 non-null  object \n",
            " 4   education_id      21352 non-null  int64  \n",
            " 5   family_status     21352 non-null  object \n",
            " 6   family_status_id  21352 non-null  int64  \n",
            " 7   gender            21352 non-null  object \n",
            " 8   income_type       21352 non-null  object \n",
            " 9   debt              21352 non-null  int64  \n",
            " 10  total_income      21352 non-null  float64\n",
            " 11  purpose           21352 non-null  object \n",
            " 12  dob_group         21352 non-null  object \n",
            "dtypes: float64(2), int64(5), object(6)\n",
            "memory usage: 2.1+ MB\n"
          ]
        }
      ],
      "source": [
        "# Periksa entri di semua kolom - pastikan kita memperbaiki semua nilai yang hilang\n",
        "df_d_employed_filled.info()"
      ]
    },
    {
      "cell_type": "markdown",
      "metadata": {
        "id": "-21kLHMpA6uo"
      },
      "source": [
        "Setelah diperiksa, nilai `days_employed`nya telah terisi."
      ]
    },
    {
      "cell_type": "markdown",
      "source": [
        "#Mencari nilai `days_employed` yang tidak masuk akal\n",
        "\n",
        "Usia nasabah tertua adalah 75 tahun. Artinya tidak masuk akal jika ada masa kerja nasabah yang diatas 57 tahun. Karena pada umumnya paling cepat seseorang bekerja setelah menyelesaikan sekolah menengah atas / kejuruan yang waktunya selama 18 tahun. Artinya jika ada orang yang masa bekerjanya diatas 57 menurut saya datanya tidak masuk akal."
      ],
      "metadata": {
        "id": "j6ecHie5DeC_"
      }
    },
    {
      "cell_type": "code",
      "source": [
        "df_d_employed_filled['dob_years'].sort_values().unique()"
      ],
      "metadata": {
        "colab": {
          "base_uri": "https://localhost:8080/"
        },
        "id": "-Dyneo9QFFWI",
        "outputId": "da37ec80-9723-416d-815a-0bd84641d489"
      },
      "execution_count": null,
      "outputs": [
        {
          "output_type": "execute_result",
          "data": {
            "text/plain": [
              "array([19, 20, 21, 22, 23, 24, 25, 26, 27, 28, 29, 30, 31, 32, 33, 34, 35,\n",
              "       36, 37, 38, 39, 40, 41, 42, 43, 44, 45, 46, 47, 48, 49, 50, 51, 52,\n",
              "       53, 54, 55, 56, 57, 58, 59, 60, 61, 62, 63, 64, 65, 66, 67, 68, 69,\n",
              "       70, 71, 72, 73, 74, 75])"
            ]
          },
          "metadata": {},
          "execution_count": 89
        }
      ]
    },
    {
      "cell_type": "code",
      "source": [
        "df_d_employed_filled.loc[df_d_employed_filled['days_employed'] >= 57*365 ]"
      ],
      "metadata": {
        "colab": {
          "base_uri": "https://localhost:8080/",
          "height": 624
        },
        "id": "mJ_Ql2sEFXiE",
        "outputId": "63040e81-cedb-4a7d-ce24-5f9407d52cad"
      },
      "execution_count": null,
      "outputs": [
        {
          "output_type": "execute_result",
          "data": {
            "text/plain": [
              "       children  days_employed  dob_years            education  education_id  \\\n",
              "4             0       340266.0         53  secondary education             1   \n",
              "12            0       344187.0         65  secondary education             1   \n",
              "18            0       400281.0         53  secondary education             1   \n",
              "24            1       338551.0         57  secondary education             1   \n",
              "25            0       363548.0         67  secondary education             1   \n",
              "...         ...            ...        ...                  ...           ...   \n",
              "21332         0       338904.0         53  secondary education             1   \n",
              "21335         0       386497.0         62  secondary education             1   \n",
              "21336         0       362161.0         59    bachelor's degree             0   \n",
              "21345         0       373995.0         59  secondary education             1   \n",
              "21348         0       343937.0         67  secondary education             1   \n",
              "\n",
              "           family_status  family_status_id gender income_type  debt  \\\n",
              "4      civil partnership                 1      F     retiree     0   \n",
              "12     civil partnership                 1      M     retiree     0   \n",
              "18       widow / widower                 2      F     retiree     0   \n",
              "24             unmarried                 4      F     retiree     0   \n",
              "25               married                 0      M     retiree     0   \n",
              "...                  ...               ...    ...         ...   ...   \n",
              "21332  civil partnership                 1      M     retiree     0   \n",
              "21335            married                 0      M     retiree     0   \n",
              "21336            married                 0      M     retiree     0   \n",
              "21345            married                 0      F     retiree     0   \n",
              "21348            married                 0      F     retiree     0   \n",
              "\n",
              "       total_income                                   purpose dob_group  \n",
              "4         25378.572                         to have a wedding     46-55  \n",
              "12        18969.149                         to have a wedding     56-65  \n",
              "18         9091.804                  buying a second-hand car     46-55  \n",
              "24        46487.558  transactions with commercial real estate     56-65  \n",
              "25         8818.041                           buy real estate     66-75  \n",
              "...             ...                                       ...       ...  \n",
              "21332     12070.399                         to have a wedding     46-55  \n",
              "21335     11622.175                                  property     56-65  \n",
              "21336     11684.650                  real estate transactions     56-65  \n",
              "21345     24618.344                         purchase of a car     56-65  \n",
              "21348     24959.969                         purchase of a car     66-75  \n",
              "\n",
              "[3857 rows x 13 columns]"
            ],
            "text/html": [
              "\n",
              "  <div id=\"df-2feca44e-2e5e-4a32-bab0-1d75ef224033\">\n",
              "    <div class=\"colab-df-container\">\n",
              "      <div>\n",
              "<style scoped>\n",
              "    .dataframe tbody tr th:only-of-type {\n",
              "        vertical-align: middle;\n",
              "    }\n",
              "\n",
              "    .dataframe tbody tr th {\n",
              "        vertical-align: top;\n",
              "    }\n",
              "\n",
              "    .dataframe thead th {\n",
              "        text-align: right;\n",
              "    }\n",
              "</style>\n",
              "<table border=\"1\" class=\"dataframe\">\n",
              "  <thead>\n",
              "    <tr style=\"text-align: right;\">\n",
              "      <th></th>\n",
              "      <th>children</th>\n",
              "      <th>days_employed</th>\n",
              "      <th>dob_years</th>\n",
              "      <th>education</th>\n",
              "      <th>education_id</th>\n",
              "      <th>family_status</th>\n",
              "      <th>family_status_id</th>\n",
              "      <th>gender</th>\n",
              "      <th>income_type</th>\n",
              "      <th>debt</th>\n",
              "      <th>total_income</th>\n",
              "      <th>purpose</th>\n",
              "      <th>dob_group</th>\n",
              "    </tr>\n",
              "  </thead>\n",
              "  <tbody>\n",
              "    <tr>\n",
              "      <th>4</th>\n",
              "      <td>0</td>\n",
              "      <td>340266.0</td>\n",
              "      <td>53</td>\n",
              "      <td>secondary education</td>\n",
              "      <td>1</td>\n",
              "      <td>civil partnership</td>\n",
              "      <td>1</td>\n",
              "      <td>F</td>\n",
              "      <td>retiree</td>\n",
              "      <td>0</td>\n",
              "      <td>25378.572</td>\n",
              "      <td>to have a wedding</td>\n",
              "      <td>46-55</td>\n",
              "    </tr>\n",
              "    <tr>\n",
              "      <th>12</th>\n",
              "      <td>0</td>\n",
              "      <td>344187.0</td>\n",
              "      <td>65</td>\n",
              "      <td>secondary education</td>\n",
              "      <td>1</td>\n",
              "      <td>civil partnership</td>\n",
              "      <td>1</td>\n",
              "      <td>M</td>\n",
              "      <td>retiree</td>\n",
              "      <td>0</td>\n",
              "      <td>18969.149</td>\n",
              "      <td>to have a wedding</td>\n",
              "      <td>56-65</td>\n",
              "    </tr>\n",
              "    <tr>\n",
              "      <th>18</th>\n",
              "      <td>0</td>\n",
              "      <td>400281.0</td>\n",
              "      <td>53</td>\n",
              "      <td>secondary education</td>\n",
              "      <td>1</td>\n",
              "      <td>widow / widower</td>\n",
              "      <td>2</td>\n",
              "      <td>F</td>\n",
              "      <td>retiree</td>\n",
              "      <td>0</td>\n",
              "      <td>9091.804</td>\n",
              "      <td>buying a second-hand car</td>\n",
              "      <td>46-55</td>\n",
              "    </tr>\n",
              "    <tr>\n",
              "      <th>24</th>\n",
              "      <td>1</td>\n",
              "      <td>338551.0</td>\n",
              "      <td>57</td>\n",
              "      <td>secondary education</td>\n",
              "      <td>1</td>\n",
              "      <td>unmarried</td>\n",
              "      <td>4</td>\n",
              "      <td>F</td>\n",
              "      <td>retiree</td>\n",
              "      <td>0</td>\n",
              "      <td>46487.558</td>\n",
              "      <td>transactions with commercial real estate</td>\n",
              "      <td>56-65</td>\n",
              "    </tr>\n",
              "    <tr>\n",
              "      <th>25</th>\n",
              "      <td>0</td>\n",
              "      <td>363548.0</td>\n",
              "      <td>67</td>\n",
              "      <td>secondary education</td>\n",
              "      <td>1</td>\n",
              "      <td>married</td>\n",
              "      <td>0</td>\n",
              "      <td>M</td>\n",
              "      <td>retiree</td>\n",
              "      <td>0</td>\n",
              "      <td>8818.041</td>\n",
              "      <td>buy real estate</td>\n",
              "      <td>66-75</td>\n",
              "    </tr>\n",
              "    <tr>\n",
              "      <th>...</th>\n",
              "      <td>...</td>\n",
              "      <td>...</td>\n",
              "      <td>...</td>\n",
              "      <td>...</td>\n",
              "      <td>...</td>\n",
              "      <td>...</td>\n",
              "      <td>...</td>\n",
              "      <td>...</td>\n",
              "      <td>...</td>\n",
              "      <td>...</td>\n",
              "      <td>...</td>\n",
              "      <td>...</td>\n",
              "      <td>...</td>\n",
              "    </tr>\n",
              "    <tr>\n",
              "      <th>21332</th>\n",
              "      <td>0</td>\n",
              "      <td>338904.0</td>\n",
              "      <td>53</td>\n",
              "      <td>secondary education</td>\n",
              "      <td>1</td>\n",
              "      <td>civil partnership</td>\n",
              "      <td>1</td>\n",
              "      <td>M</td>\n",
              "      <td>retiree</td>\n",
              "      <td>0</td>\n",
              "      <td>12070.399</td>\n",
              "      <td>to have a wedding</td>\n",
              "      <td>46-55</td>\n",
              "    </tr>\n",
              "    <tr>\n",
              "      <th>21335</th>\n",
              "      <td>0</td>\n",
              "      <td>386497.0</td>\n",
              "      <td>62</td>\n",
              "      <td>secondary education</td>\n",
              "      <td>1</td>\n",
              "      <td>married</td>\n",
              "      <td>0</td>\n",
              "      <td>M</td>\n",
              "      <td>retiree</td>\n",
              "      <td>0</td>\n",
              "      <td>11622.175</td>\n",
              "      <td>property</td>\n",
              "      <td>56-65</td>\n",
              "    </tr>\n",
              "    <tr>\n",
              "      <th>21336</th>\n",
              "      <td>0</td>\n",
              "      <td>362161.0</td>\n",
              "      <td>59</td>\n",
              "      <td>bachelor's degree</td>\n",
              "      <td>0</td>\n",
              "      <td>married</td>\n",
              "      <td>0</td>\n",
              "      <td>M</td>\n",
              "      <td>retiree</td>\n",
              "      <td>0</td>\n",
              "      <td>11684.650</td>\n",
              "      <td>real estate transactions</td>\n",
              "      <td>56-65</td>\n",
              "    </tr>\n",
              "    <tr>\n",
              "      <th>21345</th>\n",
              "      <td>0</td>\n",
              "      <td>373995.0</td>\n",
              "      <td>59</td>\n",
              "      <td>secondary education</td>\n",
              "      <td>1</td>\n",
              "      <td>married</td>\n",
              "      <td>0</td>\n",
              "      <td>F</td>\n",
              "      <td>retiree</td>\n",
              "      <td>0</td>\n",
              "      <td>24618.344</td>\n",
              "      <td>purchase of a car</td>\n",
              "      <td>56-65</td>\n",
              "    </tr>\n",
              "    <tr>\n",
              "      <th>21348</th>\n",
              "      <td>0</td>\n",
              "      <td>343937.0</td>\n",
              "      <td>67</td>\n",
              "      <td>secondary education</td>\n",
              "      <td>1</td>\n",
              "      <td>married</td>\n",
              "      <td>0</td>\n",
              "      <td>F</td>\n",
              "      <td>retiree</td>\n",
              "      <td>0</td>\n",
              "      <td>24959.969</td>\n",
              "      <td>purchase of a car</td>\n",
              "      <td>66-75</td>\n",
              "    </tr>\n",
              "  </tbody>\n",
              "</table>\n",
              "<p>3857 rows × 13 columns</p>\n",
              "</div>\n",
              "      <button class=\"colab-df-convert\" onclick=\"convertToInteractive('df-2feca44e-2e5e-4a32-bab0-1d75ef224033')\"\n",
              "              title=\"Convert this dataframe to an interactive table.\"\n",
              "              style=\"display:none;\">\n",
              "        \n",
              "  <svg xmlns=\"http://www.w3.org/2000/svg\" height=\"24px\"viewBox=\"0 0 24 24\"\n",
              "       width=\"24px\">\n",
              "    <path d=\"M0 0h24v24H0V0z\" fill=\"none\"/>\n",
              "    <path d=\"M18.56 5.44l.94 2.06.94-2.06 2.06-.94-2.06-.94-.94-2.06-.94 2.06-2.06.94zm-11 1L8.5 8.5l.94-2.06 2.06-.94-2.06-.94L8.5 2.5l-.94 2.06-2.06.94zm10 10l.94 2.06.94-2.06 2.06-.94-2.06-.94-.94-2.06-.94 2.06-2.06.94z\"/><path d=\"M17.41 7.96l-1.37-1.37c-.4-.4-.92-.59-1.43-.59-.52 0-1.04.2-1.43.59L10.3 9.45l-7.72 7.72c-.78.78-.78 2.05 0 2.83L4 21.41c.39.39.9.59 1.41.59.51 0 1.02-.2 1.41-.59l7.78-7.78 2.81-2.81c.8-.78.8-2.07 0-2.86zM5.41 20L4 18.59l7.72-7.72 1.47 1.35L5.41 20z\"/>\n",
              "  </svg>\n",
              "      </button>\n",
              "      \n",
              "  <style>\n",
              "    .colab-df-container {\n",
              "      display:flex;\n",
              "      flex-wrap:wrap;\n",
              "      gap: 12px;\n",
              "    }\n",
              "\n",
              "    .colab-df-convert {\n",
              "      background-color: #E8F0FE;\n",
              "      border: none;\n",
              "      border-radius: 50%;\n",
              "      cursor: pointer;\n",
              "      display: none;\n",
              "      fill: #1967D2;\n",
              "      height: 32px;\n",
              "      padding: 0 0 0 0;\n",
              "      width: 32px;\n",
              "    }\n",
              "\n",
              "    .colab-df-convert:hover {\n",
              "      background-color: #E2EBFA;\n",
              "      box-shadow: 0px 1px 2px rgba(60, 64, 67, 0.3), 0px 1px 3px 1px rgba(60, 64, 67, 0.15);\n",
              "      fill: #174EA6;\n",
              "    }\n",
              "\n",
              "    [theme=dark] .colab-df-convert {\n",
              "      background-color: #3B4455;\n",
              "      fill: #D2E3FC;\n",
              "    }\n",
              "\n",
              "    [theme=dark] .colab-df-convert:hover {\n",
              "      background-color: #434B5C;\n",
              "      box-shadow: 0px 1px 3px 1px rgba(0, 0, 0, 0.15);\n",
              "      filter: drop-shadow(0px 1px 2px rgba(0, 0, 0, 0.3));\n",
              "      fill: #FFFFFF;\n",
              "    }\n",
              "  </style>\n",
              "\n",
              "      <script>\n",
              "        const buttonEl =\n",
              "          document.querySelector('#df-2feca44e-2e5e-4a32-bab0-1d75ef224033 button.colab-df-convert');\n",
              "        buttonEl.style.display =\n",
              "          google.colab.kernel.accessAllowed ? 'block' : 'none';\n",
              "\n",
              "        async function convertToInteractive(key) {\n",
              "          const element = document.querySelector('#df-2feca44e-2e5e-4a32-bab0-1d75ef224033');\n",
              "          const dataTable =\n",
              "            await google.colab.kernel.invokeFunction('convertToInteractive',\n",
              "                                                     [key], {});\n",
              "          if (!dataTable) return;\n",
              "\n",
              "          const docLinkHtml = 'Like what you see? Visit the ' +\n",
              "            '<a target=\"_blank\" href=https://colab.research.google.com/notebooks/data_table.ipynb>data table notebook</a>'\n",
              "            + ' to learn more about interactive tables.';\n",
              "          element.innerHTML = '';\n",
              "          dataTable['output_type'] = 'display_data';\n",
              "          await google.colab.output.renderOutput(dataTable, element);\n",
              "          const docLink = document.createElement('div');\n",
              "          docLink.innerHTML = docLinkHtml;\n",
              "          element.appendChild(docLink);\n",
              "        }\n",
              "      </script>\n",
              "    </div>\n",
              "  </div>\n",
              "  "
            ]
          },
          "metadata": {},
          "execution_count": 90
        }
      ]
    },
    {
      "cell_type": "markdown",
      "source": [
        "Ternyata datanya sebanyak 3,857. Secara persentase 10% lebih dari seluruh dataset. Karena itu sebaiknya kita ganti nilai datanya berdasarkan tingkat pendidikan. Karena tingkat pendidikan cukup menentukan berapa lama seseorang telah bekerja. Tapi sebelumnya kita cari tahu dulu apakah nilai `days_emmployed` ini memiliki outliers agar kita dapat menentukan nilai apa yang dijadikan nilai pengganti."
      ],
      "metadata": {
        "id": "XUyka2O3JReU"
      }
    },
    {
      "cell_type": "code",
      "source": [
        "filtered_df_d_employed_filled = df_d_employed_filled.loc[df_d_employed_filled['days_employed'] < 57*365 ].copy()\n",
        "sns.boxplot(data = filtered_df_d_employed_filled, x ='days_employed', y='education')"
      ],
      "metadata": {
        "colab": {
          "base_uri": "https://localhost:8080/",
          "height": 297
        },
        "id": "1UjsLmQlJ3hS",
        "outputId": "deac96a7-158e-4e8c-cf0c-a0c2b4541dca"
      },
      "execution_count": null,
      "outputs": [
        {
          "output_type": "execute_result",
          "data": {
            "text/plain": [
              "<matplotlib.axes._subplots.AxesSubplot at 0x7fd6ed8519d0>"
            ]
          },
          "metadata": {},
          "execution_count": 91
        },
        {
          "output_type": "display_data",
          "data": {
            "text/plain": [
              "<Figure size 432x288 with 1 Axes>"
            ],
            "image/png": "[encoded data removed]"
          },
          "metadata": {
            "needs_background": "light"
          }
        }
      ]
    },
    {
      "cell_type": "markdown",
      "source": [
        "Ternyata masih banyak data outliers, meskipun nilai yang tidak masuk akal sudah dibuang. Karena itu kita akan menggunakan nilai median dari masing-masing tingkat pendidikan."
      ],
      "metadata": {
        "id": "jGDMvrEwMRyu"
      }
    },
    {
      "cell_type": "code",
      "source": [
        "de_median_by_edu = filtered_df_d_employed_filled.groupby('education')['days_employed'].median()\n",
        "de_median_by_edu"
      ],
      "metadata": {
        "colab": {
          "base_uri": "https://localhost:8080/"
        },
        "id": "qq703xWvMk_m",
        "outputId": "82db2dfb-4412-413f-b44d-5491145ae15c"
      },
      "execution_count": null,
      "outputs": [
        {
          "output_type": "execute_result",
          "data": {
            "text/plain": [
              "education\n",
              "bachelor's degree      1641.0\n",
              "graduate degree        3851.5\n",
              "primary education      1294.0\n",
              "secondary education    1754.0\n",
              "some college           1216.0\n",
              "Name: days_employed, dtype: float64"
            ]
          },
          "metadata": {},
          "execution_count": 92
        }
      ]
    },
    {
      "cell_type": "markdown",
      "source": [
        "Mari kita buat fungsinya"
      ],
      "metadata": {
        "id": "wWMBIrYRNT4k"
      }
    },
    {
      "cell_type": "code",
      "source": [
        "def de_correction (row) :\n",
        "  if row['days_employed'] >= 365*57:\n",
        "    if row['education'] == \"bachelor's degree\":\n",
        "      return de_median_by_edu[\"bachelor's degree\"]\n",
        "    elif row['education'] == 'graduate degree':\n",
        "      return de_median_by_edu['graduate degree']\n",
        "    elif row['education'] == 'primary education':\n",
        "      return de_median_by_edu['primary education'] \n",
        "    elif row['education'] == 'secondary education':\n",
        "      return de_median_by_edu['secondary education']\n",
        "    elif row['education'] == 'some college':\n",
        "      return de_median_by_edu['some college']\n",
        "  else:\n",
        "    return row['days_employed']\n",
        "\n",
        "#test function\n",
        "#wrong DE\n",
        "print(de_correction(df_d_employed_filled.loc[4]))\n",
        "#right DE\n",
        "print(filtered_df_d_employed_filled.loc[0])\n",
        "print(de_correction(filtered_df_d_employed_filled.loc[0]))"
      ],
      "metadata": {
        "colab": {
          "base_uri": "https://localhost:8080/"
        },
        "id": "6WnnwHKgNJVo",
        "outputId": "b86f51e0-171e-4e8e-90cd-d196052a1965"
      },
      "execution_count": null,
      "outputs": [
        {
          "output_type": "stream",
          "name": "stdout",
          "text": [
            "1754.0\n",
            "children                                1\n",
            "days_employed                      8437.0\n",
            "dob_years                              42\n",
            "education               bachelor's degree\n",
            "education_id                            0\n",
            "family_status                     married\n",
            "family_status_id                        0\n",
            "gender                                  F\n",
            "income_type                      employee\n",
            "debt                                    0\n",
            "total_income                    40620.102\n",
            "purpose             purchase of the house\n",
            "dob_group                           36-45\n",
            "Name: 0, dtype: object\n",
            "8437.0\n"
          ]
        }
      ]
    },
    {
      "cell_type": "markdown",
      "source": [
        "Fungsinya telah diuji dan berhasil. Mari kita terapkan ke dataset"
      ],
      "metadata": {
        "id": "HBfSfyohQpQN"
      }
    },
    {
      "cell_type": "code",
      "source": [
        "df_d_employed_filled['days_employed'] = df_d_employed_filled.apply(de_correction, axis=1)\n",
        "df_d_employed_filled.loc[df_d_employed_filled['days_employed'] >= 57*365]"
      ],
      "metadata": {
        "colab": {
          "base_uri": "https://localhost:8080/",
          "height": 49
        },
        "id": "02S91mHxQ0ag",
        "outputId": "406bcd3b-79f9-43a4-dfae-23e972f0962e"
      },
      "execution_count": null,
      "outputs": [
        {
          "output_type": "execute_result",
          "data": {
            "text/plain": [
              "Empty DataFrame\n",
              "Columns: [children, days_employed, dob_years, education, education_id, family_status, family_status_id, gender, income_type, debt, total_income, purpose, dob_group]\n",
              "Index: []"
            ],
            "text/html": [
              "\n",
              "  <div id=\"df-94de49e9-fa32-43b6-a072-e6507dc07403\">\n",
              "    <div class=\"colab-df-container\">\n",
              "      <div>\n",
              "<style scoped>\n",
              "    .dataframe tbody tr th:only-of-type {\n",
              "        vertical-align: middle;\n",
              "    }\n",
              "\n",
              "    .dataframe tbody tr th {\n",
              "        vertical-align: top;\n",
              "    }\n",
              "\n",
              "    .dataframe thead th {\n",
              "        text-align: right;\n",
              "    }\n",
              "</style>\n",
              "<table border=\"1\" class=\"dataframe\">\n",
              "  <thead>\n",
              "    <tr style=\"text-align: right;\">\n",
              "      <th></th>\n",
              "      <th>children</th>\n",
              "      <th>days_employed</th>\n",
              "      <th>dob_years</th>\n",
              "      <th>education</th>\n",
              "      <th>education_id</th>\n",
              "      <th>family_status</th>\n",
              "      <th>family_status_id</th>\n",
              "      <th>gender</th>\n",
              "      <th>income_type</th>\n",
              "      <th>debt</th>\n",
              "      <th>total_income</th>\n",
              "      <th>purpose</th>\n",
              "      <th>dob_group</th>\n",
              "    </tr>\n",
              "  </thead>\n",
              "  <tbody>\n",
              "  </tbody>\n",
              "</table>\n",
              "</div>\n",
              "      <button class=\"colab-df-convert\" onclick=\"convertToInteractive('df-94de49e9-fa32-43b6-a072-e6507dc07403')\"\n",
              "              title=\"Convert this dataframe to an interactive table.\"\n",
              "              style=\"display:none;\">\n",
              "        \n",
              "  <svg xmlns=\"http://www.w3.org/2000/svg\" height=\"24px\"viewBox=\"0 0 24 24\"\n",
              "       width=\"24px\">\n",
              "    <path d=\"M0 0h24v24H0V0z\" fill=\"none\"/>\n",
              "    <path d=\"M18.56 5.44l.94 2.06.94-2.06 2.06-.94-2.06-.94-.94-2.06-.94 2.06-2.06.94zm-11 1L8.5 8.5l.94-2.06 2.06-.94-2.06-.94L8.5 2.5l-.94 2.06-2.06.94zm10 10l.94 2.06.94-2.06 2.06-.94-2.06-.94-.94-2.06-.94 2.06-2.06.94z\"/><path d=\"M17.41 7.96l-1.37-1.37c-.4-.4-.92-.59-1.43-.59-.52 0-1.04.2-1.43.59L10.3 9.45l-7.72 7.72c-.78.78-.78 2.05 0 2.83L4 21.41c.39.39.9.59 1.41.59.51 0 1.02-.2 1.41-.59l7.78-7.78 2.81-2.81c.8-.78.8-2.07 0-2.86zM5.41 20L4 18.59l7.72-7.72 1.47 1.35L5.41 20z\"/>\n",
              "  </svg>\n",
              "      </button>\n",
              "      \n",
              "  <style>\n",
              "    .colab-df-container {\n",
              "      display:flex;\n",
              "      flex-wrap:wrap;\n",
              "      gap: 12px;\n",
              "    }\n",
              "\n",
              "    .colab-df-convert {\n",
              "      background-color: #E8F0FE;\n",
              "      border: none;\n",
              "      border-radius: 50%;\n",
              "      cursor: pointer;\n",
              "      display: none;\n",
              "      fill: #1967D2;\n",
              "      height: 32px;\n",
              "      padding: 0 0 0 0;\n",
              "      width: 32px;\n",
              "    }\n",
              "\n",
              "    .colab-df-convert:hover {\n",
              "      background-color: #E2EBFA;\n",
              "      box-shadow: 0px 1px 2px rgba(60, 64, 67, 0.3), 0px 1px 3px 1px rgba(60, 64, 67, 0.15);\n",
              "      fill: #174EA6;\n",
              "    }\n",
              "\n",
              "    [theme=dark] .colab-df-convert {\n",
              "      background-color: #3B4455;\n",
              "      fill: #D2E3FC;\n",
              "    }\n",
              "\n",
              "    [theme=dark] .colab-df-convert:hover {\n",
              "      background-color: #434B5C;\n",
              "      box-shadow: 0px 1px 3px 1px rgba(0, 0, 0, 0.15);\n",
              "      filter: drop-shadow(0px 1px 2px rgba(0, 0, 0, 0.3));\n",
              "      fill: #FFFFFF;\n",
              "    }\n",
              "  </style>\n",
              "\n",
              "      <script>\n",
              "        const buttonEl =\n",
              "          document.querySelector('#df-94de49e9-fa32-43b6-a072-e6507dc07403 button.colab-df-convert');\n",
              "        buttonEl.style.display =\n",
              "          google.colab.kernel.accessAllowed ? 'block' : 'none';\n",
              "\n",
              "        async function convertToInteractive(key) {\n",
              "          const element = document.querySelector('#df-94de49e9-fa32-43b6-a072-e6507dc07403');\n",
              "          const dataTable =\n",
              "            await google.colab.kernel.invokeFunction('convertToInteractive',\n",
              "                                                     [key], {});\n",
              "          if (!dataTable) return;\n",
              "\n",
              "          const docLinkHtml = 'Like what you see? Visit the ' +\n",
              "            '<a target=\"_blank\" href=https://colab.research.google.com/notebooks/data_table.ipynb>data table notebook</a>'\n",
              "            + ' to learn more about interactive tables.';\n",
              "          element.innerHTML = '';\n",
              "          dataTable['output_type'] = 'display_data';\n",
              "          await google.colab.output.renderOutput(dataTable, element);\n",
              "          const docLink = document.createElement('div');\n",
              "          docLink.innerHTML = docLinkHtml;\n",
              "          element.appendChild(docLink);\n",
              "        }\n",
              "      </script>\n",
              "    </div>\n",
              "  </div>\n",
              "  "
            ]
          },
          "metadata": {},
          "execution_count": 94
        }
      ]
    },
    {
      "cell_type": "markdown",
      "source": [
        "Fungsi telah berhasil diterapkan kedalam dataset, karena sudah tidak ada nasabah yang nilai `days_employed`nya ditas 57 tahun."
      ],
      "metadata": {
        "id": "WQPpxwxiiM71"
      }
    },
    {
      "cell_type": "markdown",
      "metadata": {
        "id": "6EQCw2AzA6uo"
      },
      "source": [
        "## Pengkategorian Data\n"
      ]
    },
    {
      "cell_type": "code",
      "execution_count": null,
      "metadata": {
        "colab": {
          "base_uri": "https://localhost:8080/"
        },
        "id": "yRE79aJuA6up",
        "outputId": "6bef495c-7cd2-4ba3-c76a-abf9afdde7d5"
      },
      "outputs": [
        {
          "output_type": "stream",
          "name": "stdout",
          "text": [
            "nilai unique dari purpose:\n"
          ]
        },
        {
          "output_type": "execute_result",
          "data": {
            "text/plain": [
              "array(['building a property', 'building a real estate',\n",
              "       'buy commercial real estate', 'buy real estate',\n",
              "       'buy residential real estate', 'buying a second-hand car',\n",
              "       'buying my own car', 'buying property for renting out', 'car',\n",
              "       'car purchase', 'cars', 'construction of own property',\n",
              "       'education', 'getting an education', 'getting higher education',\n",
              "       'going to university', 'having a wedding', 'housing',\n",
              "       'housing renovation', 'housing transactions', 'profile education',\n",
              "       'property', 'purchase of a car', 'purchase of my own house',\n",
              "       'purchase of the house', 'purchase of the house for my family',\n",
              "       'real estate transactions', 'second-hand car purchase',\n",
              "       'supplementary education', 'to become educated', 'to buy a car',\n",
              "       'to get a supplementary education', 'to have a wedding',\n",
              "       'to own a car', 'transactions with commercial real estate',\n",
              "       'transactions with my real estate', 'university education',\n",
              "       'wedding ceremony'], dtype=object)"
            ]
          },
          "metadata": {},
          "execution_count": 97
        }
      ],
      "source": [
        "# Periksa nilai unik\n",
        "\n",
        "def find_word_in_array (looked_array, list_to_fill, word_to_find):\n",
        "    for match in looked_array:\n",
        "        if word_to_find in match:\n",
        "            list_to_fill.append(match)\n",
        "porpose_property = []\n",
        "porpose_education = []\n",
        "purpose_car = []\n",
        "purpose_wedding = []\n",
        "df_purpose_unique = df_d_employed_filled['purpose'].sort_values().unique()\n",
        "\n",
        "find_word_in_array(df_purpose_unique, porpose_property, 'property')\n",
        "find_word_in_array(df_purpose_unique, porpose_property, 'house')\n",
        "find_word_in_array(df_purpose_unique, porpose_property, 'real estate')\n",
        "find_word_in_array(df_purpose_unique, porpose_property, 'housing')\n",
        "\n",
        "find_word_in_array(df_purpose_unique, porpose_education, 'education')\n",
        "find_word_in_array(df_purpose_unique, porpose_education, 'university')\n",
        "find_word_in_array(df_purpose_unique, porpose_education, 'educated')\n",
        "\n",
        "find_word_in_array(df_purpose_unique, purpose_car, 'car')\n",
        "\n",
        "find_word_in_array(df_purpose_unique, purpose_wedding, 'wedding')\n",
        "\n",
        "print('nilai unique dari purpose:')\n",
        "df_purpose_unique\n"
      ]
    },
    {
      "cell_type": "markdown",
      "metadata": {
        "id": "oz0dhxTJA6uq"
      },
      "source": [
        "Dari sekian banyak nilai unik, yang saya lihat hanya ada 4 tujuan utama:\n",
        "- Pembelian property\n",
        "- Membeli kendaraa\n",
        "- membiayai pendidikan\n",
        "- membiayai pernikahan\n",
        "\n",
        "Karena itu dari sekian banyak nilai unik dari kolom `purpose` harus dimasukan kedalam 4 kategori tersebut.  \n"
      ]
    },
    {
      "cell_type": "code",
      "execution_count": null,
      "metadata": {
        "colab": {
          "base_uri": "https://localhost:8080/"
        },
        "id": "gmtj_E6kA6uq",
        "outputId": "17ecf57d-b9a3-48d0-f3c6-78e85f01546e"
      },
      "outputs": [
        {
          "output_type": "stream",
          "name": "stdout",
          "text": [
            "to buy property\n",
            "to buy a car\n",
            "to get education\n",
            "to get married\n"
          ]
        }
      ],
      "source": [
        "# Mari kita tulis sebuah fungsi untuk mengategorikan data berdasarkan topik umum\n",
        "\n",
        "def find_word_in_df (row) :\n",
        "    for match in porpose_property:\n",
        "        if row['purpose'] in match:\n",
        "            return 'to buy property'\n",
        "        else: \n",
        "            pass\n",
        "    for match in porpose_education:\n",
        "        if row['purpose'] in match:\n",
        "            return 'to get education'\n",
        "        else: \n",
        "            pass\n",
        "    for match in purpose_car:\n",
        "        if row['purpose'] in match:\n",
        "            return 'to buy a car'\n",
        "        else: \n",
        "            pass\n",
        "    for match in purpose_wedding:\n",
        "        if row['purpose'] in match:\n",
        "            return 'to get married'\n",
        "        else: \n",
        "            pass\n",
        "        \n",
        "#df_d_employed_filled\n",
        "\n",
        "print(find_word_in_df(df_d_employed_filled.iloc[0])) #test to buy property\n",
        "print(find_word_in_df(df_d_employed_filled.iloc[1])) #test to buy a car\n",
        "print(find_word_in_df(df_d_employed_filled.iloc[3])) #test to get education\n",
        "print(find_word_in_df(df_d_employed_filled.iloc[4])) #test to get married"
      ]
    },
    {
      "cell_type": "markdown",
      "metadata": {
        "id": "Uh8-VYR2A6ur"
      },
      "source": [
        "Fungsi diatas bertujuan untuk mengelompokan data-data dalam kolom `purporse` dan fungsinya telah diuji dan berhasil. Sekarang saatnya menerapkan kedalam dataset."
      ]
    },
    {
      "cell_type": "code",
      "execution_count": null,
      "metadata": {
        "colab": {
          "base_uri": "https://localhost:8080/"
        },
        "id": "KqkN16IhA6ur",
        "outputId": "642c242f-8a50-460e-f029-1ae0d3855e70"
      },
      "outputs": [
        {
          "output_type": "execute_result",
          "data": {
            "text/plain": [
              "to buy property     10763\n",
              "to buy a car         4284\n",
              "to get education     3995\n",
              "to get married       2310\n",
              "Name: purpose_group, dtype: int64"
            ]
          },
          "metadata": {},
          "execution_count": 99
        }
      ],
      "source": [
        "# Buat kolom yang memuat kategori dan hitung nilainya \n",
        "df_new_group = df_d_employed_filled.copy()\n",
        "df_new_group['purpose_group'] = df_new_group.apply(find_word_in_df, axis = 1)\n",
        "\n",
        "df_new_group['purpose_group'].value_counts()"
      ]
    },
    {
      "cell_type": "markdown",
      "metadata": {
        "id": "DcPAdhuJA6ur"
      },
      "source": [
        "Kolomnya sudah berhasil ditambahkan dan datanya sudah dapat dilihat. Alasan terbanyak yang dari nasabah untuk meminjam dana adalah `untuk membeli properti`, setelah itu disusul oleh `untuk membeli mobil`, `untuk biaya pendidikan`, dan `untuk biaya pernikahan`."
      ]
    },
    {
      "cell_type": "code",
      "execution_count": null,
      "metadata": {
        "scrolled": true,
        "colab": {
          "base_uri": "https://localhost:8080/"
        },
        "id": "rhEaNmjAA6us",
        "outputId": "516e7b1c-209d-4af7-dd2e-287269d2bc4d"
      },
      "outputs": [
        {
          "output_type": "execute_result",
          "data": {
            "text/plain": [
              "22815.103499999997"
            ]
          },
          "metadata": {},
          "execution_count": 100
        }
      ],
      "source": [
        "# Melihat nilai median dari kolom total_income\n",
        "total_income_median = df_new_group['total_income'].median()\n",
        "total_income_median"
      ]
    },
    {
      "cell_type": "code",
      "execution_count": null,
      "metadata": {
        "colab": {
          "base_uri": "https://localhost:8080/",
          "height": 297
        },
        "id": "AX963SPsA6us",
        "outputId": "bba01c91-a263-428b-ef6a-dbd622ccfc6f"
      },
      "outputs": [
        {
          "output_type": "execute_result",
          "data": {
            "text/plain": [
              "<matplotlib.axes._subplots.AxesSubplot at 0x7fd6edc2abe0>"
            ]
          },
          "metadata": {},
          "execution_count": 101
        },
        {
          "output_type": "display_data",
          "data": {
            "text/plain": [
              "<Figure size 432x288 with 1 Axes>"
            ],
            "image/png": "[encoded data removed]"
          },
          "metadata": {
            "needs_background": "light"
          }
        }
      ],
      "source": [
        "sns.boxplot(data=df_new_group, x='total_income')"
      ]
    },
    {
      "cell_type": "code",
      "execution_count": null,
      "metadata": {
        "colab": {
          "base_uri": "https://localhost:8080/"
        },
        "id": "0nhQtTT5A6ut",
        "outputId": "039c18dc-e666-4d70-d4cc-1942d111403a"
      },
      "outputs": [
        {
          "output_type": "execute_result",
          "data": {
            "text/plain": [
              "(1318,)"
            ]
          },
          "metadata": {},
          "execution_count": 102
        }
      ],
      "source": [
        "df_new_group.loc[df_new_group['total_income'] > 50000, 'total_income'].shape"
      ]
    },
    {
      "cell_type": "markdown",
      "metadata": {
        "id": "kLPNW5QcA6uu"
      },
      "source": [
        "Untuk kolom `purpose` saya mendapatkan temuan tujuan pinjaman dari nasabah adalah untuk membiayai properti.\n",
        "\n",
        "Untuk kolom `total income ` saya mendapatkan 3 temuan:\n",
        "- Nilai median dari total_income adalah sebesar 22,815.10.\n",
        "- Berdasarkan visualisasi dari boxplot menunjukan nilai outliers setelah datas 50,000.\n",
        "- Jumlah nasabah yang memiliki total_income diatas 50,000 sebanyak 1,318 nasabah."
      ]
    },
    {
      "cell_type": "markdown",
      "metadata": {
        "id": "rJiBPw58A6uv"
      },
      "source": [
        "Untuk yang kolom numerik, yaitu `total_income`. Berdasarkan temuan sebelumnya saya akan membagi menjadi 3 rentang / kelompok:\n",
        "- Rendah, dibawah median 22,815.\n",
        "- Sedang, diatas median dan dibawah batas outlier dari boxplot, 50rb\n",
        "- diatas 50rb\n",
        "\n",
        "Karena jumlah nasabah yang diatas batas outliers cukup banyak maka saya menjadikan yang diatas batas outliers sebagai rentang atas, dan membagi nasabah diluar outliers menjadi sedang dan rendah dengan nilai median."
      ]
    },
    {
      "cell_type": "code",
      "execution_count": null,
      "metadata": {
        "colab": {
          "base_uri": "https://localhost:8080/"
        },
        "id": "kFrsYr5wA6uw",
        "outputId": "7a88f7fb-fde7-4a07-a03f-dc9cc369ec9e"
      },
      "outputs": [
        {
          "output_type": "stream",
          "name": "stdout",
          "text": [
            "low\n",
            "medium\n",
            "high\n"
          ]
        }
      ],
      "source": [
        "# Buat fungsi yang melakukan pengkategorian menjadi kelompok numerik yang berbeda berdasarkan rentang\n",
        "\n",
        "def grouping_total_income(row) :\n",
        "    if row['total_income'] <= total_income_median:\n",
        "        return 'low'\n",
        "    elif row['total_income'] > total_income_median and row['total_income'] <= 50000:\n",
        "        return 'medium'\n",
        "    elif row['total_income'] > 50000:\n",
        "        return 'high'\n",
        "\n",
        "print(grouping_total_income(df_new_group.iloc[1])) #test low\n",
        "print(grouping_total_income(df_new_group.iloc[0])) #test medium  \n",
        "print(grouping_total_income(df_new_group.iloc[39])) #test high\n",
        "    \n",
        "#df_new_group.loc[df_new_group['total_income'] > 50000]"
      ]
    },
    {
      "cell_type": "markdown",
      "metadata": {
        "id": "o39GdIZLA6ux"
      },
      "source": [
        "Sebelum memulai saya membuat terlebih dahulu fungsi untuk mengkategorikan nasabah berdasarkan `total_income`nya. Selain itu fungsinya telah berhasi diuji dan untuk selanjutnya saya akan menerapkan fungsinya didalam dataset."
      ]
    },
    {
      "cell_type": "code",
      "execution_count": null,
      "metadata": {
        "id": "DmraYhhQA6ux"
      },
      "outputs": [],
      "source": [
        "# Buat kolom yang memuat kategori dengan menerapkan fungsi keseluruh dataset\n",
        "df_new_group['total_income_group'] = df_new_group.apply(grouping_total_income, axis=1)"
      ]
    },
    {
      "cell_type": "code",
      "execution_count": null,
      "metadata": {
        "scrolled": true,
        "colab": {
          "base_uri": "https://localhost:8080/"
        },
        "id": "UyRc0VtBA6uy",
        "outputId": "92aecaa6-e5a2-4f58-fbea-1a9a5eccbfd3"
      },
      "outputs": [
        {
          "output_type": "execute_result",
          "data": {
            "text/plain": [
              "low       10790\n",
              "medium     9244\n",
              "high       1318\n",
              "Name: total_income_group, dtype: int64"
            ]
          },
          "metadata": {},
          "execution_count": 106
        }
      ],
      "source": [
        "# Hitung setiap nilai kategori untuk melihat pendistribusiannya\n",
        "df_new_group['total_income_group'].value_counts()"
      ]
    },
    {
      "cell_type": "markdown",
      "metadata": {
        "id": "BhU75v5GA6uy"
      },
      "source": [
        "## Memeriksa hipotesis\n"
      ]
    },
    {
      "cell_type": "markdown",
      "metadata": {
        "id": "xh1JH4XjA6uy"
      },
      "source": [
        "### Korelasi antara memiliki anak dengan melakukan pelunasan tepat waktu"
      ]
    },
    {
      "cell_type": "code",
      "execution_count": null,
      "metadata": {
        "colab": {
          "base_uri": "https://localhost:8080/",
          "height": 423
        },
        "id": "Q7CMNOuMA6uz",
        "outputId": "a97c1804-1306-4cd3-8596-1ac7e9c4c52d"
      },
      "outputs": [
        {
          "output_type": "execute_result",
          "data": {
            "text/plain": [
              "       children  debt\n",
              "0             1     0\n",
              "1             1     0\n",
              "2             0     0\n",
              "3             3     0\n",
              "4             0     0\n",
              "...         ...   ...\n",
              "21347         1     0\n",
              "21348         0     0\n",
              "21349         1     1\n",
              "21350         3     1\n",
              "21351         2     0\n",
              "\n",
              "[21352 rows x 2 columns]"
            ],
            "text/html": [
              "\n",
              "  <div id=\"df-f9aa8fd1-ccd8-4141-be68-9e88e8c44939\">\n",
              "    <div class=\"colab-df-container\">\n",
              "      <div>\n",
              "<style scoped>\n",
              "    .dataframe tbody tr th:only-of-type {\n",
              "        vertical-align: middle;\n",
              "    }\n",
              "\n",
              "    .dataframe tbody tr th {\n",
              "        vertical-align: top;\n",
              "    }\n",
              "\n",
              "    .dataframe thead th {\n",
              "        text-align: right;\n",
              "    }\n",
              "</style>\n",
              "<table border=\"1\" class=\"dataframe\">\n",
              "  <thead>\n",
              "    <tr style=\"text-align: right;\">\n",
              "      <th></th>\n",
              "      <th>children</th>\n",
              "      <th>debt</th>\n",
              "    </tr>\n",
              "  </thead>\n",
              "  <tbody>\n",
              "    <tr>\n",
              "      <th>0</th>\n",
              "      <td>1</td>\n",
              "      <td>0</td>\n",
              "    </tr>\n",
              "    <tr>\n",
              "      <th>1</th>\n",
              "      <td>1</td>\n",
              "      <td>0</td>\n",
              "    </tr>\n",
              "    <tr>\n",
              "      <th>2</th>\n",
              "      <td>0</td>\n",
              "      <td>0</td>\n",
              "    </tr>\n",
              "    <tr>\n",
              "      <th>3</th>\n",
              "      <td>3</td>\n",
              "      <td>0</td>\n",
              "    </tr>\n",
              "    <tr>\n",
              "      <th>4</th>\n",
              "      <td>0</td>\n",
              "      <td>0</td>\n",
              "    </tr>\n",
              "    <tr>\n",
              "      <th>...</th>\n",
              "      <td>...</td>\n",
              "      <td>...</td>\n",
              "    </tr>\n",
              "    <tr>\n",
              "      <th>21347</th>\n",
              "      <td>1</td>\n",
              "      <td>0</td>\n",
              "    </tr>\n",
              "    <tr>\n",
              "      <th>21348</th>\n",
              "      <td>0</td>\n",
              "      <td>0</td>\n",
              "    </tr>\n",
              "    <tr>\n",
              "      <th>21349</th>\n",
              "      <td>1</td>\n",
              "      <td>1</td>\n",
              "    </tr>\n",
              "    <tr>\n",
              "      <th>21350</th>\n",
              "      <td>3</td>\n",
              "      <td>1</td>\n",
              "    </tr>\n",
              "    <tr>\n",
              "      <th>21351</th>\n",
              "      <td>2</td>\n",
              "      <td>0</td>\n",
              "    </tr>\n",
              "  </tbody>\n",
              "</table>\n",
              "<p>21352 rows × 2 columns</p>\n",
              "</div>\n",
              "      <button class=\"colab-df-convert\" onclick=\"convertToInteractive('df-f9aa8fd1-ccd8-4141-be68-9e88e8c44939')\"\n",
              "              title=\"Convert this dataframe to an interactive table.\"\n",
              "              style=\"display:none;\">\n",
              "        \n",
              "  <svg xmlns=\"http://www.w3.org/2000/svg\" height=\"24px\"viewBox=\"0 0 24 24\"\n",
              "       width=\"24px\">\n",
              "    <path d=\"M0 0h24v24H0V0z\" fill=\"none\"/>\n",
              "    <path d=\"M18.56 5.44l.94 2.06.94-2.06 2.06-.94-2.06-.94-.94-2.06-.94 2.06-2.06.94zm-11 1L8.5 8.5l.94-2.06 2.06-.94-2.06-.94L8.5 2.5l-.94 2.06-2.06.94zm10 10l.94 2.06.94-2.06 2.06-.94-2.06-.94-.94-2.06-.94 2.06-2.06.94z\"/><path d=\"M17.41 7.96l-1.37-1.37c-.4-.4-.92-.59-1.43-.59-.52 0-1.04.2-1.43.59L10.3 9.45l-7.72 7.72c-.78.78-.78 2.05 0 2.83L4 21.41c.39.39.9.59 1.41.59.51 0 1.02-.2 1.41-.59l7.78-7.78 2.81-2.81c.8-.78.8-2.07 0-2.86zM5.41 20L4 18.59l7.72-7.72 1.47 1.35L5.41 20z\"/>\n",
              "  </svg>\n",
              "      </button>\n",
              "      \n",
              "  <style>\n",
              "    .colab-df-container {\n",
              "      display:flex;\n",
              "      flex-wrap:wrap;\n",
              "      gap: 12px;\n",
              "    }\n",
              "\n",
              "    .colab-df-convert {\n",
              "      background-color: #E8F0FE;\n",
              "      border: none;\n",
              "      border-radius: 50%;\n",
              "      cursor: pointer;\n",
              "      display: none;\n",
              "      fill: #1967D2;\n",
              "      height: 32px;\n",
              "      padding: 0 0 0 0;\n",
              "      width: 32px;\n",
              "    }\n",
              "\n",
              "    .colab-df-convert:hover {\n",
              "      background-color: #E2EBFA;\n",
              "      box-shadow: 0px 1px 2px rgba(60, 64, 67, 0.3), 0px 1px 3px 1px rgba(60, 64, 67, 0.15);\n",
              "      fill: #174EA6;\n",
              "    }\n",
              "\n",
              "    [theme=dark] .colab-df-convert {\n",
              "      background-color: #3B4455;\n",
              "      fill: #D2E3FC;\n",
              "    }\n",
              "\n",
              "    [theme=dark] .colab-df-convert:hover {\n",
              "      background-color: #434B5C;\n",
              "      box-shadow: 0px 1px 3px 1px rgba(0, 0, 0, 0.15);\n",
              "      filter: drop-shadow(0px 1px 2px rgba(0, 0, 0, 0.3));\n",
              "      fill: #FFFFFF;\n",
              "    }\n",
              "  </style>\n",
              "\n",
              "      <script>\n",
              "        const buttonEl =\n",
              "          document.querySelector('#df-f9aa8fd1-ccd8-4141-be68-9e88e8c44939 button.colab-df-convert');\n",
              "        buttonEl.style.display =\n",
              "          google.colab.kernel.accessAllowed ? 'block' : 'none';\n",
              "\n",
              "        async function convertToInteractive(key) {\n",
              "          const element = document.querySelector('#df-f9aa8fd1-ccd8-4141-be68-9e88e8c44939');\n",
              "          const dataTable =\n",
              "            await google.colab.kernel.invokeFunction('convertToInteractive',\n",
              "                                                     [key], {});\n",
              "          if (!dataTable) return;\n",
              "\n",
              "          const docLinkHtml = 'Like what you see? Visit the ' +\n",
              "            '<a target=\"_blank\" href=https://colab.research.google.com/notebooks/data_table.ipynb>data table notebook</a>'\n",
              "            + ' to learn more about interactive tables.';\n",
              "          element.innerHTML = '';\n",
              "          dataTable['output_type'] = 'display_data';\n",
              "          await google.colab.output.renderOutput(dataTable, element);\n",
              "          const docLink = document.createElement('div');\n",
              "          docLink.innerHTML = docLinkHtml;\n",
              "          element.appendChild(docLink);\n",
              "        }\n",
              "      </script>\n",
              "    </div>\n",
              "  </div>\n",
              "  "
            ]
          },
          "metadata": {},
          "execution_count": 114
        }
      ],
      "source": [
        "# Periksa data anak dan data pelunasan tepat waktu\n",
        "df_new_group.loc[:,['children', 'debt']]"
      ]
    },
    {
      "cell_type": "code",
      "execution_count": null,
      "metadata": {
        "colab": {
          "base_uri": "https://localhost:8080/",
          "height": 269
        },
        "id": "ma822u_lA6uz",
        "outputId": "0961cdb2-5207-4094-f453-6ad3a3d4e5f5"
      },
      "outputs": [
        {
          "output_type": "execute_result",
          "data": {
            "text/plain": [
              "debt            0       1\n",
              "children                 \n",
              "0         12963.0  1058.0\n",
              "1          4397.0   442.0\n",
              "2          1912.0   202.0\n",
              "3           301.0    27.0\n",
              "4            37.0     4.0\n",
              "5             9.0     NaN"
            ],
            "text/html": [
              "\n",
              "  <div id=\"df-ed62f481-ee4d-4900-85ad-d574cc765eca\">\n",
              "    <div class=\"colab-df-container\">\n",
              "      <div>\n",
              "<style scoped>\n",
              "    .dataframe tbody tr th:only-of-type {\n",
              "        vertical-align: middle;\n",
              "    }\n",
              "\n",
              "    .dataframe tbody tr th {\n",
              "        vertical-align: top;\n",
              "    }\n",
              "\n",
              "    .dataframe thead th {\n",
              "        text-align: right;\n",
              "    }\n",
              "</style>\n",
              "<table border=\"1\" class=\"dataframe\">\n",
              "  <thead>\n",
              "    <tr style=\"text-align: right;\">\n",
              "      <th>debt</th>\n",
              "      <th>0</th>\n",
              "      <th>1</th>\n",
              "    </tr>\n",
              "    <tr>\n",
              "      <th>children</th>\n",
              "      <th></th>\n",
              "      <th></th>\n",
              "    </tr>\n",
              "  </thead>\n",
              "  <tbody>\n",
              "    <tr>\n",
              "      <th>0</th>\n",
              "      <td>12963.0</td>\n",
              "      <td>1058.0</td>\n",
              "    </tr>\n",
              "    <tr>\n",
              "      <th>1</th>\n",
              "      <td>4397.0</td>\n",
              "      <td>442.0</td>\n",
              "    </tr>\n",
              "    <tr>\n",
              "      <th>2</th>\n",
              "      <td>1912.0</td>\n",
              "      <td>202.0</td>\n",
              "    </tr>\n",
              "    <tr>\n",
              "      <th>3</th>\n",
              "      <td>301.0</td>\n",
              "      <td>27.0</td>\n",
              "    </tr>\n",
              "    <tr>\n",
              "      <th>4</th>\n",
              "      <td>37.0</td>\n",
              "      <td>4.0</td>\n",
              "    </tr>\n",
              "    <tr>\n",
              "      <th>5</th>\n",
              "      <td>9.0</td>\n",
              "      <td>NaN</td>\n",
              "    </tr>\n",
              "  </tbody>\n",
              "</table>\n",
              "</div>\n",
              "      <button class=\"colab-df-convert\" onclick=\"convertToInteractive('df-ed62f481-ee4d-4900-85ad-d574cc765eca')\"\n",
              "              title=\"Convert this dataframe to an interactive table.\"\n",
              "              style=\"display:none;\">\n",
              "        \n",
              "  <svg xmlns=\"http://www.w3.org/2000/svg\" height=\"24px\"viewBox=\"0 0 24 24\"\n",
              "       width=\"24px\">\n",
              "    <path d=\"M0 0h24v24H0V0z\" fill=\"none\"/>\n",
              "    <path d=\"M18.56 5.44l.94 2.06.94-2.06 2.06-.94-2.06-.94-.94-2.06-.94 2.06-2.06.94zm-11 1L8.5 8.5l.94-2.06 2.06-.94-2.06-.94L8.5 2.5l-.94 2.06-2.06.94zm10 10l.94 2.06.94-2.06 2.06-.94-2.06-.94-.94-2.06-.94 2.06-2.06.94z\"/><path d=\"M17.41 7.96l-1.37-1.37c-.4-.4-.92-.59-1.43-.59-.52 0-1.04.2-1.43.59L10.3 9.45l-7.72 7.72c-.78.78-.78 2.05 0 2.83L4 21.41c.39.39.9.59 1.41.59.51 0 1.02-.2 1.41-.59l7.78-7.78 2.81-2.81c.8-.78.8-2.07 0-2.86zM5.41 20L4 18.59l7.72-7.72 1.47 1.35L5.41 20z\"/>\n",
              "  </svg>\n",
              "      </button>\n",
              "      \n",
              "  <style>\n",
              "    .colab-df-container {\n",
              "      display:flex;\n",
              "      flex-wrap:wrap;\n",
              "      gap: 12px;\n",
              "    }\n",
              "\n",
              "    .colab-df-convert {\n",
              "      background-color: #E8F0FE;\n",
              "      border: none;\n",
              "      border-radius: 50%;\n",
              "      cursor: pointer;\n",
              "      display: none;\n",
              "      fill: #1967D2;\n",
              "      height: 32px;\n",
              "      padding: 0 0 0 0;\n",
              "      width: 32px;\n",
              "    }\n",
              "\n",
              "    .colab-df-convert:hover {\n",
              "      background-color: #E2EBFA;\n",
              "      box-shadow: 0px 1px 2px rgba(60, 64, 67, 0.3), 0px 1px 3px 1px rgba(60, 64, 67, 0.15);\n",
              "      fill: #174EA6;\n",
              "    }\n",
              "\n",
              "    [theme=dark] .colab-df-convert {\n",
              "      background-color: #3B4455;\n",
              "      fill: #D2E3FC;\n",
              "    }\n",
              "\n",
              "    [theme=dark] .colab-df-convert:hover {\n",
              "      background-color: #434B5C;\n",
              "      box-shadow: 0px 1px 3px 1px rgba(0, 0, 0, 0.15);\n",
              "      filter: drop-shadow(0px 1px 2px rgba(0, 0, 0, 0.3));\n",
              "      fill: #FFFFFF;\n",
              "    }\n",
              "  </style>\n",
              "\n",
              "      <script>\n",
              "        const buttonEl =\n",
              "          document.querySelector('#df-ed62f481-ee4d-4900-85ad-d574cc765eca button.colab-df-convert');\n",
              "        buttonEl.style.display =\n",
              "          google.colab.kernel.accessAllowed ? 'block' : 'none';\n",
              "\n",
              "        async function convertToInteractive(key) {\n",
              "          const element = document.querySelector('#df-ed62f481-ee4d-4900-85ad-d574cc765eca');\n",
              "          const dataTable =\n",
              "            await google.colab.kernel.invokeFunction('convertToInteractive',\n",
              "                                                     [key], {});\n",
              "          if (!dataTable) return;\n",
              "\n",
              "          const docLinkHtml = 'Like what you see? Visit the ' +\n",
              "            '<a target=\"_blank\" href=https://colab.research.google.com/notebooks/data_table.ipynb>data table notebook</a>'\n",
              "            + ' to learn more about interactive tables.';\n",
              "          element.innerHTML = '';\n",
              "          dataTable['output_type'] = 'display_data';\n",
              "          await google.colab.output.renderOutput(dataTable, element);\n",
              "          const docLink = document.createElement('div');\n",
              "          docLink.innerHTML = docLinkHtml;\n",
              "          element.appendChild(docLink);\n",
              "        }\n",
              "      </script>\n",
              "    </div>\n",
              "  </div>\n",
              "  "
            ]
          },
          "metadata": {},
          "execution_count": 115
        }
      ],
      "source": [
        "# Hitung gagal bayar berdasarkan jumlah anak\n",
        "table_children_debt_1 = pd.pivot_table(df_new_group, values='total_income', index = ['children'], columns = ['debt'], aggfunc = 'count')\n",
        "table_children_debt_1"
      ]
    },
    {
      "cell_type": "code",
      "execution_count": null,
      "metadata": {
        "colab": {
          "base_uri": "https://localhost:8080/",
          "height": 269
        },
        "id": "H9L7arlZA6uz",
        "outputId": "42f6abd7-5a61-478d-841c-ff13767b2ae5"
      },
      "outputs": [
        {
          "output_type": "execute_result",
          "data": {
            "text/plain": [
              "debt             0         1\n",
              "children                    \n",
              "0         0.924542  0.075458\n",
              "1         0.908659  0.091341\n",
              "2         0.904447  0.095553\n",
              "3         0.917683  0.082317\n",
              "4         0.902439  0.097561\n",
              "5         1.000000  0.000000"
            ],
            "text/html": [
              "\n",
              "  <div id=\"df-b4cc4702-2d0a-403e-906c-5a39b376b53f\">\n",
              "    <div class=\"colab-df-container\">\n",
              "      <div>\n",
              "<style scoped>\n",
              "    .dataframe tbody tr th:only-of-type {\n",
              "        vertical-align: middle;\n",
              "    }\n",
              "\n",
              "    .dataframe tbody tr th {\n",
              "        vertical-align: top;\n",
              "    }\n",
              "\n",
              "    .dataframe thead th {\n",
              "        text-align: right;\n",
              "    }\n",
              "</style>\n",
              "<table border=\"1\" class=\"dataframe\">\n",
              "  <thead>\n",
              "    <tr style=\"text-align: right;\">\n",
              "      <th>debt</th>\n",
              "      <th>0</th>\n",
              "      <th>1</th>\n",
              "    </tr>\n",
              "    <tr>\n",
              "      <th>children</th>\n",
              "      <th></th>\n",
              "      <th></th>\n",
              "    </tr>\n",
              "  </thead>\n",
              "  <tbody>\n",
              "    <tr>\n",
              "      <th>0</th>\n",
              "      <td>0.924542</td>\n",
              "      <td>0.075458</td>\n",
              "    </tr>\n",
              "    <tr>\n",
              "      <th>1</th>\n",
              "      <td>0.908659</td>\n",
              "      <td>0.091341</td>\n",
              "    </tr>\n",
              "    <tr>\n",
              "      <th>2</th>\n",
              "      <td>0.904447</td>\n",
              "      <td>0.095553</td>\n",
              "    </tr>\n",
              "    <tr>\n",
              "      <th>3</th>\n",
              "      <td>0.917683</td>\n",
              "      <td>0.082317</td>\n",
              "    </tr>\n",
              "    <tr>\n",
              "      <th>4</th>\n",
              "      <td>0.902439</td>\n",
              "      <td>0.097561</td>\n",
              "    </tr>\n",
              "    <tr>\n",
              "      <th>5</th>\n",
              "      <td>1.000000</td>\n",
              "      <td>0.000000</td>\n",
              "    </tr>\n",
              "  </tbody>\n",
              "</table>\n",
              "</div>\n",
              "      <button class=\"colab-df-convert\" onclick=\"convertToInteractive('df-b4cc4702-2d0a-403e-906c-5a39b376b53f')\"\n",
              "              title=\"Convert this dataframe to an interactive table.\"\n",
              "              style=\"display:none;\">\n",
              "        \n",
              "  <svg xmlns=\"http://www.w3.org/2000/svg\" height=\"24px\"viewBox=\"0 0 24 24\"\n",
              "       width=\"24px\">\n",
              "    <path d=\"M0 0h24v24H0V0z\" fill=\"none\"/>\n",
              "    <path d=\"M18.56 5.44l.94 2.06.94-2.06 2.06-.94-2.06-.94-.94-2.06-.94 2.06-2.06.94zm-11 1L8.5 8.5l.94-2.06 2.06-.94-2.06-.94L8.5 2.5l-.94 2.06-2.06.94zm10 10l.94 2.06.94-2.06 2.06-.94-2.06-.94-.94-2.06-.94 2.06-2.06.94z\"/><path d=\"M17.41 7.96l-1.37-1.37c-.4-.4-.92-.59-1.43-.59-.52 0-1.04.2-1.43.59L10.3 9.45l-7.72 7.72c-.78.78-.78 2.05 0 2.83L4 21.41c.39.39.9.59 1.41.59.51 0 1.02-.2 1.41-.59l7.78-7.78 2.81-2.81c.8-.78.8-2.07 0-2.86zM5.41 20L4 18.59l7.72-7.72 1.47 1.35L5.41 20z\"/>\n",
              "  </svg>\n",
              "      </button>\n",
              "      \n",
              "  <style>\n",
              "    .colab-df-container {\n",
              "      display:flex;\n",
              "      flex-wrap:wrap;\n",
              "      gap: 12px;\n",
              "    }\n",
              "\n",
              "    .colab-df-convert {\n",
              "      background-color: #E8F0FE;\n",
              "      border: none;\n",
              "      border-radius: 50%;\n",
              "      cursor: pointer;\n",
              "      display: none;\n",
              "      fill: #1967D2;\n",
              "      height: 32px;\n",
              "      padding: 0 0 0 0;\n",
              "      width: 32px;\n",
              "    }\n",
              "\n",
              "    .colab-df-convert:hover {\n",
              "      background-color: #E2EBFA;\n",
              "      box-shadow: 0px 1px 2px rgba(60, 64, 67, 0.3), 0px 1px 3px 1px rgba(60, 64, 67, 0.15);\n",
              "      fill: #174EA6;\n",
              "    }\n",
              "\n",
              "    [theme=dark] .colab-df-convert {\n",
              "      background-color: #3B4455;\n",
              "      fill: #D2E3FC;\n",
              "    }\n",
              "\n",
              "    [theme=dark] .colab-df-convert:hover {\n",
              "      background-color: #434B5C;\n",
              "      box-shadow: 0px 1px 3px 1px rgba(0, 0, 0, 0.15);\n",
              "      filter: drop-shadow(0px 1px 2px rgba(0, 0, 0, 0.3));\n",
              "      fill: #FFFFFF;\n",
              "    }\n",
              "  </style>\n",
              "\n",
              "      <script>\n",
              "        const buttonEl =\n",
              "          document.querySelector('#df-b4cc4702-2d0a-403e-906c-5a39b376b53f button.colab-df-convert');\n",
              "        buttonEl.style.display =\n",
              "          google.colab.kernel.accessAllowed ? 'block' : 'none';\n",
              "\n",
              "        async function convertToInteractive(key) {\n",
              "          const element = document.querySelector('#df-b4cc4702-2d0a-403e-906c-5a39b376b53f');\n",
              "          const dataTable =\n",
              "            await google.colab.kernel.invokeFunction('convertToInteractive',\n",
              "                                                     [key], {});\n",
              "          if (!dataTable) return;\n",
              "\n",
              "          const docLinkHtml = 'Like what you see? Visit the ' +\n",
              "            '<a target=\"_blank\" href=https://colab.research.google.com/notebooks/data_table.ipynb>data table notebook</a>'\n",
              "            + ' to learn more about interactive tables.';\n",
              "          element.innerHTML = '';\n",
              "          dataTable['output_type'] = 'display_data';\n",
              "          await google.colab.output.renderOutput(dataTable, element);\n",
              "          const docLink = document.createElement('div');\n",
              "          docLink.innerHTML = docLinkHtml;\n",
              "          element.appendChild(docLink);\n",
              "        }\n",
              "      </script>\n",
              "    </div>\n",
              "  </div>\n",
              "  "
            ]
          },
          "metadata": {},
          "execution_count": 116
        }
      ],
      "source": [
        "table_children_debt_2 = pd.crosstab(df_new_group['children'], df_new_group['debt'], values = 'total_income', aggfunc = 'count', normalize = 'index')\n",
        "table_children_debt_2"
      ]
    },
    {
      "cell_type": "markdown",
      "metadata": {
        "id": "WK8uKDy9A6u0"
      },
      "source": [
        "Tidak ada hubungannya antara jumlah anak dengan kegagalan bayar. Karena jika dilihat dari jumlah, semakin sedikit anak justru semakin banyak jumlah yang mengalami gagal bayar. Meskipun jika dilihat dari distribusi per jumlah `children`, persentase gagal bayar pada nasabah yang tidak memiliki anak lebih rendah dibandingkan yang memiliki anak."
      ]
    },
    {
      "cell_type": "markdown",
      "metadata": {
        "id": "uHUMnbBZA6u0"
      },
      "source": [
        "### Korelasi antara status keluarga dengan pelunasan tepat waktu"
      ]
    },
    {
      "cell_type": "code",
      "execution_count": null,
      "metadata": {
        "colab": {
          "base_uri": "https://localhost:8080/",
          "height": 423
        },
        "id": "_Jf0eN4NA6u0",
        "outputId": "80ab3930-3a49-447a-a3f9-2aee83d9ba77"
      },
      "outputs": [
        {
          "output_type": "execute_result",
          "data": {
            "text/plain": [
              "           family_status  debt\n",
              "0                married     0\n",
              "1                married     0\n",
              "2                married     0\n",
              "3                married     0\n",
              "4      civil partnership     0\n",
              "...                  ...   ...\n",
              "21347  civil partnership     0\n",
              "21348            married     0\n",
              "21349  civil partnership     1\n",
              "21350            married     1\n",
              "21351            married     0\n",
              "\n",
              "[21352 rows x 2 columns]"
            ],
            "text/html": [
              "\n",
              "  <div id=\"df-4097e83b-31be-44cd-b2d6-cbac089cbee6\">\n",
              "    <div class=\"colab-df-container\">\n",
              "      <div>\n",
              "<style scoped>\n",
              "    .dataframe tbody tr th:only-of-type {\n",
              "        vertical-align: middle;\n",
              "    }\n",
              "\n",
              "    .dataframe tbody tr th {\n",
              "        vertical-align: top;\n",
              "    }\n",
              "\n",
              "    .dataframe thead th {\n",
              "        text-align: right;\n",
              "    }\n",
              "</style>\n",
              "<table border=\"1\" class=\"dataframe\">\n",
              "  <thead>\n",
              "    <tr style=\"text-align: right;\">\n",
              "      <th></th>\n",
              "      <th>family_status</th>\n",
              "      <th>debt</th>\n",
              "    </tr>\n",
              "  </thead>\n",
              "  <tbody>\n",
              "    <tr>\n",
              "      <th>0</th>\n",
              "      <td>married</td>\n",
              "      <td>0</td>\n",
              "    </tr>\n",
              "    <tr>\n",
              "      <th>1</th>\n",
              "      <td>married</td>\n",
              "      <td>0</td>\n",
              "    </tr>\n",
              "    <tr>\n",
              "      <th>2</th>\n",
              "      <td>married</td>\n",
              "      <td>0</td>\n",
              "    </tr>\n",
              "    <tr>\n",
              "      <th>3</th>\n",
              "      <td>married</td>\n",
              "      <td>0</td>\n",
              "    </tr>\n",
              "    <tr>\n",
              "      <th>4</th>\n",
              "      <td>civil partnership</td>\n",
              "      <td>0</td>\n",
              "    </tr>\n",
              "    <tr>\n",
              "      <th>...</th>\n",
              "      <td>...</td>\n",
              "      <td>...</td>\n",
              "    </tr>\n",
              "    <tr>\n",
              "      <th>21347</th>\n",
              "      <td>civil partnership</td>\n",
              "      <td>0</td>\n",
              "    </tr>\n",
              "    <tr>\n",
              "      <th>21348</th>\n",
              "      <td>married</td>\n",
              "      <td>0</td>\n",
              "    </tr>\n",
              "    <tr>\n",
              "      <th>21349</th>\n",
              "      <td>civil partnership</td>\n",
              "      <td>1</td>\n",
              "    </tr>\n",
              "    <tr>\n",
              "      <th>21350</th>\n",
              "      <td>married</td>\n",
              "      <td>1</td>\n",
              "    </tr>\n",
              "    <tr>\n",
              "      <th>21351</th>\n",
              "      <td>married</td>\n",
              "      <td>0</td>\n",
              "    </tr>\n",
              "  </tbody>\n",
              "</table>\n",
              "<p>21352 rows × 2 columns</p>\n",
              "</div>\n",
              "      <button class=\"colab-df-convert\" onclick=\"convertToInteractive('df-4097e83b-31be-44cd-b2d6-cbac089cbee6')\"\n",
              "              title=\"Convert this dataframe to an interactive table.\"\n",
              "              style=\"display:none;\">\n",
              "        \n",
              "  <svg xmlns=\"http://www.w3.org/2000/svg\" height=\"24px\"viewBox=\"0 0 24 24\"\n",
              "       width=\"24px\">\n",
              "    <path d=\"M0 0h24v24H0V0z\" fill=\"none\"/>\n",
              "    <path d=\"M18.56 5.44l.94 2.06.94-2.06 2.06-.94-2.06-.94-.94-2.06-.94 2.06-2.06.94zm-11 1L8.5 8.5l.94-2.06 2.06-.94-2.06-.94L8.5 2.5l-.94 2.06-2.06.94zm10 10l.94 2.06.94-2.06 2.06-.94-2.06-.94-.94-2.06-.94 2.06-2.06.94z\"/><path d=\"M17.41 7.96l-1.37-1.37c-.4-.4-.92-.59-1.43-.59-.52 0-1.04.2-1.43.59L10.3 9.45l-7.72 7.72c-.78.78-.78 2.05 0 2.83L4 21.41c.39.39.9.59 1.41.59.51 0 1.02-.2 1.41-.59l7.78-7.78 2.81-2.81c.8-.78.8-2.07 0-2.86zM5.41 20L4 18.59l7.72-7.72 1.47 1.35L5.41 20z\"/>\n",
              "  </svg>\n",
              "      </button>\n",
              "      \n",
              "  <style>\n",
              "    .colab-df-container {\n",
              "      display:flex;\n",
              "      flex-wrap:wrap;\n",
              "      gap: 12px;\n",
              "    }\n",
              "\n",
              "    .colab-df-convert {\n",
              "      background-color: #E8F0FE;\n",
              "      border: none;\n",
              "      border-radius: 50%;\n",
              "      cursor: pointer;\n",
              "      display: none;\n",
              "      fill: #1967D2;\n",
              "      height: 32px;\n",
              "      padding: 0 0 0 0;\n",
              "      width: 32px;\n",
              "    }\n",
              "\n",
              "    .colab-df-convert:hover {\n",
              "      background-color: #E2EBFA;\n",
              "      box-shadow: 0px 1px 2px rgba(60, 64, 67, 0.3), 0px 1px 3px 1px rgba(60, 64, 67, 0.15);\n",
              "      fill: #174EA6;\n",
              "    }\n",
              "\n",
              "    [theme=dark] .colab-df-convert {\n",
              "      background-color: #3B4455;\n",
              "      fill: #D2E3FC;\n",
              "    }\n",
              "\n",
              "    [theme=dark] .colab-df-convert:hover {\n",
              "      background-color: #434B5C;\n",
              "      box-shadow: 0px 1px 3px 1px rgba(0, 0, 0, 0.15);\n",
              "      filter: drop-shadow(0px 1px 2px rgba(0, 0, 0, 0.3));\n",
              "      fill: #FFFFFF;\n",
              "    }\n",
              "  </style>\n",
              "\n",
              "      <script>\n",
              "        const buttonEl =\n",
              "          document.querySelector('#df-4097e83b-31be-44cd-b2d6-cbac089cbee6 button.colab-df-convert');\n",
              "        buttonEl.style.display =\n",
              "          google.colab.kernel.accessAllowed ? 'block' : 'none';\n",
              "\n",
              "        async function convertToInteractive(key) {\n",
              "          const element = document.querySelector('#df-4097e83b-31be-44cd-b2d6-cbac089cbee6');\n",
              "          const dataTable =\n",
              "            await google.colab.kernel.invokeFunction('convertToInteractive',\n",
              "                                                     [key], {});\n",
              "          if (!dataTable) return;\n",
              "\n",
              "          const docLinkHtml = 'Like what you see? Visit the ' +\n",
              "            '<a target=\"_blank\" href=https://colab.research.google.com/notebooks/data_table.ipynb>data table notebook</a>'\n",
              "            + ' to learn more about interactive tables.';\n",
              "          element.innerHTML = '';\n",
              "          dataTable['output_type'] = 'display_data';\n",
              "          await google.colab.output.renderOutput(dataTable, element);\n",
              "          const docLink = document.createElement('div');\n",
              "          docLink.innerHTML = docLinkHtml;\n",
              "          element.appendChild(docLink);\n",
              "        }\n",
              "      </script>\n",
              "    </div>\n",
              "  </div>\n",
              "  "
            ]
          },
          "metadata": {},
          "execution_count": 117
        }
      ],
      "source": [
        "# Periksa data status keluarga dan pelunasan tepat waktu\n",
        "df_new_group.loc[:,['family_status', 'debt']]"
      ]
    },
    {
      "cell_type": "code",
      "execution_count": null,
      "metadata": {
        "colab": {
          "base_uri": "https://localhost:8080/",
          "height": 237
        },
        "id": "f2A1Iq2uA6u0",
        "outputId": "e07600cf-c477-4a28-bf4f-f81f1ad4b315"
      },
      "outputs": [
        {
          "output_type": "execute_result",
          "data": {
            "text/plain": [
              "debt                   0    1\n",
              "family_status                \n",
              "civil partnership   3743  386\n",
              "divorced            1100   85\n",
              "married            11363  927\n",
              "unmarried           2521  273\n",
              "widow / widower      892   62"
            ],
            "text/html": [
              "\n",
              "  <div id=\"df-d6a0dc9e-95f2-4937-bc2e-22fe2b0b8f27\">\n",
              "    <div class=\"colab-df-container\">\n",
              "      <div>\n",
              "<style scoped>\n",
              "    .dataframe tbody tr th:only-of-type {\n",
              "        vertical-align: middle;\n",
              "    }\n",
              "\n",
              "    .dataframe tbody tr th {\n",
              "        vertical-align: top;\n",
              "    }\n",
              "\n",
              "    .dataframe thead th {\n",
              "        text-align: right;\n",
              "    }\n",
              "</style>\n",
              "<table border=\"1\" class=\"dataframe\">\n",
              "  <thead>\n",
              "    <tr style=\"text-align: right;\">\n",
              "      <th>debt</th>\n",
              "      <th>0</th>\n",
              "      <th>1</th>\n",
              "    </tr>\n",
              "    <tr>\n",
              "      <th>family_status</th>\n",
              "      <th></th>\n",
              "      <th></th>\n",
              "    </tr>\n",
              "  </thead>\n",
              "  <tbody>\n",
              "    <tr>\n",
              "      <th>civil partnership</th>\n",
              "      <td>3743</td>\n",
              "      <td>386</td>\n",
              "    </tr>\n",
              "    <tr>\n",
              "      <th>divorced</th>\n",
              "      <td>1100</td>\n",
              "      <td>85</td>\n",
              "    </tr>\n",
              "    <tr>\n",
              "      <th>married</th>\n",
              "      <td>11363</td>\n",
              "      <td>927</td>\n",
              "    </tr>\n",
              "    <tr>\n",
              "      <th>unmarried</th>\n",
              "      <td>2521</td>\n",
              "      <td>273</td>\n",
              "    </tr>\n",
              "    <tr>\n",
              "      <th>widow / widower</th>\n",
              "      <td>892</td>\n",
              "      <td>62</td>\n",
              "    </tr>\n",
              "  </tbody>\n",
              "</table>\n",
              "</div>\n",
              "      <button class=\"colab-df-convert\" onclick=\"convertToInteractive('df-d6a0dc9e-95f2-4937-bc2e-22fe2b0b8f27')\"\n",
              "              title=\"Convert this dataframe to an interactive table.\"\n",
              "              style=\"display:none;\">\n",
              "        \n",
              "  <svg xmlns=\"http://www.w3.org/2000/svg\" height=\"24px\"viewBox=\"0 0 24 24\"\n",
              "       width=\"24px\">\n",
              "    <path d=\"M0 0h24v24H0V0z\" fill=\"none\"/>\n",
              "    <path d=\"M18.56 5.44l.94 2.06.94-2.06 2.06-.94-2.06-.94-.94-2.06-.94 2.06-2.06.94zm-11 1L8.5 8.5l.94-2.06 2.06-.94-2.06-.94L8.5 2.5l-.94 2.06-2.06.94zm10 10l.94 2.06.94-2.06 2.06-.94-2.06-.94-.94-2.06-.94 2.06-2.06.94z\"/><path d=\"M17.41 7.96l-1.37-1.37c-.4-.4-.92-.59-1.43-.59-.52 0-1.04.2-1.43.59L10.3 9.45l-7.72 7.72c-.78.78-.78 2.05 0 2.83L4 21.41c.39.39.9.59 1.41.59.51 0 1.02-.2 1.41-.59l7.78-7.78 2.81-2.81c.8-.78.8-2.07 0-2.86zM5.41 20L4 18.59l7.72-7.72 1.47 1.35L5.41 20z\"/>\n",
              "  </svg>\n",
              "      </button>\n",
              "      \n",
              "  <style>\n",
              "    .colab-df-container {\n",
              "      display:flex;\n",
              "      flex-wrap:wrap;\n",
              "      gap: 12px;\n",
              "    }\n",
              "\n",
              "    .colab-df-convert {\n",
              "      background-color: #E8F0FE;\n",
              "      border: none;\n",
              "      border-radius: 50%;\n",
              "      cursor: pointer;\n",
              "      display: none;\n",
              "      fill: #1967D2;\n",
              "      height: 32px;\n",
              "      padding: 0 0 0 0;\n",
              "      width: 32px;\n",
              "    }\n",
              "\n",
              "    .colab-df-convert:hover {\n",
              "      background-color: #E2EBFA;\n",
              "      box-shadow: 0px 1px 2px rgba(60, 64, 67, 0.3), 0px 1px 3px 1px rgba(60, 64, 67, 0.15);\n",
              "      fill: #174EA6;\n",
              "    }\n",
              "\n",
              "    [theme=dark] .colab-df-convert {\n",
              "      background-color: #3B4455;\n",
              "      fill: #D2E3FC;\n",
              "    }\n",
              "\n",
              "    [theme=dark] .colab-df-convert:hover {\n",
              "      background-color: #434B5C;\n",
              "      box-shadow: 0px 1px 3px 1px rgba(0, 0, 0, 0.15);\n",
              "      filter: drop-shadow(0px 1px 2px rgba(0, 0, 0, 0.3));\n",
              "      fill: #FFFFFF;\n",
              "    }\n",
              "  </style>\n",
              "\n",
              "      <script>\n",
              "        const buttonEl =\n",
              "          document.querySelector('#df-d6a0dc9e-95f2-4937-bc2e-22fe2b0b8f27 button.colab-df-convert');\n",
              "        buttonEl.style.display =\n",
              "          google.colab.kernel.accessAllowed ? 'block' : 'none';\n",
              "\n",
              "        async function convertToInteractive(key) {\n",
              "          const element = document.querySelector('#df-d6a0dc9e-95f2-4937-bc2e-22fe2b0b8f27');\n",
              "          const dataTable =\n",
              "            await google.colab.kernel.invokeFunction('convertToInteractive',\n",
              "                                                     [key], {});\n",
              "          if (!dataTable) return;\n",
              "\n",
              "          const docLinkHtml = 'Like what you see? Visit the ' +\n",
              "            '<a target=\"_blank\" href=https://colab.research.google.com/notebooks/data_table.ipynb>data table notebook</a>'\n",
              "            + ' to learn more about interactive tables.';\n",
              "          element.innerHTML = '';\n",
              "          dataTable['output_type'] = 'display_data';\n",
              "          await google.colab.output.renderOutput(dataTable, element);\n",
              "          const docLink = document.createElement('div');\n",
              "          docLink.innerHTML = docLinkHtml;\n",
              "          element.appendChild(docLink);\n",
              "        }\n",
              "      </script>\n",
              "    </div>\n",
              "  </div>\n",
              "  "
            ]
          },
          "metadata": {},
          "execution_count": 118
        }
      ],
      "source": [
        "# Hitung gagal bayar berdasarkan status keluarga\n",
        "table_fam_status_debt_1 = pd.pivot_table(df_new_group, values='total_income', index = ['family_status'], columns = ['debt'], aggfunc = 'count')\n",
        "table_fam_status_debt_1"
      ]
    },
    {
      "cell_type": "code",
      "execution_count": null,
      "metadata": {
        "colab": {
          "base_uri": "https://localhost:8080/",
          "height": 237
        },
        "id": "oZXTO7ZBA6u0",
        "outputId": "72761085-31bd-4499-9459-29fc07d71c4a"
      },
      "outputs": [
        {
          "output_type": "execute_result",
          "data": {
            "text/plain": [
              "debt                      0         1\n",
              "family_status                        \n",
              "civil partnership  0.906515  0.093485\n",
              "divorced           0.928270  0.071730\n",
              "married            0.924573  0.075427\n",
              "unmarried          0.902291  0.097709\n",
              "widow / widower    0.935010  0.064990"
            ],
            "text/html": [
              "\n",
              "  <div id=\"df-b6305411-ca56-4ca2-b4bf-dc80a3946947\">\n",
              "    <div class=\"colab-df-container\">\n",
              "      <div>\n",
              "<style scoped>\n",
              "    .dataframe tbody tr th:only-of-type {\n",
              "        vertical-align: middle;\n",
              "    }\n",
              "\n",
              "    .dataframe tbody tr th {\n",
              "        vertical-align: top;\n",
              "    }\n",
              "\n",
              "    .dataframe thead th {\n",
              "        text-align: right;\n",
              "    }\n",
              "</style>\n",
              "<table border=\"1\" class=\"dataframe\">\n",
              "  <thead>\n",
              "    <tr style=\"text-align: right;\">\n",
              "      <th>debt</th>\n",
              "      <th>0</th>\n",
              "      <th>1</th>\n",
              "    </tr>\n",
              "    <tr>\n",
              "      <th>family_status</th>\n",
              "      <th></th>\n",
              "      <th></th>\n",
              "    </tr>\n",
              "  </thead>\n",
              "  <tbody>\n",
              "    <tr>\n",
              "      <th>civil partnership</th>\n",
              "      <td>0.906515</td>\n",
              "      <td>0.093485</td>\n",
              "    </tr>\n",
              "    <tr>\n",
              "      <th>divorced</th>\n",
              "      <td>0.928270</td>\n",
              "      <td>0.071730</td>\n",
              "    </tr>\n",
              "    <tr>\n",
              "      <th>married</th>\n",
              "      <td>0.924573</td>\n",
              "      <td>0.075427</td>\n",
              "    </tr>\n",
              "    <tr>\n",
              "      <th>unmarried</th>\n",
              "      <td>0.902291</td>\n",
              "      <td>0.097709</td>\n",
              "    </tr>\n",
              "    <tr>\n",
              "      <th>widow / widower</th>\n",
              "      <td>0.935010</td>\n",
              "      <td>0.064990</td>\n",
              "    </tr>\n",
              "  </tbody>\n",
              "</table>\n",
              "</div>\n",
              "      <button class=\"colab-df-convert\" onclick=\"convertToInteractive('df-b6305411-ca56-4ca2-b4bf-dc80a3946947')\"\n",
              "              title=\"Convert this dataframe to an interactive table.\"\n",
              "              style=\"display:none;\">\n",
              "        \n",
              "  <svg xmlns=\"http://www.w3.org/2000/svg\" height=\"24px\"viewBox=\"0 0 24 24\"\n",
              "       width=\"24px\">\n",
              "    <path d=\"M0 0h24v24H0V0z\" fill=\"none\"/>\n",
              "    <path d=\"M18.56 5.44l.94 2.06.94-2.06 2.06-.94-2.06-.94-.94-2.06-.94 2.06-2.06.94zm-11 1L8.5 8.5l.94-2.06 2.06-.94-2.06-.94L8.5 2.5l-.94 2.06-2.06.94zm10 10l.94 2.06.94-2.06 2.06-.94-2.06-.94-.94-2.06-.94 2.06-2.06.94z\"/><path d=\"M17.41 7.96l-1.37-1.37c-.4-.4-.92-.59-1.43-.59-.52 0-1.04.2-1.43.59L10.3 9.45l-7.72 7.72c-.78.78-.78 2.05 0 2.83L4 21.41c.39.39.9.59 1.41.59.51 0 1.02-.2 1.41-.59l7.78-7.78 2.81-2.81c.8-.78.8-2.07 0-2.86zM5.41 20L4 18.59l7.72-7.72 1.47 1.35L5.41 20z\"/>\n",
              "  </svg>\n",
              "      </button>\n",
              "      \n",
              "  <style>\n",
              "    .colab-df-container {\n",
              "      display:flex;\n",
              "      flex-wrap:wrap;\n",
              "      gap: 12px;\n",
              "    }\n",
              "\n",
              "    .colab-df-convert {\n",
              "      background-color: #E8F0FE;\n",
              "      border: none;\n",
              "      border-radius: 50%;\n",
              "      cursor: pointer;\n",
              "      display: none;\n",
              "      fill: #1967D2;\n",
              "      height: 32px;\n",
              "      padding: 0 0 0 0;\n",
              "      width: 32px;\n",
              "    }\n",
              "\n",
              "    .colab-df-convert:hover {\n",
              "      background-color: #E2EBFA;\n",
              "      box-shadow: 0px 1px 2px rgba(60, 64, 67, 0.3), 0px 1px 3px 1px rgba(60, 64, 67, 0.15);\n",
              "      fill: #174EA6;\n",
              "    }\n",
              "\n",
              "    [theme=dark] .colab-df-convert {\n",
              "      background-color: #3B4455;\n",
              "      fill: #D2E3FC;\n",
              "    }\n",
              "\n",
              "    [theme=dark] .colab-df-convert:hover {\n",
              "      background-color: #434B5C;\n",
              "      box-shadow: 0px 1px 3px 1px rgba(0, 0, 0, 0.15);\n",
              "      filter: drop-shadow(0px 1px 2px rgba(0, 0, 0, 0.3));\n",
              "      fill: #FFFFFF;\n",
              "    }\n",
              "  </style>\n",
              "\n",
              "      <script>\n",
              "        const buttonEl =\n",
              "          document.querySelector('#df-b6305411-ca56-4ca2-b4bf-dc80a3946947 button.colab-df-convert');\n",
              "        buttonEl.style.display =\n",
              "          google.colab.kernel.accessAllowed ? 'block' : 'none';\n",
              "\n",
              "        async function convertToInteractive(key) {\n",
              "          const element = document.querySelector('#df-b6305411-ca56-4ca2-b4bf-dc80a3946947');\n",
              "          const dataTable =\n",
              "            await google.colab.kernel.invokeFunction('convertToInteractive',\n",
              "                                                     [key], {});\n",
              "          if (!dataTable) return;\n",
              "\n",
              "          const docLinkHtml = 'Like what you see? Visit the ' +\n",
              "            '<a target=\"_blank\" href=https://colab.research.google.com/notebooks/data_table.ipynb>data table notebook</a>'\n",
              "            + ' to learn more about interactive tables.';\n",
              "          element.innerHTML = '';\n",
              "          dataTable['output_type'] = 'display_data';\n",
              "          await google.colab.output.renderOutput(dataTable, element);\n",
              "          const docLink = document.createElement('div');\n",
              "          docLink.innerHTML = docLinkHtml;\n",
              "          element.appendChild(docLink);\n",
              "        }\n",
              "      </script>\n",
              "    </div>\n",
              "  </div>\n",
              "  "
            ]
          },
          "metadata": {},
          "execution_count": 119
        }
      ],
      "source": [
        "table_fam_status_debt_2 = pd.crosstab(df_new_group['family_status'], df_new_group['debt'], values = 'total_income', aggfunc = 'count', normalize = 'index')\n",
        "table_fam_status_debt_2"
      ]
    },
    {
      "cell_type": "markdown",
      "metadata": {
        "id": "zvbVjo4jA6u1"
      },
      "source": [
        "Berdasarkan ketiga tabel diatas, saya melihat persentase kegagalan bayar cenderung lebih tinggi pada `civil partnership` dan `unmarried`."
      ]
    },
    {
      "cell_type": "markdown",
      "metadata": {
        "id": "ILatQ8blA6u1"
      },
      "source": [
        "### Korelasi antara tingkat pendapatan dengan membayar kembali tepat waktu"
      ]
    },
    {
      "cell_type": "code",
      "execution_count": null,
      "metadata": {
        "colab": {
          "base_uri": "https://localhost:8080/",
          "height": 423
        },
        "id": "j8CqZxMrA6u1",
        "outputId": "7ac4b376-48ab-4416-c8de-d7ea0f461889"
      },
      "outputs": [
        {
          "output_type": "execute_result",
          "data": {
            "text/plain": [
              "      total_income_group  debt\n",
              "0                 medium     0\n",
              "1                    low     0\n",
              "2                 medium     0\n",
              "3                 medium     0\n",
              "4                 medium     0\n",
              "...                  ...   ...\n",
              "21347             medium     0\n",
              "21348             medium     0\n",
              "21349                low     1\n",
              "21350             medium     1\n",
              "21351                low     0\n",
              "\n",
              "[21352 rows x 2 columns]"
            ],
            "text/html": [
              "\n",
              "  <div id=\"df-07a744f0-ee40-4ac6-8b1e-aeaf6696330d\">\n",
              "    <div class=\"colab-df-container\">\n",
              "      <div>\n",
              "<style scoped>\n",
              "    .dataframe tbody tr th:only-of-type {\n",
              "        vertical-align: middle;\n",
              "    }\n",
              "\n",
              "    .dataframe tbody tr th {\n",
              "        vertical-align: top;\n",
              "    }\n",
              "\n",
              "    .dataframe thead th {\n",
              "        text-align: right;\n",
              "    }\n",
              "</style>\n",
              "<table border=\"1\" class=\"dataframe\">\n",
              "  <thead>\n",
              "    <tr style=\"text-align: right;\">\n",
              "      <th></th>\n",
              "      <th>total_income_group</th>\n",
              "      <th>debt</th>\n",
              "    </tr>\n",
              "  </thead>\n",
              "  <tbody>\n",
              "    <tr>\n",
              "      <th>0</th>\n",
              "      <td>medium</td>\n",
              "      <td>0</td>\n",
              "    </tr>\n",
              "    <tr>\n",
              "      <th>1</th>\n",
              "      <td>low</td>\n",
              "      <td>0</td>\n",
              "    </tr>\n",
              "    <tr>\n",
              "      <th>2</th>\n",
              "      <td>medium</td>\n",
              "      <td>0</td>\n",
              "    </tr>\n",
              "    <tr>\n",
              "      <th>3</th>\n",
              "      <td>medium</td>\n",
              "      <td>0</td>\n",
              "    </tr>\n",
              "    <tr>\n",
              "      <th>4</th>\n",
              "      <td>medium</td>\n",
              "      <td>0</td>\n",
              "    </tr>\n",
              "    <tr>\n",
              "      <th>...</th>\n",
              "      <td>...</td>\n",
              "      <td>...</td>\n",
              "    </tr>\n",
              "    <tr>\n",
              "      <th>21347</th>\n",
              "      <td>medium</td>\n",
              "      <td>0</td>\n",
              "    </tr>\n",
              "    <tr>\n",
              "      <th>21348</th>\n",
              "      <td>medium</td>\n",
              "      <td>0</td>\n",
              "    </tr>\n",
              "    <tr>\n",
              "      <th>21349</th>\n",
              "      <td>low</td>\n",
              "      <td>1</td>\n",
              "    </tr>\n",
              "    <tr>\n",
              "      <th>21350</th>\n",
              "      <td>medium</td>\n",
              "      <td>1</td>\n",
              "    </tr>\n",
              "    <tr>\n",
              "      <th>21351</th>\n",
              "      <td>low</td>\n",
              "      <td>0</td>\n",
              "    </tr>\n",
              "  </tbody>\n",
              "</table>\n",
              "<p>21352 rows × 2 columns</p>\n",
              "</div>\n",
              "      <button class=\"colab-df-convert\" onclick=\"convertToInteractive('df-07a744f0-ee40-4ac6-8b1e-aeaf6696330d')\"\n",
              "              title=\"Convert this dataframe to an interactive table.\"\n",
              "              style=\"display:none;\">\n",
              "        \n",
              "  <svg xmlns=\"http://www.w3.org/2000/svg\" height=\"24px\"viewBox=\"0 0 24 24\"\n",
              "       width=\"24px\">\n",
              "    <path d=\"M0 0h24v24H0V0z\" fill=\"none\"/>\n",
              "    <path d=\"M18.56 5.44l.94 2.06.94-2.06 2.06-.94-2.06-.94-.94-2.06-.94 2.06-2.06.94zm-11 1L8.5 8.5l.94-2.06 2.06-.94-2.06-.94L8.5 2.5l-.94 2.06-2.06.94zm10 10l.94 2.06.94-2.06 2.06-.94-2.06-.94-.94-2.06-.94 2.06-2.06.94z\"/><path d=\"M17.41 7.96l-1.37-1.37c-.4-.4-.92-.59-1.43-.59-.52 0-1.04.2-1.43.59L10.3 9.45l-7.72 7.72c-.78.78-.78 2.05 0 2.83L4 21.41c.39.39.9.59 1.41.59.51 0 1.02-.2 1.41-.59l7.78-7.78 2.81-2.81c.8-.78.8-2.07 0-2.86zM5.41 20L4 18.59l7.72-7.72 1.47 1.35L5.41 20z\"/>\n",
              "  </svg>\n",
              "      </button>\n",
              "      \n",
              "  <style>\n",
              "    .colab-df-container {\n",
              "      display:flex;\n",
              "      flex-wrap:wrap;\n",
              "      gap: 12px;\n",
              "    }\n",
              "\n",
              "    .colab-df-convert {\n",
              "      background-color: #E8F0FE;\n",
              "      border: none;\n",
              "      border-radius: 50%;\n",
              "      cursor: pointer;\n",
              "      display: none;\n",
              "      fill: #1967D2;\n",
              "      height: 32px;\n",
              "      padding: 0 0 0 0;\n",
              "      width: 32px;\n",
              "    }\n",
              "\n",
              "    .colab-df-convert:hover {\n",
              "      background-color: #E2EBFA;\n",
              "      box-shadow: 0px 1px 2px rgba(60, 64, 67, 0.3), 0px 1px 3px 1px rgba(60, 64, 67, 0.15);\n",
              "      fill: #174EA6;\n",
              "    }\n",
              "\n",
              "    [theme=dark] .colab-df-convert {\n",
              "      background-color: #3B4455;\n",
              "      fill: #D2E3FC;\n",
              "    }\n",
              "\n",
              "    [theme=dark] .colab-df-convert:hover {\n",
              "      background-color: #434B5C;\n",
              "      box-shadow: 0px 1px 3px 1px rgba(0, 0, 0, 0.15);\n",
              "      filter: drop-shadow(0px 1px 2px rgba(0, 0, 0, 0.3));\n",
              "      fill: #FFFFFF;\n",
              "    }\n",
              "  </style>\n",
              "\n",
              "      <script>\n",
              "        const buttonEl =\n",
              "          document.querySelector('#df-07a744f0-ee40-4ac6-8b1e-aeaf6696330d button.colab-df-convert');\n",
              "        buttonEl.style.display =\n",
              "          google.colab.kernel.accessAllowed ? 'block' : 'none';\n",
              "\n",
              "        async function convertToInteractive(key) {\n",
              "          const element = document.querySelector('#df-07a744f0-ee40-4ac6-8b1e-aeaf6696330d');\n",
              "          const dataTable =\n",
              "            await google.colab.kernel.invokeFunction('convertToInteractive',\n",
              "                                                     [key], {});\n",
              "          if (!dataTable) return;\n",
              "\n",
              "          const docLinkHtml = 'Like what you see? Visit the ' +\n",
              "            '<a target=\"_blank\" href=https://colab.research.google.com/notebooks/data_table.ipynb>data table notebook</a>'\n",
              "            + ' to learn more about interactive tables.';\n",
              "          element.innerHTML = '';\n",
              "          dataTable['output_type'] = 'display_data';\n",
              "          await google.colab.output.renderOutput(dataTable, element);\n",
              "          const docLink = document.createElement('div');\n",
              "          docLink.innerHTML = docLinkHtml;\n",
              "          element.appendChild(docLink);\n",
              "        }\n",
              "      </script>\n",
              "    </div>\n",
              "  </div>\n",
              "  "
            ]
          },
          "metadata": {},
          "execution_count": 120
        }
      ],
      "source": [
        "# Periksa data tingkat pendapatan dan pelunasan tepat waktu\n",
        "df_new_group.loc[:,['total_income_group', 'debt']]"
      ]
    },
    {
      "cell_type": "code",
      "execution_count": null,
      "metadata": {
        "colab": {
          "base_uri": "https://localhost:8080/",
          "height": 175
        },
        "id": "lF816TI6A6u1",
        "outputId": "30d14a48-18d0-4434-fef1-cc543e4c5640"
      },
      "outputs": [
        {
          "output_type": "execute_result",
          "data": {
            "text/plain": [
              "debt                   0    1\n",
              "total_income_group           \n",
              "high                1226   92\n",
              "low                 9884  906\n",
              "medium              8509  735"
            ],
            "text/html": [
              "\n",
              "  <div id=\"df-e2e5d70f-b1a6-4732-9f3a-c0a5aaa69a71\">\n",
              "    <div class=\"colab-df-container\">\n",
              "      <div>\n",
              "<style scoped>\n",
              "    .dataframe tbody tr th:only-of-type {\n",
              "        vertical-align: middle;\n",
              "    }\n",
              "\n",
              "    .dataframe tbody tr th {\n",
              "        vertical-align: top;\n",
              "    }\n",
              "\n",
              "    .dataframe thead th {\n",
              "        text-align: right;\n",
              "    }\n",
              "</style>\n",
              "<table border=\"1\" class=\"dataframe\">\n",
              "  <thead>\n",
              "    <tr style=\"text-align: right;\">\n",
              "      <th>debt</th>\n",
              "      <th>0</th>\n",
              "      <th>1</th>\n",
              "    </tr>\n",
              "    <tr>\n",
              "      <th>total_income_group</th>\n",
              "      <th></th>\n",
              "      <th></th>\n",
              "    </tr>\n",
              "  </thead>\n",
              "  <tbody>\n",
              "    <tr>\n",
              "      <th>high</th>\n",
              "      <td>1226</td>\n",
              "      <td>92</td>\n",
              "    </tr>\n",
              "    <tr>\n",
              "      <th>low</th>\n",
              "      <td>9884</td>\n",
              "      <td>906</td>\n",
              "    </tr>\n",
              "    <tr>\n",
              "      <th>medium</th>\n",
              "      <td>8509</td>\n",
              "      <td>735</td>\n",
              "    </tr>\n",
              "  </tbody>\n",
              "</table>\n",
              "</div>\n",
              "      <button class=\"colab-df-convert\" onclick=\"convertToInteractive('df-e2e5d70f-b1a6-4732-9f3a-c0a5aaa69a71')\"\n",
              "              title=\"Convert this dataframe to an interactive table.\"\n",
              "              style=\"display:none;\">\n",
              "        \n",
              "  <svg xmlns=\"http://www.w3.org/2000/svg\" height=\"24px\"viewBox=\"0 0 24 24\"\n",
              "       width=\"24px\">\n",
              "    <path d=\"M0 0h24v24H0V0z\" fill=\"none\"/>\n",
              "    <path d=\"M18.56 5.44l.94 2.06.94-2.06 2.06-.94-2.06-.94-.94-2.06-.94 2.06-2.06.94zm-11 1L8.5 8.5l.94-2.06 2.06-.94-2.06-.94L8.5 2.5l-.94 2.06-2.06.94zm10 10l.94 2.06.94-2.06 2.06-.94-2.06-.94-.94-2.06-.94 2.06-2.06.94z\"/><path d=\"M17.41 7.96l-1.37-1.37c-.4-.4-.92-.59-1.43-.59-.52 0-1.04.2-1.43.59L10.3 9.45l-7.72 7.72c-.78.78-.78 2.05 0 2.83L4 21.41c.39.39.9.59 1.41.59.51 0 1.02-.2 1.41-.59l7.78-7.78 2.81-2.81c.8-.78.8-2.07 0-2.86zM5.41 20L4 18.59l7.72-7.72 1.47 1.35L5.41 20z\"/>\n",
              "  </svg>\n",
              "      </button>\n",
              "      \n",
              "  <style>\n",
              "    .colab-df-container {\n",
              "      display:flex;\n",
              "      flex-wrap:wrap;\n",
              "      gap: 12px;\n",
              "    }\n",
              "\n",
              "    .colab-df-convert {\n",
              "      background-color: #E8F0FE;\n",
              "      border: none;\n",
              "      border-radius: 50%;\n",
              "      cursor: pointer;\n",
              "      display: none;\n",
              "      fill: #1967D2;\n",
              "      height: 32px;\n",
              "      padding: 0 0 0 0;\n",
              "      width: 32px;\n",
              "    }\n",
              "\n",
              "    .colab-df-convert:hover {\n",
              "      background-color: #E2EBFA;\n",
              "      box-shadow: 0px 1px 2px rgba(60, 64, 67, 0.3), 0px 1px 3px 1px rgba(60, 64, 67, 0.15);\n",
              "      fill: #174EA6;\n",
              "    }\n",
              "\n",
              "    [theme=dark] .colab-df-convert {\n",
              "      background-color: #3B4455;\n",
              "      fill: #D2E3FC;\n",
              "    }\n",
              "\n",
              "    [theme=dark] .colab-df-convert:hover {\n",
              "      background-color: #434B5C;\n",
              "      box-shadow: 0px 1px 3px 1px rgba(0, 0, 0, 0.15);\n",
              "      filter: drop-shadow(0px 1px 2px rgba(0, 0, 0, 0.3));\n",
              "      fill: #FFFFFF;\n",
              "    }\n",
              "  </style>\n",
              "\n",
              "      <script>\n",
              "        const buttonEl =\n",
              "          document.querySelector('#df-e2e5d70f-b1a6-4732-9f3a-c0a5aaa69a71 button.colab-df-convert');\n",
              "        buttonEl.style.display =\n",
              "          google.colab.kernel.accessAllowed ? 'block' : 'none';\n",
              "\n",
              "        async function convertToInteractive(key) {\n",
              "          const element = document.querySelector('#df-e2e5d70f-b1a6-4732-9f3a-c0a5aaa69a71');\n",
              "          const dataTable =\n",
              "            await google.colab.kernel.invokeFunction('convertToInteractive',\n",
              "                                                     [key], {});\n",
              "          if (!dataTable) return;\n",
              "\n",
              "          const docLinkHtml = 'Like what you see? Visit the ' +\n",
              "            '<a target=\"_blank\" href=https://colab.research.google.com/notebooks/data_table.ipynb>data table notebook</a>'\n",
              "            + ' to learn more about interactive tables.';\n",
              "          element.innerHTML = '';\n",
              "          dataTable['output_type'] = 'display_data';\n",
              "          await google.colab.output.renderOutput(dataTable, element);\n",
              "          const docLink = document.createElement('div');\n",
              "          docLink.innerHTML = docLinkHtml;\n",
              "          element.appendChild(docLink);\n",
              "        }\n",
              "      </script>\n",
              "    </div>\n",
              "  </div>\n",
              "  "
            ]
          },
          "metadata": {},
          "execution_count": 121
        }
      ],
      "source": [
        "# Hitung gagal bayar berdasarkan tingkat pendapatan\n",
        "table_tot_inc_grp_debt_1 = pd.pivot_table(df_new_group, values='total_income', index = ['total_income_group'], columns = ['debt'], aggfunc = 'count')\n",
        "table_tot_inc_grp_debt_1"
      ]
    },
    {
      "cell_type": "code",
      "execution_count": null,
      "metadata": {
        "colab": {
          "base_uri": "https://localhost:8080/",
          "height": 175
        },
        "id": "A6meJJIVA6u1",
        "outputId": "8cb176fb-60a2-400f-dc2b-1578d0bc0205"
      },
      "outputs": [
        {
          "output_type": "execute_result",
          "data": {
            "text/plain": [
              "debt                       0         1\n",
              "total_income_group                    \n",
              "high                0.930197  0.069803\n",
              "low                 0.916033  0.083967\n",
              "medium              0.920489  0.079511"
            ],
            "text/html": [
              "\n",
              "  <div id=\"df-cb03ff41-e6a7-42fd-99b2-4b24e319d159\">\n",
              "    <div class=\"colab-df-container\">\n",
              "      <div>\n",
              "<style scoped>\n",
              "    .dataframe tbody tr th:only-of-type {\n",
              "        vertical-align: middle;\n",
              "    }\n",
              "\n",
              "    .dataframe tbody tr th {\n",
              "        vertical-align: top;\n",
              "    }\n",
              "\n",
              "    .dataframe thead th {\n",
              "        text-align: right;\n",
              "    }\n",
              "</style>\n",
              "<table border=\"1\" class=\"dataframe\">\n",
              "  <thead>\n",
              "    <tr style=\"text-align: right;\">\n",
              "      <th>debt</th>\n",
              "      <th>0</th>\n",
              "      <th>1</th>\n",
              "    </tr>\n",
              "    <tr>\n",
              "      <th>total_income_group</th>\n",
              "      <th></th>\n",
              "      <th></th>\n",
              "    </tr>\n",
              "  </thead>\n",
              "  <tbody>\n",
              "    <tr>\n",
              "      <th>high</th>\n",
              "      <td>0.930197</td>\n",
              "      <td>0.069803</td>\n",
              "    </tr>\n",
              "    <tr>\n",
              "      <th>low</th>\n",
              "      <td>0.916033</td>\n",
              "      <td>0.083967</td>\n",
              "    </tr>\n",
              "    <tr>\n",
              "      <th>medium</th>\n",
              "      <td>0.920489</td>\n",
              "      <td>0.079511</td>\n",
              "    </tr>\n",
              "  </tbody>\n",
              "</table>\n",
              "</div>\n",
              "      <button class=\"colab-df-convert\" onclick=\"convertToInteractive('df-cb03ff41-e6a7-42fd-99b2-4b24e319d159')\"\n",
              "              title=\"Convert this dataframe to an interactive table.\"\n",
              "              style=\"display:none;\">\n",
              "        \n",
              "  <svg xmlns=\"http://www.w3.org/2000/svg\" height=\"24px\"viewBox=\"0 0 24 24\"\n",
              "       width=\"24px\">\n",
              "    <path d=\"M0 0h24v24H0V0z\" fill=\"none\"/>\n",
              "    <path d=\"M18.56 5.44l.94 2.06.94-2.06 2.06-.94-2.06-.94-.94-2.06-.94 2.06-2.06.94zm-11 1L8.5 8.5l.94-2.06 2.06-.94-2.06-.94L8.5 2.5l-.94 2.06-2.06.94zm10 10l.94 2.06.94-2.06 2.06-.94-2.06-.94-.94-2.06-.94 2.06-2.06.94z\"/><path d=\"M17.41 7.96l-1.37-1.37c-.4-.4-.92-.59-1.43-.59-.52 0-1.04.2-1.43.59L10.3 9.45l-7.72 7.72c-.78.78-.78 2.05 0 2.83L4 21.41c.39.39.9.59 1.41.59.51 0 1.02-.2 1.41-.59l7.78-7.78 2.81-2.81c.8-.78.8-2.07 0-2.86zM5.41 20L4 18.59l7.72-7.72 1.47 1.35L5.41 20z\"/>\n",
              "  </svg>\n",
              "      </button>\n",
              "      \n",
              "  <style>\n",
              "    .colab-df-container {\n",
              "      display:flex;\n",
              "      flex-wrap:wrap;\n",
              "      gap: 12px;\n",
              "    }\n",
              "\n",
              "    .colab-df-convert {\n",
              "      background-color: #E8F0FE;\n",
              "      border: none;\n",
              "      border-radius: 50%;\n",
              "      cursor: pointer;\n",
              "      display: none;\n",
              "      fill: #1967D2;\n",
              "      height: 32px;\n",
              "      padding: 0 0 0 0;\n",
              "      width: 32px;\n",
              "    }\n",
              "\n",
              "    .colab-df-convert:hover {\n",
              "      background-color: #E2EBFA;\n",
              "      box-shadow: 0px 1px 2px rgba(60, 64, 67, 0.3), 0px 1px 3px 1px rgba(60, 64, 67, 0.15);\n",
              "      fill: #174EA6;\n",
              "    }\n",
              "\n",
              "    [theme=dark] .colab-df-convert {\n",
              "      background-color: #3B4455;\n",
              "      fill: #D2E3FC;\n",
              "    }\n",
              "\n",
              "    [theme=dark] .colab-df-convert:hover {\n",
              "      background-color: #434B5C;\n",
              "      box-shadow: 0px 1px 3px 1px rgba(0, 0, 0, 0.15);\n",
              "      filter: drop-shadow(0px 1px 2px rgba(0, 0, 0, 0.3));\n",
              "      fill: #FFFFFF;\n",
              "    }\n",
              "  </style>\n",
              "\n",
              "      <script>\n",
              "        const buttonEl =\n",
              "          document.querySelector('#df-cb03ff41-e6a7-42fd-99b2-4b24e319d159 button.colab-df-convert');\n",
              "        buttonEl.style.display =\n",
              "          google.colab.kernel.accessAllowed ? 'block' : 'none';\n",
              "\n",
              "        async function convertToInteractive(key) {\n",
              "          const element = document.querySelector('#df-cb03ff41-e6a7-42fd-99b2-4b24e319d159');\n",
              "          const dataTable =\n",
              "            await google.colab.kernel.invokeFunction('convertToInteractive',\n",
              "                                                     [key], {});\n",
              "          if (!dataTable) return;\n",
              "\n",
              "          const docLinkHtml = 'Like what you see? Visit the ' +\n",
              "            '<a target=\"_blank\" href=https://colab.research.google.com/notebooks/data_table.ipynb>data table notebook</a>'\n",
              "            + ' to learn more about interactive tables.';\n",
              "          element.innerHTML = '';\n",
              "          dataTable['output_type'] = 'display_data';\n",
              "          await google.colab.output.renderOutput(dataTable, element);\n",
              "          const docLink = document.createElement('div');\n",
              "          docLink.innerHTML = docLinkHtml;\n",
              "          element.appendChild(docLink);\n",
              "        }\n",
              "      </script>\n",
              "    </div>\n",
              "  </div>\n",
              "  "
            ]
          },
          "metadata": {},
          "execution_count": 122
        }
      ],
      "source": [
        "table_tot_inc_grp_debt_2 = pd.crosstab(df_new_group['total_income_group'], df_new_group['debt'], values = 'total_income', aggfunc = 'count', normalize = 'index')\n",
        "table_tot_inc_grp_debt_2"
      ]
    },
    {
      "cell_type": "markdown",
      "metadata": {
        "id": "tqyjm8tCA6u2"
      },
      "source": [
        "Saya tadinya menduga pendapatan berpengaruh terhadap gagal bayar. Namun ketbika membandingkan distribusi frekuensi antara nasabah yang gagal bayar dan berhasil bayar. Kurang lebih komposisinya serupa.\n",
        "\n",
        "Namun setelah dilihat secara persentase. Meskipun secara jumlah rendah, namun tingkat kegagal bayar pada nasabah dengan tingkat pendapatan tinggi relatif lebih rendah dan sebaliknya."
      ]
    },
    {
      "cell_type": "markdown",
      "metadata": {
        "id": "cY-KDlgrA6u2"
      },
      "source": [
        "### Korelasi antara tujuan kredit memengaruhi tingkat gagal bayar"
      ]
    },
    {
      "cell_type": "code",
      "execution_count": null,
      "metadata": {
        "colab": {
          "base_uri": "https://localhost:8080/",
          "height": 206
        },
        "id": "rGD7_MmFA6u2",
        "outputId": "6eabd761-14dc-4202-8c74-e3345be84360"
      },
      "outputs": [
        {
          "output_type": "execute_result",
          "data": {
            "text/plain": [
              "debt                     0         1\n",
              "purpose_group                       \n",
              "to buy a car      0.197971  0.230814\n",
              "to buy property   0.508894  0.449510\n",
              "to get education  0.184770  0.213503\n",
              "to get married    0.108364  0.106174"
            ],
            "text/html": [
              "\n",
              "  <div id=\"df-2bf959b3-030f-4b96-b343-def0e66dc84f\">\n",
              "    <div class=\"colab-df-container\">\n",
              "      <div>\n",
              "<style scoped>\n",
              "    .dataframe tbody tr th:only-of-type {\n",
              "        vertical-align: middle;\n",
              "    }\n",
              "\n",
              "    .dataframe tbody tr th {\n",
              "        vertical-align: top;\n",
              "    }\n",
              "\n",
              "    .dataframe thead th {\n",
              "        text-align: right;\n",
              "    }\n",
              "</style>\n",
              "<table border=\"1\" class=\"dataframe\">\n",
              "  <thead>\n",
              "    <tr style=\"text-align: right;\">\n",
              "      <th>debt</th>\n",
              "      <th>0</th>\n",
              "      <th>1</th>\n",
              "    </tr>\n",
              "    <tr>\n",
              "      <th>purpose_group</th>\n",
              "      <th></th>\n",
              "      <th></th>\n",
              "    </tr>\n",
              "  </thead>\n",
              "  <tbody>\n",
              "    <tr>\n",
              "      <th>to buy a car</th>\n",
              "      <td>0.197971</td>\n",
              "      <td>0.230814</td>\n",
              "    </tr>\n",
              "    <tr>\n",
              "      <th>to buy property</th>\n",
              "      <td>0.508894</td>\n",
              "      <td>0.449510</td>\n",
              "    </tr>\n",
              "    <tr>\n",
              "      <th>to get education</th>\n",
              "      <td>0.184770</td>\n",
              "      <td>0.213503</td>\n",
              "    </tr>\n",
              "    <tr>\n",
              "      <th>to get married</th>\n",
              "      <td>0.108364</td>\n",
              "      <td>0.106174</td>\n",
              "    </tr>\n",
              "  </tbody>\n",
              "</table>\n",
              "</div>\n",
              "      <button class=\"colab-df-convert\" onclick=\"convertToInteractive('df-2bf959b3-030f-4b96-b343-def0e66dc84f')\"\n",
              "              title=\"Convert this dataframe to an interactive table.\"\n",
              "              style=\"display:none;\">\n",
              "        \n",
              "  <svg xmlns=\"http://www.w3.org/2000/svg\" height=\"24px\"viewBox=\"0 0 24 24\"\n",
              "       width=\"24px\">\n",
              "    <path d=\"M0 0h24v24H0V0z\" fill=\"none\"/>\n",
              "    <path d=\"M18.56 5.44l.94 2.06.94-2.06 2.06-.94-2.06-.94-.94-2.06-.94 2.06-2.06.94zm-11 1L8.5 8.5l.94-2.06 2.06-.94-2.06-.94L8.5 2.5l-.94 2.06-2.06.94zm10 10l.94 2.06.94-2.06 2.06-.94-2.06-.94-.94-2.06-.94 2.06-2.06.94z\"/><path d=\"M17.41 7.96l-1.37-1.37c-.4-.4-.92-.59-1.43-.59-.52 0-1.04.2-1.43.59L10.3 9.45l-7.72 7.72c-.78.78-.78 2.05 0 2.83L4 21.41c.39.39.9.59 1.41.59.51 0 1.02-.2 1.41-.59l7.78-7.78 2.81-2.81c.8-.78.8-2.07 0-2.86zM5.41 20L4 18.59l7.72-7.72 1.47 1.35L5.41 20z\"/>\n",
              "  </svg>\n",
              "      </button>\n",
              "      \n",
              "  <style>\n",
              "    .colab-df-container {\n",
              "      display:flex;\n",
              "      flex-wrap:wrap;\n",
              "      gap: 12px;\n",
              "    }\n",
              "\n",
              "    .colab-df-convert {\n",
              "      background-color: #E8F0FE;\n",
              "      border: none;\n",
              "      border-radius: 50%;\n",
              "      cursor: pointer;\n",
              "      display: none;\n",
              "      fill: #1967D2;\n",
              "      height: 32px;\n",
              "      padding: 0 0 0 0;\n",
              "      width: 32px;\n",
              "    }\n",
              "\n",
              "    .colab-df-convert:hover {\n",
              "      background-color: #E2EBFA;\n",
              "      box-shadow: 0px 1px 2px rgba(60, 64, 67, 0.3), 0px 1px 3px 1px rgba(60, 64, 67, 0.15);\n",
              "      fill: #174EA6;\n",
              "    }\n",
              "\n",
              "    [theme=dark] .colab-df-convert {\n",
              "      background-color: #3B4455;\n",
              "      fill: #D2E3FC;\n",
              "    }\n",
              "\n",
              "    [theme=dark] .colab-df-convert:hover {\n",
              "      background-color: #434B5C;\n",
              "      box-shadow: 0px 1px 3px 1px rgba(0, 0, 0, 0.15);\n",
              "      filter: drop-shadow(0px 1px 2px rgba(0, 0, 0, 0.3));\n",
              "      fill: #FFFFFF;\n",
              "    }\n",
              "  </style>\n",
              "\n",
              "      <script>\n",
              "        const buttonEl =\n",
              "          document.querySelector('#df-2bf959b3-030f-4b96-b343-def0e66dc84f button.colab-df-convert');\n",
              "        buttonEl.style.display =\n",
              "          google.colab.kernel.accessAllowed ? 'block' : 'none';\n",
              "\n",
              "        async function convertToInteractive(key) {\n",
              "          const element = document.querySelector('#df-2bf959b3-030f-4b96-b343-def0e66dc84f');\n",
              "          const dataTable =\n",
              "            await google.colab.kernel.invokeFunction('convertToInteractive',\n",
              "                                                     [key], {});\n",
              "          if (!dataTable) return;\n",
              "\n",
              "          const docLinkHtml = 'Like what you see? Visit the ' +\n",
              "            '<a target=\"_blank\" href=https://colab.research.google.com/notebooks/data_table.ipynb>data table notebook</a>'\n",
              "            + ' to learn more about interactive tables.';\n",
              "          element.innerHTML = '';\n",
              "          dataTable['output_type'] = 'display_data';\n",
              "          await google.colab.output.renderOutput(dataTable, element);\n",
              "          const docLink = document.createElement('div');\n",
              "          docLink.innerHTML = docLinkHtml;\n",
              "          element.appendChild(docLink);\n",
              "        }\n",
              "      </script>\n",
              "    </div>\n",
              "  </div>\n",
              "  "
            ]
          },
          "metadata": {},
          "execution_count": 123
        }
      ],
      "source": [
        "# Periksa persentase tingkat gagal bayar untuk setiap tujuan kredit dan lakukan penganalisisan\n",
        "\n",
        "table_purpose_grp_debt_col = pd.crosstab(df_new_group['purpose_group'], df_new_group['debt'], values = 'total_income', aggfunc = 'count', normalize = 'columns')\n",
        "table_purpose_grp_debt_col"
      ]
    },
    {
      "cell_type": "markdown",
      "metadata": {
        "id": "fmjQG-GEA6u2"
      },
      "source": [
        "**Tabel persentase per kolom**"
      ]
    },
    {
      "cell_type": "code",
      "execution_count": null,
      "metadata": {
        "colab": {
          "base_uri": "https://localhost:8080/",
          "height": 206
        },
        "id": "O2SCUwXuA6u2",
        "outputId": "35ea8f7d-9805-4c20-c71f-c672d3d96dbb"
      },
      "outputs": [
        {
          "output_type": "execute_result",
          "data": {
            "text/plain": [
              "debt                     0         1\n",
              "purpose_group                       \n",
              "to buy a car      0.906629  0.093371\n",
              "to buy property   0.927622  0.072378\n",
              "to get education  0.907384  0.092616\n",
              "to get married    0.920346  0.079654"
            ],
            "text/html": [
              "\n",
              "  <div id=\"df-19a0bec4-91db-4237-9245-2b8c0ff21dd7\">\n",
              "    <div class=\"colab-df-container\">\n",
              "      <div>\n",
              "<style scoped>\n",
              "    .dataframe tbody tr th:only-of-type {\n",
              "        vertical-align: middle;\n",
              "    }\n",
              "\n",
              "    .dataframe tbody tr th {\n",
              "        vertical-align: top;\n",
              "    }\n",
              "\n",
              "    .dataframe thead th {\n",
              "        text-align: right;\n",
              "    }\n",
              "</style>\n",
              "<table border=\"1\" class=\"dataframe\">\n",
              "  <thead>\n",
              "    <tr style=\"text-align: right;\">\n",
              "      <th>debt</th>\n",
              "      <th>0</th>\n",
              "      <th>1</th>\n",
              "    </tr>\n",
              "    <tr>\n",
              "      <th>purpose_group</th>\n",
              "      <th></th>\n",
              "      <th></th>\n",
              "    </tr>\n",
              "  </thead>\n",
              "  <tbody>\n",
              "    <tr>\n",
              "      <th>to buy a car</th>\n",
              "      <td>0.906629</td>\n",
              "      <td>0.093371</td>\n",
              "    </tr>\n",
              "    <tr>\n",
              "      <th>to buy property</th>\n",
              "      <td>0.927622</td>\n",
              "      <td>0.072378</td>\n",
              "    </tr>\n",
              "    <tr>\n",
              "      <th>to get education</th>\n",
              "      <td>0.907384</td>\n",
              "      <td>0.092616</td>\n",
              "    </tr>\n",
              "    <tr>\n",
              "      <th>to get married</th>\n",
              "      <td>0.920346</td>\n",
              "      <td>0.079654</td>\n",
              "    </tr>\n",
              "  </tbody>\n",
              "</table>\n",
              "</div>\n",
              "      <button class=\"colab-df-convert\" onclick=\"convertToInteractive('df-19a0bec4-91db-4237-9245-2b8c0ff21dd7')\"\n",
              "              title=\"Convert this dataframe to an interactive table.\"\n",
              "              style=\"display:none;\">\n",
              "        \n",
              "  <svg xmlns=\"http://www.w3.org/2000/svg\" height=\"24px\"viewBox=\"0 0 24 24\"\n",
              "       width=\"24px\">\n",
              "    <path d=\"M0 0h24v24H0V0z\" fill=\"none\"/>\n",
              "    <path d=\"M18.56 5.44l.94 2.06.94-2.06 2.06-.94-2.06-.94-.94-2.06-.94 2.06-2.06.94zm-11 1L8.5 8.5l.94-2.06 2.06-.94-2.06-.94L8.5 2.5l-.94 2.06-2.06.94zm10 10l.94 2.06.94-2.06 2.06-.94-2.06-.94-.94-2.06-.94 2.06-2.06.94z\"/><path d=\"M17.41 7.96l-1.37-1.37c-.4-.4-.92-.59-1.43-.59-.52 0-1.04.2-1.43.59L10.3 9.45l-7.72 7.72c-.78.78-.78 2.05 0 2.83L4 21.41c.39.39.9.59 1.41.59.51 0 1.02-.2 1.41-.59l7.78-7.78 2.81-2.81c.8-.78.8-2.07 0-2.86zM5.41 20L4 18.59l7.72-7.72 1.47 1.35L5.41 20z\"/>\n",
              "  </svg>\n",
              "      </button>\n",
              "      \n",
              "  <style>\n",
              "    .colab-df-container {\n",
              "      display:flex;\n",
              "      flex-wrap:wrap;\n",
              "      gap: 12px;\n",
              "    }\n",
              "\n",
              "    .colab-df-convert {\n",
              "      background-color: #E8F0FE;\n",
              "      border: none;\n",
              "      border-radius: 50%;\n",
              "      cursor: pointer;\n",
              "      display: none;\n",
              "      fill: #1967D2;\n",
              "      height: 32px;\n",
              "      padding: 0 0 0 0;\n",
              "      width: 32px;\n",
              "    }\n",
              "\n",
              "    .colab-df-convert:hover {\n",
              "      background-color: #E2EBFA;\n",
              "      box-shadow: 0px 1px 2px rgba(60, 64, 67, 0.3), 0px 1px 3px 1px rgba(60, 64, 67, 0.15);\n",
              "      fill: #174EA6;\n",
              "    }\n",
              "\n",
              "    [theme=dark] .colab-df-convert {\n",
              "      background-color: #3B4455;\n",
              "      fill: #D2E3FC;\n",
              "    }\n",
              "\n",
              "    [theme=dark] .colab-df-convert:hover {\n",
              "      background-color: #434B5C;\n",
              "      box-shadow: 0px 1px 3px 1px rgba(0, 0, 0, 0.15);\n",
              "      filter: drop-shadow(0px 1px 2px rgba(0, 0, 0, 0.3));\n",
              "      fill: #FFFFFF;\n",
              "    }\n",
              "  </style>\n",
              "\n",
              "      <script>\n",
              "        const buttonEl =\n",
              "          document.querySelector('#df-19a0bec4-91db-4237-9245-2b8c0ff21dd7 button.colab-df-convert');\n",
              "        buttonEl.style.display =\n",
              "          google.colab.kernel.accessAllowed ? 'block' : 'none';\n",
              "\n",
              "        async function convertToInteractive(key) {\n",
              "          const element = document.querySelector('#df-19a0bec4-91db-4237-9245-2b8c0ff21dd7');\n",
              "          const dataTable =\n",
              "            await google.colab.kernel.invokeFunction('convertToInteractive',\n",
              "                                                     [key], {});\n",
              "          if (!dataTable) return;\n",
              "\n",
              "          const docLinkHtml = 'Like what you see? Visit the ' +\n",
              "            '<a target=\"_blank\" href=https://colab.research.google.com/notebooks/data_table.ipynb>data table notebook</a>'\n",
              "            + ' to learn more about interactive tables.';\n",
              "          element.innerHTML = '';\n",
              "          dataTable['output_type'] = 'display_data';\n",
              "          await google.colab.output.renderOutput(dataTable, element);\n",
              "          const docLink = document.createElement('div');\n",
              "          docLink.innerHTML = docLinkHtml;\n",
              "          element.appendChild(docLink);\n",
              "        }\n",
              "      </script>\n",
              "    </div>\n",
              "  </div>\n",
              "  "
            ]
          },
          "metadata": {},
          "execution_count": 124
        }
      ],
      "source": [
        "table_purpose_grp_debt_idx = pd.crosstab(df_new_group['purpose_group'], df_new_group['debt'], values = 'total_income', aggfunc = 'count', normalize = 'index')\n",
        "table_purpose_grp_debt_idx"
      ]
    },
    {
      "cell_type": "markdown",
      "metadata": {
        "id": "O9UBtPIRA6u3"
      },
      "source": [
        "**Tabel persentase per index**"
      ]
    },
    {
      "cell_type": "markdown",
      "metadata": {
        "id": "ue_IpjsDA6u3"
      },
      "source": [
        "Persentase dengan tujuan kredit untuk pembelian mobil dan edukasi lebih tinggi pada kelompok yang pernah gagal bayar dibandingkan dengan pada kelompok yg tidak pernah gagal bayar, jika kita membandingkan setiap tujuan kredit. Namun jika melihat dari seluruh nasabah yang mengalami kegagalan bayar, nasabah yang dengan tujuan pembiayaan properti paling tinggi dibandingkan tujuan lainnya. Untuk membiayai properi merupakan tujuan terbanyak dari seluruh nasabah baik yang pernah ataupun tidak pernah mengalami gagal bayar. \n"
      ]
    },
    {
      "cell_type": "markdown",
      "metadata": {
        "id": "C9NemO7NA6u4"
      },
      "source": [
        "# Kesimpulan umum "
      ]
    },
    {
      "cell_type": "markdown",
      "metadata": {
        "id": "katnQy0aA6u4"
      },
      "source": [
        "Kesimpulan saya dalam tugas akhir di sprint ini adalah kita tidak bisa terburu-buru mengambil kesimpulan dan perlunya membandingkan data untuk. \n",
        "\n",
        "Hal tersebut saya alami ketika melakukan analisa pada data 'total_income' dan 'days_employed' yang hilang. Pada saat itu karena pada distribusi data yang hilang didominasi oleh nasabah dengan tingkat pendidikan secondary education. Namun saat melihat pada distribusi yang datanya lengkap polanya pun sama. Artinya pola tersebut memang terjadi pada seluruh dataset. \n",
        "\n",
        "Begitu jg ketika mencari faktor yang mempengaruhi gagal bayar. Saya menduga tingkat pendapatan yang rendah berpengaruh terhadap gagal bayar. Namun ketika dibandingkan dengan data kelompok yang tidak pernah gagal bayar. Komposisinya tingkat pendapatan rendah, sedang, dan tinggi kurang lebih memiliki persentase yang serupa. \n",
        "\n",
        "Kemudian saya mencoba melihat persentase per index. Ada beberapa temuan baru:\n",
        "- Nasabah yang tidak memiliki anak cenderung lebih sedikit mengalami kegagalan bayar.\n",
        "- Nasabah dengan `family_status` `unmarried` dan `civil partnership` memiliki persentase lebih tinggi gagal bayar.\n",
        "- Nasabah dengan `purpose` pembiayaan mobil dan pendidikan juga memiliki persebtase lebih tinggi gagal bayar.\n"
      ]
    }
  ],
  "metadata": {
    "ExecuteTimeLog": [
      {
        "duration": 2741,
        "start_time": "2021-10-21T01:08:49.480Z"
      },
      {
        "duration": 52,
        "start_time": "2021-10-21T01:08:53.315Z"
      },
      {
        "duration": 49,
        "start_time": "2021-10-21T01:08:57.432Z"
      },
      {
        "duration": 70,
        "start_time": "2021-10-21T01:09:07.706Z"
      }
    ],
    "kernelspec": {
      "display_name": "Python 3 (ipykernel)",
      "language": "python",
      "name": "python3"
    },
    "language_info": {
      "codemirror_mode": {
        "name": "ipython",
        "version": 3
      },
      "file_extension": ".py",
      "mimetype": "text/x-python",
      "name": "python",
      "nbconvert_exporter": "python",
      "pygments_lexer": "ipython3",
      "version": "3.9.5"
    },
    "toc": {
      "base_numbering": 1,
      "nav_menu": {},
      "number_sections": true,
      "sideBar": true,
      "skip_h1_title": true,
      "title_cell": "Table of Contents",
      "title_sidebar": "Contents",
      "toc_cell": false,
      "toc_position": {},
      "toc_section_display": true,
      "toc_window_display": false
    },
    "vscode": {
      "interpreter": {
        "hash": "ef1728426330606e01c1da091626d7dbd7604032247e9790b44969d857c4f729"
      }
    },
    "colab": {
      "provenance": [],
      "toc_visible": true,
      "include_colab_link": true
    }
  },
  "nbformat": 4,
  "nbformat_minor": 0
}